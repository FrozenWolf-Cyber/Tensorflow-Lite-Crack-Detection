{
 "cells": [
  {
   "cell_type": "markdown",
   "id": "ef8159cd",
   "metadata": {
    "papermill": {
     "duration": 0.013244,
     "end_time": "2023-01-14T07:36:02.107087",
     "exception": false,
     "start_time": "2023-01-14T07:36:02.093843",
     "status": "completed"
    },
    "tags": []
   },
   "source": [
    "## Contents\n",
    "-  [1.Importing Libraries](#1)\n",
    "-  [2.Dataset Management](#2)\n",
    "    -  [2.1.Downloading and Extracting Dataset](#2.1)\n",
    "    -  [2.2.Visualizing Dataset](#2.2)\n",
    "    -  [2.3.Splitting Dataset](#2.3)\n",
    "    -  [2.4.Pytorch DataLoaders](#2.4)\n",
    "-  [3.Initializing pre-trained model](#3)\n",
    "-  [4.Training](#4)\n",
    "-  [5.Plotting Results](#5)\n",
    "    -  [5.1.Plotting Loss vs MiniBatch](#5.1)\n",
    "    -  [5.2.Plotting Accuracy vs MiniBatch](#5.2)\n",
    "    -  [5.3.Plotting Loss vs Epoch](#5.3)\n",
    "    -  [5.4.Plotting Accuracy vs Epoch](#5.4)\n",
    "    -  [5.5.Plotting F1 Score vs Epoch](#5.5)\n",
    "    -  [5.6.Plotting Recall vs Epoch](#5.6)\n",
    "    -  [5.7.Plotting Precision vs Epoch](#5.7)\n",
    "-  [6.Testing](#6)"
   ]
  },
  {
   "cell_type": "markdown",
   "id": "a42649e2",
   "metadata": {
    "papermill": {
     "duration": 0.012747,
     "end_time": "2023-01-14T07:36:02.131866",
     "exception": false,
     "start_time": "2023-01-14T07:36:02.119119",
     "status": "completed"
    },
    "tags": []
   },
   "source": [
    "### 1.Importing Libraries <a class=\"anchor\" id=\"1\"></a>"
   ]
  },
  {
   "cell_type": "code",
   "execution_count": 1,
   "id": "f4166770",
   "metadata": {
    "execution": {
     "iopub.execute_input": "2023-01-14T07:36:02.149119Z",
     "iopub.status.busy": "2023-01-14T07:36:02.148620Z",
     "iopub.status.idle": "2023-01-14T07:36:16.732141Z",
     "shell.execute_reply": "2023-01-14T07:36:16.731072Z"
    },
    "papermill": {
     "duration": 14.594255,
     "end_time": "2023-01-14T07:36:16.734830",
     "exception": false,
     "start_time": "2023-01-14T07:36:02.140575",
     "status": "completed"
    },
    "tags": []
   },
   "outputs": [
    {
     "name": "stdout",
     "output_type": "stream",
     "text": [
      "Collecting timm\r\n",
      "  Downloading timm-0.6.12-py3-none-any.whl (549 kB)\r\n",
      "\u001b[2K     \u001b[90m━━━━━━━━━━━━━━━━━━━━━━━━━━━━━━━━━━━━━━━\u001b[0m \u001b[32m549.1/549.1 kB\u001b[0m \u001b[31m2.6 MB/s\u001b[0m eta \u001b[36m0:00:00\u001b[0m\r\n",
      "\u001b[?25hRequirement already satisfied: torchvision in /opt/conda/lib/python3.7/site-packages (from timm) (0.12.0)\r\n",
      "Requirement already satisfied: pyyaml in /opt/conda/lib/python3.7/site-packages (from timm) (6.0)\r\n",
      "Requirement already satisfied: huggingface-hub in /opt/conda/lib/python3.7/site-packages (from timm) (0.10.1)\r\n",
      "Requirement already satisfied: torch>=1.7 in /opt/conda/lib/python3.7/site-packages (from timm) (1.11.0)\r\n",
      "Requirement already satisfied: typing-extensions in /opt/conda/lib/python3.7/site-packages (from torch>=1.7->timm) (4.1.1)\r\n",
      "Requirement already satisfied: tqdm in /opt/conda/lib/python3.7/site-packages (from huggingface-hub->timm) (4.64.0)\r\n",
      "Requirement already satisfied: filelock in /opt/conda/lib/python3.7/site-packages (from huggingface-hub->timm) (3.7.1)\r\n",
      "Requirement already satisfied: importlib-metadata in /opt/conda/lib/python3.7/site-packages (from huggingface-hub->timm) (4.13.0)\r\n",
      "Requirement already satisfied: packaging>=20.9 in /opt/conda/lib/python3.7/site-packages (from huggingface-hub->timm) (22.0)\r\n",
      "Requirement already satisfied: requests in /opt/conda/lib/python3.7/site-packages (from huggingface-hub->timm) (2.28.1)\r\n",
      "Requirement already satisfied: numpy in /opt/conda/lib/python3.7/site-packages (from torchvision->timm) (1.21.6)\r\n",
      "Requirement already satisfied: pillow!=8.3.*,>=5.3.0 in /opt/conda/lib/python3.7/site-packages (from torchvision->timm) (9.1.1)\r\n",
      "Requirement already satisfied: zipp>=0.5 in /opt/conda/lib/python3.7/site-packages (from importlib-metadata->huggingface-hub->timm) (3.8.0)\r\n",
      "Requirement already satisfied: charset-normalizer<3,>=2 in /opt/conda/lib/python3.7/site-packages (from requests->huggingface-hub->timm) (2.1.0)\r\n",
      "Requirement already satisfied: certifi>=2017.4.17 in /opt/conda/lib/python3.7/site-packages (from requests->huggingface-hub->timm) (2022.12.7)\r\n",
      "Requirement already satisfied: idna<4,>=2.5 in /opt/conda/lib/python3.7/site-packages (from requests->huggingface-hub->timm) (3.3)\r\n",
      "Requirement already satisfied: urllib3<1.27,>=1.21.1 in /opt/conda/lib/python3.7/site-packages (from requests->huggingface-hub->timm) (1.26.13)\r\n",
      "Installing collected packages: timm\r\n",
      "Successfully installed timm-0.6.12\r\n",
      "\u001b[33mWARNING: Running pip as the 'root' user can result in broken permissions and conflicting behaviour with the system package manager. It is recommended to use a virtual environment instead: https://pip.pypa.io/warnings/venv\u001b[0m\u001b[33m\r\n",
      "\u001b[0m"
     ]
    }
   ],
   "source": [
    "!pip install timm\n",
    "import timm"
   ]
  },
  {
   "cell_type": "code",
   "execution_count": 2,
   "id": "7dd86e82",
   "metadata": {
    "execution": {
     "iopub.execute_input": "2023-01-14T07:36:16.750913Z",
     "iopub.status.busy": "2023-01-14T07:36:16.750616Z",
     "iopub.status.idle": "2023-01-14T07:36:17.442170Z",
     "shell.execute_reply": "2023-01-14T07:36:17.441246Z"
    },
    "papermill": {
     "duration": 0.702199,
     "end_time": "2023-01-14T07:36:17.444598",
     "exception": false,
     "start_time": "2023-01-14T07:36:16.742399",
     "status": "completed"
    },
    "tags": []
   },
   "outputs": [],
   "source": [
    "import torch\n",
    "import torch.nn as nn\n",
    "import torch.nn.functional as F\n",
    "import torchvision.transforms as T\n",
    "from torch.utils.data import Dataset as Dataset\n",
    "from torch.utils.data import DataLoader as DataLoader\n",
    "import pandas as pd\n",
    "import matplotlib.pyplot as plt\n",
    "import numpy as np\n",
    "import seaborn as sns\n",
    "from PIL import Image\n",
    "import os\n",
    "import random\n",
    "\n",
    "torch.cuda.empty_cache()\n",
    "# random.seed(0)\n",
    "# np.random.seed(0)\n",
    "torch.manual_seed(0)\n",
    "\n",
    "sns.set_style(\"darkgrid\")\n",
    "plt.rcParams[\"figure.figsize\"] = (10,10)\n"
   ]
  },
  {
   "cell_type": "markdown",
   "id": "94e60dbb",
   "metadata": {
    "papermill": {
     "duration": 0.006856,
     "end_time": "2023-01-14T07:36:17.458686",
     "exception": false,
     "start_time": "2023-01-14T07:36:17.451830",
     "status": "completed"
    },
    "tags": []
   },
   "source": [
    "### 2.Dataset Managament <a class=\"anchor\" id=\"2\"></a>"
   ]
  },
  {
   "cell_type": "markdown",
   "id": "b29a8f70",
   "metadata": {
    "papermill": {
     "duration": 0.00673,
     "end_time": "2023-01-14T07:36:17.473694",
     "exception": false,
     "start_time": "2023-01-14T07:36:17.466964",
     "status": "completed"
    },
    "tags": []
   },
   "source": [
    "#### 1.Downloading and Extracting Dataset <a class=\"anchor\" id=\"2.1\"></a>"
   ]
  },
  {
   "cell_type": "code",
   "execution_count": 3,
   "id": "06a2772f",
   "metadata": {
    "execution": {
     "iopub.execute_input": "2023-01-14T07:36:17.488884Z",
     "iopub.status.busy": "2023-01-14T07:36:17.488590Z",
     "iopub.status.idle": "2023-01-14T07:36:17.492962Z",
     "shell.execute_reply": "2023-01-14T07:36:17.492027Z"
    },
    "papermill": {
     "duration": 0.014268,
     "end_time": "2023-01-14T07:36:17.494918",
     "exception": false,
     "start_time": "2023-01-14T07:36:17.480650",
     "status": "completed"
    },
    "tags": []
   },
   "outputs": [],
   "source": [
    "path = '/kaggle/input/surface-crack/'"
   ]
  },
  {
   "cell_type": "markdown",
   "id": "215bb466",
   "metadata": {
    "papermill": {
     "duration": 0.006668,
     "end_time": "2023-01-14T07:36:17.508487",
     "exception": false,
     "start_time": "2023-01-14T07:36:17.501819",
     "status": "completed"
    },
    "tags": []
   },
   "source": [
    "#### 2.Visualizing Dataset <a class=\"anchor\" id=\"2.2\"></a>"
   ]
  },
  {
   "cell_type": "markdown",
   "id": "e94d0d42",
   "metadata": {
    "papermill": {
     "duration": 0.006694,
     "end_time": "2023-01-14T07:36:17.521964",
     "exception": false,
     "start_time": "2023-01-14T07:36:17.515270",
     "status": "completed"
    },
    "tags": []
   },
   "source": [
    "#### 3.Splitting Dataset <a class=\"anchor\" id=\"2.3\"></a>"
   ]
  },
  {
   "cell_type": "code",
   "execution_count": 4,
   "id": "2ab3d2be",
   "metadata": {
    "execution": {
     "iopub.execute_input": "2023-01-14T07:36:17.536728Z",
     "iopub.status.busy": "2023-01-14T07:36:17.536445Z",
     "iopub.status.idle": "2023-01-14T07:36:17.801666Z",
     "shell.execute_reply": "2023-01-14T07:36:17.800771Z"
    },
    "papermill": {
     "duration": 0.275148,
     "end_time": "2023-01-14T07:36:17.803894",
     "exception": false,
     "start_time": "2023-01-14T07:36:17.528746",
     "status": "completed"
    },
    "tags": []
   },
   "outputs": [],
   "source": [
    "import os\n",
    "\n",
    "image = {}\n",
    "label = {}\n",
    "\n",
    "\n",
    "\n",
    "for i in os.listdir(path):\n",
    "    if i not in image:\n",
    "        image[i] = []\n",
    "        label[i] = []\n",
    "    \n",
    "    if i == \"predict\":\n",
    "        for k in os.listdir(path+i):\n",
    "            image[i].append(path+i+'/'+k)\n",
    "            label[i].append(1 if j == \"Positive\" else 0)\n",
    "        continue\n",
    "        \n",
    "    for j in os.listdir(path+i):\n",
    "        for k in os.listdir(path+i+'/'+j):\n",
    "            image[i].append(path+i+'/'+j+'/'+k)\n",
    "            label[i].append(1 if j == \"Positive\" else 0)"
   ]
  },
  {
   "cell_type": "markdown",
   "id": "ddc424e7",
   "metadata": {
    "papermill": {
     "duration": 0.0067,
     "end_time": "2023-01-14T07:36:17.817698",
     "exception": false,
     "start_time": "2023-01-14T07:36:17.810998",
     "status": "completed"
    },
    "tags": []
   },
   "source": [
    "#### 4.Pytorch DataLoaders <a class=\"anchor\" id=\"2.4\"></a>"
   ]
  },
  {
   "cell_type": "code",
   "execution_count": 5,
   "id": "80dc25e5",
   "metadata": {
    "execution": {
     "iopub.execute_input": "2023-01-14T07:36:17.833603Z",
     "iopub.status.busy": "2023-01-14T07:36:17.833275Z",
     "iopub.status.idle": "2023-01-14T07:36:17.844579Z",
     "shell.execute_reply": "2023-01-14T07:36:17.843738Z"
    },
    "papermill": {
     "duration": 0.021951,
     "end_time": "2023-01-14T07:36:17.846616",
     "exception": false,
     "start_time": "2023-01-14T07:36:17.824665",
     "status": "completed"
    },
    "tags": []
   },
   "outputs": [],
   "source": [
    "from PIL import Image\n",
    "\n",
    "class Dataset(Dataset):\n",
    "    def __init__(self,x,y,transform = 'T.Resize((224,224))'):\n",
    "        self.transform = transform\n",
    "        self.x = x\n",
    "        self.y = y \n",
    "        self.len = len(x)\n",
    "   \n",
    "    def __len__(self):\n",
    "        return self.len\n",
    "    \n",
    "    def __getitem__(self,i):\n",
    "        img = Image.open(self.x[i])\n",
    "        return torch.FloatTensor(np.asarray(self.transform(img))),torch.LongTensor([self.y[i]])\n",
    "\n",
    "batch_size = 4\n",
    "\n",
    "transforms_train = T.Compose([\n",
    "        T.Resize((224,224)),\n",
    "#         T.RandomRotation(degrees=(-45, 45)),\n",
    "#         T.RandomHorizontalFlip(),\n",
    "#         T.RandomVerticalFlip(),\n",
    "        T.ToTensor(),\n",
    "#         T.Normalize([0.485, 0.456, 0.406], [0.229, 0.224, 0.225])\n",
    "    ])\n",
    "\n",
    "transforms_test = T.Compose([\n",
    "        T.Resize((224,224)),\n",
    "        T.ToTensor(),\n",
    "#         T.Normalize(mean=[0.485, 0.456, 0.406], std=[0.229, 0.224, 0.225])\n",
    "    ])\n",
    "\n",
    "train_dataset = Dataset(image['train'],label['train'],transform =transforms_train)\n",
    "validation_dataset = Dataset(image['valid'],label['valid'],transform =transforms_test)\n",
    "test_dataset = Dataset(image['test'],label['test'],transform =transforms_test)\n",
    "\n",
    "train_dataloader = DataLoader(train_dataset , batch_size = batch_size , shuffle = True )\n",
    "validation_dataloader = DataLoader(validation_dataset , batch_size = batch_size , shuffle = True )\n",
    "test_dataloader = DataLoader(test_dataset , batch_size = batch_size , shuffle = True )"
   ]
  },
  {
   "cell_type": "code",
   "execution_count": 6,
   "id": "96cd1ac0",
   "metadata": {
    "execution": {
     "iopub.execute_input": "2023-01-14T07:36:17.861805Z",
     "iopub.status.busy": "2023-01-14T07:36:17.861522Z",
     "iopub.status.idle": "2023-01-14T07:36:17.912294Z",
     "shell.execute_reply": "2023-01-14T07:36:17.911304Z"
    },
    "papermill": {
     "duration": 0.060721,
     "end_time": "2023-01-14T07:36:17.914453",
     "exception": false,
     "start_time": "2023-01-14T07:36:17.853732",
     "status": "completed"
    },
    "tags": []
   },
   "outputs": [
    {
     "data": {
      "text/plain": [
       "[tensor([[[[0.7529, 0.7373, 0.7333,  ..., 0.7569, 0.7608, 0.7608],\n",
       "           [0.7373, 0.7333, 0.7412,  ..., 0.7529, 0.7608, 0.7608],\n",
       "           [0.7216, 0.7333, 0.7529,  ..., 0.7529, 0.7569, 0.7569],\n",
       "           ...,\n",
       "           [0.7020, 0.7059, 0.7098,  ..., 0.7608, 0.7529, 0.7529],\n",
       "           [0.7020, 0.7137, 0.7176,  ..., 0.7412, 0.7294, 0.7216],\n",
       "           [0.6902, 0.7059, 0.7137,  ..., 0.7255, 0.7098, 0.6941]],\n",
       " \n",
       "          [[0.7608, 0.7451, 0.7412,  ..., 0.7647, 0.7686, 0.7686],\n",
       "           [0.7451, 0.7412, 0.7490,  ..., 0.7608, 0.7686, 0.7686],\n",
       "           [0.7294, 0.7412, 0.7608,  ..., 0.7608, 0.7647, 0.7647],\n",
       "           ...,\n",
       "           [0.7059, 0.7098, 0.7137,  ..., 0.7608, 0.7529, 0.7529],\n",
       "           [0.7059, 0.7176, 0.7216,  ..., 0.7412, 0.7294, 0.7216],\n",
       "           [0.6941, 0.7098, 0.7176,  ..., 0.7255, 0.7098, 0.6941]],\n",
       " \n",
       "          [[0.7490, 0.7333, 0.7294,  ..., 0.7608, 0.7647, 0.7647],\n",
       "           [0.7333, 0.7294, 0.7373,  ..., 0.7569, 0.7647, 0.7647],\n",
       "           [0.7176, 0.7294, 0.7490,  ..., 0.7569, 0.7608, 0.7608],\n",
       "           ...,\n",
       "           [0.6863, 0.6902, 0.6941,  ..., 0.7529, 0.7451, 0.7451],\n",
       "           [0.6863, 0.6980, 0.7020,  ..., 0.7333, 0.7216, 0.7137],\n",
       "           [0.6745, 0.6902, 0.6980,  ..., 0.7176, 0.7020, 0.6863]]],\n",
       " \n",
       " \n",
       "         [[[0.7020, 0.7020, 0.6784,  ..., 0.7569, 0.7451, 0.7333],\n",
       "           [0.7216, 0.7098, 0.6902,  ..., 0.7490, 0.7451, 0.7412],\n",
       "           [0.7216, 0.6980, 0.6902,  ..., 0.7333, 0.7412, 0.7490],\n",
       "           ...,\n",
       "           [0.7373, 0.7333, 0.7333,  ..., 0.7412, 0.7451, 0.7569],\n",
       "           [0.7137, 0.7216, 0.7255,  ..., 0.7451, 0.7451, 0.7569],\n",
       "           [0.6941, 0.7020, 0.7137,  ..., 0.7529, 0.7451, 0.7529]],\n",
       " \n",
       "          [[0.7137, 0.7137, 0.6902,  ..., 0.7569, 0.7451, 0.7333],\n",
       "           [0.7333, 0.7216, 0.7020,  ..., 0.7490, 0.7451, 0.7412],\n",
       "           [0.7333, 0.7098, 0.7020,  ..., 0.7333, 0.7412, 0.7490],\n",
       "           ...,\n",
       "           [0.7412, 0.7373, 0.7373,  ..., 0.7451, 0.7490, 0.7608],\n",
       "           [0.7176, 0.7255, 0.7294,  ..., 0.7490, 0.7490, 0.7608],\n",
       "           [0.6980, 0.7059, 0.7176,  ..., 0.7569, 0.7490, 0.7569]],\n",
       " \n",
       "          [[0.6863, 0.6863, 0.6627,  ..., 0.7255, 0.7137, 0.7020],\n",
       "           [0.7059, 0.6941, 0.6745,  ..., 0.7176, 0.7137, 0.7098],\n",
       "           [0.7059, 0.6824, 0.6745,  ..., 0.7020, 0.7098, 0.7176],\n",
       "           ...,\n",
       "           [0.7098, 0.7059, 0.7059,  ..., 0.7216, 0.7255, 0.7373],\n",
       "           [0.6863, 0.6941, 0.6980,  ..., 0.7255, 0.7255, 0.7373],\n",
       "           [0.6667, 0.6745, 0.6863,  ..., 0.7333, 0.7255, 0.7333]]],\n",
       " \n",
       " \n",
       "         [[[0.6980, 0.7020, 0.7176,  ..., 0.7059, 0.7176, 0.7294],\n",
       "           [0.7255, 0.7216, 0.7216,  ..., 0.7098, 0.7176, 0.7255],\n",
       "           [0.7412, 0.7255, 0.7176,  ..., 0.7137, 0.7176, 0.7216],\n",
       "           ...,\n",
       "           [0.7608, 0.7490, 0.7412,  ..., 0.7451, 0.7490, 0.7490],\n",
       "           [0.7608, 0.7490, 0.7412,  ..., 0.7451, 0.7490, 0.7490],\n",
       "           [0.7608, 0.7529, 0.7412,  ..., 0.7412, 0.7451, 0.7490]],\n",
       " \n",
       "          [[0.7020, 0.7059, 0.7216,  ..., 0.7098, 0.7216, 0.7333],\n",
       "           [0.7294, 0.7255, 0.7255,  ..., 0.7137, 0.7216, 0.7294],\n",
       "           [0.7451, 0.7294, 0.7216,  ..., 0.7176, 0.7216, 0.7255],\n",
       "           ...,\n",
       "           [0.7647, 0.7529, 0.7451,  ..., 0.7490, 0.7529, 0.7529],\n",
       "           [0.7647, 0.7529, 0.7451,  ..., 0.7490, 0.7529, 0.7529],\n",
       "           [0.7647, 0.7569, 0.7451,  ..., 0.7451, 0.7490, 0.7529]],\n",
       " \n",
       "          [[0.6784, 0.6824, 0.6980,  ..., 0.6784, 0.6902, 0.7020],\n",
       "           [0.7059, 0.7020, 0.7020,  ..., 0.6824, 0.6902, 0.6980],\n",
       "           [0.7216, 0.7059, 0.6980,  ..., 0.6863, 0.6902, 0.6941],\n",
       "           ...,\n",
       "           [0.7412, 0.7294, 0.7216,  ..., 0.7294, 0.7333, 0.7333],\n",
       "           [0.7412, 0.7294, 0.7216,  ..., 0.7294, 0.7333, 0.7333],\n",
       "           [0.7412, 0.7333, 0.7216,  ..., 0.7255, 0.7294, 0.7333]]],\n",
       " \n",
       " \n",
       "         [[[0.7216, 0.7176, 0.7137,  ..., 0.7373, 0.7216, 0.7098],\n",
       "           [0.6902, 0.6941, 0.6980,  ..., 0.7373, 0.7176, 0.7059],\n",
       "           [0.6824, 0.6824, 0.6902,  ..., 0.7373, 0.7255, 0.7176],\n",
       "           ...,\n",
       "           [0.7137, 0.7176, 0.7216,  ..., 0.6902, 0.7059, 0.7059],\n",
       "           [0.7176, 0.7176, 0.7176,  ..., 0.6667, 0.6863, 0.6980],\n",
       "           [0.7294, 0.7255, 0.7255,  ..., 0.6667, 0.6902, 0.7059]],\n",
       " \n",
       "          [[0.7216, 0.7176, 0.7137,  ..., 0.7451, 0.7294, 0.7176],\n",
       "           [0.6902, 0.6941, 0.6980,  ..., 0.7451, 0.7255, 0.7137],\n",
       "           [0.6824, 0.6824, 0.6902,  ..., 0.7451, 0.7333, 0.7255],\n",
       "           ...,\n",
       "           [0.7216, 0.7255, 0.7294,  ..., 0.6980, 0.7137, 0.7137],\n",
       "           [0.7255, 0.7255, 0.7255,  ..., 0.6745, 0.6941, 0.7059],\n",
       "           [0.7373, 0.7333, 0.7333,  ..., 0.6745, 0.6980, 0.7137]],\n",
       " \n",
       "          [[0.7137, 0.7098, 0.7059,  ..., 0.7333, 0.7176, 0.7059],\n",
       "           [0.6824, 0.6863, 0.6902,  ..., 0.7333, 0.7137, 0.7020],\n",
       "           [0.6745, 0.6745, 0.6824,  ..., 0.7333, 0.7216, 0.7137],\n",
       "           ...,\n",
       "           [0.7098, 0.7137, 0.7176,  ..., 0.6863, 0.7020, 0.7020],\n",
       "           [0.7137, 0.7137, 0.7137,  ..., 0.6627, 0.6824, 0.6941],\n",
       "           [0.7255, 0.7216, 0.7216,  ..., 0.6627, 0.6863, 0.7020]]]]),\n",
       " tensor([[0],\n",
       "         [1],\n",
       "         [0],\n",
       "         [0]])]"
      ]
     },
     "execution_count": 6,
     "metadata": {},
     "output_type": "execute_result"
    }
   ],
   "source": [
    "next(iter(test_dataloader))"
   ]
  },
  {
   "cell_type": "markdown",
   "id": "4b543c0c",
   "metadata": {
    "papermill": {
     "duration": 0.006913,
     "end_time": "2023-01-14T07:36:17.928765",
     "exception": false,
     "start_time": "2023-01-14T07:36:17.921852",
     "status": "completed"
    },
    "tags": []
   },
   "source": [
    "### 3.Initializing pre-trained model <a class=\"anchor\" id=\"3\"></a>"
   ]
  },
  {
   "cell_type": "code",
   "execution_count": 7,
   "id": "f05a3df2",
   "metadata": {
    "execution": {
     "iopub.execute_input": "2023-01-14T07:36:17.945071Z",
     "iopub.status.busy": "2023-01-14T07:36:17.944606Z",
     "iopub.status.idle": "2023-01-14T07:37:17.524247Z",
     "shell.execute_reply": "2023-01-14T07:37:17.523274Z"
    },
    "papermill": {
     "duration": 59.591101,
     "end_time": "2023-01-14T07:37:17.526901",
     "exception": false,
     "start_time": "2023-01-14T07:36:17.935800",
     "status": "completed"
    },
    "tags": []
   },
   "outputs": [],
   "source": [
    "model_name = \"vit_large_patch16_224\"\n",
    "class ViTBase16(nn.Module):\n",
    "    def __init__(self, n_classes):\n",
    "\n",
    "        super(ViTBase16, self).__init__()\n",
    "\n",
    "        self.model = timm.create_model(model_name, pretrained=True)\n",
    "        \n",
    "\n",
    "        self.model.head = nn.Linear(self.model.head.in_features, n_classes)\n",
    "\n",
    "    def forward(self, x):\n",
    "        x = self.model(x)\n",
    "        return x\n",
    "\n",
    "\n",
    "model = ViTBase16(2)\n",
    "for param in model.parameters():\n",
    "    param.requires_grad = True"
   ]
  },
  {
   "cell_type": "markdown",
   "id": "2d943151",
   "metadata": {
    "papermill": {
     "duration": 0.006914,
     "end_time": "2023-01-14T07:37:17.541824",
     "exception": false,
     "start_time": "2023-01-14T07:37:17.534910",
     "status": "completed"
    },
    "tags": []
   },
   "source": [
    "### 4.Training <a class=\"anchor\" id=\"4\"></a>"
   ]
  },
  {
   "cell_type": "code",
   "execution_count": 8,
   "id": "e12cb77d",
   "metadata": {
    "execution": {
     "iopub.execute_input": "2023-01-14T07:37:17.558125Z",
     "iopub.status.busy": "2023-01-14T07:37:17.557155Z",
     "iopub.status.idle": "2023-01-14T07:37:21.005228Z",
     "shell.execute_reply": "2023-01-14T07:37:21.004297Z"
    },
    "papermill": {
     "duration": 3.464854,
     "end_time": "2023-01-14T07:37:21.013711",
     "exception": false,
     "start_time": "2023-01-14T07:37:17.548857",
     "status": "completed"
    },
    "tags": []
   },
   "outputs": [],
   "source": [
    "lr = 0.001\n",
    "epoch = 20\n",
    "train_dataset_size = train_dataset.__len__()\n",
    "validation_dataset_size = validation_dataset.__len__()\n",
    "train_n_minibatches = train_dataloader.__len__()\n",
    "validation_n_minibatches = validation_dataloader.__len__()\n",
    "\n",
    "device = 'cuda'\n",
    "model.to(device)\n",
    "loss_history = [[],[]] #[[train], [validation]]\n",
    "accuracy_history = [[],[]] #[[train], [validation]]\n",
    "# prec_history = [[],[]] #[[train], [validation]]\n",
    "# recall_history = [[],[]] #[[train], [validation]]\n",
    "# f1_history = [[],[]] #[[train], [validation]]\n",
    "# support_history = [[],[]] #[[train], [validation]]\n",
    "\n",
    "results = [[],[]]\n",
    "\n",
    "criterion = nn.CrossEntropyLoss()  \n",
    "optimizer = torch.optim.SGD(model.parameters(),lr = lr)\n",
    "\n"
   ]
  },
  {
   "cell_type": "code",
   "execution_count": 9,
   "id": "9d88ff38",
   "metadata": {
    "execution": {
     "iopub.execute_input": "2023-01-14T07:37:21.037201Z",
     "iopub.status.busy": "2023-01-14T07:37:21.036845Z",
     "iopub.status.idle": "2023-01-14T07:56:44.106020Z",
     "shell.execute_reply": "2023-01-14T07:56:44.103850Z"
    },
    "papermill": {
     "duration": 1163.084533,
     "end_time": "2023-01-14T07:56:44.109453",
     "exception": false,
     "start_time": "2023-01-14T07:37:21.024920",
     "status": "completed"
    },
    "scrolled": true,
    "tags": []
   },
   "outputs": [
    {
     "name": "stdout",
     "output_type": "stream",
     "text": [
      "---------------------------------------EPOCH 1-------------------------------------------\n",
      "LOSS for EPOCH 1 BATCH 0/150 TRAIN LOSS : 1.0484623908996582 TRAIN ACCURACY : 50.0 VALIDATION LOSS : 1.6185815584659577 VALIDATION ACCURACY : 11.0\n",
      "LOSS for EPOCH 1 BATCH 75/150 TRAIN LOSS : 0.046270500868558884 TRAIN ACCURACY : 100.0 VALIDATION LOSS : 0.2901206611096859 VALIDATION ACCURACY : 89.5\n",
      "--------------------------------------------------------------------------------------------\n",
      "Loss for EPOCH 1  TRAIN LOSS : 0.3755188778415322 TRAIN PREC : [0.79872204 0.82578397] RECALL : [0.83333333 0.79      ] F1 : [0.81566069 0.80749574] ACC : 81.16666666666667\n",
      "VALIDATION LOSS for EPOCH 1 : 0.2901206611096859 VALIDATION PREC : [0.5027933  0.50226244] RECALL : [0.45  0.555] F1 : [0.47493404 0.52731591]  ACC : 89.5\n",
      "---------------------------------------------------------------------------------------------\n",
      "---------------------------------------EPOCH 2-------------------------------------------\n",
      "LOSS for EPOCH 2 BATCH 0/150 TRAIN LOSS : 0.011814523488283157 TRAIN ACCURACY : 100.0 VALIDATION LOSS : 0.09163563755573705 VALIDATION ACCURACY : 96.0\n",
      "LOSS for EPOCH 2 BATCH 75/150 TRAIN LOSS : 0.006834379397332668 TRAIN ACCURACY : 100.0 VALIDATION LOSS : 0.0506205421051709 VALIDATION ACCURACY : 98.0\n",
      "--------------------------------------------------------------------------------------------\n",
      "Loss for EPOCH 2  TRAIN LOSS : 0.04202105598660031 TRAIN PREC : [0.97058824 0.98979592] RECALL : [0.99 0.97] F1 : [0.98019802 0.97979798] ACC : 98.0\n",
      "VALIDATION LOSS for EPOCH 2 : 0.0506205421051709 VALIDATION PREC : [0.97474747 0.96534653] RECALL : [0.965 0.975] F1 : [0.96984925 0.97014925]  ACC : 98.0\n",
      "---------------------------------------------------------------------------------------------\n",
      "---------------------------------------EPOCH 3-------------------------------------------\n",
      "LOSS for EPOCH 3 BATCH 0/150 TRAIN LOSS : 0.002821632893756032 TRAIN ACCURACY : 100.0 VALIDATION LOSS : 0.04458979695031303 VALIDATION ACCURACY : 98.5\n",
      "LOSS for EPOCH 3 BATCH 75/150 TRAIN LOSS : 0.0015521756140515208 TRAIN ACCURACY : 100.0 VALIDATION LOSS : 0.036145324378740046 VALIDATION ACCURACY : 98.5\n",
      "--------------------------------------------------------------------------------------------\n",
      "Loss for EPOCH 3  TRAIN LOSS : 0.021910177592750792 TRAIN PREC : [0.98349835 0.99326599] RECALL : [0.99333333 0.98333333] F1 : [0.98839138 0.98827471] ACC : 98.83333333333333\n",
      "VALIDATION LOSS for EPOCH 3 : 0.036145324378740046 VALIDATION PREC : [1.         0.97087379] RECALL : [0.97 1.  ] F1 : [0.98477157 0.98522167]  ACC : 98.5\n",
      "---------------------------------------------------------------------------------------------\n",
      "---------------------------------------EPOCH 4-------------------------------------------\n",
      "LOSS for EPOCH 4 BATCH 0/150 TRAIN LOSS : 0.001022950978949666 TRAIN ACCURACY : 100.0 VALIDATION LOSS : 0.02550278738999623 VALIDATION ACCURACY : 99.0\n",
      "LOSS for EPOCH 4 BATCH 75/150 TRAIN LOSS : 8.41529545141384e-05 TRAIN ACCURACY : 100.0 VALIDATION LOSS : 0.03127357620374824 VALIDATION ACCURACY : 99.0\n",
      "--------------------------------------------------------------------------------------------\n",
      "Loss for EPOCH 4  TRAIN LOSS : 0.011819144883417418 TRAIN PREC : [0.99009901 1.        ] RECALL : [1.   0.99] F1 : [0.99502488 0.99497487] ACC : 99.5\n",
      "VALIDATION LOSS for EPOCH 4 : 0.03127357620374824 VALIDATION PREC : [1.         0.98039216] RECALL : [0.98 1.  ] F1 : [0.98989899 0.99009901]  ACC : 99.0\n",
      "---------------------------------------------------------------------------------------------\n",
      "---------------------------------------EPOCH 5-------------------------------------------\n",
      "LOSS for EPOCH 5 BATCH 0/150 TRAIN LOSS : 0.00016085254901554435 TRAIN ACCURACY : 100.0 VALIDATION LOSS : 0.02240397677109286 VALIDATION ACCURACY : 99.0\n",
      "LOSS for EPOCH 5 BATCH 75/150 TRAIN LOSS : 2.318589213246014e-05 TRAIN ACCURACY : 100.0 VALIDATION LOSS : 0.0235390022178035 VALIDATION ACCURACY : 99.0\n",
      "--------------------------------------------------------------------------------------------\n",
      "Loss for EPOCH 5  TRAIN LOSS : 0.007239275651433369 TRAIN PREC : [0.99667774 1.        ] RECALL : [1.         0.99666667] F1 : [0.99833611 0.99833055] ACC : 99.83333333333333\n",
      "VALIDATION LOSS for EPOCH 5 : 0.0235390022178035 VALIDATION PREC : [1.         0.98039216] RECALL : [0.98 1.  ] F1 : [0.98989899 0.99009901]  ACC : 99.0\n",
      "---------------------------------------------------------------------------------------------\n",
      "---------------------------------------EPOCH 6-------------------------------------------\n",
      "LOSS for EPOCH 6 BATCH 0/150 TRAIN LOSS : 0.0018273575697094202 TRAIN ACCURACY : 100.0 VALIDATION LOSS : 0.014200990286335582 VALIDATION ACCURACY : 99.5\n",
      "LOSS for EPOCH 6 BATCH 75/150 TRAIN LOSS : 0.0008777817129157484 TRAIN ACCURACY : 100.0 VALIDATION LOSS : 0.015441199775632413 VALIDATION ACCURACY : 99.5\n",
      "--------------------------------------------------------------------------------------------\n",
      "Loss for EPOCH 6  TRAIN LOSS : 0.005117684702345287 TRAIN PREC : [0.99667774 1.        ] RECALL : [1.         0.99666667] F1 : [0.99833611 0.99833055] ACC : 99.83333333333333\n",
      "VALIDATION LOSS for EPOCH 6 : 0.015441199775632413 VALIDATION PREC : [1.         0.99009901] RECALL : [0.99 1.  ] F1 : [0.99497487 0.99502488]  ACC : 99.5\n",
      "---------------------------------------------------------------------------------------------\n",
      "---------------------------------------EPOCH 7-------------------------------------------\n",
      "LOSS for EPOCH 7 BATCH 0/150 TRAIN LOSS : 0.00045745359966531396 TRAIN ACCURACY : 100.0 VALIDATION LOSS : 0.011703615167934913 VALIDATION ACCURACY : 99.5\n",
      "LOSS for EPOCH 7 BATCH 75/150 TRAIN LOSS : 0.0001724683679640293 TRAIN ACCURACY : 100.0 VALIDATION LOSS : 0.009217541947364224 VALIDATION ACCURACY : 100.0\n",
      "--------------------------------------------------------------------------------------------\n",
      "Loss for EPOCH 7  TRAIN LOSS : 0.002980950260910807 TRAIN PREC : [1. 1.] RECALL : [1. 1.] F1 : [1. 1.] ACC : 100.0\n",
      "VALIDATION LOSS for EPOCH 7 : 0.009217541947364224 VALIDATION PREC : [1.         0.99502488] RECALL : [0.995 1.   ] F1 : [0.99749373 0.99750623]  ACC : 100.0\n",
      "---------------------------------------------------------------------------------------------\n",
      "---------------------------------------EPOCH 8-------------------------------------------\n",
      "LOSS for EPOCH 8 BATCH 0/150 TRAIN LOSS : 0.0009416049579158425 TRAIN ACCURACY : 100.0 VALIDATION LOSS : 0.010264622474533098 VALIDATION ACCURACY : 100.0\n",
      "LOSS for EPOCH 8 BATCH 75/150 TRAIN LOSS : 0.0002487202000338584 TRAIN ACCURACY : 100.0 VALIDATION LOSS : 0.011869271302148264 VALIDATION ACCURACY : 99.5\n",
      "--------------------------------------------------------------------------------------------\n",
      "Loss for EPOCH 8  TRAIN LOSS : 0.0012690174435071337 TRAIN PREC : [1. 1.] RECALL : [1. 1.] F1 : [1. 1.] ACC : 100.0\n",
      "VALIDATION LOSS for EPOCH 8 : 0.011869271302148264 VALIDATION PREC : [1.         0.99502488] RECALL : [0.995 1.   ] F1 : [0.99749373 0.99750623]  ACC : 99.5\n",
      "---------------------------------------------------------------------------------------------\n",
      "---------------------------------------EPOCH 9-------------------------------------------\n",
      "LOSS for EPOCH 9 BATCH 0/150 TRAIN LOSS : 0.0017725335201248527 TRAIN ACCURACY : 100.0 VALIDATION LOSS : 0.007801466718447046 VALIDATION ACCURACY : 100.0\n",
      "LOSS for EPOCH 9 BATCH 75/150 TRAIN LOSS : 0.0004001788329333067 TRAIN ACCURACY : 100.0 VALIDATION LOSS : 0.007896997829557223 VALIDATION ACCURACY : 100.0\n",
      "--------------------------------------------------------------------------------------------\n",
      "Loss for EPOCH 9  TRAIN LOSS : 0.000810723158804952 TRAIN PREC : [1. 1.] RECALL : [1. 1.] F1 : [1. 1.] ACC : 100.0\n",
      "VALIDATION LOSS for EPOCH 9 : 0.007896997829557223 VALIDATION PREC : [1. 1.] RECALL : [1. 1.] F1 : [1. 1.]  ACC : 100.0\n",
      "---------------------------------------------------------------------------------------------\n",
      "---------------------------------------EPOCH 10-------------------------------------------\n",
      "LOSS for EPOCH 10 BATCH 0/150 TRAIN LOSS : 0.00013180269161239266 TRAIN ACCURACY : 100.0 VALIDATION LOSS : 0.0073842394430266725 VALIDATION ACCURACY : 100.0\n",
      "LOSS for EPOCH 10 BATCH 75/150 TRAIN LOSS : 0.00014450540766119957 TRAIN ACCURACY : 100.0 VALIDATION LOSS : 0.007533457303979958 VALIDATION ACCURACY : 100.0\n",
      "--------------------------------------------------------------------------------------------\n",
      "Loss for EPOCH 10  TRAIN LOSS : 0.0005252834471654447 TRAIN PREC : [1. 1.] RECALL : [1. 1.] F1 : [1. 1.] ACC : 100.0\n",
      "VALIDATION LOSS for EPOCH 10 : 0.007533457303979958 VALIDATION PREC : [1. 1.] RECALL : [1. 1.] F1 : [1. 1.]  ACC : 100.0\n",
      "---------------------------------------------------------------------------------------------\n",
      "---------------------------------------EPOCH 11-------------------------------------------\n",
      "LOSS for EPOCH 11 BATCH 0/150 TRAIN LOSS : 7.304215978365391e-05 TRAIN ACCURACY : 100.0 VALIDATION LOSS : 0.007068883531683241 VALIDATION ACCURACY : 100.0\n",
      "LOSS for EPOCH 11 BATCH 75/150 TRAIN LOSS : 0.000607389840297401 TRAIN ACCURACY : 100.0 VALIDATION LOSS : 0.006945387333125837 VALIDATION ACCURACY : 100.0\n",
      "--------------------------------------------------------------------------------------------\n",
      "Loss for EPOCH 11  TRAIN LOSS : 0.00038410818566868933 TRAIN PREC : [1. 1.] RECALL : [1. 1.] F1 : [1. 1.] ACC : 100.0\n",
      "VALIDATION LOSS for EPOCH 11 : 0.006945387333125837 VALIDATION PREC : [1. 1.] RECALL : [1. 1.] F1 : [1. 1.]  ACC : 100.0\n",
      "---------------------------------------------------------------------------------------------\n",
      "---------------------------------------EPOCH 12-------------------------------------------\n",
      "LOSS for EPOCH 12 BATCH 0/150 TRAIN LOSS : 0.00017680048767942935 TRAIN ACCURACY : 100.0 VALIDATION LOSS : 0.007114560819245525 VALIDATION ACCURACY : 100.0\n",
      "LOSS for EPOCH 12 BATCH 75/150 TRAIN LOSS : 0.0005395948537625372 TRAIN ACCURACY : 100.0 VALIDATION LOSS : 0.0080802067514378 VALIDATION ACCURACY : 100.0\n",
      "--------------------------------------------------------------------------------------------\n",
      "Loss for EPOCH 12  TRAIN LOSS : 0.000301376909389243 TRAIN PREC : [1. 1.] RECALL : [1. 1.] F1 : [1. 1.] ACC : 100.0\n",
      "VALIDATION LOSS for EPOCH 12 : 0.0080802067514378 VALIDATION PREC : [1. 1.] RECALL : [1. 1.] F1 : [1. 1.]  ACC : 100.0\n",
      "---------------------------------------------------------------------------------------------\n",
      "---------------------------------------EPOCH 13-------------------------------------------\n",
      "LOSS for EPOCH 13 BATCH 0/150 TRAIN LOSS : 3.939717134926468e-05 TRAIN ACCURACY : 100.0 VALIDATION LOSS : 0.006029746603426247 VALIDATION ACCURACY : 100.0\n",
      "LOSS for EPOCH 13 BATCH 75/150 TRAIN LOSS : 0.0006030665244907141 TRAIN ACCURACY : 100.0 VALIDATION LOSS : 0.005768586811227578 VALIDATION ACCURACY : 100.0\n",
      "--------------------------------------------------------------------------------------------\n",
      "Loss for EPOCH 13  TRAIN LOSS : 0.00026440336913386396 TRAIN PREC : [1. 1.] RECALL : [1. 1.] F1 : [1. 1.] ACC : 100.0\n",
      "VALIDATION LOSS for EPOCH 13 : 0.005768586811227578 VALIDATION PREC : [1. 1.] RECALL : [1. 1.] F1 : [1. 1.]  ACC : 100.0\n",
      "---------------------------------------------------------------------------------------------\n",
      "---------------------------------------EPOCH 14-------------------------------------------\n",
      "LOSS for EPOCH 14 BATCH 0/150 TRAIN LOSS : 9.864471394394059e-06 TRAIN ACCURACY : 100.0 VALIDATION LOSS : 0.006123715371759317 VALIDATION ACCURACY : 100.0\n",
      "LOSS for EPOCH 14 BATCH 75/150 TRAIN LOSS : 6.0493097407743335e-05 TRAIN ACCURACY : 100.0 VALIDATION LOSS : 0.0057463256647452 VALIDATION ACCURACY : 100.0\n",
      "--------------------------------------------------------------------------------------------\n",
      "Loss for EPOCH 14  TRAIN LOSS : 0.00022934381066988863 TRAIN PREC : [1. 1.] RECALL : [1. 1.] F1 : [1. 1.] ACC : 100.0\n",
      "VALIDATION LOSS for EPOCH 14 : 0.0057463256647452 VALIDATION PREC : [1. 1.] RECALL : [1. 1.] F1 : [1. 1.]  ACC : 100.0\n",
      "---------------------------------------------------------------------------------------------\n",
      "---------------------------------------EPOCH 15-------------------------------------------\n",
      "LOSS for EPOCH 15 BATCH 0/150 TRAIN LOSS : 3.069526792387478e-05 TRAIN ACCURACY : 100.0 VALIDATION LOSS : 0.00573602948662483 VALIDATION ACCURACY : 100.0\n",
      "LOSS for EPOCH 15 BATCH 75/150 TRAIN LOSS : 0.00013306894106790423 TRAIN ACCURACY : 100.0 VALIDATION LOSS : 0.005886453747575615 VALIDATION ACCURACY : 100.0\n",
      "--------------------------------------------------------------------------------------------\n",
      "Loss for EPOCH 15  TRAIN LOSS : 0.00020365987572404265 TRAIN PREC : [1. 1.] RECALL : [1. 1.] F1 : [1. 1.] ACC : 100.0\n",
      "VALIDATION LOSS for EPOCH 15 : 0.005886453747575615 VALIDATION PREC : [1. 1.] RECALL : [1. 1.] F1 : [1. 1.]  ACC : 100.0\n",
      "---------------------------------------------------------------------------------------------\n",
      "---------------------------------------EPOCH 16-------------------------------------------\n",
      "LOSS for EPOCH 16 BATCH 0/150 TRAIN LOSS : 5.871038410987239e-06 TRAIN ACCURACY : 100.0 VALIDATION LOSS : 0.005390926799773297 VALIDATION ACCURACY : 100.0\n",
      "LOSS for EPOCH 16 BATCH 75/150 TRAIN LOSS : 8.85300396475941e-05 TRAIN ACCURACY : 100.0 VALIDATION LOSS : 0.005287886495007115 VALIDATION ACCURACY : 100.0\n",
      "--------------------------------------------------------------------------------------------\n",
      "Loss for EPOCH 16  TRAIN LOSS : 0.00018365754501701304 TRAIN PREC : [1. 1.] RECALL : [1. 1.] F1 : [1. 1.] ACC : 100.0\n",
      "VALIDATION LOSS for EPOCH 16 : 0.005287886495007115 VALIDATION PREC : [1. 1.] RECALL : [1. 1.] F1 : [1. 1.]  ACC : 100.0\n",
      "---------------------------------------------------------------------------------------------\n",
      "---------------------------------------EPOCH 17-------------------------------------------\n",
      "LOSS for EPOCH 17 BATCH 0/150 TRAIN LOSS : 1.8477409184924909e-06 TRAIN ACCURACY : 100.0 VALIDATION LOSS : 0.0052871643527623744 VALIDATION ACCURACY : 100.0\n",
      "LOSS for EPOCH 17 BATCH 75/150 TRAIN LOSS : 4.1154558857670054e-05 TRAIN ACCURACY : 100.0 VALIDATION LOSS : 0.005308598879660167 VALIDATION ACCURACY : 100.0\n",
      "--------------------------------------------------------------------------------------------\n",
      "Loss for EPOCH 17  TRAIN LOSS : 0.00016716618314224736 TRAIN PREC : [1. 1.] RECALL : [1. 1.] F1 : [1. 1.] ACC : 100.0\n",
      "VALIDATION LOSS for EPOCH 17 : 0.005308598879660167 VALIDATION PREC : [1. 1.] RECALL : [1. 1.] F1 : [1. 1.]  ACC : 100.0\n",
      "---------------------------------------------------------------------------------------------\n",
      "---------------------------------------EPOCH 18-------------------------------------------\n",
      "LOSS for EPOCH 18 BATCH 0/150 TRAIN LOSS : 7.569751687697135e-06 TRAIN ACCURACY : 100.0 VALIDATION LOSS : 0.0050486061997435175 VALIDATION ACCURACY : 100.0\n",
      "LOSS for EPOCH 18 BATCH 75/150 TRAIN LOSS : 0.00017753227439243346 TRAIN ACCURACY : 100.0 VALIDATION LOSS : 0.00486449469791296 VALIDATION ACCURACY : 100.0\n",
      "--------------------------------------------------------------------------------------------\n",
      "Loss for EPOCH 18  TRAIN LOSS : 0.00015320306493625443 TRAIN PREC : [1. 1.] RECALL : [1. 1.] F1 : [1. 1.] ACC : 100.0\n",
      "VALIDATION LOSS for EPOCH 18 : 0.00486449469791296 VALIDATION PREC : [1. 1.] RECALL : [1. 1.] F1 : [1. 1.]  ACC : 100.0\n",
      "---------------------------------------------------------------------------------------------\n",
      "---------------------------------------EPOCH 19-------------------------------------------\n",
      "LOSS for EPOCH 19 BATCH 0/150 TRAIN LOSS : 3.784885393542936e-06 TRAIN ACCURACY : 100.0 VALIDATION LOSS : 0.004954769727683015 VALIDATION ACCURACY : 100.0\n",
      "LOSS for EPOCH 19 BATCH 75/150 TRAIN LOSS : 8.042881381697953e-05 TRAIN ACCURACY : 100.0 VALIDATION LOSS : 0.00463499509004123 VALIDATION ACCURACY : 100.0\n",
      "--------------------------------------------------------------------------------------------\n",
      "Loss for EPOCH 19  TRAIN LOSS : 0.0001416922438193069 TRAIN PREC : [1. 1.] RECALL : [1. 1.] F1 : [1. 1.] ACC : 100.0\n",
      "VALIDATION LOSS for EPOCH 19 : 0.00463499509004123 VALIDATION PREC : [1. 1.] RECALL : [1. 1.] F1 : [1. 1.]  ACC : 100.0\n",
      "---------------------------------------------------------------------------------------------\n",
      "---------------------------------------EPOCH 20-------------------------------------------\n",
      "LOSS for EPOCH 20 BATCH 0/150 TRAIN LOSS : 3.5762677725870162e-06 TRAIN ACCURACY : 100.0 VALIDATION LOSS : 0.004869463861050463 VALIDATION ACCURACY : 100.0\n",
      "LOSS for EPOCH 20 BATCH 75/150 TRAIN LOSS : 9.258183126803488e-05 TRAIN ACCURACY : 100.0 VALIDATION LOSS : 0.004771384616960858 VALIDATION ACCURACY : 100.0\n",
      "--------------------------------------------------------------------------------------------\n",
      "Loss for EPOCH 20  TRAIN LOSS : 0.00013170890923523378 TRAIN PREC : [1. 1.] RECALL : [1. 1.] F1 : [1. 1.] ACC : 100.0\n",
      "VALIDATION LOSS for EPOCH 20 : 0.004771384616960858 VALIDATION PREC : [1. 1.] RECALL : [1. 1.] F1 : [1. 1.]  ACC : 100.0\n",
      "---------------------------------------------------------------------------------------------\n"
     ]
    }
   ],
   "source": [
    "from sklearn.metrics import precision_recall_fscore_support\n",
    "\n",
    "best_val_acc = 0\n",
    "\n",
    "for e in range(epoch):\n",
    "    print(f'---------------------------------------EPOCH {e+1}-------------------------------------------')\n",
    "    y_all_train_true = []\n",
    "    y_all_train_pred = []\n",
    "    y_all_val_true = []\n",
    "    y_all_val_pred = []\n",
    "    \n",
    "    for batch_idx , (x ,y) in enumerate(train_dataloader):\n",
    "        model.train() # Setting mode to train\n",
    "        optimizer.zero_grad()\n",
    "        x , y = x.to(device) , y.to(device)\n",
    "        y_pred = model(x).to(device)\n",
    "        \n",
    "        y_all_train_true+=y.cpu().detach().view(-1,).tolist()\n",
    "        y_all_train_pred+=torch.argmax(y_pred, dim=1).detach().tolist()\n",
    "        \n",
    "        # Calculating Loss\n",
    "        loss = criterion(y_pred,y.reshape(x.shape[0]))\n",
    "        loss.backward()\n",
    "        nn.utils.clip_grad_norm_(model.parameters(), 3)\n",
    "        optimizer.step()\n",
    "        loss_history[0].append(float(loss.detach()))\n",
    "        \n",
    "        #Calaculating Accuracy\n",
    "        correct = 0\n",
    "        y_pred = y_pred.cpu().detach().numpy().tolist()\n",
    "        y = y.cpu().detach().numpy().tolist()\n",
    "        for i in range(x.shape[0]):\n",
    "            n = 0\n",
    "            n = y_pred[i].index(max(y_pred[i]))\n",
    "            if n == y[i][0]:\n",
    "                correct = correct + 1\n",
    "        accuracy_history[0].append((correct/x.shape[0])*100)\n",
    "        \n",
    "        if batch_idx % (len(train_dataloader)//2) == 0:\n",
    "            # Printing Log\n",
    "            print(f'LOSS for EPOCH {e+1} BATCH {batch_idx}/{train_n_minibatches} TRAIN LOSS : {loss_history[0][-1]}',end = ' ')\n",
    "            print(f'TRAIN ACCURACY : {accuracy_history[0][-1]}',end = ' ')\n",
    "            with torch.no_grad():\n",
    "                # Calculating loss and accuracy for validation\n",
    "                model.eval()\n",
    "                for _batch_idx_ , (x ,y) in enumerate(validation_dataloader):\n",
    "                    x , y = x.to(device) , y.to(device)\n",
    "                    y_pred = model(x).to(device)\n",
    "                    \n",
    "                    y_all_val_true+=y.cpu().detach().view(-1,).tolist()\n",
    "                    y_all_val_pred+=torch.argmax(y_pred, dim=1).detach().tolist()\n",
    "                    \n",
    "                    validation_loss = criterion(y_pred,y.reshape(x.shape[0]))\n",
    "                    loss_history[1].append(float(validation_loss.detach()))\n",
    "                    \n",
    "                    correct = 0\n",
    "                    y_pred = y_pred.cpu().detach().numpy().tolist()\n",
    "                    y = y.cpu().detach().numpy().tolist()      \n",
    "                    for i in range(x.shape[0]):\n",
    "                        n = 0\n",
    "                        n = y_pred[i].index(max(y_pred[i]))\n",
    "                        if n == y[i][0]:\n",
    "                            correct = correct + 1\n",
    "                    accuracy_history[1].append((correct/x.shape[0])*100)\n",
    "                        \n",
    "                    \n",
    "                print(f'VALIDATION LOSS : {sum(loss_history[1][-1:-validation_n_minibatches-1:-1])/validation_n_minibatches}',end = ' ')\n",
    "                print(f'VALIDATION ACCURACY : {sum(accuracy_history[1][-1:-validation_n_minibatches-1:-1])/validation_n_minibatches}')\n",
    "    \n",
    "    # Saving the model progress\n",
    "    torch.save(model.state_dict(),model_name)\n",
    "    \n",
    "    results[0].append(precision_recall_fscore_support(y_all_train_true,y_all_train_pred))\n",
    "    results[1].append(precision_recall_fscore_support(y_all_val_true,y_all_val_pred))\n",
    "    \n",
    "    x = sum(accuracy_history[1][-1:-1*validation_n_minibatches-1:-1])/validation_n_minibatches\n",
    "    if x>best_val_acc:\n",
    "        best_val_acc = x\n",
    "        torch.save(model.state_dict(),'vit_best')\n",
    "    #Log for e+1th epoch\n",
    "    print(f'--------------------------------------------------------------------------------------------')\n",
    "    print(f'Loss for EPOCH {e+1}  TRAIN LOSS : {sum(loss_history[0][-1:-train_n_minibatches-1:-1])/train_n_minibatches}',end = ' ')\n",
    "    print(f'TRAIN PREC : {results[0][-1][0]} RECALL : {results[0][-1][1]} F1 : {results[0][-1][2]}',end=\" \")\n",
    "    print(f'ACC : {sum(accuracy_history[0][-1:-train_n_minibatches-1:-1])/train_n_minibatches}')\n",
    "    print(f'VALIDATION LOSS for EPOCH {e+1} : {sum(loss_history[1][-1:-1*validation_n_minibatches-1:-1])/validation_n_minibatches}',end = ' ')\n",
    "    print(f'VALIDATION PREC : {results[1][-1][0]} RECALL : {results[1][-1][1]} F1 : {results[1][-1][2]}',end=\" \")\n",
    "    print(f' ACC : {sum(accuracy_history[1][-1:-1*validation_n_minibatches-1:-1])/validation_n_minibatches}')\n",
    "\n",
    "    # if int(sum(accuracy_history[1][-1:-1*validation_n_minibatches-1:-1])/validation_n_minibatches) == 100:\n",
    "    #     break\n",
    "    print('---------------------------------------------------------------------------------------------')"
   ]
  },
  {
   "cell_type": "markdown",
   "id": "40a3ba0f",
   "metadata": {
    "papermill": {
     "duration": 0.014141,
     "end_time": "2023-01-14T07:56:44.136425",
     "exception": false,
     "start_time": "2023-01-14T07:56:44.122284",
     "status": "completed"
    },
    "tags": []
   },
   "source": [
    "### 5.Plotting results <a class=\"anchor\" id=\"4\"></a>"
   ]
  },
  {
   "cell_type": "markdown",
   "id": "10315223",
   "metadata": {
    "papermill": {
     "duration": 0.012129,
     "end_time": "2023-01-14T07:56:44.160750",
     "exception": false,
     "start_time": "2023-01-14T07:56:44.148621",
     "status": "completed"
    },
    "tags": []
   },
   "source": [
    "#### 1.Plotting Loss vs MiniBatch<a class=\"anchor\" id=\"5.1\"></a>"
   ]
  },
  {
   "cell_type": "code",
   "execution_count": 10,
   "id": "63b07b3f",
   "metadata": {
    "execution": {
     "iopub.execute_input": "2023-01-14T07:56:44.186719Z",
     "iopub.status.busy": "2023-01-14T07:56:44.186420Z",
     "iopub.status.idle": "2023-01-14T07:56:44.692168Z",
     "shell.execute_reply": "2023-01-14T07:56:44.691241Z"
    },
    "papermill": {
     "duration": 0.521318,
     "end_time": "2023-01-14T07:56:44.694286",
     "exception": false,
     "start_time": "2023-01-14T07:56:44.172968",
     "status": "completed"
    },
    "tags": []
   },
   "outputs": [
    {
     "data": {
      "image/png": "[encoded data removed]",
      "text/plain": [
       "<Figure size 720x720 with 1 Axes>"
      ]
     },
     "metadata": {},
     "output_type": "display_data"
    }
   ],
   "source": [
    "sns.lineplot(x=range(len(loss_history[1])),y=loss_history[0][::len(loss_history[0])//len(loss_history[1])][:len(loss_history[1])])\n",
    "sns.lineplot(x=range(len(loss_history[1])),y=loss_history[1])\n",
    "\n",
    "plt.legend(loc='lower right', labels=['train', 'val'])\n",
    "plt.title(\"Loss vs MiniBatch\")\n",
    "plt.xlabel('MiniBatches')\n",
    "plt.ylabel('Loss')\n",
    "\n",
    "\n",
    "plt.show()\n"
   ]
  },
  {
   "cell_type": "markdown",
   "id": "91563a7f",
   "metadata": {
    "papermill": {
     "duration": 0.012822,
     "end_time": "2023-01-14T07:56:44.720149",
     "exception": false,
     "start_time": "2023-01-14T07:56:44.707327",
     "status": "completed"
    },
    "tags": []
   },
   "source": [
    "#### 2.Plotting Accuracy vs MiniBatch<a class=\"anchor\" id=\"5.2\"></a>"
   ]
  },
  {
   "cell_type": "code",
   "execution_count": 11,
   "id": "0c069156",
   "metadata": {
    "execution": {
     "iopub.execute_input": "2023-01-14T07:56:44.747193Z",
     "iopub.status.busy": "2023-01-14T07:56:44.746611Z",
     "iopub.status.idle": "2023-01-14T07:56:45.144119Z",
     "shell.execute_reply": "2023-01-14T07:56:45.143216Z"
    },
    "papermill": {
     "duration": 0.413598,
     "end_time": "2023-01-14T07:56:45.146402",
     "exception": false,
     "start_time": "2023-01-14T07:56:44.732804",
     "status": "completed"
    },
    "tags": []
   },
   "outputs": [
    {
     "data": {
      "image/png": "[encoded data removed]",
      "text/plain": [
       "<Figure size 720x720 with 1 Axes>"
      ]
     },
     "metadata": {},
     "output_type": "display_data"
    }
   ],
   "source": [
    "sns.lineplot(x=range(len(accuracy_history[1])),y=accuracy_history[0][::len(accuracy_history[0])//len(accuracy_history[1])][:len(accuracy_history[1])])\n",
    "sns.lineplot(x=range(len(accuracy_history[1])),y=accuracy_history[1])\n",
    "\n",
    "plt.legend(loc='lower right', labels=['train', 'val'])\n",
    "plt.title(\"Accuracy vs MiniBatch\")\n",
    "plt.xlabel('MiniBatches')\n",
    "plt.ylabel('Accuracy')\n",
    "\n",
    "plt.show()\n"
   ]
  },
  {
   "cell_type": "markdown",
   "id": "918060ff",
   "metadata": {
    "papermill": {
     "duration": 0.013006,
     "end_time": "2023-01-14T07:56:45.173069",
     "exception": false,
     "start_time": "2023-01-14T07:56:45.160063",
     "status": "completed"
    },
    "tags": []
   },
   "source": [
    "#### 3.Plotting Loss vs Epoch<a class=\"anchor\" id=\"5.3\"></a>"
   ]
  },
  {
   "cell_type": "code",
   "execution_count": 12,
   "id": "50c06df6",
   "metadata": {
    "execution": {
     "iopub.execute_input": "2023-01-14T07:56:45.200737Z",
     "iopub.status.busy": "2023-01-14T07:56:45.200152Z",
     "iopub.status.idle": "2023-01-14T07:56:45.494099Z",
     "shell.execute_reply": "2023-01-14T07:56:45.493183Z"
    },
    "papermill": {
     "duration": 0.310069,
     "end_time": "2023-01-14T07:56:45.496196",
     "exception": false,
     "start_time": "2023-01-14T07:56:45.186127",
     "status": "completed"
    },
    "tags": []
   },
   "outputs": [
    {
     "data": {
      "image/png": "[encoded data removed]",
      "text/plain": [
       "<Figure size 720x720 with 1 Axes>"
      ]
     },
     "metadata": {},
     "output_type": "display_data"
    }
   ],
   "source": [
    "# Plotting Loss per epoch\n",
    "loss_per_epoch = [[],[]]\n",
    "for i in range(epoch):\n",
    "    temp = 0\n",
    "    for j in loss_history[0][i*train_n_minibatches:(i+1)*train_n_minibatches]:\n",
    "        temp = temp + j\n",
    "    loss_per_epoch[0].append(temp/train_n_minibatches)\n",
    "    temp = 0\n",
    "    for j in loss_history[1][i*validation_n_minibatches:(i+1)*validation_n_minibatches]:\n",
    "        temp = temp + j\n",
    "    loss_per_epoch[1].append(temp/validation_n_minibatches)    \n",
    "\n",
    "sns.lineplot(x=range(len(loss_per_epoch[0])),y=loss_per_epoch[0])\n",
    "sns.lineplot(x=range(len(loss_per_epoch[1])),y=loss_per_epoch[1])\n",
    "\n",
    "plt.legend(loc='lower right', labels=['train', 'val'])\n",
    "plt.title(\"Loss vs Epoch\")\n",
    "plt.xlabel('Epochs')\n",
    "plt.ylabel('Loss')\n",
    "\n",
    "\n",
    "plt.show()"
   ]
  },
  {
   "cell_type": "markdown",
   "id": "bb1cfa45",
   "metadata": {
    "papermill": {
     "duration": 0.013394,
     "end_time": "2023-01-14T07:56:45.523416",
     "exception": false,
     "start_time": "2023-01-14T07:56:45.510022",
     "status": "completed"
    },
    "tags": []
   },
   "source": [
    "#### 4.Plotting Accuracy vs Epoch<a class=\"anchor\" id=\"5.4\"></a>"
   ]
  },
  {
   "cell_type": "code",
   "execution_count": 13,
   "id": "ad0e01e6",
   "metadata": {
    "execution": {
     "iopub.execute_input": "2023-01-14T07:56:45.553257Z",
     "iopub.status.busy": "2023-01-14T07:56:45.551594Z",
     "iopub.status.idle": "2023-01-14T07:56:45.843150Z",
     "shell.execute_reply": "2023-01-14T07:56:45.842282Z"
    },
    "papermill": {
     "duration": 0.30845,
     "end_time": "2023-01-14T07:56:45.845398",
     "exception": false,
     "start_time": "2023-01-14T07:56:45.536948",
     "status": "completed"
    },
    "tags": []
   },
   "outputs": [
    {
     "data": {
      "image/png": "[encoded data removed]",
      "text/plain": [
       "<Figure size 720x720 with 1 Axes>"
      ]
     },
     "metadata": {},
     "output_type": "display_data"
    }
   ],
   "source": [
    "# Plotting Accuracy per epoch\n",
    "accuracy_per_epoch = [[],[]]\n",
    "for i in range(epoch):\n",
    "    temp = 0\n",
    "    for j in accuracy_history[0][i*train_n_minibatches:(i+1)*train_n_minibatches]:\n",
    "        temp = temp + j\n",
    "    accuracy_per_epoch[0].append(temp/train_n_minibatches)\n",
    "    temp = 0\n",
    "    for j in accuracy_history[1][i*validation_n_minibatches:(i+1)*validation_n_minibatches]:\n",
    "        temp = temp + j\n",
    "    accuracy_per_epoch[1].append(temp/validation_n_minibatches)    \n",
    "\n",
    "sns.lineplot(x=range(len(accuracy_per_epoch[0])),y=accuracy_per_epoch[0])\n",
    "sns.lineplot(x=range(len(accuracy_per_epoch[1])),y=accuracy_per_epoch[1])\n",
    "\n",
    "plt.legend(loc='lower right', labels=['train', 'val'])\n",
    "plt.title(\"Accuracy vs Epoch\")\n",
    "plt.xlabel('Epochs')\n",
    "plt.ylabel('Accuracy')\n",
    "\n",
    "plt.show()"
   ]
  },
  {
   "cell_type": "markdown",
   "id": "34693444",
   "metadata": {
    "papermill": {
     "duration": 0.018617,
     "end_time": "2023-01-14T07:56:45.878809",
     "exception": false,
     "start_time": "2023-01-14T07:56:45.860192",
     "status": "completed"
    },
    "tags": []
   },
   "source": [
    "#### 5.Plotting F1Score vs Epoch<a class=\"anchor\" id=\"5.4\"></a>"
   ]
  },
  {
   "cell_type": "code",
   "execution_count": 14,
   "id": "e264f87b",
   "metadata": {
    "execution": {
     "iopub.execute_input": "2023-01-14T07:56:45.911702Z",
     "iopub.status.busy": "2023-01-14T07:56:45.911394Z",
     "iopub.status.idle": "2023-01-14T07:56:46.247182Z",
     "shell.execute_reply": "2023-01-14T07:56:46.246276Z"
    },
    "papermill": {
     "duration": 0.354443,
     "end_time": "2023-01-14T07:56:46.249357",
     "exception": false,
     "start_time": "2023-01-14T07:56:45.894914",
     "status": "completed"
    },
    "tags": []
   },
   "outputs": [
    {
     "data": {
      "image/png": "[encoded data removed]",
      "text/plain": [
       "<Figure size 720x720 with 1 Axes>"
      ]
     },
     "metadata": {},
     "output_type": "display_data"
    }
   ],
   "source": [
    "labels = {0:'Positive',\n",
    "1:'Negative'}\n",
    "\n",
    "legend = []\n",
    "\n",
    "\n",
    "\n",
    "for j in range(2):\n",
    "    sns.lineplot(x=range(len(results[0])),y=[results[0][i][2][j] for i in range(len(results[0]))])\n",
    "    sns.lineplot(x=range(len(results[1])),y=[results[1][i][2][j] for i in range(len(results[1]))])\n",
    "    legend+=[labels[j]+'train', labels[j]+'val']\n",
    "\n",
    "\n",
    "\n",
    "plt.legend(loc='lower right', labels=legend)\n",
    "plt.title(\"F1 Score vs Epoch\")\n",
    "plt.xlabel('Epochs')\n",
    "plt.ylabel('F1 Score')\n",
    "\n",
    "\n",
    "plt.show()"
   ]
  },
  {
   "cell_type": "markdown",
   "id": "fee386f6",
   "metadata": {
    "papermill": {
     "duration": 0.014996,
     "end_time": "2023-01-14T07:56:46.279072",
     "exception": false,
     "start_time": "2023-01-14T07:56:46.264076",
     "status": "completed"
    },
    "tags": []
   },
   "source": [
    "#### 6.Plotting Recall vs Epoch<a class=\"anchor\" id=\"5.4\"></a>"
   ]
  },
  {
   "cell_type": "code",
   "execution_count": 15,
   "id": "eba5cc04",
   "metadata": {
    "execution": {
     "iopub.execute_input": "2023-01-14T07:56:46.313776Z",
     "iopub.status.busy": "2023-01-14T07:56:46.313471Z",
     "iopub.status.idle": "2023-01-14T07:56:46.661155Z",
     "shell.execute_reply": "2023-01-14T07:56:46.660253Z"
    },
    "papermill": {
     "duration": 0.36553,
     "end_time": "2023-01-14T07:56:46.663252",
     "exception": false,
     "start_time": "2023-01-14T07:56:46.297722",
     "status": "completed"
    },
    "tags": []
   },
   "outputs": [
    {
     "data": {
      "image/png": "[encoded data removed]",
      "text/plain": [
       "<Figure size 720x720 with 1 Axes>"
      ]
     },
     "metadata": {},
     "output_type": "display_data"
    }
   ],
   "source": [
    "for j in range(2):\n",
    "    sns.lineplot(x=range(len(results[0])),y=[results[0][i][1][j] for i in range(len(results[0]))])\n",
    "    sns.lineplot(x=range(len(results[1])),y=[results[1][i][1][j] for i in range(len(results[1]))])\n",
    "\n",
    "\n",
    "plt.legend(loc='lower right', labels=legend)\n",
    "plt.title(\"Recall vs Epoch\")\n",
    "plt.xlabel('Epochs')\n",
    "plt.ylabel('Recall Score')\n",
    "\n",
    "\n",
    "plt.show()"
   ]
  },
  {
   "cell_type": "markdown",
   "id": "81dfb2fc",
   "metadata": {
    "papermill": {
     "duration": 0.018486,
     "end_time": "2023-01-14T07:56:46.697500",
     "exception": false,
     "start_time": "2023-01-14T07:56:46.679014",
     "status": "completed"
    },
    "tags": []
   },
   "source": [
    "#### 6.Plotting Precision vs Epoch<a class=\"anchor\" id=\"5.4\"></a>"
   ]
  },
  {
   "cell_type": "code",
   "execution_count": 16,
   "id": "581adf45",
   "metadata": {
    "execution": {
     "iopub.execute_input": "2023-01-14T07:56:46.730570Z",
     "iopub.status.busy": "2023-01-14T07:56:46.729020Z",
     "iopub.status.idle": "2023-01-14T07:56:47.105877Z",
     "shell.execute_reply": "2023-01-14T07:56:47.104451Z"
    },
    "papermill": {
     "duration": 0.39701,
     "end_time": "2023-01-14T07:56:47.109306",
     "exception": false,
     "start_time": "2023-01-14T07:56:46.712296",
     "status": "completed"
    },
    "tags": []
   },
   "outputs": [
    {
     "data": {
      "image/png": "[encoded data removed]",
      "text/plain": [
       "<Figure size 720x720 with 1 Axes>"
      ]
     },
     "metadata": {},
     "output_type": "display_data"
    }
   ],
   "source": [
    "for j in range(2):\n",
    "    sns.lineplot(x=range(len(results[0])),y=[results[0][i][0][j] for i in range(len(results[0]))])\n",
    "    sns.lineplot(x=range(len(results[1])),y=[results[1][i][0][j] for i in range(len(results[1]))])\n",
    "\n",
    "\n",
    "plt.legend(loc='lower right', labels=legend)\n",
    "plt.title(\"Precision vs Epoch\")\n",
    "plt.xlabel('Epochs')\n",
    "plt.ylabel('Precision Score')\n",
    "\n",
    "\n",
    "plt.show()"
   ]
  },
  {
   "cell_type": "markdown",
   "id": "e4fed2a1",
   "metadata": {
    "papermill": {
     "duration": 0.033239,
     "end_time": "2023-01-14T07:56:47.185107",
     "exception": false,
     "start_time": "2023-01-14T07:56:47.151868",
     "status": "completed"
    },
    "tags": []
   },
   "source": [
    "### 6.Testing <a class=\"anchor\" id=\"6\"></a>"
   ]
  },
  {
   "cell_type": "code",
   "execution_count": 17,
   "id": "716a4af8",
   "metadata": {
    "execution": {
     "iopub.execute_input": "2023-01-14T07:56:47.251804Z",
     "iopub.status.busy": "2023-01-14T07:56:47.251090Z",
     "iopub.status.idle": "2023-01-14T07:56:52.765433Z",
     "shell.execute_reply": "2023-01-14T07:56:52.764226Z"
    },
    "papermill": {
     "duration": 5.548777,
     "end_time": "2023-01-14T07:56:52.768562",
     "exception": false,
     "start_time": "2023-01-14T07:56:47.219785",
     "status": "completed"
    },
    "tags": []
   },
   "outputs": [
    {
     "name": "stdout",
     "output_type": "stream",
     "text": [
      "LOSS : 0.042133040099579376  ACCURACY : 99.5\n",
      "TEST PREC: [1.         0.99009901] RECALL: [0.99 1.  ] F1 SCORE: [0.99497487 0.99502488] SUPPORT: [100 100]\n"
     ]
    }
   ],
   "source": [
    "y_all_true = []\n",
    "y_all_pred = []\n",
    "test_loss_history = []\n",
    "test_accuracy_history = []\n",
    "\n",
    "\n",
    "model.eval()\n",
    "for _batch_idx_ , (x ,y) in enumerate(test_dataloader):\n",
    "    x , y = x.to(device) , y.to(device)\n",
    "    y_pred = model(x)\n",
    "    test_loss = criterion(y_pred,y.reshape(x.shape[0]))\n",
    "    test_loss_history.append(float(test_loss.detach()))\n",
    "    correct = 0\n",
    "    y_all_true+=y.cpu().detach().view(-1,).tolist()\n",
    "    y_all_pred+=torch.argmax(y_pred, dim=1).detach().tolist()\n",
    "    y_pred = y_pred.cpu().detach().numpy().tolist()\n",
    "    y = y.cpu().detach().numpy().tolist()      \n",
    "    for i in range(x.shape[0]):\n",
    "        n = 0\n",
    "        n = y_pred[i].index(max(y_pred[i]))\n",
    "        if n == y[i][0]:\n",
    "            correct = correct + 1\n",
    "    test_accuracy_history.append((correct/len(y))*100)\n",
    "    \n",
    "\n",
    "                        \n",
    "print(f'LOSS : {sum(test_loss_history)/len(test_loss_history)}  ACCURACY : {sum(test_accuracy_history)/len(test_accuracy_history)}')                    \n",
    "\n",
    "result = precision_recall_fscore_support(y_all_true,y_all_pred)\n",
    "\n",
    "print(f\"TEST PREC: {result[0]} RECALL: {result[1]} F1 SCORE: {result[2]} SUPPORT: {result[3]}\")\n"
   ]
  },
  {
   "cell_type": "code",
   "execution_count": 18,
   "id": "7c9dc887",
   "metadata": {
    "execution": {
     "iopub.execute_input": "2023-01-14T07:56:52.801662Z",
     "iopub.status.busy": "2023-01-14T07:56:52.801357Z",
     "iopub.status.idle": "2023-01-14T07:56:55.631373Z",
     "shell.execute_reply": "2023-01-14T07:56:55.630353Z"
    },
    "papermill": {
     "duration": 2.84852,
     "end_time": "2023-01-14T07:56:55.633577",
     "exception": false,
     "start_time": "2023-01-14T07:56:52.785057",
     "status": "completed"
    },
    "tags": []
   },
   "outputs": [
    {
     "data": {
      "text/html": [
       "<div>\n",
       "<style scoped>\n",
       "    .dataframe tbody tr th:only-of-type {\n",
       "        vertical-align: middle;\n",
       "    }\n",
       "\n",
       "    .dataframe tbody tr th {\n",
       "        vertical-align: top;\n",
       "    }\n",
       "\n",
       "    .dataframe thead th {\n",
       "        text-align: right;\n",
       "    }\n",
       "</style>\n",
       "<table border=\"1\" class=\"dataframe\">\n",
       "  <thead>\n",
       "    <tr style=\"text-align: right;\">\n",
       "      <th></th>\n",
       "      <th>image</th>\n",
       "      <th>category</th>\n",
       "    </tr>\n",
       "  </thead>\n",
       "  <tbody>\n",
       "    <tr>\n",
       "      <th>0</th>\n",
       "      <td>IMG_1133.JPG</td>\n",
       "      <td>1</td>\n",
       "    </tr>\n",
       "    <tr>\n",
       "      <th>1</th>\n",
       "      <td>IMG_1129.JPG</td>\n",
       "      <td>1</td>\n",
       "    </tr>\n",
       "    <tr>\n",
       "      <th>2</th>\n",
       "      <td>IMG_1132.JPG</td>\n",
       "      <td>1</td>\n",
       "    </tr>\n",
       "    <tr>\n",
       "      <th>3</th>\n",
       "      <td>IMG_1130.JPG</td>\n",
       "      <td>2</td>\n",
       "    </tr>\n",
       "    <tr>\n",
       "      <th>4</th>\n",
       "      <td>IMG_1134.JPG</td>\n",
       "      <td>1</td>\n",
       "    </tr>\n",
       "    <tr>\n",
       "      <th>5</th>\n",
       "      <td>IMG_1131.JPG</td>\n",
       "      <td>2</td>\n",
       "    </tr>\n",
       "  </tbody>\n",
       "</table>\n",
       "</div>"
      ],
      "text/plain": [
       "          image  category\n",
       "0  IMG_1133.JPG         1\n",
       "1  IMG_1129.JPG         1\n",
       "2  IMG_1132.JPG         1\n",
       "3  IMG_1130.JPG         2\n",
       "4  IMG_1134.JPG         1\n",
       "5  IMG_1131.JPG         2"
      ]
     },
     "execution_count": 18,
     "metadata": {},
     "output_type": "execute_result"
    }
   ],
   "source": [
    "class TestDataset(Dataset):\n",
    "    def __init__(self,x,transform = 'T.Resize((224,224))'):\n",
    "        self.transform = transform\n",
    "        self.x = x\n",
    "        self.len = len(x)\n",
    "   \n",
    "    def __len__(self):\n",
    "        return self.len\n",
    "    \n",
    "    def __getitem__(self,i):\n",
    "        img = Image.open(self.x[i]).convert('RGB')\n",
    "        return torch.FloatTensor(np.asarray(self.transform(img)))\n",
    "    \n",
    "\n",
    "test_img = [path+\"predict/\"+i for i in os.listdir(path+\"predict/\")]\n",
    "test_dataset = TestDataset(test_img,transform =transforms_test)\n",
    "test_dataloader = DataLoader(test_dataset , batch_size = batch_size , shuffle = False )\n",
    "\n",
    "predictions = []\n",
    "with torch.no_grad():\n",
    "    model.eval()\n",
    "    for _batch_idx_ , x in enumerate(test_dataloader):\n",
    "        x = x.to(device)\n",
    "        y_pred = model(x).to(device)\n",
    "        pred = torch.argmax(y_pred, dim=1)+1\n",
    "        predictions+=pred.cpu().tolist()\n",
    "\n",
    "df = pd.DataFrame(list(zip([test_img[i].split('/')[-1] for i in range(len(test_img))], predictions)), index =None, columns =['image', 'category'])\n",
    "df.to_csv(\"submission.csv\", index=False)\n",
    "df"
   ]
  }
 ],
 "metadata": {
  "kernelspec": {
   "display_name": "Python 3",
   "language": "python",
   "name": "python3"
  },
  "language_info": {
   "codemirror_mode": {
    "name": "ipython",
    "version": 3
   },
   "file_extension": ".py",
   "mimetype": "text/x-python",
   "name": "python",
   "nbconvert_exporter": "python",
   "pygments_lexer": "ipython3",
   "version": "3.7.12"
  },
  "papermill": {
   "default_parameters": {},
   "duration": 1263.864629,
   "end_time": "2023-01-14T07:56:58.368581",
   "environment_variables": {},
   "exception": null,
   "input_path": "__notebook__.ipynb",
   "output_path": "__notebook__.ipynb",
   "parameters": {},
   "start_time": "2023-01-14T07:35:54.503952",
   "version": "2.3.4"
  }
 },
 "nbformat": 4,
 "nbformat_minor": 5
}
