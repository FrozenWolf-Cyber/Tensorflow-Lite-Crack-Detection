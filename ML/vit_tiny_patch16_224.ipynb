{
 "cells": [
  {
   "cell_type": "markdown",
   "id": "6466974d",
   "metadata": {
    "papermill": {
     "duration": 0.007587,
     "end_time": "2023-01-14T06:44:28.838928",
     "exception": false,
     "start_time": "2023-01-14T06:44:28.831341",
     "status": "completed"
    },
    "tags": []
   },
   "source": [
    "## Contents\n",
    "-  [1.Importing Libraries](#1)\n",
    "-  [2.Dataset Management](#2)\n",
    "    -  [2.1.Downloading and Extracting Dataset](#2.1)\n",
    "    -  [2.2.Visualizing Dataset](#2.2)\n",
    "    -  [2.3.Splitting Dataset](#2.3)\n",
    "    -  [2.4.Pytorch DataLoaders](#2.4)\n",
    "-  [3.Initializing pre-trained model](#3)\n",
    "-  [4.Training](#4)\n",
    "-  [5.Plotting Results](#5)\n",
    "    -  [5.1.Plotting Loss vs MiniBatch](#5.1)\n",
    "    -  [5.2.Plotting Accuracy vs MiniBatch](#5.2)\n",
    "    -  [5.3.Plotting Loss vs Epoch](#5.3)\n",
    "    -  [5.4.Plotting Accuracy vs Epoch](#5.4)\n",
    "    -  [5.5.Plotting F1 Score vs Epoch](#5.5)\n",
    "    -  [5.6.Plotting Recall vs Epoch](#5.6)\n",
    "    -  [5.7.Plotting Precision vs Epoch](#5.7)\n",
    "-  [6.Testing](#6)"
   ]
  },
  {
   "cell_type": "markdown",
   "id": "d9d60704",
   "metadata": {
    "papermill": {
     "duration": 0.005899,
     "end_time": "2023-01-14T06:44:28.851044",
     "exception": false,
     "start_time": "2023-01-14T06:44:28.845145",
     "status": "completed"
    },
    "tags": []
   },
   "source": [
    "### 1.Importing Libraries <a class=\"anchor\" id=\"1\"></a>"
   ]
  },
  {
   "cell_type": "code",
   "execution_count": 1,
   "id": "fcde1e0a",
   "metadata": {
    "execution": {
     "iopub.execute_input": "2023-01-14T06:44:28.865505Z",
     "iopub.status.busy": "2023-01-14T06:44:28.864748Z",
     "iopub.status.idle": "2023-01-14T06:44:43.890623Z",
     "shell.execute_reply": "2023-01-14T06:44:43.889599Z"
    },
    "papermill": {
     "duration": 15.036066,
     "end_time": "2023-01-14T06:44:43.893396",
     "exception": false,
     "start_time": "2023-01-14T06:44:28.857330",
     "status": "completed"
    },
    "tags": []
   },
   "outputs": [
    {
     "name": "stdout",
     "output_type": "stream",
     "text": [
      "Requirement already satisfied: timm in /home/frozenwolf/miniconda3/lib/python3.7/site-packages (0.6.12)\n",
      "Requirement already satisfied: huggingface-hub in /home/frozenwolf/miniconda3/lib/python3.7/site-packages (from timm) (0.10.1)\n",
      "Requirement already satisfied: pyyaml in /home/frozenwolf/miniconda3/lib/python3.7/site-packages (from timm) (6.0)\n",
      "Requirement already satisfied: torchvision in /home/frozenwolf/miniconda3/lib/python3.7/site-packages (from timm) (0.13.1a0)\n",
      "Requirement already satisfied: torch>=1.7 in /home/frozenwolf/miniconda3/lib/python3.7/site-packages (from timm) (1.12.1)\n",
      "Requirement already satisfied: typing_extensions in /home/frozenwolf/miniconda3/lib/python3.7/site-packages (from torch>=1.7->timm) (3.10.0.2)\n",
      "Requirement already satisfied: requests in /home/frozenwolf/miniconda3/lib/python3.7/site-packages (from huggingface-hub->timm) (2.28.1)\n",
      "Requirement already satisfied: filelock in /home/frozenwolf/miniconda3/lib/python3.7/site-packages (from huggingface-hub->timm) (3.6.0)\n",
      "Requirement already satisfied: packaging>=20.9 in /home/frozenwolf/miniconda3/lib/python3.7/site-packages (from huggingface-hub->timm) (21.3)\n",
      "Requirement already satisfied: tqdm in /home/frozenwolf/miniconda3/lib/python3.7/site-packages (from huggingface-hub->timm) (4.64.0)\n",
      "Requirement already satisfied: importlib-metadata in /home/frozenwolf/miniconda3/lib/python3.7/site-packages (from huggingface-hub->timm) (4.11.3)\n",
      "Requirement already satisfied: pyparsing!=3.0.5,>=2.0.2 in /home/frozenwolf/miniconda3/lib/python3.7/site-packages (from packaging>=20.9->huggingface-hub->timm) (3.0.4)\n",
      "Requirement already satisfied: zipp>=0.5 in /home/frozenwolf/miniconda3/lib/python3.7/site-packages (from importlib-metadata->huggingface-hub->timm) (3.8.0)\n",
      "Requirement already satisfied: urllib3<1.27,>=1.21.1 in /home/frozenwolf/miniconda3/lib/python3.7/site-packages (from requests->huggingface-hub->timm) (1.26.11)\n",
      "Requirement already satisfied: certifi>=2017.4.17 in /home/frozenwolf/miniconda3/lib/python3.7/site-packages (from requests->huggingface-hub->timm) (2022.6.15)\n",
      "Requirement already satisfied: charset-normalizer<3,>=2 in /home/frozenwolf/miniconda3/lib/python3.7/site-packages (from requests->huggingface-hub->timm) (2.1.1)\n",
      "Requirement already satisfied: idna<4,>=2.5 in /home/frozenwolf/miniconda3/lib/python3.7/site-packages (from requests->huggingface-hub->timm) (3.3)\n",
      "Requirement already satisfied: numpy in /home/frozenwolf/miniconda3/lib/python3.7/site-packages (from torchvision->timm) (1.21.5)\n",
      "Requirement already satisfied: pillow!=8.3.*,>=5.3.0 in /home/frozenwolf/miniconda3/lib/python3.7/site-packages (from torchvision->timm) (6.2.1)\n"
     ]
    },
    {
     "name": "stderr",
     "output_type": "stream",
     "text": [
      "/home/frozenwolf/miniconda3/lib/python3.7/site-packages/torchvision/io/image.py:13: UserWarning: Failed to load image Python extension: /home/frozenwolf/miniconda3/lib/python3.7/site-packages/torchvision/image.so: undefined symbol: _ZN5torch3jit17parseSchemaOrNameERKNSt7__cxx1112basic_stringIcSt11char_traitsIcESaIcEEE\n",
      "  warn(f\"Failed to load image Python extension: {e}\")\n"
     ]
    }
   ],
   "source": [
    "!pip install timm\n",
    "import timm"
   ]
  },
  {
   "cell_type": "code",
   "execution_count": 2,
   "id": "62f19654",
   "metadata": {
    "execution": {
     "iopub.execute_input": "2023-01-14T06:44:43.909459Z",
     "iopub.status.busy": "2023-01-14T06:44:43.909157Z",
     "iopub.status.idle": "2023-01-14T06:44:44.558385Z",
     "shell.execute_reply": "2023-01-14T06:44:44.557382Z"
    },
    "papermill": {
     "duration": 0.660244,
     "end_time": "2023-01-14T06:44:44.560851",
     "exception": false,
     "start_time": "2023-01-14T06:44:43.900607",
     "status": "completed"
    },
    "tags": []
   },
   "outputs": [],
   "source": [
    "import torch\n",
    "import torch.nn as nn\n",
    "import torch.nn.functional as F\n",
    "import torchvision.transforms as T\n",
    "from torch.utils.data import Dataset as Dataset\n",
    "from torch.utils.data import DataLoader as DataLoader\n",
    "import pandas as pd\n",
    "import matplotlib.pyplot as plt\n",
    "import numpy as np\n",
    "import seaborn as sns\n",
    "from PIL import Image\n",
    "import os\n",
    "import random\n",
    "\n",
    "torch.cuda.empty_cache()\n",
    "# random.seed(0)\n",
    "# np.random.seed(0)\n",
    "torch.manual_seed(0)\n",
    "\n",
    "sns.set_style(\"darkgrid\")\n",
    "plt.rcParams[\"figure.figsize\"] = (10,10)\n"
   ]
  },
  {
   "cell_type": "markdown",
   "id": "2676a7fe",
   "metadata": {
    "papermill": {
     "duration": 0.006931,
     "end_time": "2023-01-14T06:44:44.575026",
     "exception": false,
     "start_time": "2023-01-14T06:44:44.568095",
     "status": "completed"
    },
    "tags": []
   },
   "source": [
    "### 2.Dataset Managament <a class=\"anchor\" id=\"2\"></a>"
   ]
  },
  {
   "cell_type": "markdown",
   "id": "605a6075",
   "metadata": {
    "papermill": {
     "duration": 0.006698,
     "end_time": "2023-01-14T06:44:44.589998",
     "exception": false,
     "start_time": "2023-01-14T06:44:44.583300",
     "status": "completed"
    },
    "tags": []
   },
   "source": [
    "#### 1.Downloading and Extracting Dataset <a class=\"anchor\" id=\"2.1\"></a>"
   ]
  },
  {
   "cell_type": "code",
   "execution_count": 3,
   "id": "5d437b30",
   "metadata": {
    "execution": {
     "iopub.execute_input": "2023-01-14T06:44:44.605375Z",
     "iopub.status.busy": "2023-01-14T06:44:44.605069Z",
     "iopub.status.idle": "2023-01-14T06:44:44.610221Z",
     "shell.execute_reply": "2023-01-14T06:44:44.609380Z"
    },
    "papermill": {
     "duration": 0.015125,
     "end_time": "2023-01-14T06:44:44.612246",
     "exception": false,
     "start_time": "2023-01-14T06:44:44.597121",
     "status": "completed"
    },
    "tags": []
   },
   "outputs": [],
   "source": [
    "path = 'surface_crack/'"
   ]
  },
  {
   "cell_type": "markdown",
   "id": "6523d050",
   "metadata": {
    "papermill": {
     "duration": 0.006537,
     "end_time": "2023-01-14T06:44:44.625479",
     "exception": false,
     "start_time": "2023-01-14T06:44:44.618942",
     "status": "completed"
    },
    "tags": []
   },
   "source": [
    "#### 2.Visualizing Dataset <a class=\"anchor\" id=\"2.2\"></a>"
   ]
  },
  {
   "cell_type": "markdown",
   "id": "2ab0899f",
   "metadata": {
    "papermill": {
     "duration": 0.0065,
     "end_time": "2023-01-14T06:44:44.638579",
     "exception": false,
     "start_time": "2023-01-14T06:44:44.632079",
     "status": "completed"
    },
    "tags": []
   },
   "source": [
    "#### 3.Splitting Dataset <a class=\"anchor\" id=\"2.3\"></a>"
   ]
  },
  {
   "cell_type": "code",
   "execution_count": 4,
   "id": "bc36ffba",
   "metadata": {
    "execution": {
     "iopub.execute_input": "2023-01-14T06:44:44.653221Z",
     "iopub.status.busy": "2023-01-14T06:44:44.652942Z",
     "iopub.status.idle": "2023-01-14T06:44:44.790561Z",
     "shell.execute_reply": "2023-01-14T06:44:44.789713Z"
    },
    "papermill": {
     "duration": 0.147422,
     "end_time": "2023-01-14T06:44:44.792622",
     "exception": false,
     "start_time": "2023-01-14T06:44:44.645200",
     "status": "completed"
    },
    "tags": []
   },
   "outputs": [],
   "source": [
    "import os\n",
    "\n",
    "image = {}\n",
    "label = {}\n",
    "\n",
    "\n",
    "\n",
    "for i in os.listdir(path):\n",
    "    if i not in image:\n",
    "        image[i] = []\n",
    "        label[i] = []\n",
    "    \n",
    "    if i == \"predict\":\n",
    "        for k in os.listdir(path+i):\n",
    "            image[i].append(path+i+'/'+k)\n",
    "            label[i].append(1 if j == \"Positive\" else 0)\n",
    "        continue\n",
    "        \n",
    "    for j in os.listdir(path+i):\n",
    "        for k in os.listdir(path+i+'/'+j):\n",
    "            image[i].append(path+i+'/'+j+'/'+k)\n",
    "            label[i].append(1 if j == \"Positive\" else 0)"
   ]
  },
  {
   "cell_type": "markdown",
   "id": "6368f2b1",
   "metadata": {
    "papermill": {
     "duration": 0.006641,
     "end_time": "2023-01-14T06:44:44.806014",
     "exception": false,
     "start_time": "2023-01-14T06:44:44.799373",
     "status": "completed"
    },
    "tags": []
   },
   "source": [
    "#### 4.Pytorch DataLoaders <a class=\"anchor\" id=\"2.4\"></a>"
   ]
  },
  {
   "cell_type": "code",
   "execution_count": 5,
   "id": "6321de10",
   "metadata": {
    "execution": {
     "iopub.execute_input": "2023-01-14T06:44:44.821057Z",
     "iopub.status.busy": "2023-01-14T06:44:44.820276Z",
     "iopub.status.idle": "2023-01-14T06:44:44.830417Z",
     "shell.execute_reply": "2023-01-14T06:44:44.829458Z"
    },
    "papermill": {
     "duration": 0.019795,
     "end_time": "2023-01-14T06:44:44.832505",
     "exception": false,
     "start_time": "2023-01-14T06:44:44.812710",
     "status": "completed"
    },
    "tags": []
   },
   "outputs": [],
   "source": [
    "from PIL import Image\n",
    "\n",
    "class Dataset(Dataset):\n",
    "    def __init__(self,x,y,transform = 'T.Resize((224,224))'):\n",
    "        self.transform = transform\n",
    "        self.x = x\n",
    "        self.y = y \n",
    "        self.len = len(x)\n",
    "   \n",
    "    def __len__(self):\n",
    "        return self.len\n",
    "    \n",
    "    def __getitem__(self,i):\n",
    "        img = Image.open(self.x[i])\n",
    "        return torch.FloatTensor(np.asarray(self.transform(img))),torch.LongTensor([self.y[i]])\n",
    "\n",
    "batch_size = 16\n",
    "\n",
    "transforms_train = T.Compose([\n",
    "        T.Resize((224,224)),\n",
    "#         T.RandomRotation(degrees=(-45, 45)),\n",
    "#         T.RandomHorizontalFlip(),\n",
    "#         T.RandomVerticalFlip(),\n",
    "        T.ToTensor(),\n",
    "#         T.Normalize([0.485, 0.456, 0.406], [0.229, 0.224, 0.225])\n",
    "    ])\n",
    "\n",
    "transforms_test = T.Compose([\n",
    "        T.Resize((224,224)),\n",
    "        T.ToTensor(),\n",
    "#         T.Normalize(mean=[0.485, 0.456, 0.406], std=[0.229, 0.224, 0.225])\n",
    "    ])\n",
    "\n",
    "train_dataset = Dataset(image['train'],label['train'],transform =transforms_train)\n",
    "validation_dataset = Dataset(image['valid'],label['valid'],transform =transforms_test)\n",
    "test_dataset = Dataset(image['test'],label['test'],transform =transforms_test)\n",
    "\n",
    "train_dataloader = DataLoader(train_dataset , batch_size = batch_size , shuffle = True )\n",
    "validation_dataloader = DataLoader(validation_dataset , batch_size = batch_size , shuffle = True )\n",
    "test_dataloader = DataLoader(test_dataset , batch_size = batch_size , shuffle = True )"
   ]
  },
  {
   "cell_type": "code",
   "execution_count": 6,
   "id": "4a95d290",
   "metadata": {
    "execution": {
     "iopub.execute_input": "2023-01-14T06:44:44.846853Z",
     "iopub.status.busy": "2023-01-14T06:44:44.846584Z",
     "iopub.status.idle": "2023-01-14T06:44:44.958882Z",
     "shell.execute_reply": "2023-01-14T06:44:44.958006Z"
    },
    "papermill": {
     "duration": 0.121842,
     "end_time": "2023-01-14T06:44:44.960968",
     "exception": false,
     "start_time": "2023-01-14T06:44:44.839126",
     "status": "completed"
    },
    "tags": []
   },
   "outputs": [
    {
     "data": {
      "text/plain": [
       "[tensor([[[[0.7529, 0.7373, 0.7333,  ..., 0.7569, 0.7608, 0.7608],\n",
       "           [0.7373, 0.7333, 0.7412,  ..., 0.7529, 0.7608, 0.7608],\n",
       "           [0.7216, 0.7333, 0.7529,  ..., 0.7529, 0.7569, 0.7569],\n",
       "           ...,\n",
       "           [0.7020, 0.7059, 0.7098,  ..., 0.7608, 0.7529, 0.7529],\n",
       "           [0.7020, 0.7137, 0.7176,  ..., 0.7412, 0.7294, 0.7216],\n",
       "           [0.6902, 0.7059, 0.7137,  ..., 0.7255, 0.7098, 0.6941]],\n",
       " \n",
       "          [[0.7608, 0.7451, 0.7412,  ..., 0.7647, 0.7686, 0.7686],\n",
       "           [0.7451, 0.7412, 0.7490,  ..., 0.7608, 0.7686, 0.7686],\n",
       "           [0.7294, 0.7412, 0.7608,  ..., 0.7608, 0.7647, 0.7647],\n",
       "           ...,\n",
       "           [0.7059, 0.7098, 0.7137,  ..., 0.7608, 0.7529, 0.7529],\n",
       "           [0.7059, 0.7176, 0.7216,  ..., 0.7412, 0.7294, 0.7216],\n",
       "           [0.6941, 0.7098, 0.7176,  ..., 0.7255, 0.7098, 0.6941]],\n",
       " \n",
       "          [[0.7490, 0.7333, 0.7294,  ..., 0.7608, 0.7647, 0.7647],\n",
       "           [0.7333, 0.7294, 0.7373,  ..., 0.7569, 0.7647, 0.7647],\n",
       "           [0.7176, 0.7294, 0.7490,  ..., 0.7569, 0.7608, 0.7608],\n",
       "           ...,\n",
       "           [0.6863, 0.6902, 0.6941,  ..., 0.7529, 0.7451, 0.7451],\n",
       "           [0.6863, 0.6980, 0.7020,  ..., 0.7333, 0.7216, 0.7137],\n",
       "           [0.6745, 0.6902, 0.6980,  ..., 0.7176, 0.7020, 0.6863]]],\n",
       " \n",
       " \n",
       "         [[[0.7020, 0.7020, 0.6784,  ..., 0.7569, 0.7451, 0.7333],\n",
       "           [0.7216, 0.7098, 0.6902,  ..., 0.7490, 0.7451, 0.7412],\n",
       "           [0.7216, 0.6980, 0.6902,  ..., 0.7333, 0.7412, 0.7490],\n",
       "           ...,\n",
       "           [0.7373, 0.7333, 0.7333,  ..., 0.7412, 0.7451, 0.7569],\n",
       "           [0.7137, 0.7216, 0.7255,  ..., 0.7451, 0.7451, 0.7569],\n",
       "           [0.6941, 0.7020, 0.7137,  ..., 0.7529, 0.7451, 0.7529]],\n",
       " \n",
       "          [[0.7137, 0.7137, 0.6902,  ..., 0.7569, 0.7451, 0.7333],\n",
       "           [0.7333, 0.7216, 0.7020,  ..., 0.7490, 0.7451, 0.7412],\n",
       "           [0.7333, 0.7098, 0.7020,  ..., 0.7333, 0.7412, 0.7490],\n",
       "           ...,\n",
       "           [0.7412, 0.7373, 0.7373,  ..., 0.7451, 0.7490, 0.7608],\n",
       "           [0.7176, 0.7255, 0.7294,  ..., 0.7490, 0.7490, 0.7608],\n",
       "           [0.6980, 0.7059, 0.7176,  ..., 0.7569, 0.7490, 0.7569]],\n",
       " \n",
       "          [[0.6863, 0.6863, 0.6627,  ..., 0.7255, 0.7137, 0.7020],\n",
       "           [0.7059, 0.6941, 0.6745,  ..., 0.7176, 0.7137, 0.7098],\n",
       "           [0.7059, 0.6824, 0.6745,  ..., 0.7020, 0.7098, 0.7176],\n",
       "           ...,\n",
       "           [0.7098, 0.7059, 0.7059,  ..., 0.7216, 0.7255, 0.7373],\n",
       "           [0.6863, 0.6941, 0.6980,  ..., 0.7255, 0.7255, 0.7373],\n",
       "           [0.6667, 0.6745, 0.6863,  ..., 0.7333, 0.7255, 0.7333]]],\n",
       " \n",
       " \n",
       "         [[[0.6980, 0.7020, 0.7176,  ..., 0.7059, 0.7176, 0.7294],\n",
       "           [0.7255, 0.7216, 0.7216,  ..., 0.7098, 0.7176, 0.7255],\n",
       "           [0.7412, 0.7255, 0.7176,  ..., 0.7137, 0.7176, 0.7216],\n",
       "           ...,\n",
       "           [0.7608, 0.7490, 0.7412,  ..., 0.7451, 0.7490, 0.7490],\n",
       "           [0.7608, 0.7490, 0.7412,  ..., 0.7451, 0.7490, 0.7490],\n",
       "           [0.7608, 0.7529, 0.7412,  ..., 0.7412, 0.7451, 0.7490]],\n",
       " \n",
       "          [[0.7020, 0.7059, 0.7216,  ..., 0.7098, 0.7216, 0.7333],\n",
       "           [0.7294, 0.7255, 0.7255,  ..., 0.7137, 0.7216, 0.7294],\n",
       "           [0.7451, 0.7294, 0.7216,  ..., 0.7176, 0.7216, 0.7255],\n",
       "           ...,\n",
       "           [0.7647, 0.7529, 0.7451,  ..., 0.7490, 0.7529, 0.7529],\n",
       "           [0.7647, 0.7529, 0.7451,  ..., 0.7490, 0.7529, 0.7529],\n",
       "           [0.7647, 0.7569, 0.7451,  ..., 0.7451, 0.7490, 0.7529]],\n",
       " \n",
       "          [[0.6784, 0.6824, 0.6980,  ..., 0.6784, 0.6902, 0.7020],\n",
       "           [0.7059, 0.7020, 0.7020,  ..., 0.6824, 0.6902, 0.6980],\n",
       "           [0.7216, 0.7059, 0.6980,  ..., 0.6863, 0.6902, 0.6941],\n",
       "           ...,\n",
       "           [0.7412, 0.7294, 0.7216,  ..., 0.7294, 0.7333, 0.7333],\n",
       "           [0.7412, 0.7294, 0.7216,  ..., 0.7294, 0.7333, 0.7333],\n",
       "           [0.7412, 0.7333, 0.7216,  ..., 0.7255, 0.7294, 0.7333]]],\n",
       " \n",
       " \n",
       "         ...,\n",
       " \n",
       " \n",
       "         [[[0.7804, 0.7725, 0.7725,  ..., 0.7451, 0.7451, 0.7294],\n",
       "           [0.7804, 0.7686, 0.7647,  ..., 0.7608, 0.7686, 0.7647],\n",
       "           [0.7765, 0.7608, 0.7569,  ..., 0.7569, 0.7804, 0.7804],\n",
       "           ...,\n",
       "           [0.7765, 0.7804, 0.7804,  ..., 0.7686, 0.7686, 0.7686],\n",
       "           [0.7843, 0.7804, 0.7765,  ..., 0.7725, 0.7765, 0.7804],\n",
       "           [0.7882, 0.7804, 0.7725,  ..., 0.7804, 0.7922, 0.7961]],\n",
       " \n",
       "          [[0.7843, 0.7765, 0.7765,  ..., 0.7490, 0.7490, 0.7333],\n",
       "           [0.7843, 0.7725, 0.7686,  ..., 0.7647, 0.7725, 0.7686],\n",
       "           [0.7804, 0.7647, 0.7608,  ..., 0.7608, 0.7843, 0.7843],\n",
       "           ...,\n",
       "           [0.7843, 0.7882, 0.7882,  ..., 0.7804, 0.7804, 0.7804],\n",
       "           [0.7922, 0.7882, 0.7843,  ..., 0.7843, 0.7882, 0.7922],\n",
       "           [0.7961, 0.7882, 0.7804,  ..., 0.7922, 0.8039, 0.8078]],\n",
       " \n",
       "          [[0.7608, 0.7529, 0.7529,  ..., 0.7176, 0.7176, 0.7020],\n",
       "           [0.7608, 0.7490, 0.7451,  ..., 0.7333, 0.7412, 0.7373],\n",
       "           [0.7569, 0.7412, 0.7373,  ..., 0.7294, 0.7529, 0.7529],\n",
       "           ...,\n",
       "           [0.7647, 0.7686, 0.7686,  ..., 0.7529, 0.7529, 0.7529],\n",
       "           [0.7725, 0.7686, 0.7647,  ..., 0.7569, 0.7608, 0.7647],\n",
       "           [0.7765, 0.7686, 0.7608,  ..., 0.7647, 0.7765, 0.7804]]],\n",
       " \n",
       " \n",
       "         [[[0.6824, 0.6863, 0.6784,  ..., 0.7686, 0.7451, 0.7255],\n",
       "           [0.6667, 0.6902, 0.7020,  ..., 0.7490, 0.7333, 0.7176],\n",
       "           [0.6588, 0.6980, 0.7255,  ..., 0.7490, 0.7451, 0.7373],\n",
       "           ...,\n",
       "           [0.7098, 0.7176, 0.7333,  ..., 0.7725, 0.7412, 0.7059],\n",
       "           [0.6824, 0.6941, 0.7137,  ..., 0.7686, 0.7412, 0.7020],\n",
       "           [0.6863, 0.6980, 0.7216,  ..., 0.8000, 0.7647, 0.7216]],\n",
       " \n",
       "          [[0.7020, 0.7059, 0.6980,  ..., 0.7765, 0.7529, 0.7333],\n",
       "           [0.6863, 0.7098, 0.7216,  ..., 0.7569, 0.7412, 0.7255],\n",
       "           [0.6784, 0.7176, 0.7451,  ..., 0.7569, 0.7529, 0.7451],\n",
       "           ...,\n",
       "           [0.7137, 0.7216, 0.7373,  ..., 0.7804, 0.7490, 0.7137],\n",
       "           [0.6863, 0.6980, 0.7176,  ..., 0.7765, 0.7490, 0.7098],\n",
       "           [0.6902, 0.7020, 0.7255,  ..., 0.8078, 0.7725, 0.7294]],\n",
       " \n",
       "          [[0.6863, 0.6902, 0.6824,  ..., 0.7569, 0.7333, 0.7137],\n",
       "           [0.6706, 0.6941, 0.7059,  ..., 0.7373, 0.7216, 0.7059],\n",
       "           [0.6627, 0.7020, 0.7294,  ..., 0.7373, 0.7333, 0.7255],\n",
       "           ...,\n",
       "           [0.6941, 0.7020, 0.7176,  ..., 0.7686, 0.7373, 0.7020],\n",
       "           [0.6667, 0.6784, 0.6980,  ..., 0.7647, 0.7373, 0.6980],\n",
       "           [0.6706, 0.6824, 0.7059,  ..., 0.7961, 0.7608, 0.7176]]],\n",
       " \n",
       " \n",
       "         [[[0.6941, 0.7216, 0.7373,  ..., 0.5294, 0.5569, 0.6000],\n",
       "           [0.7059, 0.7294, 0.7412,  ..., 0.5843, 0.6000, 0.6314],\n",
       "           [0.7216, 0.7373, 0.7451,  ..., 0.6196, 0.6235, 0.6353],\n",
       "           ...,\n",
       "           [0.7490, 0.7490, 0.7529,  ..., 0.7255, 0.7255, 0.7216],\n",
       "           [0.7647, 0.7608, 0.7529,  ..., 0.7176, 0.7059, 0.6941],\n",
       "           [0.7765, 0.7686, 0.7529,  ..., 0.7373, 0.7137, 0.6941]],\n",
       " \n",
       "          [[0.6863, 0.7137, 0.7294,  ..., 0.5216, 0.5490, 0.5922],\n",
       "           [0.6980, 0.7216, 0.7333,  ..., 0.5765, 0.5922, 0.6235],\n",
       "           [0.7137, 0.7294, 0.7373,  ..., 0.6118, 0.6157, 0.6275],\n",
       "           ...,\n",
       "           [0.7412, 0.7412, 0.7451,  ..., 0.7176, 0.7176, 0.7137],\n",
       "           [0.7569, 0.7529, 0.7451,  ..., 0.7098, 0.6980, 0.6863],\n",
       "           [0.7686, 0.7608, 0.7451,  ..., 0.7294, 0.7059, 0.6863]],\n",
       " \n",
       "          [[0.6353, 0.6627, 0.6784,  ..., 0.4706, 0.4980, 0.5412],\n",
       "           [0.6471, 0.6706, 0.6824,  ..., 0.5255, 0.5412, 0.5725],\n",
       "           [0.6627, 0.6784, 0.6863,  ..., 0.5608, 0.5647, 0.5765],\n",
       "           ...,\n",
       "           [0.6941, 0.6941, 0.6980,  ..., 0.6706, 0.6706, 0.6667],\n",
       "           [0.7098, 0.7059, 0.6980,  ..., 0.6627, 0.6510, 0.6392],\n",
       "           [0.7216, 0.7137, 0.6980,  ..., 0.6824, 0.6588, 0.6392]]]]),\n",
       " tensor([[0],\n",
       "         [1],\n",
       "         [0],\n",
       "         [0],\n",
       "         [0],\n",
       "         [1],\n",
       "         [0],\n",
       "         [1],\n",
       "         [0],\n",
       "         [0],\n",
       "         [1],\n",
       "         [0],\n",
       "         [1],\n",
       "         [0],\n",
       "         [0],\n",
       "         [1]])]"
      ]
     },
     "execution_count": 6,
     "metadata": {},
     "output_type": "execute_result"
    }
   ],
   "source": [
    "next(iter(test_dataloader))"
   ]
  },
  {
   "cell_type": "markdown",
   "id": "7f8aabf9",
   "metadata": {
    "papermill": {
     "duration": 0.006811,
     "end_time": "2023-01-14T06:44:44.974961",
     "exception": false,
     "start_time": "2023-01-14T06:44:44.968150",
     "status": "completed"
    },
    "tags": []
   },
   "source": [
    "### 3.Initializing pre-trained model <a class=\"anchor\" id=\"3\"></a>"
   ]
  },
  {
   "cell_type": "code",
   "execution_count": 6,
   "id": "41a13e6c",
   "metadata": {
    "execution": {
     "iopub.execute_input": "2023-01-14T06:44:44.991689Z",
     "iopub.status.busy": "2023-01-14T06:44:44.990678Z",
     "iopub.status.idle": "2023-01-14T06:44:48.293799Z",
     "shell.execute_reply": "2023-01-14T06:44:48.292683Z"
    },
    "papermill": {
     "duration": 3.314847,
     "end_time": "2023-01-14T06:44:48.296658",
     "exception": false,
     "start_time": "2023-01-14T06:44:44.981811",
     "status": "completed"
    },
    "tags": []
   },
   "outputs": [],
   "source": [
    "model_name = \"vit_tiny_patch16_224\"\n",
    "class ViTBase16(nn.Module):\n",
    "    def __init__(self, n_classes):\n",
    "\n",
    "        super(ViTBase16, self).__init__()\n",
    "\n",
    "        self.model = timm.create_model(model_name, pretrained=True)\n",
    "        \n",
    "\n",
    "        self.model.head = nn.Linear(self.model.head.in_features, n_classes)\n",
    "\n",
    "    def forward(self, x):\n",
    "        x = self.model(x)\n",
    "        return x\n",
    "\n",
    "\n",
    "model = ViTBase16(2)\n",
    "for param in model.parameters():\n",
    "    param.requires_grad = True"
   ]
  },
  {
   "cell_type": "markdown",
   "id": "f62671cf",
   "metadata": {
    "papermill": {
     "duration": 0.006957,
     "end_time": "2023-01-14T06:44:48.311497",
     "exception": false,
     "start_time": "2023-01-14T06:44:48.304540",
     "status": "completed"
    },
    "tags": []
   },
   "source": [
    "### 4.Training <a class=\"anchor\" id=\"4\"></a>"
   ]
  },
  {
   "cell_type": "code",
   "execution_count": 7,
   "id": "270a412d",
   "metadata": {
    "execution": {
     "iopub.execute_input": "2023-01-14T06:44:48.326858Z",
     "iopub.status.busy": "2023-01-14T06:44:48.326540Z",
     "iopub.status.idle": "2023-01-14T06:44:51.341473Z",
     "shell.execute_reply": "2023-01-14T06:44:51.340444Z"
    },
    "papermill": {
     "duration": 3.025303,
     "end_time": "2023-01-14T06:44:51.343927",
     "exception": false,
     "start_time": "2023-01-14T06:44:48.318624",
     "status": "completed"
    },
    "tags": []
   },
   "outputs": [],
   "source": [
    "lr = 0.001\n",
    "epoch = 30\n",
    "train_dataset_size = train_dataset.__len__()\n",
    "validation_dataset_size = validation_dataset.__len__()\n",
    "train_n_minibatches = train_dataloader.__len__()\n",
    "validation_n_minibatches = validation_dataloader.__len__()\n",
    "\n",
    "device = 'cuda'\n",
    "model.to(device)\n",
    "loss_history = [[],[]] #[[train], [validation]]\n",
    "accuracy_history = [[],[]] #[[train], [validation]]\n",
    "# prec_history = [[],[]] #[[train], [validation]]\n",
    "# recall_history = [[],[]] #[[train], [validation]]\n",
    "# f1_history = [[],[]] #[[train], [validation]]\n",
    "# support_history = [[],[]] #[[train], [validation]]\n",
    "\n",
    "results = [[],[]]\n",
    "\n",
    "criterion = nn.CrossEntropyLoss()  \n",
    "optimizer = torch.optim.SGD(model.parameters(),lr = lr)\n",
    "\n"
   ]
  },
  {
   "cell_type": "code",
   "execution_count": 9,
   "id": "2df8ea37",
   "metadata": {
    "execution": {
     "iopub.execute_input": "2023-01-14T06:44:51.366459Z",
     "iopub.status.busy": "2023-01-14T06:44:51.366092Z",
     "iopub.status.idle": "2023-01-14T06:47:13.791915Z",
     "shell.execute_reply": "2023-01-14T06:47:13.790712Z"
    },
    "papermill": {
     "duration": 142.438685,
     "end_time": "2023-01-14T06:47:13.795296",
     "exception": false,
     "start_time": "2023-01-14T06:44:51.356611",
     "status": "completed"
    },
    "scrolled": true,
    "tags": []
   },
   "outputs": [
    {
     "name": "stdout",
     "output_type": "stream",
     "text": [
      "---------------------------------------EPOCH 1-------------------------------------------\n",
      "LOSS for EPOCH 1 BATCH 0/38 TRAIN LOSS : 0.8433006405830383 TRAIN ACCURACY : 62.5 VALIDATION LOSS : 0.8821195455697867 VALIDATION ACCURACY : 51.44230769230769\n",
      "LOSS for EPOCH 1 BATCH 19/38 TRAIN LOSS : 0.30811643600463867 TRAIN ACCURACY : 100.0 VALIDATION LOSS : 0.35783349206814397 VALIDATION ACCURACY : 89.42307692307692\n",
      "--------------------------------------------------------------------------------------------\n",
      "Loss for EPOCH 1  TRAIN LOSS : 0.45168177548207733 TRAIN PREC : [0.82181818 0.77230769] RECALL : [0.75333333 0.83666667] F1 : [0.78608696 0.8032    ] ACC : 79.76973684210526\n",
      "VALIDATION LOSS for EPOCH 1 : 0.35783349206814397 VALIDATION PREC : [0.8203125  0.65073529] RECALL : [0.525 0.885] F1 : [0.6402439 0.75     ]  ACC : 89.42307692307692\n",
      "---------------------------------------------------------------------------------------------\n",
      "---------------------------------------EPOCH 2-------------------------------------------\n",
      "LOSS for EPOCH 2 BATCH 0/38 TRAIN LOSS : 0.19108843803405762 TRAIN ACCURACY : 93.75 VALIDATION LOSS : 0.18679191917181015 VALIDATION ACCURACY : 95.67307692307692\n",
      "LOSS for EPOCH 2 BATCH 19/38 TRAIN LOSS : 0.13316890597343445 TRAIN ACCURACY : 93.75 VALIDATION LOSS : 0.11589573008509782 VALIDATION ACCURACY : 98.5576923076923\n",
      "--------------------------------------------------------------------------------------------\n",
      "Loss for EPOCH 2  TRAIN LOSS : 0.14147967580509813 TRAIN PREC : [0.93059937 0.98233216] RECALL : [0.98333333 0.92666667] F1 : [0.95623987 0.95368782] ACC : 95.5592105263158\n",
      "VALIDATION LOSS for EPOCH 2 : 0.11589573008509782 VALIDATION PREC : [0.96534653 0.97474747] RECALL : [0.975 0.965] F1 : [0.97014925 0.96984925]  ACC : 98.5576923076923\n",
      "---------------------------------------------------------------------------------------------\n",
      "---------------------------------------EPOCH 3-------------------------------------------\n",
      "LOSS for EPOCH 3 BATCH 0/38 TRAIN LOSS : 0.10264833271503448 TRAIN ACCURACY : 93.75 VALIDATION LOSS : 0.06627588317944454 VALIDATION ACCURACY : 98.5576923076923\n",
      "LOSS for EPOCH 3 BATCH 19/38 TRAIN LOSS : 0.06837014853954315 TRAIN ACCURACY : 93.75 VALIDATION LOSS : 0.04910505756449241 VALIDATION ACCURACY : 98.5576923076923\n",
      "--------------------------------------------------------------------------------------------\n",
      "Loss for EPOCH 3  TRAIN LOSS : 0.058432647835855424 TRAIN PREC : [0.97689769 0.98653199] RECALL : [0.98666667 0.97666667] F1 : [0.98175788 0.98157454] ACC : 98.1907894736842\n",
      "VALIDATION LOSS for EPOCH 3 : 0.04910505756449241 VALIDATION PREC : [0.985 0.985] RECALL : [0.985 0.985] F1 : [0.985 0.985]  ACC : 98.5576923076923\n",
      "---------------------------------------------------------------------------------------------\n",
      "---------------------------------------EPOCH 4-------------------------------------------\n",
      "LOSS for EPOCH 4 BATCH 0/38 TRAIN LOSS : 0.0092518525198102 TRAIN ACCURACY : 100.0 VALIDATION LOSS : 0.033763153765064016 VALIDATION ACCURACY : 99.03846153846153\n",
      "LOSS for EPOCH 4 BATCH 19/38 TRAIN LOSS : 0.07845243811607361 TRAIN ACCURACY : 93.75 VALIDATION LOSS : 0.027069427646123446 VALIDATION ACCURACY : 99.51923076923077\n",
      "--------------------------------------------------------------------------------------------\n",
      "Loss for EPOCH 4  TRAIN LOSS : 0.030942526217059868 TRAIN PREC : [0.98032787 0.99661017] RECALL : [0.99666667 0.98      ] F1 : [0.98842975 0.98823529] ACC : 98.84868421052632\n",
      "VALIDATION LOSS for EPOCH 4 : 0.027069427646123446 VALIDATION PREC : [0.99004975 0.99497487] RECALL : [0.995 0.99 ] F1 : [0.9925187 0.9924812]  ACC : 99.51923076923077\n",
      "---------------------------------------------------------------------------------------------\n",
      "---------------------------------------EPOCH 5-------------------------------------------\n",
      "LOSS for EPOCH 5 BATCH 0/38 TRAIN LOSS : 0.012656253762543201 TRAIN ACCURACY : 100.0 VALIDATION LOSS : 0.022561100938429054 VALIDATION ACCURACY : 99.51923076923077\n",
      "LOSS for EPOCH 5 BATCH 19/38 TRAIN LOSS : 0.004357262514531612 TRAIN ACCURACY : 100.0 VALIDATION LOSS : 0.019739916583952997 VALIDATION ACCURACY : 99.51923076923077\n",
      "--------------------------------------------------------------------------------------------\n",
      "Loss for EPOCH 5  TRAIN LOSS : 0.021362529237337998 TRAIN PREC : [0.99006623 0.9966443 ] RECALL : [0.99666667 0.99      ] F1 : [0.99335548 0.99331104] ACC : 99.34210526315789\n",
      "VALIDATION LOSS for EPOCH 5 : 0.019739916583952997 VALIDATION PREC : [0.995 0.995] RECALL : [0.995 0.995] F1 : [0.995 0.995]  ACC : 99.51923076923077\n",
      "---------------------------------------------------------------------------------------------\n",
      "---------------------------------------EPOCH 6-------------------------------------------\n",
      "LOSS for EPOCH 6 BATCH 0/38 TRAIN LOSS : 0.0026532441843301058 TRAIN ACCURACY : 100.0 VALIDATION LOSS : 0.017920280108228326 VALIDATION ACCURACY : 99.51923076923077\n",
      "LOSS for EPOCH 6 BATCH 19/38 TRAIN LOSS : 0.0031407151836901903 TRAIN ACCURACY : 100.0 VALIDATION LOSS : 0.01647704790453785 VALIDATION ACCURACY : 100.0\n",
      "--------------------------------------------------------------------------------------------\n",
      "Loss for EPOCH 6  TRAIN LOSS : 0.011923150888546124 TRAIN PREC : [0.99667774 1.        ] RECALL : [1.         0.99666667] F1 : [0.99833611 0.99833055] ACC : 99.83552631578948\n",
      "VALIDATION LOSS for EPOCH 6 : 0.01647704790453785 VALIDATION PREC : [0.99502488 1.        ] RECALL : [1.    0.995] F1 : [0.99750623 0.99749373]  ACC : 100.0\n",
      "---------------------------------------------------------------------------------------------\n",
      "---------------------------------------EPOCH 7-------------------------------------------\n",
      "LOSS for EPOCH 7 BATCH 0/38 TRAIN LOSS : 0.03158838301897049 TRAIN ACCURACY : 100.0 VALIDATION LOSS : 0.018133373277333494 VALIDATION ACCURACY : 99.51923076923077\n",
      "LOSS for EPOCH 7 BATCH 19/38 TRAIN LOSS : 0.018233738839626312 TRAIN ACCURACY : 100.0 VALIDATION LOSS : 0.014671897314166507 VALIDATION ACCURACY : 99.51923076923077\n",
      "--------------------------------------------------------------------------------------------\n",
      "Loss for EPOCH 7  TRAIN LOSS : 0.008240939269614356 TRAIN PREC : [1. 1.] RECALL : [1. 1.] F1 : [1. 1.] ACC : 100.0\n",
      "VALIDATION LOSS for EPOCH 7 : 0.014671897314166507 VALIDATION PREC : [0.99009901 1.        ] RECALL : [1.   0.99] F1 : [0.99502488 0.99497487]  ACC : 99.51923076923077\n",
      "---------------------------------------------------------------------------------------------\n",
      "---------------------------------------EPOCH 8-------------------------------------------\n",
      "LOSS for EPOCH 8 BATCH 0/38 TRAIN LOSS : 0.0019548891577869654 TRAIN ACCURACY : 100.0 VALIDATION LOSS : 0.012443707835000869 VALIDATION ACCURACY : 100.0\n",
      "LOSS for EPOCH 8 BATCH 19/38 TRAIN LOSS : 0.000779920956119895 TRAIN ACCURACY : 100.0 VALIDATION LOSS : 0.01197061811734994 VALIDATION ACCURACY : 100.0\n",
      "--------------------------------------------------------------------------------------------\n",
      "Loss for EPOCH 8  TRAIN LOSS : 0.005233154123599984 TRAIN PREC : [1. 1.] RECALL : [1. 1.] F1 : [1. 1.] ACC : 100.0\n",
      "VALIDATION LOSS for EPOCH 8 : 0.01197061811734994 VALIDATION PREC : [1. 1.] RECALL : [1. 1.] F1 : [1. 1.]  ACC : 100.0\n",
      "---------------------------------------------------------------------------------------------\n",
      "---------------------------------------EPOCH 9-------------------------------------------\n",
      "LOSS for EPOCH 9 BATCH 0/38 TRAIN LOSS : 0.006197260692715645 TRAIN ACCURACY : 100.0 VALIDATION LOSS : 0.012330540697663449 VALIDATION ACCURACY : 99.51923076923077\n",
      "LOSS for EPOCH 9 BATCH 19/38 TRAIN LOSS : 0.0017260190797969699 TRAIN ACCURACY : 100.0 VALIDATION LOSS : 0.015532126314400766 VALIDATION ACCURACY : 99.51923076923077\n",
      "--------------------------------------------------------------------------------------------\n",
      "Loss for EPOCH 9  TRAIN LOSS : 0.00360718922648199 TRAIN PREC : [1. 1.] RECALL : [1. 1.] F1 : [1. 1.] ACC : 100.0\n",
      "VALIDATION LOSS for EPOCH 9 : 0.015532126314400766 VALIDATION PREC : [0.99009901 1.        ] RECALL : [1.   0.99] F1 : [0.99502488 0.99497487]  ACC : 99.51923076923077\n",
      "---------------------------------------------------------------------------------------------\n",
      "---------------------------------------EPOCH 10-------------------------------------------\n",
      "LOSS for EPOCH 10 BATCH 0/38 TRAIN LOSS : 0.0011852248571813107 TRAIN ACCURACY : 100.0 VALIDATION LOSS : 0.01097817426153387 VALIDATION ACCURACY : 100.0\n",
      "LOSS for EPOCH 10 BATCH 19/38 TRAIN LOSS : 0.0006785694276914 TRAIN ACCURACY : 100.0 VALIDATION LOSS : 0.010756653657433791 VALIDATION ACCURACY : 99.51923076923077\n",
      "--------------------------------------------------------------------------------------------\n",
      "Loss for EPOCH 10  TRAIN LOSS : 0.002598467774652435 TRAIN PREC : [1. 1.] RECALL : [1. 1.] F1 : [1. 1.] ACC : 100.0\n",
      "VALIDATION LOSS for EPOCH 10 : 0.010756653657433791 VALIDATION PREC : [0.99502488 1.        ] RECALL : [1.    0.995] F1 : [0.99750623 0.99749373]  ACC : 99.51923076923077\n",
      "---------------------------------------------------------------------------------------------\n",
      "---------------------------------------EPOCH 11-------------------------------------------\n",
      "LOSS for EPOCH 11 BATCH 0/38 TRAIN LOSS : 0.00039659946924075484 TRAIN ACCURACY : 100.0 VALIDATION LOSS : 0.010452819204566857 VALIDATION ACCURACY : 99.51923076923077\n",
      "LOSS for EPOCH 11 BATCH 19/38 TRAIN LOSS : 0.0007033927831798792 TRAIN ACCURACY : 100.0 VALIDATION LOSS : 0.010099561906267459 VALIDATION ACCURACY : 100.0\n",
      "--------------------------------------------------------------------------------------------\n",
      "Loss for EPOCH 11  TRAIN LOSS : 0.002045978955912257 TRAIN PREC : [1. 1.] RECALL : [1. 1.] F1 : [1. 1.] ACC : 100.0\n",
      "VALIDATION LOSS for EPOCH 11 : 0.010099561906267459 VALIDATION PREC : [0.99502488 1.        ] RECALL : [1.    0.995] F1 : [0.99750623 0.99749373]  ACC : 100.0\n",
      "---------------------------------------------------------------------------------------------\n",
      "---------------------------------------EPOCH 12-------------------------------------------\n",
      "LOSS for EPOCH 12 BATCH 0/38 TRAIN LOSS : 0.0017171836225315928 TRAIN ACCURACY : 100.0 VALIDATION LOSS : 0.011009996437888522 VALIDATION ACCURACY : 99.51923076923077\n",
      "LOSS for EPOCH 12 BATCH 19/38 TRAIN LOSS : 0.004828371107578278 TRAIN ACCURACY : 100.0 VALIDATION LOSS : 0.012192347129502405 VALIDATION ACCURACY : 99.51923076923077\n",
      "--------------------------------------------------------------------------------------------\n",
      "Loss for EPOCH 12  TRAIN LOSS : 0.0017010665791244001 TRAIN PREC : [1. 1.] RECALL : [1. 1.] F1 : [1. 1.] ACC : 100.0\n",
      "VALIDATION LOSS for EPOCH 12 : 0.012192347129502405 VALIDATION PREC : [0.99009901 1.        ] RECALL : [1.   0.99] F1 : [0.99502488 0.99497487]  ACC : 99.51923076923077\n",
      "---------------------------------------------------------------------------------------------\n",
      "---------------------------------------EPOCH 13-------------------------------------------\n",
      "LOSS for EPOCH 13 BATCH 0/38 TRAIN LOSS : 0.0010505947284400463 TRAIN ACCURACY : 100.0 VALIDATION LOSS : 0.009632175583437156 VALIDATION ACCURACY : 100.0\n",
      "LOSS for EPOCH 13 BATCH 19/38 TRAIN LOSS : 0.0004111704765819013 TRAIN ACCURACY : 100.0 VALIDATION LOSS : 0.009728640855218355 VALIDATION ACCURACY : 99.51923076923077\n",
      "--------------------------------------------------------------------------------------------\n",
      "Loss for EPOCH 13  TRAIN LOSS : 0.0014659495523358743 TRAIN PREC : [1. 1.] RECALL : [1. 1.] F1 : [1. 1.] ACC : 100.0\n",
      "VALIDATION LOSS for EPOCH 13 : 0.009728640855218355 VALIDATION PREC : [0.99502488 1.        ] RECALL : [1.    0.995] F1 : [0.99750623 0.99749373]  ACC : 99.51923076923077\n",
      "---------------------------------------------------------------------------------------------\n",
      "---------------------------------------EPOCH 14-------------------------------------------\n",
      "LOSS for EPOCH 14 BATCH 0/38 TRAIN LOSS : 0.0008943054708652198 TRAIN ACCURACY : 100.0 VALIDATION LOSS : 0.008958682633629696 VALIDATION ACCURACY : 99.51923076923077\n",
      "LOSS for EPOCH 14 BATCH 19/38 TRAIN LOSS : 0.0006512920372188091 TRAIN ACCURACY : 100.0 VALIDATION LOSS : 0.00995390741333652 VALIDATION ACCURACY : 99.51923076923077\n",
      "--------------------------------------------------------------------------------------------\n",
      "Loss for EPOCH 14  TRAIN LOSS : 0.0012786952475404465 TRAIN PREC : [1. 1.] RECALL : [1. 1.] F1 : [1. 1.] ACC : 100.0\n",
      "VALIDATION LOSS for EPOCH 14 : 0.00995390741333652 VALIDATION PREC : [0.99009901 1.        ] RECALL : [1.   0.99] F1 : [0.99502488 0.99497487]  ACC : 99.51923076923077\n",
      "---------------------------------------------------------------------------------------------\n",
      "---------------------------------------EPOCH 15-------------------------------------------\n",
      "LOSS for EPOCH 15 BATCH 0/38 TRAIN LOSS : 0.0003753962810151279 TRAIN ACCURACY : 100.0 VALIDATION LOSS : 0.008822120736742644 VALIDATION ACCURACY : 99.51923076923077\n",
      "LOSS for EPOCH 15 BATCH 19/38 TRAIN LOSS : 0.0010787402279675007 TRAIN ACCURACY : 100.0 VALIDATION LOSS : 0.008635341436064873 VALIDATION ACCURACY : 99.51923076923077\n",
      "--------------------------------------------------------------------------------------------\n",
      "Loss for EPOCH 15  TRAIN LOSS : 0.0011015136704755652 TRAIN PREC : [1. 1.] RECALL : [1. 1.] F1 : [1. 1.] ACC : 100.0\n",
      "VALIDATION LOSS for EPOCH 15 : 0.008635341436064873 VALIDATION PREC : [0.99009901 1.        ] RECALL : [1.   0.99] F1 : [0.99502488 0.99497487]  ACC : 99.51923076923077\n",
      "---------------------------------------------------------------------------------------------\n",
      "---------------------------------------EPOCH 16-------------------------------------------\n",
      "LOSS for EPOCH 16 BATCH 0/38 TRAIN LOSS : 0.00017954135546460748 TRAIN ACCURACY : 100.0 VALIDATION LOSS : 0.008615768507857306 VALIDATION ACCURACY : 99.51923076923077\n",
      "LOSS for EPOCH 16 BATCH 19/38 TRAIN LOSS : 0.0007497707847505808 TRAIN ACCURACY : 100.0 VALIDATION LOSS : 0.008905865028142355 VALIDATION ACCURACY : 99.51923076923077\n",
      "--------------------------------------------------------------------------------------------\n",
      "Loss for EPOCH 16  TRAIN LOSS : 0.0010268335854083201 TRAIN PREC : [1. 1.] RECALL : [1. 1.] F1 : [1. 1.] ACC : 100.0\n",
      "VALIDATION LOSS for EPOCH 16 : 0.008905865028142355 VALIDATION PREC : [0.99009901 1.        ] RECALL : [1.   0.99] F1 : [0.99502488 0.99497487]  ACC : 99.51923076923077\n",
      "---------------------------------------------------------------------------------------------\n",
      "---------------------------------------EPOCH 17-------------------------------------------\n",
      "LOSS for EPOCH 17 BATCH 0/38 TRAIN LOSS : 0.0006276993663050234 TRAIN ACCURACY : 100.0 VALIDATION LOSS : 0.008539017044173446 VALIDATION ACCURACY : 99.51923076923077\n",
      "LOSS for EPOCH 17 BATCH 19/38 TRAIN LOSS : 0.00039267033571377397 TRAIN ACCURACY : 100.0 VALIDATION LOSS : 0.013092698400634198 VALIDATION ACCURACY : 99.03846153846153\n",
      "--------------------------------------------------------------------------------------------\n",
      "Loss for EPOCH 17  TRAIN LOSS : 0.00087533511855566 TRAIN PREC : [1. 1.] RECALL : [1. 1.] F1 : [1. 1.] ACC : 100.0\n",
      "VALIDATION LOSS for EPOCH 17 : 0.013092698400634198 VALIDATION PREC : [0.99009901 1.        ] RECALL : [1.   0.99] F1 : [0.99502488 0.99497487]  ACC : 99.03846153846153\n",
      "---------------------------------------------------------------------------------------------\n",
      "---------------------------------------EPOCH 18-------------------------------------------\n",
      "LOSS for EPOCH 18 BATCH 0/38 TRAIN LOSS : 0.0006515451241284609 TRAIN ACCURACY : 100.0 VALIDATION LOSS : 0.00822780700176596 VALIDATION ACCURACY : 99.51923076923077\n",
      "LOSS for EPOCH 18 BATCH 19/38 TRAIN LOSS : 0.0007946271216496825 TRAIN ACCURACY : 100.0 VALIDATION LOSS : 0.008998429608114887 VALIDATION ACCURACY : 99.51923076923077\n",
      "--------------------------------------------------------------------------------------------\n",
      "Loss for EPOCH 18  TRAIN LOSS : 0.000795087951892607 TRAIN PREC : [1. 1.] RECALL : [1. 1.] F1 : [1. 1.] ACC : 100.0\n",
      "VALIDATION LOSS for EPOCH 18 : 0.008998429608114887 VALIDATION PREC : [0.99009901 1.        ] RECALL : [1.   0.99] F1 : [0.99502488 0.99497487]  ACC : 99.51923076923077\n",
      "---------------------------------------------------------------------------------------------\n",
      "---------------------------------------EPOCH 19-------------------------------------------\n",
      "LOSS for EPOCH 19 BATCH 0/38 TRAIN LOSS : 0.000227051175897941 TRAIN ACCURACY : 100.0 VALIDATION LOSS : 0.007981187540840788 VALIDATION ACCURACY : 99.51923076923077\n",
      "LOSS for EPOCH 19 BATCH 19/38 TRAIN LOSS : 0.0012013301020488143 TRAIN ACCURACY : 100.0 VALIDATION LOSS : 0.008021864495486416 VALIDATION ACCURACY : 99.51923076923077\n",
      "--------------------------------------------------------------------------------------------\n",
      "Loss for EPOCH 19  TRAIN LOSS : 0.0007306250008696225 TRAIN PREC : [1. 1.] RECALL : [1. 1.] F1 : [1. 1.] ACC : 100.0\n",
      "VALIDATION LOSS for EPOCH 19 : 0.008021864495486416 VALIDATION PREC : [0.99009901 1.        ] RECALL : [1.   0.99] F1 : [0.99502488 0.99497487]  ACC : 99.51923076923077\n",
      "---------------------------------------------------------------------------------------------\n",
      "---------------------------------------EPOCH 20-------------------------------------------\n",
      "LOSS for EPOCH 20 BATCH 0/38 TRAIN LOSS : 0.0004045692621730268 TRAIN ACCURACY : 100.0 VALIDATION LOSS : 0.008661624759462519 VALIDATION ACCURACY : 99.51923076923077\n",
      "LOSS for EPOCH 20 BATCH 19/38 TRAIN LOSS : 0.0006945198401808739 TRAIN ACCURACY : 100.0 VALIDATION LOSS : 0.007644688385950688 VALIDATION ACCURACY : 99.51923076923077\n",
      "--------------------------------------------------------------------------------------------\n",
      "Loss for EPOCH 20  TRAIN LOSS : 0.0006679570195908463 TRAIN PREC : [1. 1.] RECALL : [1. 1.] F1 : [1. 1.] ACC : 100.0\n",
      "VALIDATION LOSS for EPOCH 20 : 0.007644688385950688 VALIDATION PREC : [0.99009901 1.        ] RECALL : [1.   0.99] F1 : [0.99502488 0.99497487]  ACC : 99.51923076923077\n",
      "---------------------------------------------------------------------------------------------\n",
      "---------------------------------------EPOCH 21-------------------------------------------\n",
      "LOSS for EPOCH 21 BATCH 0/38 TRAIN LOSS : 0.0002025478461291641 TRAIN ACCURACY : 100.0 VALIDATION LOSS : 0.007555369919058508 VALIDATION ACCURACY : 99.51923076923077\n",
      "LOSS for EPOCH 21 BATCH 19/38 TRAIN LOSS : 0.00021981015743222088 TRAIN ACCURACY : 100.0 VALIDATION LOSS : 0.007149703698255157 VALIDATION ACCURACY : 100.0\n",
      "--------------------------------------------------------------------------------------------\n",
      "Loss for EPOCH 21  TRAIN LOSS : 0.0006330688051285075 TRAIN PREC : [1. 1.] RECALL : [1. 1.] F1 : [1. 1.] ACC : 100.0\n",
      "VALIDATION LOSS for EPOCH 21 : 0.007149703698255157 VALIDATION PREC : [0.99502488 1.        ] RECALL : [1.    0.995] F1 : [0.99750623 0.99749373]  ACC : 100.0\n",
      "---------------------------------------------------------------------------------------------\n",
      "---------------------------------------EPOCH 22-------------------------------------------\n",
      "LOSS for EPOCH 22 BATCH 0/38 TRAIN LOSS : 0.00018039127462543547 TRAIN ACCURACY : 100.0 VALIDATION LOSS : 0.0076275920078982245 VALIDATION ACCURACY : 99.51923076923077\n",
      "LOSS for EPOCH 22 BATCH 19/38 TRAIN LOSS : 0.000355340976966545 TRAIN ACCURACY : 100.0 VALIDATION LOSS : 0.007126195160638487 VALIDATION ACCURACY : 100.0\n",
      "--------------------------------------------------------------------------------------------\n",
      "Loss for EPOCH 22  TRAIN LOSS : 0.0005901106663881556 TRAIN PREC : [1. 1.] RECALL : [1. 1.] F1 : [1. 1.] ACC : 100.0\n",
      "VALIDATION LOSS for EPOCH 22 : 0.007126195160638487 VALIDATION PREC : [0.99502488 1.        ] RECALL : [1.    0.995] F1 : [0.99750623 0.99749373]  ACC : 100.0\n",
      "---------------------------------------------------------------------------------------------\n",
      "---------------------------------------EPOCH 23-------------------------------------------\n",
      "LOSS for EPOCH 23 BATCH 0/38 TRAIN LOSS : 0.000466660363599658 TRAIN ACCURACY : 100.0 VALIDATION LOSS : 0.007412601275763546 VALIDATION ACCURACY : 99.51923076923077\n",
      "LOSS for EPOCH 23 BATCH 19/38 TRAIN LOSS : 0.0004897837643511593 TRAIN ACCURACY : 100.0 VALIDATION LOSS : 0.00739465421989175 VALIDATION ACCURACY : 100.0\n",
      "--------------------------------------------------------------------------------------------\n",
      "Loss for EPOCH 23  TRAIN LOSS : 0.0005352265911106338 TRAIN PREC : [1. 1.] RECALL : [1. 1.] F1 : [1. 1.] ACC : 100.0\n",
      "VALIDATION LOSS for EPOCH 23 : 0.00739465421989175 VALIDATION PREC : [0.99502488 1.        ] RECALL : [1.    0.995] F1 : [0.99750623 0.99749373]  ACC : 100.0\n",
      "---------------------------------------------------------------------------------------------\n",
      "---------------------------------------EPOCH 24-------------------------------------------\n",
      "LOSS for EPOCH 24 BATCH 0/38 TRAIN LOSS : 0.0001852663845056668 TRAIN ACCURACY : 100.0 VALIDATION LOSS : 0.007843762462960932 VALIDATION ACCURACY : 99.51923076923077\n",
      "LOSS for EPOCH 24 BATCH 19/38 TRAIN LOSS : 0.0002012597833527252 TRAIN ACCURACY : 100.0 VALIDATION LOSS : 0.007022471569003896 VALIDATION ACCURACY : 100.0\n",
      "--------------------------------------------------------------------------------------------\n",
      "Loss for EPOCH 24  TRAIN LOSS : 0.0005260664800420942 TRAIN PREC : [1. 1.] RECALL : [1. 1.] F1 : [1. 1.] ACC : 100.0\n",
      "VALIDATION LOSS for EPOCH 24 : 0.007022471569003896 VALIDATION PREC : [0.99502488 1.        ] RECALL : [1.    0.995] F1 : [0.99750623 0.99749373]  ACC : 100.0\n",
      "---------------------------------------------------------------------------------------------\n",
      "---------------------------------------EPOCH 25-------------------------------------------\n",
      "LOSS for EPOCH 25 BATCH 0/38 TRAIN LOSS : 0.0006818245747126639 TRAIN ACCURACY : 100.0 VALIDATION LOSS : 0.006828107570842034 VALIDATION ACCURACY : 100.0\n",
      "LOSS for EPOCH 25 BATCH 19/38 TRAIN LOSS : 0.00023199623683467507 TRAIN ACCURACY : 100.0 VALIDATION LOSS : 0.00698374066380963 VALIDATION ACCURACY : 99.51923076923077\n",
      "--------------------------------------------------------------------------------------------\n",
      "Loss for EPOCH 25  TRAIN LOSS : 0.00047141759511616426 TRAIN PREC : [1. 1.] RECALL : [1. 1.] F1 : [1. 1.] ACC : 100.0\n",
      "VALIDATION LOSS for EPOCH 25 : 0.00698374066380963 VALIDATION PREC : [0.99502488 1.        ] RECALL : [1.    0.995] F1 : [0.99750623 0.99749373]  ACC : 99.51923076923077\n",
      "---------------------------------------------------------------------------------------------\n",
      "---------------------------------------EPOCH 26-------------------------------------------\n",
      "LOSS for EPOCH 26 BATCH 0/38 TRAIN LOSS : 0.0005946058663539588 TRAIN ACCURACY : 100.0 VALIDATION LOSS : 0.00710178301121162 VALIDATION ACCURACY : 100.0\n",
      "LOSS for EPOCH 26 BATCH 19/38 TRAIN LOSS : 0.0016322878655046225 TRAIN ACCURACY : 100.0 VALIDATION LOSS : 0.009772762095403427 VALIDATION ACCURACY : 100.0\n",
      "--------------------------------------------------------------------------------------------\n",
      "Loss for EPOCH 26  TRAIN LOSS : 0.00045472085510386693 TRAIN PREC : [1. 1.] RECALL : [1. 1.] F1 : [1. 1.] ACC : 100.0\n",
      "VALIDATION LOSS for EPOCH 26 : 0.009772762095403427 VALIDATION PREC : [1. 1.] RECALL : [1. 1.] F1 : [1. 1.]  ACC : 100.0\n",
      "---------------------------------------------------------------------------------------------\n",
      "---------------------------------------EPOCH 27-------------------------------------------\n",
      "LOSS for EPOCH 27 BATCH 0/38 TRAIN LOSS : 0.0009107364458031952 TRAIN ACCURACY : 100.0 VALIDATION LOSS : 0.006890584445500281 VALIDATION ACCURACY : 100.0\n",
      "LOSS for EPOCH 27 BATCH 19/38 TRAIN LOSS : 0.0005086463061161339 TRAIN ACCURACY : 100.0 VALIDATION LOSS : 0.006711529028297474 VALIDATION ACCURACY : 100.0\n",
      "--------------------------------------------------------------------------------------------\n",
      "Loss for EPOCH 27  TRAIN LOSS : 0.0004257877287608081 TRAIN PREC : [1. 1.] RECALL : [1. 1.] F1 : [1. 1.] ACC : 100.0\n",
      "VALIDATION LOSS for EPOCH 27 : 0.006711529028297474 VALIDATION PREC : [1. 1.] RECALL : [1. 1.] F1 : [1. 1.]  ACC : 100.0\n",
      "---------------------------------------------------------------------------------------------\n",
      "---------------------------------------EPOCH 28-------------------------------------------\n",
      "LOSS for EPOCH 28 BATCH 0/38 TRAIN LOSS : 7.620572432642803e-05 TRAIN ACCURACY : 100.0 VALIDATION LOSS : 0.006689746389523721 VALIDATION ACCURACY : 100.0\n",
      "LOSS for EPOCH 28 BATCH 19/38 TRAIN LOSS : 0.0002845792914740741 TRAIN ACCURACY : 100.0 VALIDATION LOSS : 0.006829374023884436 VALIDATION ACCURACY : 100.0\n",
      "--------------------------------------------------------------------------------------------\n",
      "Loss for EPOCH 28  TRAIN LOSS : 0.0004142740395572649 TRAIN PREC : [1. 1.] RECALL : [1. 1.] F1 : [1. 1.] ACC : 100.0\n",
      "VALIDATION LOSS for EPOCH 28 : 0.006829374023884436 VALIDATION PREC : [1. 1.] RECALL : [1. 1.] F1 : [1. 1.]  ACC : 100.0\n",
      "---------------------------------------------------------------------------------------------\n",
      "---------------------------------------EPOCH 29-------------------------------------------\n",
      "LOSS for EPOCH 29 BATCH 0/38 TRAIN LOSS : 0.0011418932117521763 TRAIN ACCURACY : 100.0 VALIDATION LOSS : 0.006472675179023868 VALIDATION ACCURACY : 100.0\n",
      "LOSS for EPOCH 29 BATCH 19/38 TRAIN LOSS : 0.0002446174621582031 TRAIN ACCURACY : 100.0 VALIDATION LOSS : 0.006829885544832975 VALIDATION ACCURACY : 100.0\n",
      "--------------------------------------------------------------------------------------------\n",
      "Loss for EPOCH 29  TRAIN LOSS : 0.00039564787584822625 TRAIN PREC : [1. 1.] RECALL : [1. 1.] F1 : [1. 1.] ACC : 100.0\n",
      "VALIDATION LOSS for EPOCH 29 : 0.006829885544832975 VALIDATION PREC : [1. 1.] RECALL : [1. 1.] F1 : [1. 1.]  ACC : 100.0\n",
      "---------------------------------------------------------------------------------------------\n",
      "---------------------------------------EPOCH 30-------------------------------------------\n",
      "LOSS for EPOCH 30 BATCH 0/38 TRAIN LOSS : 0.00015945143240969628 TRAIN ACCURACY : 100.0 VALIDATION LOSS : 0.007309728055798377 VALIDATION ACCURACY : 100.0\n",
      "LOSS for EPOCH 30 BATCH 19/38 TRAIN LOSS : 0.0006980199832469225 TRAIN ACCURACY : 100.0 VALIDATION LOSS : 0.0066456968404684 VALIDATION ACCURACY : 100.0\n",
      "--------------------------------------------------------------------------------------------\n",
      "Loss for EPOCH 30  TRAIN LOSS : 0.0003917378067662388 TRAIN PREC : [1. 1.] RECALL : [1. 1.] F1 : [1. 1.] ACC : 100.0\n",
      "VALIDATION LOSS for EPOCH 30 : 0.0066456968404684 VALIDATION PREC : [1. 1.] RECALL : [1. 1.] F1 : [1. 1.]  ACC : 100.0\n",
      "---------------------------------------------------------------------------------------------\n"
     ]
    }
   ],
   "source": [
    "from sklearn.metrics import precision_recall_fscore_support\n",
    "\n",
    "best_val_acc = 0\n",
    "\n",
    "for e in range(epoch):\n",
    "    print(f'---------------------------------------EPOCH {e+1}-------------------------------------------')\n",
    "    y_all_train_true = []\n",
    "    y_all_train_pred = []\n",
    "    y_all_val_true = []\n",
    "    y_all_val_pred = []\n",
    "    \n",
    "    for batch_idx , (x ,y) in enumerate(train_dataloader):\n",
    "        model.train() # Setting mode to train\n",
    "        optimizer.zero_grad()\n",
    "        x , y = x.to(device) , y.to(device)\n",
    "        y_pred = model(x).to(device)\n",
    "        \n",
    "        y_all_train_true+=y.cpu().detach().view(-1,).tolist()\n",
    "        y_all_train_pred+=torch.argmax(y_pred, dim=1).detach().tolist()\n",
    "        \n",
    "        # Calculating Loss\n",
    "        loss = criterion(y_pred,y.reshape(x.shape[0]))\n",
    "        loss.backward()\n",
    "        nn.utils.clip_grad_norm_(model.parameters(), 3)\n",
    "        optimizer.step()\n",
    "        loss_history[0].append(float(loss.detach()))\n",
    "        \n",
    "        #Calaculating Accuracy\n",
    "        correct = 0\n",
    "        y_pred = y_pred.cpu().detach().numpy().tolist()\n",
    "        y = y.cpu().detach().numpy().tolist()\n",
    "        for i in range(x.shape[0]):\n",
    "            n = 0\n",
    "            n = y_pred[i].index(max(y_pred[i]))\n",
    "            if n == y[i][0]:\n",
    "                correct = correct + 1\n",
    "        accuracy_history[0].append((correct/x.shape[0])*100)\n",
    "        \n",
    "        if batch_idx % (len(train_dataloader)//2) == 0:\n",
    "            # Printing Log\n",
    "            print(f'LOSS for EPOCH {e+1} BATCH {batch_idx}/{train_n_minibatches} TRAIN LOSS : {loss_history[0][-1]}',end = ' ')\n",
    "            print(f'TRAIN ACCURACY : {accuracy_history[0][-1]}',end = ' ')\n",
    "            with torch.no_grad():\n",
    "                # Calculating loss and accuracy for validation\n",
    "                model.eval()\n",
    "                for _batch_idx_ , (x ,y) in enumerate(validation_dataloader):\n",
    "                    x , y = x.to(device) , y.to(device)\n",
    "                    y_pred = model(x).to(device)\n",
    "                    \n",
    "                    y_all_val_true+=y.cpu().detach().view(-1,).tolist()\n",
    "                    y_all_val_pred+=torch.argmax(y_pred, dim=1).detach().tolist()\n",
    "                    \n",
    "                    validation_loss = criterion(y_pred,y.reshape(x.shape[0]))\n",
    "                    loss_history[1].append(float(validation_loss.detach()))\n",
    "                    \n",
    "                    correct = 0\n",
    "                    y_pred = y_pred.cpu().detach().numpy().tolist()\n",
    "                    y = y.cpu().detach().numpy().tolist()      \n",
    "                    for i in range(x.shape[0]):\n",
    "                        n = 0\n",
    "                        n = y_pred[i].index(max(y_pred[i]))\n",
    "                        if n == y[i][0]:\n",
    "                            correct = correct + 1\n",
    "                    accuracy_history[1].append((correct/x.shape[0])*100)\n",
    "                        \n",
    "                    \n",
    "                print(f'VALIDATION LOSS : {sum(loss_history[1][-1:-validation_n_minibatches-1:-1])/validation_n_minibatches}',end = ' ')\n",
    "                print(f'VALIDATION ACCURACY : {sum(accuracy_history[1][-1:-validation_n_minibatches-1:-1])/validation_n_minibatches}')\n",
    "    \n",
    "    # Saving the model progress\n",
    "    torch.save(model.state_dict(),model_name)\n",
    "    \n",
    "    results[0].append(precision_recall_fscore_support(y_all_train_true,y_all_train_pred))\n",
    "    results[1].append(precision_recall_fscore_support(y_all_val_true,y_all_val_pred))\n",
    "    \n",
    "    x = sum(accuracy_history[1][-1:-1*validation_n_minibatches-1:-1])/validation_n_minibatches\n",
    "    if x>best_val_acc:\n",
    "        best_val_acc = x\n",
    "        torch.save(model.state_dict(),'vit_best')\n",
    "    #Log for e+1th epoch\n",
    "    print(f'--------------------------------------------------------------------------------------------')\n",
    "    print(f'Loss for EPOCH {e+1}  TRAIN LOSS : {sum(loss_history[0][-1:-train_n_minibatches-1:-1])/train_n_minibatches}',end = ' ')\n",
    "    print(f'TRAIN PREC : {results[0][-1][0]} RECALL : {results[0][-1][1]} F1 : {results[0][-1][2]}',end=\" \")\n",
    "    print(f'ACC : {sum(accuracy_history[0][-1:-train_n_minibatches-1:-1])/train_n_minibatches}')\n",
    "    print(f'VALIDATION LOSS for EPOCH {e+1} : {sum(loss_history[1][-1:-1*validation_n_minibatches-1:-1])/validation_n_minibatches}',end = ' ')\n",
    "    print(f'VALIDATION PREC : {results[1][-1][0]} RECALL : {results[1][-1][1]} F1 : {results[1][-1][2]}',end=\" \")\n",
    "    print(f' ACC : {sum(accuracy_history[1][-1:-1*validation_n_minibatches-1:-1])/validation_n_minibatches}')\n",
    "\n",
    "    # if int(sum(accuracy_history[1][-1:-1*validation_n_minibatches-1:-1])/validation_n_minibatches) == 100:\n",
    "    #     break\n",
    "    print('---------------------------------------------------------------------------------------------')"
   ]
  },
  {
   "cell_type": "markdown",
   "id": "3b2f5f5c",
   "metadata": {
    "papermill": {
     "duration": 0.013329,
     "end_time": "2023-01-14T06:47:13.823455",
     "exception": false,
     "start_time": "2023-01-14T06:47:13.810126",
     "status": "completed"
    },
    "tags": []
   },
   "source": [
    "### 5.Plotting results <a class=\"anchor\" id=\"4\"></a>"
   ]
  },
  {
   "cell_type": "markdown",
   "id": "8abe608f",
   "metadata": {
    "papermill": {
     "duration": 0.013237,
     "end_time": "2023-01-14T06:47:13.850348",
     "exception": false,
     "start_time": "2023-01-14T06:47:13.837111",
     "status": "completed"
    },
    "tags": []
   },
   "source": [
    "#### 1.Plotting Loss vs MiniBatch<a class=\"anchor\" id=\"5.1\"></a>"
   ]
  },
  {
   "cell_type": "code",
   "execution_count": 10,
   "id": "009a170d",
   "metadata": {
    "execution": {
     "iopub.execute_input": "2023-01-14T06:47:13.878363Z",
     "iopub.status.busy": "2023-01-14T06:47:13.878071Z",
     "iopub.status.idle": "2023-01-14T06:47:14.263402Z",
     "shell.execute_reply": "2023-01-14T06:47:14.262483Z"
    },
    "papermill": {
     "duration": 0.401803,
     "end_time": "2023-01-14T06:47:14.265672",
     "exception": false,
     "start_time": "2023-01-14T06:47:13.863869",
     "status": "completed"
    },
    "tags": []
   },
   "outputs": [
    {
     "data": {
      "image/png": "[encoded data removed]",
      "text/plain": [
       "<Figure size 720x720 with 1 Axes>"
      ]
     },
     "metadata": {},
     "output_type": "display_data"
    }
   ],
   "source": [
    "sns.lineplot(x=range(len(loss_history[1])),y=loss_history[0][::len(loss_history[0])//len(loss_history[1])][:len(loss_history[1])])\n",
    "sns.lineplot(x=range(len(loss_history[1])),y=loss_history[1])\n",
    "\n",
    "plt.legend(loc='lower right', labels=['train', 'val'])\n",
    "plt.title(\"Loss vs MiniBatch\")\n",
    "plt.xlabel('MiniBatches')\n",
    "plt.ylabel('Loss')\n",
    "\n",
    "\n",
    "plt.show()\n"
   ]
  },
  {
   "cell_type": "markdown",
   "id": "2cfb419e",
   "metadata": {
    "papermill": {
     "duration": 0.013481,
     "end_time": "2023-01-14T06:47:14.293330",
     "exception": false,
     "start_time": "2023-01-14T06:47:14.279849",
     "status": "completed"
    },
    "tags": []
   },
   "source": [
    "#### 2.Plotting Accuracy vs MiniBatch<a class=\"anchor\" id=\"5.2\"></a>"
   ]
  },
  {
   "cell_type": "code",
   "execution_count": 11,
   "id": "d3b029fe",
   "metadata": {
    "execution": {
     "iopub.execute_input": "2023-01-14T06:47:14.323437Z",
     "iopub.status.busy": "2023-01-14T06:47:14.321833Z",
     "iopub.status.idle": "2023-01-14T06:47:14.684565Z",
     "shell.execute_reply": "2023-01-14T06:47:14.683653Z"
    },
    "papermill": {
     "duration": 0.379756,
     "end_time": "2023-01-14T06:47:14.686688",
     "exception": false,
     "start_time": "2023-01-14T06:47:14.306932",
     "status": "completed"
    },
    "tags": []
   },
   "outputs": [
    {
     "data": {
      "image/png": "[encoded data removed]",
      "text/plain": [
       "<Figure size 720x720 with 1 Axes>"
      ]
     },
     "metadata": {},
     "output_type": "display_data"
    }
   ],
   "source": [
    "sns.lineplot(x=range(len(accuracy_history[1])),y=accuracy_history[0][::len(accuracy_history[0])//len(accuracy_history[1])][:len(accuracy_history[1])])\n",
    "sns.lineplot(x=range(len(accuracy_history[1])),y=accuracy_history[1])\n",
    "\n",
    "plt.legend(loc='lower right', labels=['train', 'val'])\n",
    "plt.title(\"Accuracy vs MiniBatch\")\n",
    "plt.xlabel('MiniBatches')\n",
    "plt.ylabel('Accuracy')\n",
    "\n",
    "plt.show()\n"
   ]
  },
  {
   "cell_type": "markdown",
   "id": "ee1c87d9",
   "metadata": {
    "papermill": {
     "duration": 0.01587,
     "end_time": "2023-01-14T06:47:14.718216",
     "exception": false,
     "start_time": "2023-01-14T06:47:14.702346",
     "status": "completed"
    },
    "tags": []
   },
   "source": [
    "#### 3.Plotting Loss vs Epoch<a class=\"anchor\" id=\"5.3\"></a>"
   ]
  },
  {
   "cell_type": "code",
   "execution_count": 12,
   "id": "4afd67f8",
   "metadata": {
    "execution": {
     "iopub.execute_input": "2023-01-14T06:47:14.751048Z",
     "iopub.status.busy": "2023-01-14T06:47:14.750743Z",
     "iopub.status.idle": "2023-01-14T06:47:15.062353Z",
     "shell.execute_reply": "2023-01-14T06:47:15.061368Z"
    },
    "papermill": {
     "duration": 0.33001,
     "end_time": "2023-01-14T06:47:15.064521",
     "exception": false,
     "start_time": "2023-01-14T06:47:14.734511",
     "status": "completed"
    },
    "tags": []
   },
   "outputs": [
    {
     "data": {
      "image/png": "[encoded data removed]",
      "text/plain": [
       "<Figure size 720x720 with 1 Axes>"
      ]
     },
     "metadata": {},
     "output_type": "display_data"
    }
   ],
   "source": [
    "# Plotting Loss per epoch\n",
    "loss_per_epoch = [[],[]]\n",
    "for i in range(epoch):\n",
    "    temp = 0\n",
    "    for j in loss_history[0][i*train_n_minibatches:(i+1)*train_n_minibatches]:\n",
    "        temp = temp + j\n",
    "    loss_per_epoch[0].append(temp/train_n_minibatches)\n",
    "    temp = 0\n",
    "    for j in loss_history[1][i*validation_n_minibatches:(i+1)*validation_n_minibatches]:\n",
    "        temp = temp + j\n",
    "    loss_per_epoch[1].append(temp/validation_n_minibatches)    \n",
    "\n",
    "sns.lineplot(x=range(len(loss_per_epoch[0])),y=loss_per_epoch[0])\n",
    "sns.lineplot(x=range(len(loss_per_epoch[1])),y=loss_per_epoch[1])\n",
    "\n",
    "plt.legend(loc='lower right', labels=['train', 'val'])\n",
    "plt.title(\"Loss vs Epoch\")\n",
    "plt.xlabel('Epochs')\n",
    "plt.ylabel('Loss')\n",
    "\n",
    "\n",
    "plt.show()"
   ]
  },
  {
   "cell_type": "markdown",
   "id": "c47da6d1",
   "metadata": {
    "papermill": {
     "duration": 0.014934,
     "end_time": "2023-01-14T06:47:15.095028",
     "exception": false,
     "start_time": "2023-01-14T06:47:15.080094",
     "status": "completed"
    },
    "tags": []
   },
   "source": [
    "#### 4.Plotting Accuracy vs Epoch<a class=\"anchor\" id=\"5.4\"></a>"
   ]
  },
  {
   "cell_type": "code",
   "execution_count": 13,
   "id": "82df303f",
   "metadata": {
    "execution": {
     "iopub.execute_input": "2023-01-14T06:47:15.126123Z",
     "iopub.status.busy": "2023-01-14T06:47:15.125701Z",
     "iopub.status.idle": "2023-01-14T06:47:15.423637Z",
     "shell.execute_reply": "2023-01-14T06:47:15.422756Z"
    },
    "papermill": {
     "duration": 0.316015,
     "end_time": "2023-01-14T06:47:15.425764",
     "exception": false,
     "start_time": "2023-01-14T06:47:15.109749",
     "status": "completed"
    },
    "tags": []
   },
   "outputs": [
    {
     "data": {
      "image/png": "[encoded data removed]",
      "text/plain": [
       "<Figure size 720x720 with 1 Axes>"
      ]
     },
     "metadata": {},
     "output_type": "display_data"
    }
   ],
   "source": [
    "# Plotting Accuracy per epoch\n",
    "accuracy_per_epoch = [[],[]]\n",
    "for i in range(epoch):\n",
    "    temp = 0\n",
    "    for j in accuracy_history[0][i*train_n_minibatches:(i+1)*train_n_minibatches]:\n",
    "        temp = temp + j\n",
    "    accuracy_per_epoch[0].append(temp/train_n_minibatches)\n",
    "    temp = 0\n",
    "    for j in accuracy_history[1][i*validation_n_minibatches:(i+1)*validation_n_minibatches]:\n",
    "        temp = temp + j\n",
    "    accuracy_per_epoch[1].append(temp/validation_n_minibatches)    \n",
    "\n",
    "sns.lineplot(x=range(len(accuracy_per_epoch[0])),y=accuracy_per_epoch[0])\n",
    "sns.lineplot(x=range(len(accuracy_per_epoch[1])),y=accuracy_per_epoch[1])\n",
    "\n",
    "plt.legend(loc='lower right', labels=['train', 'val'])\n",
    "plt.title(\"Accuracy vs Epoch\")\n",
    "plt.xlabel('Epochs')\n",
    "plt.ylabel('Accuracy')\n",
    "\n",
    "plt.show()"
   ]
  },
  {
   "cell_type": "markdown",
   "id": "bd46263f",
   "metadata": {
    "papermill": {
     "duration": 0.014849,
     "end_time": "2023-01-14T06:47:15.456151",
     "exception": false,
     "start_time": "2023-01-14T06:47:15.441302",
     "status": "completed"
    },
    "tags": []
   },
   "source": [
    "#### 5.Plotting F1Score vs Epoch<a class=\"anchor\" id=\"5.4\"></a>"
   ]
  },
  {
   "cell_type": "code",
   "execution_count": 14,
   "id": "0b20fd1c",
   "metadata": {
    "execution": {
     "iopub.execute_input": "2023-01-14T06:47:15.487328Z",
     "iopub.status.busy": "2023-01-14T06:47:15.487037Z",
     "iopub.status.idle": "2023-01-14T06:47:15.832648Z",
     "shell.execute_reply": "2023-01-14T06:47:15.831745Z"
    },
    "papermill": {
     "duration": 0.363921,
     "end_time": "2023-01-14T06:47:15.835068",
     "exception": false,
     "start_time": "2023-01-14T06:47:15.471147",
     "status": "completed"
    },
    "tags": []
   },
   "outputs": [
    {
     "data": {
      "image/png": "[encoded data removed]",
      "text/plain": [
       "<Figure size 720x720 with 1 Axes>"
      ]
     },
     "metadata": {},
     "output_type": "display_data"
    }
   ],
   "source": [
    "labels = {0:'Positive',\n",
    "1:'Negative'}\n",
    "\n",
    "legend = []\n",
    "\n",
    "\n",
    "\n",
    "for j in range(2):\n",
    "    sns.lineplot(x=range(len(results[0])),y=[results[0][i][2][j] for i in range(len(results[0]))])\n",
    "    sns.lineplot(x=range(len(results[1])),y=[results[1][i][2][j] for i in range(len(results[1]))])\n",
    "    legend+=[labels[j]+'train', labels[j]+'val']\n",
    "\n",
    "\n",
    "\n",
    "plt.legend(loc='lower right', labels=legend)\n",
    "plt.title(\"F1 Score vs Epoch\")\n",
    "plt.xlabel('Epochs')\n",
    "plt.ylabel('F1 Score')\n",
    "\n",
    "\n",
    "plt.show()"
   ]
  },
  {
   "cell_type": "markdown",
   "id": "da87731d",
   "metadata": {
    "papermill": {
     "duration": 0.015411,
     "end_time": "2023-01-14T06:47:15.866592",
     "exception": false,
     "start_time": "2023-01-14T06:47:15.851181",
     "status": "completed"
    },
    "tags": []
   },
   "source": [
    "#### 6.Plotting Recall vs Epoch<a class=\"anchor\" id=\"5.4\"></a>"
   ]
  },
  {
   "cell_type": "code",
   "execution_count": 15,
   "id": "4b2be3f5",
   "metadata": {
    "execution": {
     "iopub.execute_input": "2023-01-14T06:47:15.916999Z",
     "iopub.status.busy": "2023-01-14T06:47:15.916658Z",
     "iopub.status.idle": "2023-01-14T06:47:16.382285Z",
     "shell.execute_reply": "2023-01-14T06:47:16.381365Z"
    },
    "papermill": {
     "duration": 0.499828,
     "end_time": "2023-01-14T06:47:16.384961",
     "exception": false,
     "start_time": "2023-01-14T06:47:15.885133",
     "status": "completed"
    },
    "tags": []
   },
   "outputs": [
    {
     "data": {
      "image/png": "[encoded data removed]",
      "text/plain": [
       "<Figure size 720x720 with 1 Axes>"
      ]
     },
     "metadata": {},
     "output_type": "display_data"
    }
   ],
   "source": [
    "for j in range(2):\n",
    "    sns.lineplot(x=range(len(results[0])),y=[results[0][i][1][j] for i in range(len(results[0]))])\n",
    "    sns.lineplot(x=range(len(results[1])),y=[results[1][i][1][j] for i in range(len(results[1]))])\n",
    "\n",
    "\n",
    "plt.legend(loc='lower right', labels=legend)\n",
    "plt.title(\"Recall vs Epoch\")\n",
    "plt.xlabel('Epochs')\n",
    "plt.ylabel('Recall Score')\n",
    "\n",
    "\n",
    "plt.show()"
   ]
  },
  {
   "cell_type": "markdown",
   "id": "f297b1fa",
   "metadata": {
    "papermill": {
     "duration": 0.02346,
     "end_time": "2023-01-14T06:47:16.433292",
     "exception": false,
     "start_time": "2023-01-14T06:47:16.409832",
     "status": "completed"
    },
    "tags": []
   },
   "source": [
    "#### 6.Plotting Precision vs Epoch<a class=\"anchor\" id=\"5.4\"></a>"
   ]
  },
  {
   "cell_type": "code",
   "execution_count": 16,
   "id": "1475aed4",
   "metadata": {
    "execution": {
     "iopub.execute_input": "2023-01-14T06:47:16.482069Z",
     "iopub.status.busy": "2023-01-14T06:47:16.481601Z",
     "iopub.status.idle": "2023-01-14T06:47:16.963762Z",
     "shell.execute_reply": "2023-01-14T06:47:16.962548Z"
    },
    "papermill": {
     "duration": 0.509784,
     "end_time": "2023-01-14T06:47:16.966753",
     "exception": false,
     "start_time": "2023-01-14T06:47:16.456969",
     "status": "completed"
    },
    "tags": []
   },
   "outputs": [
    {
     "data": {
      "image/png": "[encoded data removed]",
      "text/plain": [
       "<Figure size 720x720 with 1 Axes>"
      ]
     },
     "metadata": {},
     "output_type": "display_data"
    }
   ],
   "source": [
    "for j in range(2):\n",
    "    sns.lineplot(x=range(len(results[0])),y=[results[0][i][0][j] for i in range(len(results[0]))])\n",
    "    sns.lineplot(x=range(len(results[1])),y=[results[1][i][0][j] for i in range(len(results[1]))])\n",
    "\n",
    "\n",
    "plt.legend(loc='lower right', labels=legend)\n",
    "plt.title(\"Precision vs Epoch\")\n",
    "plt.xlabel('Epochs')\n",
    "plt.ylabel('Precision Score')\n",
    "\n",
    "\n",
    "plt.show()"
   ]
  },
  {
   "cell_type": "markdown",
   "id": "cf9bcfe1",
   "metadata": {
    "papermill": {
     "duration": 0.027019,
     "end_time": "2023-01-14T06:47:17.022120",
     "exception": false,
     "start_time": "2023-01-14T06:47:16.995101",
     "status": "completed"
    },
    "tags": []
   },
   "source": [
    "### 6.Testing <a class=\"anchor\" id=\"6\"></a>"
   ]
  },
  {
   "cell_type": "code",
   "execution_count": 10,
   "id": "706f4d41",
   "metadata": {},
   "outputs": [
    {
     "data": {
      "text/plain": [
       "<All keys matched successfully>"
      ]
     },
     "execution_count": 10,
     "metadata": {},
     "output_type": "execute_result"
    }
   ],
   "source": [
    "model.load_state_dict(torch.load(\"vit\", map_location='cuda'))"
   ]
  },
  {
   "cell_type": "code",
   "execution_count": 11,
   "id": "32c55c83",
   "metadata": {
    "execution": {
     "iopub.execute_input": "2023-01-14T06:47:17.077859Z",
     "iopub.status.busy": "2023-01-14T06:47:17.077343Z",
     "iopub.status.idle": "2023-01-14T06:47:18.359234Z",
     "shell.execute_reply": "2023-01-14T06:47:18.358048Z"
    },
    "papermill": {
     "duration": 1.312669,
     "end_time": "2023-01-14T06:47:18.361893",
     "exception": false,
     "start_time": "2023-01-14T06:47:17.049224",
     "status": "completed"
    },
    "tags": []
   },
   "outputs": [
    {
     "name": "stdout",
     "output_type": "stream",
     "text": [
      "LOSS : 0.008621435415429564  ACCURACY : 100.0\n",
      "TEST PREC: [1. 1.] RECALL: [1. 1.] F1 SCORE: [1. 1.] SUPPORT: [100 100]\n"
     ]
    }
   ],
   "source": [
    "y_all_true = []\n",
    "y_all_pred = []\n",
    "test_loss_history = []\n",
    "test_accuracy_history = []\n",
    "from sklearn.metrics import precision_recall_fscore_support\n",
    "\n",
    "\n",
    "model.eval()\n",
    "for _batch_idx_ , (x ,y) in enumerate(test_dataloader):\n",
    "    x , y = x.to(device) , y.to(device)\n",
    "    y_pred = model(x)\n",
    "    test_loss = criterion(y_pred,y.reshape(x.shape[0]))\n",
    "    test_loss_history.append(float(test_loss.detach()))\n",
    "    correct = 0\n",
    "    y_all_true+=y.cpu().detach().view(-1,).tolist()\n",
    "    y_all_pred+=torch.argmax(y_pred, dim=1).detach().tolist()\n",
    "    y_pred = y_pred.cpu().detach().numpy().tolist()\n",
    "    y = y.cpu().detach().numpy().tolist()      \n",
    "    for i in range(x.shape[0]):\n",
    "        n = 0\n",
    "        n = y_pred[i].index(max(y_pred[i]))\n",
    "        if n == y[i][0]:\n",
    "            correct = correct + 1\n",
    "    test_accuracy_history.append((correct/len(y))*100)\n",
    "    \n",
    "\n",
    "                        \n",
    "print(f'LOSS : {sum(test_loss_history)/len(test_loss_history)}  ACCURACY : {sum(test_accuracy_history)/len(test_accuracy_history)}')                    \n",
    "\n",
    "result = precision_recall_fscore_support(y_all_true,y_all_pred)\n",
    "\n",
    "print(f\"TEST PREC: {result[0]} RECALL: {result[1]} F1 SCORE: {result[2]} SUPPORT: {result[3]}\")\n"
   ]
  },
  {
   "cell_type": "code",
   "execution_count": 12,
   "id": "5a98543b",
   "metadata": {
    "execution": {
     "iopub.execute_input": "2023-01-14T06:47:18.399063Z",
     "iopub.status.busy": "2023-01-14T06:47:18.398730Z",
     "iopub.status.idle": "2023-01-14T06:47:21.270564Z",
     "shell.execute_reply": "2023-01-14T06:47:21.269598Z"
    },
    "papermill": {
     "duration": 2.892872,
     "end_time": "2023-01-14T06:47:21.272907",
     "exception": false,
     "start_time": "2023-01-14T06:47:18.380035",
     "status": "completed"
    },
    "tags": []
   },
   "outputs": [
    {
     "data": {
      "text/html": [
       "<div>\n",
       "<style scoped>\n",
       "    .dataframe tbody tr th:only-of-type {\n",
       "        vertical-align: middle;\n",
       "    }\n",
       "\n",
       "    .dataframe tbody tr th {\n",
       "        vertical-align: top;\n",
       "    }\n",
       "\n",
       "    .dataframe thead th {\n",
       "        text-align: right;\n",
       "    }\n",
       "</style>\n",
       "<table border=\"1\" class=\"dataframe\">\n",
       "  <thead>\n",
       "    <tr style=\"text-align: right;\">\n",
       "      <th></th>\n",
       "      <th>image</th>\n",
       "      <th>category</th>\n",
       "    </tr>\n",
       "  </thead>\n",
       "  <tbody>\n",
       "    <tr>\n",
       "      <th>0</th>\n",
       "      <td>IMG_1133.JPG</td>\n",
       "      <td>1</td>\n",
       "    </tr>\n",
       "    <tr>\n",
       "      <th>1</th>\n",
       "      <td>IMG_1131.JPG</td>\n",
       "      <td>1</td>\n",
       "    </tr>\n",
       "    <tr>\n",
       "      <th>2</th>\n",
       "      <td>IMG_1132.JPG</td>\n",
       "      <td>1</td>\n",
       "    </tr>\n",
       "    <tr>\n",
       "      <th>3</th>\n",
       "      <td>IMG_1129.JPG</td>\n",
       "      <td>1</td>\n",
       "    </tr>\n",
       "    <tr>\n",
       "      <th>4</th>\n",
       "      <td>IMG_1134.JPG</td>\n",
       "      <td>1</td>\n",
       "    </tr>\n",
       "    <tr>\n",
       "      <th>5</th>\n",
       "      <td>IMG_1130.JPG</td>\n",
       "      <td>1</td>\n",
       "    </tr>\n",
       "  </tbody>\n",
       "</table>\n",
       "</div>"
      ],
      "text/plain": [
       "          image  category\n",
       "0  IMG_1133.JPG         1\n",
       "1  IMG_1131.JPG         1\n",
       "2  IMG_1132.JPG         1\n",
       "3  IMG_1129.JPG         1\n",
       "4  IMG_1134.JPG         1\n",
       "5  IMG_1130.JPG         1"
      ]
     },
     "execution_count": 12,
     "metadata": {},
     "output_type": "execute_result"
    }
   ],
   "source": [
    "class TestDataset(Dataset):\n",
    "    def __init__(self,x,transform = 'T.Resize((224,224))'):\n",
    "        self.transform = transform\n",
    "        self.x = x\n",
    "        self.len = len(x)\n",
    "   \n",
    "    def __len__(self):\n",
    "        return self.len\n",
    "    \n",
    "    def __getitem__(self,i):\n",
    "        img = Image.open(self.x[i]).convert('RGB')\n",
    "        return torch.FloatTensor(np.asarray(self.transform(img)))\n",
    "    \n",
    "\n",
    "test_img = [path+\"predict/\"+i for i in os.listdir(path+\"predict/\")]\n",
    "test_dataset = TestDataset(test_img,transform =transforms_test)\n",
    "test_dataloader = DataLoader(test_dataset , batch_size = batch_size , shuffle = False )\n",
    "\n",
    "predictions = []\n",
    "with torch.no_grad():\n",
    "    model.eval()\n",
    "    for _batch_idx_ , x in enumerate(test_dataloader):\n",
    "        x = x.to(device)\n",
    "        y_pred = model(x).to(device)\n",
    "        pred = torch.argmax(y_pred, dim=1)+1\n",
    "        predictions+=pred.cpu().tolist()\n",
    "\n",
    "df = pd.DataFrame(list(zip([test_img[i].split('/')[-1] for i in range(len(test_img))], predictions)), index =None, columns =['image', 'category'])\n",
    "df.to_csv(\"submission.csv\", index=False)\n",
    "df"
   ]
  }
 ],
 "metadata": {
  "kernelspec": {
   "display_name": "Python 3.7.13 ('base')",
   "language": "python",
   "name": "python3"
  },
  "language_info": {
   "codemirror_mode": {
    "name": "ipython",
    "version": 3
   },
   "file_extension": ".py",
   "mimetype": "text/x-python",
   "name": "python",
   "nbconvert_exporter": "python",
   "pygments_lexer": "ipython3",
   "version": "3.7.13"
  },
  "papermill": {
   "default_parameters": {},
   "duration": 182.339124,
   "end_time": "2023-01-14T06:47:23.566991",
   "environment_variables": {},
   "exception": null,
   "input_path": "__notebook__.ipynb",
   "output_path": "__notebook__.ipynb",
   "parameters": {},
   "start_time": "2023-01-14T06:44:21.227867",
   "version": "2.3.4"
  },
  "vscode": {
   "interpreter": {
    "hash": "aac6a9f6e038666d9c19347a5caa7968d43d22ebc276d6ab3e43c5d06786ff02"
   }
  }
 },
 "nbformat": 4,
 "nbformat_minor": 5
}
