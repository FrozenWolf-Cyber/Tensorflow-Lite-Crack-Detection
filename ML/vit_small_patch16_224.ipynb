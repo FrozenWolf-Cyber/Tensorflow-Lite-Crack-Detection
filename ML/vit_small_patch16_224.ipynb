{
 "cells": [
  {
   "cell_type": "markdown",
   "id": "e1c2c622",
   "metadata": {
    "papermill": {
     "duration": 0.008022,
     "end_time": "2023-01-14T06:48:00.705052",
     "exception": false,
     "start_time": "2023-01-14T06:48:00.697030",
     "status": "completed"
    },
    "tags": []
   },
   "source": [
    "## Contents\n",
    "-  [1.Importing Libraries](#1)\n",
    "-  [2.Dataset Management](#2)\n",
    "    -  [2.1.Downloading and Extracting Dataset](#2.1)\n",
    "    -  [2.2.Visualizing Dataset](#2.2)\n",
    "    -  [2.3.Splitting Dataset](#2.3)\n",
    "    -  [2.4.Pytorch DataLoaders](#2.4)\n",
    "-  [3.Initializing pre-trained model](#3)\n",
    "-  [4.Training](#4)\n",
    "-  [5.Plotting Results](#5)\n",
    "    -  [5.1.Plotting Loss vs MiniBatch](#5.1)\n",
    "    -  [5.2.Plotting Accuracy vs MiniBatch](#5.2)\n",
    "    -  [5.3.Plotting Loss vs Epoch](#5.3)\n",
    "    -  [5.4.Plotting Accuracy vs Epoch](#5.4)\n",
    "    -  [5.5.Plotting F1 Score vs Epoch](#5.5)\n",
    "    -  [5.6.Plotting Recall vs Epoch](#5.6)\n",
    "    -  [5.7.Plotting Precision vs Epoch](#5.7)\n",
    "-  [6.Testing](#6)"
   ]
  },
  {
   "cell_type": "markdown",
   "id": "cd664377",
   "metadata": {
    "papermill": {
     "duration": 0.006313,
     "end_time": "2023-01-14T06:48:00.718212",
     "exception": false,
     "start_time": "2023-01-14T06:48:00.711899",
     "status": "completed"
    },
    "tags": []
   },
   "source": [
    "### 1.Importing Libraries <a class=\"anchor\" id=\"1\"></a>"
   ]
  },
  {
   "cell_type": "code",
   "execution_count": 1,
   "id": "6fd1bb8a",
   "metadata": {
    "execution": {
     "iopub.execute_input": "2023-01-14T06:48:00.737408Z",
     "iopub.status.busy": "2023-01-14T06:48:00.736683Z",
     "iopub.status.idle": "2023-01-14T06:48:16.099547Z",
     "shell.execute_reply": "2023-01-14T06:48:16.098511Z"
    },
    "papermill": {
     "duration": 15.37408,
     "end_time": "2023-01-14T06:48:16.102044",
     "exception": false,
     "start_time": "2023-01-14T06:48:00.727964",
     "status": "completed"
    },
    "tags": []
   },
   "outputs": [
    {
     "name": "stdout",
     "output_type": "stream",
     "text": [
      "Collecting timm\r\n",
      "  Downloading timm-0.6.12-py3-none-any.whl (549 kB)\r\n",
      "\u001b[2K     \u001b[90m━━━━━━━━━━━━━━━━━━━━━━━━━━━━━━━━━━━━━━━\u001b[0m \u001b[32m549.1/549.1 kB\u001b[0m \u001b[31m1.6 MB/s\u001b[0m eta \u001b[36m0:00:00\u001b[0m\r\n",
      "\u001b[?25hRequirement already satisfied: pyyaml in /opt/conda/lib/python3.7/site-packages (from timm) (6.0)\r\n",
      "Requirement already satisfied: huggingface-hub in /opt/conda/lib/python3.7/site-packages (from timm) (0.10.1)\r\n",
      "Requirement already satisfied: torchvision in /opt/conda/lib/python3.7/site-packages (from timm) (0.12.0)\r\n",
      "Requirement already satisfied: torch>=1.7 in /opt/conda/lib/python3.7/site-packages (from timm) (1.11.0)\r\n",
      "Requirement already satisfied: typing-extensions in /opt/conda/lib/python3.7/site-packages (from torch>=1.7->timm) (4.1.1)\r\n",
      "Requirement already satisfied: packaging>=20.9 in /opt/conda/lib/python3.7/site-packages (from huggingface-hub->timm) (22.0)\r\n",
      "Requirement already satisfied: filelock in /opt/conda/lib/python3.7/site-packages (from huggingface-hub->timm) (3.7.1)\r\n",
      "Requirement already satisfied: requests in /opt/conda/lib/python3.7/site-packages (from huggingface-hub->timm) (2.28.1)\r\n",
      "Requirement already satisfied: importlib-metadata in /opt/conda/lib/python3.7/site-packages (from huggingface-hub->timm) (4.13.0)\r\n",
      "Requirement already satisfied: tqdm in /opt/conda/lib/python3.7/site-packages (from huggingface-hub->timm) (4.64.0)\r\n",
      "Requirement already satisfied: numpy in /opt/conda/lib/python3.7/site-packages (from torchvision->timm) (1.21.6)\r\n",
      "Requirement already satisfied: pillow!=8.3.*,>=5.3.0 in /opt/conda/lib/python3.7/site-packages (from torchvision->timm) (9.1.1)\r\n",
      "Requirement already satisfied: zipp>=0.5 in /opt/conda/lib/python3.7/site-packages (from importlib-metadata->huggingface-hub->timm) (3.8.0)\r\n",
      "Requirement already satisfied: idna<4,>=2.5 in /opt/conda/lib/python3.7/site-packages (from requests->huggingface-hub->timm) (3.3)\r\n",
      "Requirement already satisfied: charset-normalizer<3,>=2 in /opt/conda/lib/python3.7/site-packages (from requests->huggingface-hub->timm) (2.1.0)\r\n",
      "Requirement already satisfied: urllib3<1.27,>=1.21.1 in /opt/conda/lib/python3.7/site-packages (from requests->huggingface-hub->timm) (1.26.13)\r\n",
      "Requirement already satisfied: certifi>=2017.4.17 in /opt/conda/lib/python3.7/site-packages (from requests->huggingface-hub->timm) (2022.12.7)\r\n",
      "Installing collected packages: timm\r\n",
      "Successfully installed timm-0.6.12\r\n",
      "\u001b[33mWARNING: Running pip as the 'root' user can result in broken permissions and conflicting behaviour with the system package manager. It is recommended to use a virtual environment instead: https://pip.pypa.io/warnings/venv\u001b[0m\u001b[33m\r\n",
      "\u001b[0m"
     ]
    }
   ],
   "source": [
    "!pip install timm\n",
    "import timm"
   ]
  },
  {
   "cell_type": "code",
   "execution_count": 2,
   "id": "594cc047",
   "metadata": {
    "execution": {
     "iopub.execute_input": "2023-01-14T06:48:16.119275Z",
     "iopub.status.busy": "2023-01-14T06:48:16.117732Z",
     "iopub.status.idle": "2023-01-14T06:48:16.791937Z",
     "shell.execute_reply": "2023-01-14T06:48:16.790979Z"
    },
    "papermill": {
     "duration": 0.684723,
     "end_time": "2023-01-14T06:48:16.794409",
     "exception": false,
     "start_time": "2023-01-14T06:48:16.109686",
     "status": "completed"
    },
    "tags": []
   },
   "outputs": [],
   "source": [
    "import torch\n",
    "import torch.nn as nn\n",
    "import torch.nn.functional as F\n",
    "import torchvision.transforms as T\n",
    "from torch.utils.data import Dataset as Dataset\n",
    "from torch.utils.data import DataLoader as DataLoader\n",
    "import pandas as pd\n",
    "import matplotlib.pyplot as plt\n",
    "import numpy as np\n",
    "import seaborn as sns\n",
    "from PIL import Image\n",
    "import os\n",
    "import random\n",
    "\n",
    "torch.cuda.empty_cache()\n",
    "# random.seed(0)\n",
    "# np.random.seed(0)\n",
    "torch.manual_seed(0)\n",
    "\n",
    "sns.set_style(\"darkgrid\")\n",
    "plt.rcParams[\"figure.figsize\"] = (10,10)\n"
   ]
  },
  {
   "cell_type": "markdown",
   "id": "d415dea6",
   "metadata": {
    "papermill": {
     "duration": 0.006844,
     "end_time": "2023-01-14T06:48:16.808594",
     "exception": false,
     "start_time": "2023-01-14T06:48:16.801750",
     "status": "completed"
    },
    "tags": []
   },
   "source": [
    "### 2.Dataset Managament <a class=\"anchor\" id=\"2\"></a>"
   ]
  },
  {
   "cell_type": "markdown",
   "id": "715f6095",
   "metadata": {
    "papermill": {
     "duration": 0.006816,
     "end_time": "2023-01-14T06:48:16.823789",
     "exception": false,
     "start_time": "2023-01-14T06:48:16.816973",
     "status": "completed"
    },
    "tags": []
   },
   "source": [
    "#### 1.Downloading and Extracting Dataset <a class=\"anchor\" id=\"2.1\"></a>"
   ]
  },
  {
   "cell_type": "code",
   "execution_count": 3,
   "id": "117175fe",
   "metadata": {
    "execution": {
     "iopub.execute_input": "2023-01-14T06:48:16.839674Z",
     "iopub.status.busy": "2023-01-14T06:48:16.838764Z",
     "iopub.status.idle": "2023-01-14T06:48:16.843594Z",
     "shell.execute_reply": "2023-01-14T06:48:16.842668Z"
    },
    "papermill": {
     "duration": 0.015046,
     "end_time": "2023-01-14T06:48:16.845815",
     "exception": false,
     "start_time": "2023-01-14T06:48:16.830769",
     "status": "completed"
    },
    "tags": []
   },
   "outputs": [],
   "source": [
    "path = '/kaggle/input/surface-crack/'"
   ]
  },
  {
   "cell_type": "markdown",
   "id": "0f3eefbf",
   "metadata": {
    "papermill": {
     "duration": 0.006682,
     "end_time": "2023-01-14T06:48:16.859372",
     "exception": false,
     "start_time": "2023-01-14T06:48:16.852690",
     "status": "completed"
    },
    "tags": []
   },
   "source": [
    "#### 2.Visualizing Dataset <a class=\"anchor\" id=\"2.2\"></a>"
   ]
  },
  {
   "cell_type": "markdown",
   "id": "13adf812",
   "metadata": {
    "papermill": {
     "duration": 0.006965,
     "end_time": "2023-01-14T06:48:16.873180",
     "exception": false,
     "start_time": "2023-01-14T06:48:16.866215",
     "status": "completed"
    },
    "tags": []
   },
   "source": [
    "#### 3.Splitting Dataset <a class=\"anchor\" id=\"2.3\"></a>"
   ]
  },
  {
   "cell_type": "code",
   "execution_count": 4,
   "id": "346e684d",
   "metadata": {
    "execution": {
     "iopub.execute_input": "2023-01-14T06:48:16.888152Z",
     "iopub.status.busy": "2023-01-14T06:48:16.887880Z",
     "iopub.status.idle": "2023-01-14T06:48:17.374156Z",
     "shell.execute_reply": "2023-01-14T06:48:17.373232Z"
    },
    "papermill": {
     "duration": 0.496186,
     "end_time": "2023-01-14T06:48:17.376395",
     "exception": false,
     "start_time": "2023-01-14T06:48:16.880209",
     "status": "completed"
    },
    "tags": []
   },
   "outputs": [],
   "source": [
    "import os\n",
    "\n",
    "image = {}\n",
    "label = {}\n",
    "\n",
    "\n",
    "\n",
    "for i in os.listdir(path):\n",
    "    if i not in image:\n",
    "        image[i] = []\n",
    "        label[i] = []\n",
    "    \n",
    "    if i == \"predict\":\n",
    "        for k in os.listdir(path+i):\n",
    "            image[i].append(path+i+'/'+k)\n",
    "            label[i].append(1 if j == \"Positive\" else 0)\n",
    "        continue\n",
    "        \n",
    "    for j in os.listdir(path+i):\n",
    "        for k in os.listdir(path+i+'/'+j):\n",
    "            image[i].append(path+i+'/'+j+'/'+k)\n",
    "            label[i].append(1 if j == \"Positive\" else 0)"
   ]
  },
  {
   "cell_type": "markdown",
   "id": "54878816",
   "metadata": {
    "papermill": {
     "duration": 0.006799,
     "end_time": "2023-01-14T06:48:17.390298",
     "exception": false,
     "start_time": "2023-01-14T06:48:17.383499",
     "status": "completed"
    },
    "tags": []
   },
   "source": [
    "#### 4.Pytorch DataLoaders <a class=\"anchor\" id=\"2.4\"></a>"
   ]
  },
  {
   "cell_type": "code",
   "execution_count": 5,
   "id": "2fa227ec",
   "metadata": {
    "execution": {
     "iopub.execute_input": "2023-01-14T06:48:17.406864Z",
     "iopub.status.busy": "2023-01-14T06:48:17.405211Z",
     "iopub.status.idle": "2023-01-14T06:48:17.416203Z",
     "shell.execute_reply": "2023-01-14T06:48:17.415318Z"
    },
    "papermill": {
     "duration": 0.020937,
     "end_time": "2023-01-14T06:48:17.418168",
     "exception": false,
     "start_time": "2023-01-14T06:48:17.397231",
     "status": "completed"
    },
    "tags": []
   },
   "outputs": [],
   "source": [
    "from PIL import Image\n",
    "\n",
    "class Dataset(Dataset):\n",
    "    def __init__(self,x,y,transform = 'T.Resize((224,224))'):\n",
    "        self.transform = transform\n",
    "        self.x = x\n",
    "        self.y = y \n",
    "        self.len = len(x)\n",
    "   \n",
    "    def __len__(self):\n",
    "        return self.len\n",
    "    \n",
    "    def __getitem__(self,i):\n",
    "        img = Image.open(self.x[i])\n",
    "        return torch.FloatTensor(np.asarray(self.transform(img))),torch.LongTensor([self.y[i]])\n",
    "\n",
    "batch_size = 16\n",
    "\n",
    "transforms_train = T.Compose([\n",
    "        T.Resize((224,224)),\n",
    "#         T.RandomRotation(degrees=(-45, 45)),\n",
    "#         T.RandomHorizontalFlip(),\n",
    "#         T.RandomVerticalFlip(),\n",
    "        T.ToTensor(),\n",
    "#         T.Normalize([0.485, 0.456, 0.406], [0.229, 0.224, 0.225])\n",
    "    ])\n",
    "\n",
    "transforms_test = T.Compose([\n",
    "        T.Resize((224,224)),\n",
    "        T.ToTensor(),\n",
    "#         T.Normalize(mean=[0.485, 0.456, 0.406], std=[0.229, 0.224, 0.225])\n",
    "    ])\n",
    "\n",
    "train_dataset = Dataset(image['train'],label['train'],transform =transforms_train)\n",
    "validation_dataset = Dataset(image['valid'],label['valid'],transform =transforms_test)\n",
    "test_dataset = Dataset(image['test'],label['test'],transform =transforms_test)\n",
    "\n",
    "train_dataloader = DataLoader(train_dataset , batch_size = batch_size , shuffle = True )\n",
    "validation_dataloader = DataLoader(validation_dataset , batch_size = batch_size , shuffle = True )\n",
    "test_dataloader = DataLoader(test_dataset , batch_size = batch_size , shuffle = True )"
   ]
  },
  {
   "cell_type": "code",
   "execution_count": 6,
   "id": "5b0e7515",
   "metadata": {
    "execution": {
     "iopub.execute_input": "2023-01-14T06:48:17.433022Z",
     "iopub.status.busy": "2023-01-14T06:48:17.432738Z",
     "iopub.status.idle": "2023-01-14T06:48:17.597817Z",
     "shell.execute_reply": "2023-01-14T06:48:17.596803Z"
    },
    "papermill": {
     "duration": 0.174967,
     "end_time": "2023-01-14T06:48:17.599974",
     "exception": false,
     "start_time": "2023-01-14T06:48:17.425007",
     "status": "completed"
    },
    "tags": []
   },
   "outputs": [
    {
     "data": {
      "text/plain": [
       "[tensor([[[[0.7529, 0.7373, 0.7333,  ..., 0.7569, 0.7608, 0.7608],\n",
       "           [0.7373, 0.7333, 0.7412,  ..., 0.7529, 0.7608, 0.7608],\n",
       "           [0.7216, 0.7333, 0.7529,  ..., 0.7529, 0.7569, 0.7569],\n",
       "           ...,\n",
       "           [0.7020, 0.7059, 0.7098,  ..., 0.7608, 0.7529, 0.7529],\n",
       "           [0.7020, 0.7137, 0.7176,  ..., 0.7412, 0.7294, 0.7216],\n",
       "           [0.6902, 0.7059, 0.7137,  ..., 0.7255, 0.7098, 0.6941]],\n",
       " \n",
       "          [[0.7608, 0.7451, 0.7412,  ..., 0.7647, 0.7686, 0.7686],\n",
       "           [0.7451, 0.7412, 0.7490,  ..., 0.7608, 0.7686, 0.7686],\n",
       "           [0.7294, 0.7412, 0.7608,  ..., 0.7608, 0.7647, 0.7647],\n",
       "           ...,\n",
       "           [0.7059, 0.7098, 0.7137,  ..., 0.7608, 0.7529, 0.7529],\n",
       "           [0.7059, 0.7176, 0.7216,  ..., 0.7412, 0.7294, 0.7216],\n",
       "           [0.6941, 0.7098, 0.7176,  ..., 0.7255, 0.7098, 0.6941]],\n",
       " \n",
       "          [[0.7490, 0.7333, 0.7294,  ..., 0.7608, 0.7647, 0.7647],\n",
       "           [0.7333, 0.7294, 0.7373,  ..., 0.7569, 0.7647, 0.7647],\n",
       "           [0.7176, 0.7294, 0.7490,  ..., 0.7569, 0.7608, 0.7608],\n",
       "           ...,\n",
       "           [0.6863, 0.6902, 0.6941,  ..., 0.7529, 0.7451, 0.7451],\n",
       "           [0.6863, 0.6980, 0.7020,  ..., 0.7333, 0.7216, 0.7137],\n",
       "           [0.6745, 0.6902, 0.6980,  ..., 0.7176, 0.7020, 0.6863]]],\n",
       " \n",
       " \n",
       "         [[[0.7020, 0.7020, 0.6784,  ..., 0.7569, 0.7451, 0.7333],\n",
       "           [0.7216, 0.7098, 0.6902,  ..., 0.7490, 0.7451, 0.7412],\n",
       "           [0.7216, 0.6980, 0.6902,  ..., 0.7333, 0.7412, 0.7490],\n",
       "           ...,\n",
       "           [0.7373, 0.7333, 0.7333,  ..., 0.7412, 0.7451, 0.7569],\n",
       "           [0.7137, 0.7216, 0.7255,  ..., 0.7451, 0.7451, 0.7569],\n",
       "           [0.6941, 0.7020, 0.7137,  ..., 0.7529, 0.7451, 0.7529]],\n",
       " \n",
       "          [[0.7137, 0.7137, 0.6902,  ..., 0.7569, 0.7451, 0.7333],\n",
       "           [0.7333, 0.7216, 0.7020,  ..., 0.7490, 0.7451, 0.7412],\n",
       "           [0.7333, 0.7098, 0.7020,  ..., 0.7333, 0.7412, 0.7490],\n",
       "           ...,\n",
       "           [0.7412, 0.7373, 0.7373,  ..., 0.7451, 0.7490, 0.7608],\n",
       "           [0.7176, 0.7255, 0.7294,  ..., 0.7490, 0.7490, 0.7608],\n",
       "           [0.6980, 0.7059, 0.7176,  ..., 0.7569, 0.7490, 0.7569]],\n",
       " \n",
       "          [[0.6863, 0.6863, 0.6627,  ..., 0.7255, 0.7137, 0.7020],\n",
       "           [0.7059, 0.6941, 0.6745,  ..., 0.7176, 0.7137, 0.7098],\n",
       "           [0.7059, 0.6824, 0.6745,  ..., 0.7020, 0.7098, 0.7176],\n",
       "           ...,\n",
       "           [0.7098, 0.7059, 0.7059,  ..., 0.7216, 0.7255, 0.7373],\n",
       "           [0.6863, 0.6941, 0.6980,  ..., 0.7255, 0.7255, 0.7373],\n",
       "           [0.6667, 0.6745, 0.6863,  ..., 0.7333, 0.7255, 0.7333]]],\n",
       " \n",
       " \n",
       "         [[[0.6980, 0.7020, 0.7176,  ..., 0.7059, 0.7176, 0.7294],\n",
       "           [0.7255, 0.7216, 0.7216,  ..., 0.7098, 0.7176, 0.7255],\n",
       "           [0.7412, 0.7255, 0.7176,  ..., 0.7137, 0.7176, 0.7216],\n",
       "           ...,\n",
       "           [0.7608, 0.7490, 0.7412,  ..., 0.7451, 0.7490, 0.7490],\n",
       "           [0.7608, 0.7490, 0.7412,  ..., 0.7451, 0.7490, 0.7490],\n",
       "           [0.7608, 0.7529, 0.7412,  ..., 0.7412, 0.7451, 0.7490]],\n",
       " \n",
       "          [[0.7020, 0.7059, 0.7216,  ..., 0.7098, 0.7216, 0.7333],\n",
       "           [0.7294, 0.7255, 0.7255,  ..., 0.7137, 0.7216, 0.7294],\n",
       "           [0.7451, 0.7294, 0.7216,  ..., 0.7176, 0.7216, 0.7255],\n",
       "           ...,\n",
       "           [0.7647, 0.7529, 0.7451,  ..., 0.7490, 0.7529, 0.7529],\n",
       "           [0.7647, 0.7529, 0.7451,  ..., 0.7490, 0.7529, 0.7529],\n",
       "           [0.7647, 0.7569, 0.7451,  ..., 0.7451, 0.7490, 0.7529]],\n",
       " \n",
       "          [[0.6784, 0.6824, 0.6980,  ..., 0.6784, 0.6902, 0.7020],\n",
       "           [0.7059, 0.7020, 0.7020,  ..., 0.6824, 0.6902, 0.6980],\n",
       "           [0.7216, 0.7059, 0.6980,  ..., 0.6863, 0.6902, 0.6941],\n",
       "           ...,\n",
       "           [0.7412, 0.7294, 0.7216,  ..., 0.7294, 0.7333, 0.7333],\n",
       "           [0.7412, 0.7294, 0.7216,  ..., 0.7294, 0.7333, 0.7333],\n",
       "           [0.7412, 0.7333, 0.7216,  ..., 0.7255, 0.7294, 0.7333]]],\n",
       " \n",
       " \n",
       "         ...,\n",
       " \n",
       " \n",
       "         [[[0.7804, 0.7725, 0.7725,  ..., 0.7451, 0.7451, 0.7294],\n",
       "           [0.7804, 0.7686, 0.7647,  ..., 0.7608, 0.7686, 0.7647],\n",
       "           [0.7765, 0.7608, 0.7569,  ..., 0.7569, 0.7804, 0.7804],\n",
       "           ...,\n",
       "           [0.7765, 0.7804, 0.7804,  ..., 0.7686, 0.7686, 0.7686],\n",
       "           [0.7843, 0.7804, 0.7765,  ..., 0.7725, 0.7765, 0.7804],\n",
       "           [0.7882, 0.7804, 0.7725,  ..., 0.7804, 0.7922, 0.7961]],\n",
       " \n",
       "          [[0.7843, 0.7765, 0.7765,  ..., 0.7490, 0.7490, 0.7333],\n",
       "           [0.7843, 0.7725, 0.7686,  ..., 0.7647, 0.7725, 0.7686],\n",
       "           [0.7804, 0.7647, 0.7608,  ..., 0.7608, 0.7843, 0.7843],\n",
       "           ...,\n",
       "           [0.7843, 0.7882, 0.7882,  ..., 0.7804, 0.7804, 0.7804],\n",
       "           [0.7922, 0.7882, 0.7843,  ..., 0.7843, 0.7882, 0.7922],\n",
       "           [0.7961, 0.7882, 0.7804,  ..., 0.7922, 0.8039, 0.8078]],\n",
       " \n",
       "          [[0.7608, 0.7529, 0.7529,  ..., 0.7176, 0.7176, 0.7020],\n",
       "           [0.7608, 0.7490, 0.7451,  ..., 0.7333, 0.7412, 0.7373],\n",
       "           [0.7569, 0.7412, 0.7373,  ..., 0.7294, 0.7529, 0.7529],\n",
       "           ...,\n",
       "           [0.7647, 0.7686, 0.7686,  ..., 0.7529, 0.7529, 0.7529],\n",
       "           [0.7725, 0.7686, 0.7647,  ..., 0.7569, 0.7608, 0.7647],\n",
       "           [0.7765, 0.7686, 0.7608,  ..., 0.7647, 0.7765, 0.7804]]],\n",
       " \n",
       " \n",
       "         [[[0.6824, 0.6863, 0.6784,  ..., 0.7686, 0.7451, 0.7255],\n",
       "           [0.6667, 0.6902, 0.7020,  ..., 0.7490, 0.7333, 0.7176],\n",
       "           [0.6588, 0.6980, 0.7255,  ..., 0.7490, 0.7451, 0.7373],\n",
       "           ...,\n",
       "           [0.7098, 0.7176, 0.7333,  ..., 0.7725, 0.7412, 0.7059],\n",
       "           [0.6824, 0.6941, 0.7137,  ..., 0.7686, 0.7412, 0.7020],\n",
       "           [0.6863, 0.6980, 0.7216,  ..., 0.8000, 0.7647, 0.7216]],\n",
       " \n",
       "          [[0.7020, 0.7059, 0.6980,  ..., 0.7765, 0.7529, 0.7333],\n",
       "           [0.6863, 0.7098, 0.7216,  ..., 0.7569, 0.7412, 0.7255],\n",
       "           [0.6784, 0.7176, 0.7451,  ..., 0.7569, 0.7529, 0.7451],\n",
       "           ...,\n",
       "           [0.7137, 0.7216, 0.7373,  ..., 0.7804, 0.7490, 0.7137],\n",
       "           [0.6863, 0.6980, 0.7176,  ..., 0.7765, 0.7490, 0.7098],\n",
       "           [0.6902, 0.7020, 0.7255,  ..., 0.8078, 0.7725, 0.7294]],\n",
       " \n",
       "          [[0.6863, 0.6902, 0.6824,  ..., 0.7569, 0.7333, 0.7137],\n",
       "           [0.6706, 0.6941, 0.7059,  ..., 0.7373, 0.7216, 0.7059],\n",
       "           [0.6627, 0.7020, 0.7294,  ..., 0.7373, 0.7333, 0.7255],\n",
       "           ...,\n",
       "           [0.6941, 0.7020, 0.7176,  ..., 0.7686, 0.7373, 0.7020],\n",
       "           [0.6667, 0.6784, 0.6980,  ..., 0.7647, 0.7373, 0.6980],\n",
       "           [0.6706, 0.6824, 0.7059,  ..., 0.7961, 0.7608, 0.7176]]],\n",
       " \n",
       " \n",
       "         [[[0.6941, 0.7216, 0.7373,  ..., 0.5294, 0.5569, 0.6000],\n",
       "           [0.7059, 0.7294, 0.7412,  ..., 0.5843, 0.6000, 0.6314],\n",
       "           [0.7216, 0.7373, 0.7451,  ..., 0.6196, 0.6235, 0.6353],\n",
       "           ...,\n",
       "           [0.7490, 0.7490, 0.7529,  ..., 0.7255, 0.7255, 0.7216],\n",
       "           [0.7647, 0.7608, 0.7529,  ..., 0.7176, 0.7059, 0.6941],\n",
       "           [0.7765, 0.7686, 0.7529,  ..., 0.7373, 0.7137, 0.6941]],\n",
       " \n",
       "          [[0.6863, 0.7137, 0.7294,  ..., 0.5216, 0.5490, 0.5922],\n",
       "           [0.6980, 0.7216, 0.7333,  ..., 0.5765, 0.5922, 0.6235],\n",
       "           [0.7137, 0.7294, 0.7373,  ..., 0.6118, 0.6157, 0.6275],\n",
       "           ...,\n",
       "           [0.7412, 0.7412, 0.7451,  ..., 0.7176, 0.7176, 0.7137],\n",
       "           [0.7569, 0.7529, 0.7451,  ..., 0.7098, 0.6980, 0.6863],\n",
       "           [0.7686, 0.7608, 0.7451,  ..., 0.7294, 0.7059, 0.6863]],\n",
       " \n",
       "          [[0.6353, 0.6627, 0.6784,  ..., 0.4706, 0.4980, 0.5412],\n",
       "           [0.6471, 0.6706, 0.6824,  ..., 0.5255, 0.5412, 0.5725],\n",
       "           [0.6627, 0.6784, 0.6863,  ..., 0.5608, 0.5647, 0.5765],\n",
       "           ...,\n",
       "           [0.6941, 0.6941, 0.6980,  ..., 0.6706, 0.6706, 0.6667],\n",
       "           [0.7098, 0.7059, 0.6980,  ..., 0.6627, 0.6510, 0.6392],\n",
       "           [0.7216, 0.7137, 0.6980,  ..., 0.6824, 0.6588, 0.6392]]]]),\n",
       " tensor([[0],\n",
       "         [1],\n",
       "         [0],\n",
       "         [0],\n",
       "         [0],\n",
       "         [1],\n",
       "         [0],\n",
       "         [1],\n",
       "         [0],\n",
       "         [0],\n",
       "         [1],\n",
       "         [0],\n",
       "         [1],\n",
       "         [0],\n",
       "         [0],\n",
       "         [1]])]"
      ]
     },
     "execution_count": 6,
     "metadata": {},
     "output_type": "execute_result"
    }
   ],
   "source": [
    "next(iter(test_dataloader))"
   ]
  },
  {
   "cell_type": "markdown",
   "id": "098f27b3",
   "metadata": {
    "papermill": {
     "duration": 0.007272,
     "end_time": "2023-01-14T06:48:17.614686",
     "exception": false,
     "start_time": "2023-01-14T06:48:17.607414",
     "status": "completed"
    },
    "tags": []
   },
   "source": [
    "### 3.Initializing pre-trained model <a class=\"anchor\" id=\"3\"></a>"
   ]
  },
  {
   "cell_type": "code",
   "execution_count": 7,
   "id": "f8b73270",
   "metadata": {
    "execution": {
     "iopub.execute_input": "2023-01-14T06:48:17.631024Z",
     "iopub.status.busy": "2023-01-14T06:48:17.630047Z",
     "iopub.status.idle": "2023-01-14T06:48:18.867069Z",
     "shell.execute_reply": "2023-01-14T06:48:18.865946Z"
    },
    "papermill": {
     "duration": 1.247947,
     "end_time": "2023-01-14T06:48:18.869941",
     "exception": false,
     "start_time": "2023-01-14T06:48:17.621994",
     "status": "completed"
    },
    "tags": []
   },
   "outputs": [],
   "source": [
    "model_name = \"vit_small_patch16_224\"\n",
    "class ViTBase16(nn.Module):\n",
    "    def __init__(self, n_classes):\n",
    "\n",
    "        super(ViTBase16, self).__init__()\n",
    "\n",
    "        self.model = timm.create_model(model_name, pretrained=True)\n",
    "        \n",
    "\n",
    "        self.model.head = nn.Linear(self.model.head.in_features, n_classes)\n",
    "\n",
    "    def forward(self, x):\n",
    "        x = self.model(x)\n",
    "        return x\n",
    "\n",
    "\n",
    "model = ViTBase16(2)\n",
    "for param in model.parameters():\n",
    "    param.requires_grad = True"
   ]
  },
  {
   "cell_type": "markdown",
   "id": "0a57cc41",
   "metadata": {
    "papermill": {
     "duration": 0.00702,
     "end_time": "2023-01-14T06:48:18.884972",
     "exception": false,
     "start_time": "2023-01-14T06:48:18.877952",
     "status": "completed"
    },
    "tags": []
   },
   "source": [
    "### 4.Training <a class=\"anchor\" id=\"4\"></a>"
   ]
  },
  {
   "cell_type": "code",
   "execution_count": 8,
   "id": "f9eee4d8",
   "metadata": {
    "execution": {
     "iopub.execute_input": "2023-01-14T06:48:18.900853Z",
     "iopub.status.busy": "2023-01-14T06:48:18.900525Z",
     "iopub.status.idle": "2023-01-14T06:48:21.727882Z",
     "shell.execute_reply": "2023-01-14T06:48:21.726911Z"
    },
    "papermill": {
     "duration": 2.838203,
     "end_time": "2023-01-14T06:48:21.730323",
     "exception": false,
     "start_time": "2023-01-14T06:48:18.892120",
     "status": "completed"
    },
    "tags": []
   },
   "outputs": [],
   "source": [
    "lr = 0.001\n",
    "epoch = 30\n",
    "train_dataset_size = train_dataset.__len__()\n",
    "validation_dataset_size = validation_dataset.__len__()\n",
    "train_n_minibatches = train_dataloader.__len__()\n",
    "validation_n_minibatches = validation_dataloader.__len__()\n",
    "\n",
    "device = 'cuda'\n",
    "model.to(device)\n",
    "loss_history = [[],[]] #[[train], [validation]]\n",
    "accuracy_history = [[],[]] #[[train], [validation]]\n",
    "# prec_history = [[],[]] #[[train], [validation]]\n",
    "# recall_history = [[],[]] #[[train], [validation]]\n",
    "# f1_history = [[],[]] #[[train], [validation]]\n",
    "# support_history = [[],[]] #[[train], [validation]]\n",
    "\n",
    "results = [[],[]]\n",
    "\n",
    "criterion = nn.CrossEntropyLoss()  \n",
    "optimizer = torch.optim.SGD(model.parameters(),lr = lr)\n",
    "\n"
   ]
  },
  {
   "cell_type": "code",
   "execution_count": 9,
   "id": "709aafba",
   "metadata": {
    "execution": {
     "iopub.execute_input": "2023-01-14T06:48:21.746874Z",
     "iopub.status.busy": "2023-01-14T06:48:21.746554Z",
     "iopub.status.idle": "2023-01-14T06:52:06.414886Z",
     "shell.execute_reply": "2023-01-14T06:52:06.412561Z"
    },
    "papermill": {
     "duration": 224.687282,
     "end_time": "2023-01-14T06:52:06.425202",
     "exception": false,
     "start_time": "2023-01-14T06:48:21.737920",
     "status": "completed"
    },
    "scrolled": true,
    "tags": []
   },
   "outputs": [
    {
     "name": "stdout",
     "output_type": "stream",
     "text": [
      "---------------------------------------EPOCH 1-------------------------------------------\n",
      "LOSS for EPOCH 1 BATCH 0/38 TRAIN LOSS : 2.03619647026062 TRAIN ACCURACY : 31.25 VALIDATION LOSS : 1.2640707813776457 VALIDATION ACCURACY : 52.40384615384615\n",
      "LOSS for EPOCH 1 BATCH 19/38 TRAIN LOSS : 0.5546549558639526 TRAIN ACCURACY : 75.0 VALIDATION LOSS : 0.531353453030953 VALIDATION ACCURACY : 69.71153846153847\n",
      "--------------------------------------------------------------------------------------------\n",
      "Loss for EPOCH 1  TRAIN LOSS : 0.669717362052516 TRAIN PREC : [0.65311005 0.85164835] RECALL : [0.91       0.51666667] F1 : [0.76044568 0.64315353] ACC : 71.71052631578948\n",
      "VALIDATION LOSS for EPOCH 1 : 0.531353453030953 VALIDATION PREC : [0.57706093 0.67768595] RECALL : [0.805 0.41 ] F1 : [0.67223382 0.51090343]  ACC : 69.71153846153847\n",
      "---------------------------------------------------------------------------------------------\n",
      "---------------------------------------EPOCH 2-------------------------------------------\n",
      "LOSS for EPOCH 2 BATCH 0/38 TRAIN LOSS : 0.3469761312007904 TRAIN ACCURACY : 81.25 VALIDATION LOSS : 0.3336261293062797 VALIDATION ACCURACY : 89.42307692307692\n",
      "LOSS for EPOCH 2 BATCH 19/38 TRAIN LOSS : 0.1971341073513031 TRAIN ACCURACY : 100.0 VALIDATION LOSS : 0.21327716914507058 VALIDATION ACCURACY : 95.67307692307692\n",
      "--------------------------------------------------------------------------------------------\n",
      "Loss for EPOCH 2  TRAIN LOSS : 0.23410899368555924 TRAIN PREC : [0.91222571 0.96797153] RECALL : [0.97       0.90666667] F1 : [0.94022617 0.9363167 ] ACC : 93.91447368421052\n",
      "VALIDATION LOSS for EPOCH 2 : 0.21327716914507058 VALIDATION PREC : [0.94270833 0.90865385] RECALL : [0.905 0.945] F1 : [0.92346939 0.92647059]  ACC : 95.67307692307692\n",
      "---------------------------------------------------------------------------------------------\n",
      "---------------------------------------EPOCH 3-------------------------------------------\n",
      "LOSS for EPOCH 3 BATCH 0/38 TRAIN LOSS : 0.08590888977050781 TRAIN ACCURACY : 100.0 VALIDATION LOSS : 0.1302807216460888 VALIDATION ACCURACY : 97.11538461538461\n",
      "LOSS for EPOCH 3 BATCH 19/38 TRAIN LOSS : 0.25717589259147644 TRAIN ACCURACY : 93.75 VALIDATION LOSS : 0.09413610284145062 VALIDATION ACCURACY : 97.59615384615384\n",
      "--------------------------------------------------------------------------------------------\n",
      "Loss for EPOCH 3  TRAIN LOSS : 0.11076698692417458 TRAIN PREC : [0.96393443 0.97966102] RECALL : [0.98       0.96333333] F1 : [0.97190083 0.97142857] ACC : 96.875\n",
      "VALIDATION LOSS for EPOCH 3 : 0.09413610284145062 VALIDATION PREC : [0.97487437 0.97014925] RECALL : [0.97  0.975] F1 : [0.97243108 0.97256858]  ACC : 97.59615384615384\n",
      "---------------------------------------------------------------------------------------------\n",
      "---------------------------------------EPOCH 4-------------------------------------------\n",
      "LOSS for EPOCH 4 BATCH 0/38 TRAIN LOSS : 0.15020309388637543 TRAIN ACCURACY : 93.75 VALIDATION LOSS : 0.0681884465022729 VALIDATION ACCURACY : 97.59615384615384\n",
      "LOSS for EPOCH 4 BATCH 19/38 TRAIN LOSS : 0.055738192051649094 TRAIN ACCURACY : 100.0 VALIDATION LOSS : 0.05730395212482948 VALIDATION ACCURACY : 98.07692307692308\n",
      "--------------------------------------------------------------------------------------------\n",
      "Loss for EPOCH 4  TRAIN LOSS : 0.06487647466067421 TRAIN PREC : [0.97682119 0.98322148] RECALL : [0.98333333 0.97666667] F1 : [0.98006645 0.97993311] ACC : 97.86184210526316\n",
      "VALIDATION LOSS for EPOCH 4 : 0.05730395212482948 VALIDATION PREC : [0.98477157 0.97044335] RECALL : [0.97  0.985] F1 : [0.97732997 0.97766749]  ACC : 98.07692307692308\n",
      "---------------------------------------------------------------------------------------------\n",
      "---------------------------------------EPOCH 5-------------------------------------------\n",
      "LOSS for EPOCH 5 BATCH 0/38 TRAIN LOSS : 0.02533767558634281 TRAIN ACCURACY : 100.0 VALIDATION LOSS : 0.04893028592834106 VALIDATION ACCURACY : 98.07692307692308\n",
      "LOSS for EPOCH 5 BATCH 19/38 TRAIN LOSS : 0.031366270035505295 TRAIN ACCURACY : 100.0 VALIDATION LOSS : 0.040578154632105276 VALIDATION ACCURACY : 98.5576923076923\n",
      "--------------------------------------------------------------------------------------------\n",
      "Loss for EPOCH 5  TRAIN LOSS : 0.04562144975275978 TRAIN PREC : [0.98662207 0.9833887 ] RECALL : [0.98333333 0.98666667] F1 : [0.98497496 0.98502496] ACC : 98.35526315789474\n",
      "VALIDATION LOSS for EPOCH 5 : 0.040578154632105276 VALIDATION PREC : [0.98984772 0.97536946] RECALL : [0.975 0.99 ] F1 : [0.98236776 0.98263027]  ACC : 98.5576923076923\n",
      "---------------------------------------------------------------------------------------------\n",
      "---------------------------------------EPOCH 6-------------------------------------------\n",
      "LOSS for EPOCH 6 BATCH 0/38 TRAIN LOSS : 0.026322368532419205 TRAIN ACCURACY : 100.0 VALIDATION LOSS : 0.03680513555613848 VALIDATION ACCURACY : 98.5576923076923\n",
      "LOSS for EPOCH 6 BATCH 19/38 TRAIN LOSS : 0.011218373663723469 TRAIN ACCURACY : 100.0 VALIDATION LOSS : 0.04182610467362862 VALIDATION ACCURACY : 98.07692307692308\n",
      "--------------------------------------------------------------------------------------------\n",
      "Loss for EPOCH 6  TRAIN LOSS : 0.030724124106774598 TRAIN PREC : [0.99003322 0.99331104] RECALL : [0.99333333 0.99      ] F1 : [0.99168053 0.99165275] ACC : 99.17763157894737\n",
      "VALIDATION LOSS for EPOCH 6 : 0.04182610467362862 VALIDATION PREC : [0.98989899 0.98019802] RECALL : [0.98 0.99] F1 : [0.98492462 0.98507463]  ACC : 98.07692307692308\n",
      "---------------------------------------------------------------------------------------------\n",
      "---------------------------------------EPOCH 7-------------------------------------------\n",
      "LOSS for EPOCH 7 BATCH 0/38 TRAIN LOSS : 0.0030351856257766485 TRAIN ACCURACY : 100.0 VALIDATION LOSS : 0.031230912973674443 VALIDATION ACCURACY : 98.5576923076923\n",
      "LOSS for EPOCH 7 BATCH 19/38 TRAIN LOSS : 0.010101566091179848 TRAIN ACCURACY : 100.0 VALIDATION LOSS : 0.028976786935415406 VALIDATION ACCURACY : 98.5576923076923\n",
      "--------------------------------------------------------------------------------------------\n",
      "Loss for EPOCH 7  TRAIN LOSS : 0.022476000392711477 TRAIN PREC : [0.99003322 0.99331104] RECALL : [0.99333333 0.99      ] F1 : [0.99168053 0.99165275] ACC : 99.17763157894737\n",
      "VALIDATION LOSS for EPOCH 7 : 0.028976786935415406 VALIDATION PREC : [0.98989899 0.98019802] RECALL : [0.98 0.99] F1 : [0.98492462 0.98507463]  ACC : 98.5576923076923\n",
      "---------------------------------------------------------------------------------------------\n",
      "---------------------------------------EPOCH 8-------------------------------------------\n",
      "LOSS for EPOCH 8 BATCH 0/38 TRAIN LOSS : 0.002866749418899417 TRAIN ACCURACY : 100.0 VALIDATION LOSS : 0.026823741688321415 VALIDATION ACCURACY : 98.5576923076923\n",
      "LOSS for EPOCH 8 BATCH 19/38 TRAIN LOSS : 0.010509740561246872 TRAIN ACCURACY : 100.0 VALIDATION LOSS : 0.024809511790338617 VALIDATION ACCURACY : 99.03846153846153\n",
      "--------------------------------------------------------------------------------------------\n",
      "Loss for EPOCH 8  TRAIN LOSS : 0.016917929188103267 TRAIN PREC : [0.99009901 1.        ] RECALL : [1.   0.99] F1 : [0.99502488 0.99497487] ACC : 99.50657894736842\n",
      "VALIDATION LOSS for EPOCH 8 : 0.024809511790338617 VALIDATION PREC : [0.98994975 0.98507463] RECALL : [0.985 0.99 ] F1 : [0.98746867 0.98753117]  ACC : 99.03846153846153\n",
      "---------------------------------------------------------------------------------------------\n",
      "---------------------------------------EPOCH 9-------------------------------------------\n",
      "LOSS for EPOCH 9 BATCH 0/38 TRAIN LOSS : 0.007652707397937775 TRAIN ACCURACY : 100.0 VALIDATION LOSS : 0.02665549688614332 VALIDATION ACCURACY : 98.5576923076923\n",
      "LOSS for EPOCH 9 BATCH 19/38 TRAIN LOSS : 0.0029772052075713873 TRAIN ACCURACY : 100.0 VALIDATION LOSS : 0.02396850669398331 VALIDATION ACCURACY : 99.03846153846153\n",
      "--------------------------------------------------------------------------------------------\n",
      "Loss for EPOCH 9  TRAIN LOSS : 0.013972620344965866 TRAIN PREC : [0.99337748 1.        ] RECALL : [1.         0.99333333] F1 : [0.99667774 0.99665552] ACC : 99.67105263157895\n",
      "VALIDATION LOSS for EPOCH 9 : 0.02396850669398331 VALIDATION PREC : [0.98994975 0.98507463] RECALL : [0.985 0.99 ] F1 : [0.98746867 0.98753117]  ACC : 99.03846153846153\n",
      "---------------------------------------------------------------------------------------------\n",
      "---------------------------------------EPOCH 10-------------------------------------------\n",
      "LOSS for EPOCH 10 BATCH 0/38 TRAIN LOSS : 0.002988246036693454 TRAIN ACCURACY : 100.0 VALIDATION LOSS : 0.024614556244789407 VALIDATION ACCURACY : 99.03846153846153\n",
      "LOSS for EPOCH 10 BATCH 19/38 TRAIN LOSS : 0.004745051264762878 TRAIN ACCURACY : 100.0 VALIDATION LOSS : 0.02328945746502051 VALIDATION ACCURACY : 99.03846153846153\n",
      "--------------------------------------------------------------------------------------------\n",
      "Loss for EPOCH 10  TRAIN LOSS : 0.010799923593080357 TRAIN PREC : [0.99667774 1.        ] RECALL : [1.         0.99666667] F1 : [0.99833611 0.99833055] ACC : 99.83552631578948\n",
      "VALIDATION LOSS for EPOCH 10 : 0.02328945746502051 VALIDATION PREC : [0.99 0.99] RECALL : [0.99 0.99] F1 : [0.99 0.99]  ACC : 99.03846153846153\n",
      "---------------------------------------------------------------------------------------------\n",
      "---------------------------------------EPOCH 11-------------------------------------------\n",
      "LOSS for EPOCH 11 BATCH 0/38 TRAIN LOSS : 0.0021179192699491978 TRAIN ACCURACY : 100.0 VALIDATION LOSS : 0.021322118333325937 VALIDATION ACCURACY : 99.03846153846153\n",
      "LOSS for EPOCH 11 BATCH 19/38 TRAIN LOSS : 0.0018905047327280045 TRAIN ACCURACY : 100.0 VALIDATION LOSS : 0.020648483178005196 VALIDATION ACCURACY : 99.03846153846153\n",
      "--------------------------------------------------------------------------------------------\n",
      "Loss for EPOCH 11  TRAIN LOSS : 0.008996718449787678 TRAIN PREC : [0.99667774 1.        ] RECALL : [1.         0.99666667] F1 : [0.99833611 0.99833055] ACC : 99.83552631578948\n",
      "VALIDATION LOSS for EPOCH 11 : 0.020648483178005196 VALIDATION PREC : [0.99 0.99] RECALL : [0.99 0.99] F1 : [0.99 0.99]  ACC : 99.03846153846153\n",
      "---------------------------------------------------------------------------------------------\n",
      "---------------------------------------EPOCH 12-------------------------------------------\n",
      "LOSS for EPOCH 12 BATCH 0/38 TRAIN LOSS : 0.0037924591451883316 TRAIN ACCURACY : 100.0 VALIDATION LOSS : 0.021025414892042484 VALIDATION ACCURACY : 99.03846153846153\n",
      "LOSS for EPOCH 12 BATCH 19/38 TRAIN LOSS : 0.0015193561557680368 TRAIN ACCURACY : 100.0 VALIDATION LOSS : 0.019729258492588997 VALIDATION ACCURACY : 99.03846153846153\n",
      "--------------------------------------------------------------------------------------------\n",
      "Loss for EPOCH 12  TRAIN LOSS : 0.007497568795531008 TRAIN PREC : [0.99667774 1.        ] RECALL : [1.         0.99666667] F1 : [0.99833611 0.99833055] ACC : 99.83552631578948\n",
      "VALIDATION LOSS for EPOCH 12 : 0.019729258492588997 VALIDATION PREC : [0.99 0.99] RECALL : [0.99 0.99] F1 : [0.99 0.99]  ACC : 99.03846153846153\n",
      "---------------------------------------------------------------------------------------------\n",
      "---------------------------------------EPOCH 13-------------------------------------------\n",
      "LOSS for EPOCH 13 BATCH 0/38 TRAIN LOSS : 0.008765283040702343 TRAIN ACCURACY : 100.0 VALIDATION LOSS : 0.020914526387619283 VALIDATION ACCURACY : 99.03846153846153\n",
      "LOSS for EPOCH 13 BATCH 19/38 TRAIN LOSS : 0.0049315206706523895 TRAIN ACCURACY : 100.0 VALIDATION LOSS : 0.020041481546985988 VALIDATION ACCURACY : 99.03846153846153\n",
      "--------------------------------------------------------------------------------------------\n",
      "Loss for EPOCH 13  TRAIN LOSS : 0.0063941696977340865 TRAIN PREC : [0.99667774 1.        ] RECALL : [1.         0.99666667] F1 : [0.99833611 0.99833055] ACC : 99.83552631578948\n",
      "VALIDATION LOSS for EPOCH 13 : 0.020041481546985988 VALIDATION PREC : [0.99 0.99] RECALL : [0.99 0.99] F1 : [0.99 0.99]  ACC : 99.03846153846153\n",
      "---------------------------------------------------------------------------------------------\n",
      "---------------------------------------EPOCH 14-------------------------------------------\n",
      "LOSS for EPOCH 14 BATCH 0/38 TRAIN LOSS : 0.0071031772531569 TRAIN ACCURACY : 100.0 VALIDATION LOSS : 0.01927795251741862 VALIDATION ACCURACY : 99.03846153846153\n",
      "LOSS for EPOCH 14 BATCH 19/38 TRAIN LOSS : 0.002214475069195032 TRAIN ACCURACY : 100.0 VALIDATION LOSS : 0.01930967778361474 VALIDATION ACCURACY : 99.03846153846153\n",
      "--------------------------------------------------------------------------------------------\n",
      "Loss for EPOCH 14  TRAIN LOSS : 0.00534773622578206 TRAIN PREC : [0.99667774 1.        ] RECALL : [1.         0.99666667] F1 : [0.99833611 0.99833055] ACC : 99.83552631578948\n",
      "VALIDATION LOSS for EPOCH 14 : 0.01930967778361474 VALIDATION PREC : [0.99 0.99] RECALL : [0.99 0.99] F1 : [0.99 0.99]  ACC : 99.03846153846153\n",
      "---------------------------------------------------------------------------------------------\n",
      "---------------------------------------EPOCH 15-------------------------------------------\n",
      "LOSS for EPOCH 15 BATCH 0/38 TRAIN LOSS : 0.000496125896461308 TRAIN ACCURACY : 100.0 VALIDATION LOSS : 0.01940331440150308 VALIDATION ACCURACY : 99.03846153846153\n",
      "LOSS for EPOCH 15 BATCH 19/38 TRAIN LOSS : 0.011854930780827999 TRAIN ACCURACY : 100.0 VALIDATION LOSS : 0.018766949902503535 VALIDATION ACCURACY : 99.03846153846153\n",
      "--------------------------------------------------------------------------------------------\n",
      "Loss for EPOCH 15  TRAIN LOSS : 0.004469397006017205 TRAIN PREC : [0.99667774 1.        ] RECALL : [1.         0.99666667] F1 : [0.99833611 0.99833055] ACC : 99.83552631578948\n",
      "VALIDATION LOSS for EPOCH 15 : 0.018766949902503535 VALIDATION PREC : [0.99 0.99] RECALL : [0.99 0.99] F1 : [0.99 0.99]  ACC : 99.03846153846153\n",
      "---------------------------------------------------------------------------------------------\n",
      "---------------------------------------EPOCH 16-------------------------------------------\n",
      "LOSS for EPOCH 16 BATCH 0/38 TRAIN LOSS : 0.0036019792314618826 TRAIN ACCURACY : 100.0 VALIDATION LOSS : 0.019164095973022856 VALIDATION ACCURACY : 99.03846153846153\n",
      "LOSS for EPOCH 16 BATCH 19/38 TRAIN LOSS : 0.0013039815239608288 TRAIN ACCURACY : 100.0 VALIDATION LOSS : 0.018637802380208787 VALIDATION ACCURACY : 99.03846153846153\n",
      "--------------------------------------------------------------------------------------------\n",
      "Loss for EPOCH 16  TRAIN LOSS : 0.0038891616353985705 TRAIN PREC : [1. 1.] RECALL : [1. 1.] F1 : [1. 1.] ACC : 100.0\n",
      "VALIDATION LOSS for EPOCH 16 : 0.018637802380208787 VALIDATION PREC : [0.99 0.99] RECALL : [0.99 0.99] F1 : [0.99 0.99]  ACC : 99.03846153846153\n",
      "---------------------------------------------------------------------------------------------\n",
      "---------------------------------------EPOCH 17-------------------------------------------\n",
      "LOSS for EPOCH 17 BATCH 0/38 TRAIN LOSS : 0.0011037656804546714 TRAIN ACCURACY : 100.0 VALIDATION LOSS : 0.018682620201546412 VALIDATION ACCURACY : 99.03846153846153\n",
      "LOSS for EPOCH 17 BATCH 19/38 TRAIN LOSS : 0.0009187515242956579 TRAIN ACCURACY : 100.0 VALIDATION LOSS : 0.018576900228463974 VALIDATION ACCURACY : 99.03846153846153\n",
      "--------------------------------------------------------------------------------------------\n",
      "Loss for EPOCH 17  TRAIN LOSS : 0.003361130847080954 TRAIN PREC : [1. 1.] RECALL : [1. 1.] F1 : [1. 1.] ACC : 100.0\n",
      "VALIDATION LOSS for EPOCH 17 : 0.018576900228463974 VALIDATION PREC : [0.99 0.99] RECALL : [0.99 0.99] F1 : [0.99 0.99]  ACC : 99.03846153846153\n",
      "---------------------------------------------------------------------------------------------\n",
      "---------------------------------------EPOCH 18-------------------------------------------\n",
      "LOSS for EPOCH 18 BATCH 0/38 TRAIN LOSS : 0.0019450352992862463 TRAIN ACCURACY : 100.0 VALIDATION LOSS : 0.018847908542598955 VALIDATION ACCURACY : 99.03846153846153\n",
      "LOSS for EPOCH 18 BATCH 19/38 TRAIN LOSS : 0.001449862029403448 TRAIN ACCURACY : 100.0 VALIDATION LOSS : 0.018256284260692503 VALIDATION ACCURACY : 99.03846153846153\n",
      "--------------------------------------------------------------------------------------------\n",
      "Loss for EPOCH 18  TRAIN LOSS : 0.00297689482517614 TRAIN PREC : [1. 1.] RECALL : [1. 1.] F1 : [1. 1.] ACC : 100.0\n",
      "VALIDATION LOSS for EPOCH 18 : 0.018256284260692503 VALIDATION PREC : [0.99 0.99] RECALL : [0.99 0.99] F1 : [0.99 0.99]  ACC : 99.03846153846153\n",
      "---------------------------------------------------------------------------------------------\n",
      "---------------------------------------EPOCH 19-------------------------------------------\n",
      "LOSS for EPOCH 19 BATCH 0/38 TRAIN LOSS : 0.0006689290748909116 TRAIN ACCURACY : 100.0 VALIDATION LOSS : 0.01771193262314997 VALIDATION ACCURACY : 99.03846153846153\n",
      "LOSS for EPOCH 19 BATCH 19/38 TRAIN LOSS : 0.0010977451456710696 TRAIN ACCURACY : 100.0 VALIDATION LOSS : 0.017728258134761397 VALIDATION ACCURACY : 99.03846153846153\n",
      "--------------------------------------------------------------------------------------------\n",
      "Loss for EPOCH 19  TRAIN LOSS : 0.002603080320496749 TRAIN PREC : [1. 1.] RECALL : [1. 1.] F1 : [1. 1.] ACC : 100.0\n",
      "VALIDATION LOSS for EPOCH 19 : 0.017728258134761397 VALIDATION PREC : [0.99 0.99] RECALL : [0.99 0.99] F1 : [0.99 0.99]  ACC : 99.03846153846153\n",
      "---------------------------------------------------------------------------------------------\n",
      "---------------------------------------EPOCH 20-------------------------------------------\n",
      "LOSS for EPOCH 20 BATCH 0/38 TRAIN LOSS : 0.003878738498315215 TRAIN ACCURACY : 100.0 VALIDATION LOSS : 0.017464702118349332 VALIDATION ACCURACY : 99.03846153846153\n",
      "LOSS for EPOCH 20 BATCH 19/38 TRAIN LOSS : 0.0053574200719594955 TRAIN ACCURACY : 100.0 VALIDATION LOSS : 0.017394840551647715 VALIDATION ACCURACY : 99.03846153846153\n",
      "--------------------------------------------------------------------------------------------\n",
      "Loss for EPOCH 20  TRAIN LOSS : 0.0022383832715843852 TRAIN PREC : [1. 1.] RECALL : [1. 1.] F1 : [1. 1.] ACC : 100.0\n",
      "VALIDATION LOSS for EPOCH 20 : 0.017394840551647715 VALIDATION PREC : [0.99 0.99] RECALL : [0.99 0.99] F1 : [0.99 0.99]  ACC : 99.03846153846153\n",
      "---------------------------------------------------------------------------------------------\n",
      "---------------------------------------EPOCH 21-------------------------------------------\n",
      "LOSS for EPOCH 21 BATCH 0/38 TRAIN LOSS : 0.0007975153275765479 TRAIN ACCURACY : 100.0 VALIDATION LOSS : 0.017977341049117967 VALIDATION ACCURACY : 99.03846153846153\n",
      "LOSS for EPOCH 21 BATCH 19/38 TRAIN LOSS : 0.0022394340485334396 TRAIN ACCURACY : 100.0 VALIDATION LOSS : 0.01744832094006527 VALIDATION ACCURACY : 99.03846153846153\n",
      "--------------------------------------------------------------------------------------------\n",
      "Loss for EPOCH 21  TRAIN LOSS : 0.0020370698337884327 TRAIN PREC : [1. 1.] RECALL : [1. 1.] F1 : [1. 1.] ACC : 100.0\n",
      "VALIDATION LOSS for EPOCH 21 : 0.01744832094006527 VALIDATION PREC : [0.99 0.99] RECALL : [0.99 0.99] F1 : [0.99 0.99]  ACC : 99.03846153846153\n",
      "---------------------------------------------------------------------------------------------\n",
      "---------------------------------------EPOCH 22-------------------------------------------\n",
      "LOSS for EPOCH 22 BATCH 0/38 TRAIN LOSS : 0.0018520521698519588 TRAIN ACCURACY : 100.0 VALIDATION LOSS : 0.01722183942239588 VALIDATION ACCURACY : 99.03846153846153\n",
      "LOSS for EPOCH 22 BATCH 19/38 TRAIN LOSS : 0.003700608853250742 TRAIN ACCURACY : 100.0 VALIDATION LOSS : 0.01754698658791872 VALIDATION ACCURACY : 99.03846153846153\n",
      "--------------------------------------------------------------------------------------------\n",
      "Loss for EPOCH 22  TRAIN LOSS : 0.0018606384585023318 TRAIN PREC : [1. 1.] RECALL : [1. 1.] F1 : [1. 1.] ACC : 100.0\n",
      "VALIDATION LOSS for EPOCH 22 : 0.01754698658791872 VALIDATION PREC : [0.99 0.99] RECALL : [0.99 0.99] F1 : [0.99 0.99]  ACC : 99.03846153846153\n",
      "---------------------------------------------------------------------------------------------\n",
      "---------------------------------------EPOCH 23-------------------------------------------\n",
      "LOSS for EPOCH 23 BATCH 0/38 TRAIN LOSS : 0.0007465984672307968 TRAIN ACCURACY : 100.0 VALIDATION LOSS : 0.017046475944180902 VALIDATION ACCURACY : 99.03846153846153\n",
      "LOSS for EPOCH 23 BATCH 19/38 TRAIN LOSS : 0.000646282103843987 TRAIN ACCURACY : 100.0 VALIDATION LOSS : 0.017563101714656044 VALIDATION ACCURACY : 99.03846153846153\n",
      "--------------------------------------------------------------------------------------------\n",
      "Loss for EPOCH 23  TRAIN LOSS : 0.0017773177387425676 TRAIN PREC : [1. 1.] RECALL : [1. 1.] F1 : [1. 1.] ACC : 100.0\n",
      "VALIDATION LOSS for EPOCH 23 : 0.017563101714656044 VALIDATION PREC : [0.99 0.99] RECALL : [0.99 0.99] F1 : [0.99 0.99]  ACC : 99.03846153846153\n",
      "---------------------------------------------------------------------------------------------\n",
      "---------------------------------------EPOCH 24-------------------------------------------\n",
      "LOSS for EPOCH 24 BATCH 0/38 TRAIN LOSS : 0.0027401552069932222 TRAIN ACCURACY : 100.0 VALIDATION LOSS : 0.017045427100338902 VALIDATION ACCURACY : 99.03846153846153\n",
      "LOSS for EPOCH 24 BATCH 19/38 TRAIN LOSS : 0.0011916971998289227 TRAIN ACCURACY : 100.0 VALIDATION LOSS : 0.01708174898969726 VALIDATION ACCURACY : 99.03846153846153\n",
      "--------------------------------------------------------------------------------------------\n",
      "Loss for EPOCH 24  TRAIN LOSS : 0.0015578912762545148 TRAIN PREC : [1. 1.] RECALL : [1. 1.] F1 : [1. 1.] ACC : 100.0\n",
      "VALIDATION LOSS for EPOCH 24 : 0.01708174898969726 VALIDATION PREC : [0.99 0.99] RECALL : [0.99 0.99] F1 : [0.99 0.99]  ACC : 99.03846153846153\n",
      "---------------------------------------------------------------------------------------------\n",
      "---------------------------------------EPOCH 25-------------------------------------------\n",
      "LOSS for EPOCH 25 BATCH 0/38 TRAIN LOSS : 0.0006351670599542558 TRAIN ACCURACY : 100.0 VALIDATION LOSS : 0.017395730972146757 VALIDATION ACCURACY : 99.03846153846153\n",
      "LOSS for EPOCH 25 BATCH 19/38 TRAIN LOSS : 0.00045879901153966784 TRAIN ACCURACY : 100.0 VALIDATION LOSS : 0.016830616572406143 VALIDATION ACCURACY : 99.03846153846153\n",
      "--------------------------------------------------------------------------------------------\n",
      "Loss for EPOCH 25  TRAIN LOSS : 0.0014638538195868023 TRAIN PREC : [1. 1.] RECALL : [1. 1.] F1 : [1. 1.] ACC : 100.0\n",
      "VALIDATION LOSS for EPOCH 25 : 0.016830616572406143 VALIDATION PREC : [0.99 0.99] RECALL : [0.99 0.99] F1 : [0.99 0.99]  ACC : 99.03846153846153\n",
      "---------------------------------------------------------------------------------------------\n",
      "---------------------------------------EPOCH 26-------------------------------------------\n",
      "LOSS for EPOCH 26 BATCH 0/38 TRAIN LOSS : 0.0010476330062374473 TRAIN ACCURACY : 100.0 VALIDATION LOSS : 0.016759785820165865 VALIDATION ACCURACY : 99.03846153846153\n",
      "LOSS for EPOCH 26 BATCH 19/38 TRAIN LOSS : 0.0011221603490412235 TRAIN ACCURACY : 100.0 VALIDATION LOSS : 0.023051308199333456 VALIDATION ACCURACY : 98.5576923076923\n",
      "--------------------------------------------------------------------------------------------\n",
      "Loss for EPOCH 26  TRAIN LOSS : 0.001355271693012726 TRAIN PREC : [1. 1.] RECALL : [1. 1.] F1 : [1. 1.] ACC : 100.0\n",
      "VALIDATION LOSS for EPOCH 26 : 0.023051308199333456 VALIDATION PREC : [0.99 0.99] RECALL : [0.99 0.99] F1 : [0.99 0.99]  ACC : 98.5576923076923\n",
      "---------------------------------------------------------------------------------------------\n",
      "---------------------------------------EPOCH 27-------------------------------------------\n",
      "LOSS for EPOCH 27 BATCH 0/38 TRAIN LOSS : 0.0006257338682189584 TRAIN ACCURACY : 100.0 VALIDATION LOSS : 0.016704708118385706 VALIDATION ACCURACY : 99.03846153846153\n",
      "LOSS for EPOCH 27 BATCH 19/38 TRAIN LOSS : 0.002113073831424117 TRAIN ACCURACY : 100.0 VALIDATION LOSS : 0.017186374470699005 VALIDATION ACCURACY : 99.03846153846153\n",
      "--------------------------------------------------------------------------------------------\n",
      "Loss for EPOCH 27  TRAIN LOSS : 0.0012746034925313371 TRAIN PREC : [1. 1.] RECALL : [1. 1.] F1 : [1. 1.] ACC : 100.0\n",
      "VALIDATION LOSS for EPOCH 27 : 0.017186374470699005 VALIDATION PREC : [0.99 0.99] RECALL : [0.99 0.99] F1 : [0.99 0.99]  ACC : 99.03846153846153\n",
      "---------------------------------------------------------------------------------------------\n",
      "---------------------------------------EPOCH 28-------------------------------------------\n",
      "LOSS for EPOCH 28 BATCH 0/38 TRAIN LOSS : 0.0008485149010084569 TRAIN ACCURACY : 100.0 VALIDATION LOSS : 0.016652434553879384 VALIDATION ACCURACY : 99.03846153846153\n",
      "LOSS for EPOCH 28 BATCH 19/38 TRAIN LOSS : 0.0005517742829397321 TRAIN ACCURACY : 100.0 VALIDATION LOSS : 0.024748438893136784 VALIDATION ACCURACY : 98.5576923076923\n",
      "--------------------------------------------------------------------------------------------\n",
      "Loss for EPOCH 28  TRAIN LOSS : 0.0012223917123935137 TRAIN PREC : [1. 1.] RECALL : [1. 1.] F1 : [1. 1.] ACC : 100.0\n",
      "VALIDATION LOSS for EPOCH 28 : 0.024748438893136784 VALIDATION PREC : [0.99 0.99] RECALL : [0.99 0.99] F1 : [0.99 0.99]  ACC : 98.5576923076923\n",
      "---------------------------------------------------------------------------------------------\n",
      "---------------------------------------EPOCH 29-------------------------------------------\n",
      "LOSS for EPOCH 29 BATCH 0/38 TRAIN LOSS : 0.001247514272108674 TRAIN ACCURACY : 100.0 VALIDATION LOSS : 0.024963036564608607 VALIDATION ACCURACY : 98.5576923076923\n",
      "LOSS for EPOCH 29 BATCH 19/38 TRAIN LOSS : 0.0005510412156581879 TRAIN ACCURACY : 100.0 VALIDATION LOSS : 0.016714564743989076 VALIDATION ACCURACY : 99.03846153846153\n",
      "--------------------------------------------------------------------------------------------\n",
      "Loss for EPOCH 29  TRAIN LOSS : 0.001132530111614247 TRAIN PREC : [1. 1.] RECALL : [1. 1.] F1 : [1. 1.] ACC : 100.0\n",
      "VALIDATION LOSS for EPOCH 29 : 0.016714564743989076 VALIDATION PREC : [0.99 0.99] RECALL : [0.99 0.99] F1 : [0.99 0.99]  ACC : 99.03846153846153\n",
      "---------------------------------------------------------------------------------------------\n",
      "---------------------------------------EPOCH 30-------------------------------------------\n",
      "LOSS for EPOCH 30 BATCH 0/38 TRAIN LOSS : 0.00040063823689706624 TRAIN ACCURACY : 100.0 VALIDATION LOSS : 0.016560505815924935 VALIDATION ACCURACY : 99.03846153846153\n",
      "LOSS for EPOCH 30 BATCH 19/38 TRAIN LOSS : 0.0033099742140620947 TRAIN ACCURACY : 100.0 VALIDATION LOSS : 0.016525636420388203 VALIDATION ACCURACY : 99.03846153846153\n",
      "--------------------------------------------------------------------------------------------\n",
      "Loss for EPOCH 30  TRAIN LOSS : 0.0010957080134846222 TRAIN PREC : [1. 1.] RECALL : [1. 1.] F1 : [1. 1.] ACC : 100.0\n",
      "VALIDATION LOSS for EPOCH 30 : 0.016525636420388203 VALIDATION PREC : [0.99 0.99] RECALL : [0.99 0.99] F1 : [0.99 0.99]  ACC : 99.03846153846153\n",
      "---------------------------------------------------------------------------------------------\n"
     ]
    }
   ],
   "source": [
    "from sklearn.metrics import precision_recall_fscore_support\n",
    "\n",
    "best_val_acc = 0\n",
    "\n",
    "for e in range(epoch):\n",
    "    print(f'---------------------------------------EPOCH {e+1}-------------------------------------------')\n",
    "    y_all_train_true = []\n",
    "    y_all_train_pred = []\n",
    "    y_all_val_true = []\n",
    "    y_all_val_pred = []\n",
    "    \n",
    "    for batch_idx , (x ,y) in enumerate(train_dataloader):\n",
    "        model.train() # Setting mode to train\n",
    "        optimizer.zero_grad()\n",
    "        x , y = x.to(device) , y.to(device)\n",
    "        y_pred = model(x).to(device)\n",
    "        \n",
    "        y_all_train_true+=y.cpu().detach().view(-1,).tolist()\n",
    "        y_all_train_pred+=torch.argmax(y_pred, dim=1).detach().tolist()\n",
    "        \n",
    "        # Calculating Loss\n",
    "        loss = criterion(y_pred,y.reshape(x.shape[0]))\n",
    "        loss.backward()\n",
    "        nn.utils.clip_grad_norm_(model.parameters(), 3)\n",
    "        optimizer.step()\n",
    "        loss_history[0].append(float(loss.detach()))\n",
    "        \n",
    "        #Calaculating Accuracy\n",
    "        correct = 0\n",
    "        y_pred = y_pred.cpu().detach().numpy().tolist()\n",
    "        y = y.cpu().detach().numpy().tolist()\n",
    "        for i in range(x.shape[0]):\n",
    "            n = 0\n",
    "            n = y_pred[i].index(max(y_pred[i]))\n",
    "            if n == y[i][0]:\n",
    "                correct = correct + 1\n",
    "        accuracy_history[0].append((correct/x.shape[0])*100)\n",
    "        \n",
    "        if batch_idx % (len(train_dataloader)//2) == 0:\n",
    "            # Printing Log\n",
    "            print(f'LOSS for EPOCH {e+1} BATCH {batch_idx}/{train_n_minibatches} TRAIN LOSS : {loss_history[0][-1]}',end = ' ')\n",
    "            print(f'TRAIN ACCURACY : {accuracy_history[0][-1]}',end = ' ')\n",
    "            with torch.no_grad():\n",
    "                # Calculating loss and accuracy for validation\n",
    "                model.eval()\n",
    "                for _batch_idx_ , (x ,y) in enumerate(validation_dataloader):\n",
    "                    x , y = x.to(device) , y.to(device)\n",
    "                    y_pred = model(x).to(device)\n",
    "                    \n",
    "                    y_all_val_true+=y.cpu().detach().view(-1,).tolist()\n",
    "                    y_all_val_pred+=torch.argmax(y_pred, dim=1).detach().tolist()\n",
    "                    \n",
    "                    validation_loss = criterion(y_pred,y.reshape(x.shape[0]))\n",
    "                    loss_history[1].append(float(validation_loss.detach()))\n",
    "                    \n",
    "                    correct = 0\n",
    "                    y_pred = y_pred.cpu().detach().numpy().tolist()\n",
    "                    y = y.cpu().detach().numpy().tolist()      \n",
    "                    for i in range(x.shape[0]):\n",
    "                        n = 0\n",
    "                        n = y_pred[i].index(max(y_pred[i]))\n",
    "                        if n == y[i][0]:\n",
    "                            correct = correct + 1\n",
    "                    accuracy_history[1].append((correct/x.shape[0])*100)\n",
    "                        \n",
    "                    \n",
    "                print(f'VALIDATION LOSS : {sum(loss_history[1][-1:-validation_n_minibatches-1:-1])/validation_n_minibatches}',end = ' ')\n",
    "                print(f'VALIDATION ACCURACY : {sum(accuracy_history[1][-1:-validation_n_minibatches-1:-1])/validation_n_minibatches}')\n",
    "    \n",
    "    # Saving the model progress\n",
    "    torch.save(model.state_dict(),model_name)\n",
    "    \n",
    "    results[0].append(precision_recall_fscore_support(y_all_train_true,y_all_train_pred))\n",
    "    results[1].append(precision_recall_fscore_support(y_all_val_true,y_all_val_pred))\n",
    "    \n",
    "    x = sum(accuracy_history[1][-1:-1*validation_n_minibatches-1:-1])/validation_n_minibatches\n",
    "    if x>best_val_acc:\n",
    "        best_val_acc = x\n",
    "        torch.save(model.state_dict(),'vit_best')\n",
    "    #Log for e+1th epoch\n",
    "    print(f'--------------------------------------------------------------------------------------------')\n",
    "    print(f'Loss for EPOCH {e+1}  TRAIN LOSS : {sum(loss_history[0][-1:-train_n_minibatches-1:-1])/train_n_minibatches}',end = ' ')\n",
    "    print(f'TRAIN PREC : {results[0][-1][0]} RECALL : {results[0][-1][1]} F1 : {results[0][-1][2]}',end=\" \")\n",
    "    print(f'ACC : {sum(accuracy_history[0][-1:-train_n_minibatches-1:-1])/train_n_minibatches}')\n",
    "    print(f'VALIDATION LOSS for EPOCH {e+1} : {sum(loss_history[1][-1:-1*validation_n_minibatches-1:-1])/validation_n_minibatches}',end = ' ')\n",
    "    print(f'VALIDATION PREC : {results[1][-1][0]} RECALL : {results[1][-1][1]} F1 : {results[1][-1][2]}',end=\" \")\n",
    "    print(f' ACC : {sum(accuracy_history[1][-1:-1*validation_n_minibatches-1:-1])/validation_n_minibatches}')\n",
    "\n",
    "    # if int(sum(accuracy_history[1][-1:-1*validation_n_minibatches-1:-1])/validation_n_minibatches) == 100:\n",
    "    #     break\n",
    "    print('---------------------------------------------------------------------------------------------')"
   ]
  },
  {
   "cell_type": "markdown",
   "id": "fe82be97",
   "metadata": {
    "papermill": {
     "duration": 0.021893,
     "end_time": "2023-01-14T06:52:06.471829",
     "exception": false,
     "start_time": "2023-01-14T06:52:06.449936",
     "status": "completed"
    },
    "tags": []
   },
   "source": [
    "### 5.Plotting results <a class=\"anchor\" id=\"4\"></a>"
   ]
  },
  {
   "cell_type": "markdown",
   "id": "64c3cbb3",
   "metadata": {
    "papermill": {
     "duration": 0.020208,
     "end_time": "2023-01-14T06:52:06.514087",
     "exception": false,
     "start_time": "2023-01-14T06:52:06.493879",
     "status": "completed"
    },
    "tags": []
   },
   "source": [
    "#### 1.Plotting Loss vs MiniBatch<a class=\"anchor\" id=\"5.1\"></a>"
   ]
  },
  {
   "cell_type": "code",
   "execution_count": 10,
   "id": "79537d9e",
   "metadata": {
    "execution": {
     "iopub.execute_input": "2023-01-14T06:52:06.564353Z",
     "iopub.status.busy": "2023-01-14T06:52:06.563773Z",
     "iopub.status.idle": "2023-01-14T06:52:06.952678Z",
     "shell.execute_reply": "2023-01-14T06:52:06.951750Z"
    },
    "papermill": {
     "duration": 0.418976,
     "end_time": "2023-01-14T06:52:06.955049",
     "exception": false,
     "start_time": "2023-01-14T06:52:06.536073",
     "status": "completed"
    },
    "tags": []
   },
   "outputs": [
    {
     "data": {
      "image/png": "[encoded data removed]",
      "text/plain": [
       "<Figure size 720x720 with 1 Axes>"
      ]
     },
     "metadata": {},
     "output_type": "display_data"
    }
   ],
   "source": [
    "sns.lineplot(x=range(len(loss_history[1])),y=loss_history[0][::len(loss_history[0])//len(loss_history[1])][:len(loss_history[1])])\n",
    "sns.lineplot(x=range(len(loss_history[1])),y=loss_history[1])\n",
    "\n",
    "plt.legend(loc='lower right', labels=['train', 'val'])\n",
    "plt.title(\"Loss vs MiniBatch\")\n",
    "plt.xlabel('MiniBatches')\n",
    "plt.ylabel('Loss')\n",
    "\n",
    "\n",
    "plt.show()\n"
   ]
  },
  {
   "cell_type": "markdown",
   "id": "9957a505",
   "metadata": {
    "papermill": {
     "duration": 0.014273,
     "end_time": "2023-01-14T06:52:06.983603",
     "exception": false,
     "start_time": "2023-01-14T06:52:06.969330",
     "status": "completed"
    },
    "tags": []
   },
   "source": [
    "#### 2.Plotting Accuracy vs MiniBatch<a class=\"anchor\" id=\"5.2\"></a>"
   ]
  },
  {
   "cell_type": "code",
   "execution_count": 11,
   "id": "f8f9ccfd",
   "metadata": {
    "execution": {
     "iopub.execute_input": "2023-01-14T06:52:07.013276Z",
     "iopub.status.busy": "2023-01-14T06:52:07.012330Z",
     "iopub.status.idle": "2023-01-14T06:52:07.369598Z",
     "shell.execute_reply": "2023-01-14T06:52:07.368693Z"
    },
    "papermill": {
     "duration": 0.374213,
     "end_time": "2023-01-14T06:52:07.371746",
     "exception": false,
     "start_time": "2023-01-14T06:52:06.997533",
     "status": "completed"
    },
    "tags": []
   },
   "outputs": [
    {
     "data": {
      "image/png": "[encoded data removed]",
      "text/plain": [
       "<Figure size 720x720 with 1 Axes>"
      ]
     },
     "metadata": {},
     "output_type": "display_data"
    }
   ],
   "source": [
    "sns.lineplot(x=range(len(accuracy_history[1])),y=accuracy_history[0][::len(accuracy_history[0])//len(accuracy_history[1])][:len(accuracy_history[1])])\n",
    "sns.lineplot(x=range(len(accuracy_history[1])),y=accuracy_history[1])\n",
    "\n",
    "plt.legend(loc='lower right', labels=['train', 'val'])\n",
    "plt.title(\"Accuracy vs MiniBatch\")\n",
    "plt.xlabel('MiniBatches')\n",
    "plt.ylabel('Accuracy')\n",
    "\n",
    "plt.show()\n"
   ]
  },
  {
   "cell_type": "markdown",
   "id": "e68ec9b6",
   "metadata": {
    "papermill": {
     "duration": 0.015032,
     "end_time": "2023-01-14T06:52:07.401583",
     "exception": false,
     "start_time": "2023-01-14T06:52:07.386551",
     "status": "completed"
    },
    "tags": []
   },
   "source": [
    "#### 3.Plotting Loss vs Epoch<a class=\"anchor\" id=\"5.3\"></a>"
   ]
  },
  {
   "cell_type": "code",
   "execution_count": 12,
   "id": "e155b6bc",
   "metadata": {
    "execution": {
     "iopub.execute_input": "2023-01-14T06:52:07.433280Z",
     "iopub.status.busy": "2023-01-14T06:52:07.431798Z",
     "iopub.status.idle": "2023-01-14T06:52:07.723975Z",
     "shell.execute_reply": "2023-01-14T06:52:07.722945Z"
    },
    "papermill": {
     "duration": 0.309686,
     "end_time": "2023-01-14T06:52:07.726022",
     "exception": false,
     "start_time": "2023-01-14T06:52:07.416336",
     "status": "completed"
    },
    "tags": []
   },
   "outputs": [
    {
     "data": {
      "image/png": "[encoded data removed]",
      "text/plain": [
       "<Figure size 720x720 with 1 Axes>"
      ]
     },
     "metadata": {},
     "output_type": "display_data"
    }
   ],
   "source": [
    "# Plotting Loss per epoch\n",
    "loss_per_epoch = [[],[]]\n",
    "for i in range(epoch):\n",
    "    temp = 0\n",
    "    for j in loss_history[0][i*train_n_minibatches:(i+1)*train_n_minibatches]:\n",
    "        temp = temp + j\n",
    "    loss_per_epoch[0].append(temp/train_n_minibatches)\n",
    "    temp = 0\n",
    "    for j in loss_history[1][i*validation_n_minibatches:(i+1)*validation_n_minibatches]:\n",
    "        temp = temp + j\n",
    "    loss_per_epoch[1].append(temp/validation_n_minibatches)    \n",
    "\n",
    "sns.lineplot(x=range(len(loss_per_epoch[0])),y=loss_per_epoch[0])\n",
    "sns.lineplot(x=range(len(loss_per_epoch[1])),y=loss_per_epoch[1])\n",
    "\n",
    "plt.legend(loc='lower right', labels=['train', 'val'])\n",
    "plt.title(\"Loss vs Epoch\")\n",
    "plt.xlabel('Epochs')\n",
    "plt.ylabel('Loss')\n",
    "\n",
    "\n",
    "plt.show()"
   ]
  },
  {
   "cell_type": "markdown",
   "id": "1aa1fc04",
   "metadata": {
    "papermill": {
     "duration": 0.014936,
     "end_time": "2023-01-14T06:52:07.756216",
     "exception": false,
     "start_time": "2023-01-14T06:52:07.741280",
     "status": "completed"
    },
    "tags": []
   },
   "source": [
    "#### 4.Plotting Accuracy vs Epoch<a class=\"anchor\" id=\"5.4\"></a>"
   ]
  },
  {
   "cell_type": "code",
   "execution_count": 13,
   "id": "b87f09e6",
   "metadata": {
    "execution": {
     "iopub.execute_input": "2023-01-14T06:52:07.787858Z",
     "iopub.status.busy": "2023-01-14T06:52:07.787535Z",
     "iopub.status.idle": "2023-01-14T06:52:08.081575Z",
     "shell.execute_reply": "2023-01-14T06:52:08.080693Z"
    },
    "papermill": {
     "duration": 0.311997,
     "end_time": "2023-01-14T06:52:08.083539",
     "exception": false,
     "start_time": "2023-01-14T06:52:07.771542",
     "status": "completed"
    },
    "tags": []
   },
   "outputs": [
    {
     "data": {
      "image/png": "[encoded data removed]",
      "text/plain": [
       "<Figure size 720x720 with 1 Axes>"
      ]
     },
     "metadata": {},
     "output_type": "display_data"
    }
   ],
   "source": [
    "# Plotting Accuracy per epoch\n",
    "accuracy_per_epoch = [[],[]]\n",
    "for i in range(epoch):\n",
    "    temp = 0\n",
    "    for j in accuracy_history[0][i*train_n_minibatches:(i+1)*train_n_minibatches]:\n",
    "        temp = temp + j\n",
    "    accuracy_per_epoch[0].append(temp/train_n_minibatches)\n",
    "    temp = 0\n",
    "    for j in accuracy_history[1][i*validation_n_minibatches:(i+1)*validation_n_minibatches]:\n",
    "        temp = temp + j\n",
    "    accuracy_per_epoch[1].append(temp/validation_n_minibatches)    \n",
    "\n",
    "sns.lineplot(x=range(len(accuracy_per_epoch[0])),y=accuracy_per_epoch[0])\n",
    "sns.lineplot(x=range(len(accuracy_per_epoch[1])),y=accuracy_per_epoch[1])\n",
    "\n",
    "plt.legend(loc='lower right', labels=['train', 'val'])\n",
    "plt.title(\"Accuracy vs Epoch\")\n",
    "plt.xlabel('Epochs')\n",
    "plt.ylabel('Accuracy')\n",
    "\n",
    "plt.show()"
   ]
  },
  {
   "cell_type": "markdown",
   "id": "c1b70e4d",
   "metadata": {
    "papermill": {
     "duration": 0.015475,
     "end_time": "2023-01-14T06:52:08.114858",
     "exception": false,
     "start_time": "2023-01-14T06:52:08.099383",
     "status": "completed"
    },
    "tags": []
   },
   "source": [
    "#### 5.Plotting F1Score vs Epoch<a class=\"anchor\" id=\"5.4\"></a>"
   ]
  },
  {
   "cell_type": "code",
   "execution_count": 14,
   "id": "ff8857bf",
   "metadata": {
    "execution": {
     "iopub.execute_input": "2023-01-14T06:52:08.147076Z",
     "iopub.status.busy": "2023-01-14T06:52:08.146388Z",
     "iopub.status.idle": "2023-01-14T06:52:08.473345Z",
     "shell.execute_reply": "2023-01-14T06:52:08.472477Z"
    },
    "papermill": {
     "duration": 0.345052,
     "end_time": "2023-01-14T06:52:08.475368",
     "exception": false,
     "start_time": "2023-01-14T06:52:08.130316",
     "status": "completed"
    },
    "tags": []
   },
   "outputs": [
    {
     "data": {
      "image/png": "[encoded data removed]",
      "text/plain": [
       "<Figure size 720x720 with 1 Axes>"
      ]
     },
     "metadata": {},
     "output_type": "display_data"
    }
   ],
   "source": [
    "labels = {0:'Positive',\n",
    "1:'Negative'}\n",
    "\n",
    "legend = []\n",
    "\n",
    "\n",
    "\n",
    "for j in range(2):\n",
    "    sns.lineplot(x=range(len(results[0])),y=[results[0][i][2][j] for i in range(len(results[0]))])\n",
    "    sns.lineplot(x=range(len(results[1])),y=[results[1][i][2][j] for i in range(len(results[1]))])\n",
    "    legend+=[labels[j]+'train', labels[j]+'val']\n",
    "\n",
    "\n",
    "\n",
    "plt.legend(loc='lower right', labels=legend)\n",
    "plt.title(\"F1 Score vs Epoch\")\n",
    "plt.xlabel('Epochs')\n",
    "plt.ylabel('F1 Score')\n",
    "\n",
    "\n",
    "plt.show()"
   ]
  },
  {
   "cell_type": "markdown",
   "id": "cc59cdc4",
   "metadata": {
    "papermill": {
     "duration": 0.015528,
     "end_time": "2023-01-14T06:52:08.507067",
     "exception": false,
     "start_time": "2023-01-14T06:52:08.491539",
     "status": "completed"
    },
    "tags": []
   },
   "source": [
    "#### 6.Plotting Recall vs Epoch<a class=\"anchor\" id=\"5.4\"></a>"
   ]
  },
  {
   "cell_type": "code",
   "execution_count": 15,
   "id": "4ca9c840",
   "metadata": {
    "execution": {
     "iopub.execute_input": "2023-01-14T06:52:08.540971Z",
     "iopub.status.busy": "2023-01-14T06:52:08.539532Z",
     "iopub.status.idle": "2023-01-14T06:52:08.879371Z",
     "shell.execute_reply": "2023-01-14T06:52:08.878506Z"
    },
    "papermill": {
     "duration": 0.358489,
     "end_time": "2023-01-14T06:52:08.881304",
     "exception": false,
     "start_time": "2023-01-14T06:52:08.522815",
     "status": "completed"
    },
    "tags": []
   },
   "outputs": [
    {
     "data": {
      "image/png": "[encoded data removed]",
      "text/plain": [
       "<Figure size 720x720 with 1 Axes>"
      ]
     },
     "metadata": {},
     "output_type": "display_data"
    }
   ],
   "source": [
    "for j in range(2):\n",
    "    sns.lineplot(x=range(len(results[0])),y=[results[0][i][1][j] for i in range(len(results[0]))])\n",
    "    sns.lineplot(x=range(len(results[1])),y=[results[1][i][1][j] for i in range(len(results[1]))])\n",
    "\n",
    "\n",
    "plt.legend(loc='lower right', labels=legend)\n",
    "plt.title(\"Recall vs Epoch\")\n",
    "plt.xlabel('Epochs')\n",
    "plt.ylabel('Recall Score')\n",
    "\n",
    "\n",
    "plt.show()"
   ]
  },
  {
   "cell_type": "markdown",
   "id": "aa917d7a",
   "metadata": {
    "papermill": {
     "duration": 0.016058,
     "end_time": "2023-01-14T06:52:08.913970",
     "exception": false,
     "start_time": "2023-01-14T06:52:08.897912",
     "status": "completed"
    },
    "tags": []
   },
   "source": [
    "#### 6.Plotting Precision vs Epoch<a class=\"anchor\" id=\"5.4\"></a>"
   ]
  },
  {
   "cell_type": "code",
   "execution_count": 16,
   "id": "dacb91e4",
   "metadata": {
    "execution": {
     "iopub.execute_input": "2023-01-14T06:52:08.947817Z",
     "iopub.status.busy": "2023-01-14T06:52:08.947509Z",
     "iopub.status.idle": "2023-01-14T06:52:09.269677Z",
     "shell.execute_reply": "2023-01-14T06:52:09.268824Z"
    },
    "papermill": {
     "duration": 0.341363,
     "end_time": "2023-01-14T06:52:09.271653",
     "exception": false,
     "start_time": "2023-01-14T06:52:08.930290",
     "status": "completed"
    },
    "tags": []
   },
   "outputs": [
    {
     "data": {
      "image/png": "[encoded data removed]",
      "text/plain": [
       "<Figure size 720x720 with 1 Axes>"
      ]
     },
     "metadata": {},
     "output_type": "display_data"
    }
   ],
   "source": [
    "for j in range(2):\n",
    "    sns.lineplot(x=range(len(results[0])),y=[results[0][i][0][j] for i in range(len(results[0]))])\n",
    "    sns.lineplot(x=range(len(results[1])),y=[results[1][i][0][j] for i in range(len(results[1]))])\n",
    "\n",
    "\n",
    "plt.legend(loc='lower right', labels=legend)\n",
    "plt.title(\"Precision vs Epoch\")\n",
    "plt.xlabel('Epochs')\n",
    "plt.ylabel('Precision Score')\n",
    "\n",
    "\n",
    "plt.show()"
   ]
  },
  {
   "cell_type": "markdown",
   "id": "8e0be4b1",
   "metadata": {
    "papermill": {
     "duration": 0.01663,
     "end_time": "2023-01-14T06:52:09.305404",
     "exception": false,
     "start_time": "2023-01-14T06:52:09.288774",
     "status": "completed"
    },
    "tags": []
   },
   "source": [
    "### 6.Testing <a class=\"anchor\" id=\"6\"></a>"
   ]
  },
  {
   "cell_type": "code",
   "execution_count": 17,
   "id": "7b87ab2e",
   "metadata": {
    "execution": {
     "iopub.execute_input": "2023-01-14T06:52:09.340258Z",
     "iopub.status.busy": "2023-01-14T06:52:09.339515Z",
     "iopub.status.idle": "2023-01-14T06:52:11.271456Z",
     "shell.execute_reply": "2023-01-14T06:52:11.269955Z"
    },
    "papermill": {
     "duration": 1.952873,
     "end_time": "2023-01-14T06:52:11.274804",
     "exception": false,
     "start_time": "2023-01-14T06:52:09.321931",
     "status": "completed"
    },
    "tags": []
   },
   "outputs": [
    {
     "name": "stdout",
     "output_type": "stream",
     "text": [
      "LOSS : 0.017205384703209765  ACCURACY : 100.0\n",
      "TEST PREC: [1. 1.] RECALL: [1. 1.] F1 SCORE: [1. 1.] SUPPORT: [100 100]\n"
     ]
    }
   ],
   "source": [
    "y_all_true = []\n",
    "y_all_pred = []\n",
    "test_loss_history = []\n",
    "test_accuracy_history = []\n",
    "\n",
    "\n",
    "model.eval()\n",
    "for _batch_idx_ , (x ,y) in enumerate(test_dataloader):\n",
    "    x , y = x.to(device) , y.to(device)\n",
    "    y_pred = model(x)\n",
    "    test_loss = criterion(y_pred,y.reshape(x.shape[0]))\n",
    "    test_loss_history.append(float(test_loss.detach()))\n",
    "    correct = 0\n",
    "    y_all_true+=y.cpu().detach().view(-1,).tolist()\n",
    "    y_all_pred+=torch.argmax(y_pred, dim=1).detach().tolist()\n",
    "    y_pred = y_pred.cpu().detach().numpy().tolist()\n",
    "    y = y.cpu().detach().numpy().tolist()      \n",
    "    for i in range(x.shape[0]):\n",
    "        n = 0\n",
    "        n = y_pred[i].index(max(y_pred[i]))\n",
    "        if n == y[i][0]:\n",
    "            correct = correct + 1\n",
    "    test_accuracy_history.append((correct/len(y))*100)\n",
    "    \n",
    "\n",
    "                        \n",
    "print(f'LOSS : {sum(test_loss_history)/len(test_loss_history)}  ACCURACY : {sum(test_accuracy_history)/len(test_accuracy_history)}')                    \n",
    "\n",
    "result = precision_recall_fscore_support(y_all_true,y_all_pred)\n",
    "\n",
    "print(f\"TEST PREC: {result[0]} RECALL: {result[1]} F1 SCORE: {result[2]} SUPPORT: {result[3]}\")\n"
   ]
  },
  {
   "cell_type": "code",
   "execution_count": 18,
   "id": "c622d826",
   "metadata": {
    "execution": {
     "iopub.execute_input": "2023-01-14T06:52:11.314488Z",
     "iopub.status.busy": "2023-01-14T06:52:11.314166Z",
     "iopub.status.idle": "2023-01-14T06:52:14.217293Z",
     "shell.execute_reply": "2023-01-14T06:52:14.216409Z"
    },
    "papermill": {
     "duration": 2.92559,
     "end_time": "2023-01-14T06:52:14.219578",
     "exception": false,
     "start_time": "2023-01-14T06:52:11.293988",
     "status": "completed"
    },
    "tags": []
   },
   "outputs": [
    {
     "data": {
      "text/html": [
       "<div>\n",
       "<style scoped>\n",
       "    .dataframe tbody tr th:only-of-type {\n",
       "        vertical-align: middle;\n",
       "    }\n",
       "\n",
       "    .dataframe tbody tr th {\n",
       "        vertical-align: top;\n",
       "    }\n",
       "\n",
       "    .dataframe thead th {\n",
       "        text-align: right;\n",
       "    }\n",
       "</style>\n",
       "<table border=\"1\" class=\"dataframe\">\n",
       "  <thead>\n",
       "    <tr style=\"text-align: right;\">\n",
       "      <th></th>\n",
       "      <th>image</th>\n",
       "      <th>category</th>\n",
       "    </tr>\n",
       "  </thead>\n",
       "  <tbody>\n",
       "    <tr>\n",
       "      <th>0</th>\n",
       "      <td>IMG_1133.JPG</td>\n",
       "      <td>1</td>\n",
       "    </tr>\n",
       "    <tr>\n",
       "      <th>1</th>\n",
       "      <td>IMG_1129.JPG</td>\n",
       "      <td>1</td>\n",
       "    </tr>\n",
       "    <tr>\n",
       "      <th>2</th>\n",
       "      <td>IMG_1132.JPG</td>\n",
       "      <td>2</td>\n",
       "    </tr>\n",
       "    <tr>\n",
       "      <th>3</th>\n",
       "      <td>IMG_1130.JPG</td>\n",
       "      <td>2</td>\n",
       "    </tr>\n",
       "    <tr>\n",
       "      <th>4</th>\n",
       "      <td>IMG_1134.JPG</td>\n",
       "      <td>1</td>\n",
       "    </tr>\n",
       "    <tr>\n",
       "      <th>5</th>\n",
       "      <td>IMG_1131.JPG</td>\n",
       "      <td>1</td>\n",
       "    </tr>\n",
       "  </tbody>\n",
       "</table>\n",
       "</div>"
      ],
      "text/plain": [
       "          image  category\n",
       "0  IMG_1133.JPG         1\n",
       "1  IMG_1129.JPG         1\n",
       "2  IMG_1132.JPG         2\n",
       "3  IMG_1130.JPG         2\n",
       "4  IMG_1134.JPG         1\n",
       "5  IMG_1131.JPG         1"
      ]
     },
     "execution_count": 18,
     "metadata": {},
     "output_type": "execute_result"
    }
   ],
   "source": [
    "class TestDataset(Dataset):\n",
    "    def __init__(self,x,transform = 'T.Resize((224,224))'):\n",
    "        self.transform = transform\n",
    "        self.x = x\n",
    "        self.len = len(x)\n",
    "   \n",
    "    def __len__(self):\n",
    "        return self.len\n",
    "    \n",
    "    def __getitem__(self,i):\n",
    "        img = Image.open(self.x[i]).convert('RGB')\n",
    "        return torch.FloatTensor(np.asarray(self.transform(img)))\n",
    "    \n",
    "\n",
    "test_img = [path+\"predict/\"+i for i in os.listdir(path+\"predict/\")]\n",
    "test_dataset = TestDataset(test_img,transform =transforms_test)\n",
    "test_dataloader = DataLoader(test_dataset , batch_size = batch_size , shuffle = False )\n",
    "\n",
    "predictions = []\n",
    "with torch.no_grad():\n",
    "    model.eval()\n",
    "    for _batch_idx_ , x in enumerate(test_dataloader):\n",
    "        x = x.to(device)\n",
    "        y_pred = model(x).to(device)\n",
    "        pred = torch.argmax(y_pred, dim=1)+1\n",
    "        predictions+=pred.cpu().tolist()\n",
    "\n",
    "df = pd.DataFrame(list(zip([test_img[i].split('/')[-1] for i in range(len(test_img))], predictions)), index =None, columns =['image', 'category'])\n",
    "df.to_csv(\"submission.csv\", index=False)\n",
    "df"
   ]
  }
 ],
 "metadata": {
  "kernelspec": {
   "display_name": "Python 3",
   "language": "python",
   "name": "python3"
  },
  "language_info": {
   "codemirror_mode": {
    "name": "ipython",
    "version": 3
   },
   "file_extension": ".py",
   "mimetype": "text/x-python",
   "name": "python",
   "nbconvert_exporter": "python",
   "pygments_lexer": "ipython3",
   "version": "3.7.12"
  },
  "papermill": {
   "default_parameters": {},
   "duration": 263.385337,
   "end_time": "2023-01-14T06:52:16.635160",
   "environment_variables": {},
   "exception": null,
   "input_path": "__notebook__.ipynb",
   "output_path": "__notebook__.ipynb",
   "parameters": {},
   "start_time": "2023-01-14T06:47:53.249823",
   "version": "2.3.4"
  }
 },
 "nbformat": 4,
 "nbformat_minor": 5
}
