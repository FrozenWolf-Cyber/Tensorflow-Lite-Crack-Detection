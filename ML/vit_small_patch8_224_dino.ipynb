{
 "cells": [
  {
   "cell_type": "markdown",
   "id": "15993609",
   "metadata": {
    "papermill": {
     "duration": 0.007393,
     "end_time": "2023-01-14T06:52:59.276704",
     "exception": false,
     "start_time": "2023-01-14T06:52:59.269311",
     "status": "completed"
    },
    "tags": []
   },
   "source": [
    "## Contents\n",
    "-  [1.Importing Libraries](#1)\n",
    "-  [2.Dataset Management](#2)\n",
    "    -  [2.1.Downloading and Extracting Dataset](#2.1)\n",
    "    -  [2.2.Visualizing Dataset](#2.2)\n",
    "    -  [2.3.Splitting Dataset](#2.3)\n",
    "    -  [2.4.Pytorch DataLoaders](#2.4)\n",
    "-  [3.Initializing pre-trained model](#3)\n",
    "-  [4.Training](#4)\n",
    "-  [5.Plotting Results](#5)\n",
    "    -  [5.1.Plotting Loss vs MiniBatch](#5.1)\n",
    "    -  [5.2.Plotting Accuracy vs MiniBatch](#5.2)\n",
    "    -  [5.3.Plotting Loss vs Epoch](#5.3)\n",
    "    -  [5.4.Plotting Accuracy vs Epoch](#5.4)\n",
    "    -  [5.5.Plotting F1 Score vs Epoch](#5.5)\n",
    "    -  [5.6.Plotting Recall vs Epoch](#5.6)\n",
    "    -  [5.7.Plotting Precision vs Epoch](#5.7)\n",
    "-  [6.Testing](#6)"
   ]
  },
  {
   "cell_type": "markdown",
   "id": "ae0ab503",
   "metadata": {
    "papermill": {
     "duration": 0.005922,
     "end_time": "2023-01-14T06:52:59.288929",
     "exception": false,
     "start_time": "2023-01-14T06:52:59.283007",
     "status": "completed"
    },
    "tags": []
   },
   "source": [
    "### 1.Importing Libraries <a class=\"anchor\" id=\"1\"></a>"
   ]
  },
  {
   "cell_type": "code",
   "execution_count": 1,
   "id": "4b2de47f",
   "metadata": {
    "execution": {
     "iopub.execute_input": "2023-01-14T06:52:59.303728Z",
     "iopub.status.busy": "2023-01-14T06:52:59.302854Z",
     "iopub.status.idle": "2023-01-14T06:53:14.157855Z",
     "shell.execute_reply": "2023-01-14T06:53:14.156757Z"
    },
    "papermill": {
     "duration": 14.86572,
     "end_time": "2023-01-14T06:53:14.160717",
     "exception": false,
     "start_time": "2023-01-14T06:52:59.294997",
     "status": "completed"
    },
    "tags": []
   },
   "outputs": [
    {
     "name": "stdout",
     "output_type": "stream",
     "text": [
      "Collecting timm\r\n",
      "  Downloading timm-0.6.12-py3-none-any.whl (549 kB)\r\n",
      "\u001b[2K     \u001b[90m━━━━━━━━━━━━━━━━━━━━━━━━━━━━━━━━━━━━━━━\u001b[0m \u001b[32m549.1/549.1 kB\u001b[0m \u001b[31m1.7 MB/s\u001b[0m eta \u001b[36m0:00:00\u001b[0m\r\n",
      "\u001b[?25hRequirement already satisfied: huggingface-hub in /opt/conda/lib/python3.7/site-packages (from timm) (0.10.1)\r\n",
      "Requirement already satisfied: torchvision in /opt/conda/lib/python3.7/site-packages (from timm) (0.12.0)\r\n",
      "Requirement already satisfied: pyyaml in /opt/conda/lib/python3.7/site-packages (from timm) (6.0)\r\n",
      "Requirement already satisfied: torch>=1.7 in /opt/conda/lib/python3.7/site-packages (from timm) (1.11.0)\r\n",
      "Requirement already satisfied: typing-extensions in /opt/conda/lib/python3.7/site-packages (from torch>=1.7->timm) (4.1.1)\r\n",
      "Requirement already satisfied: filelock in /opt/conda/lib/python3.7/site-packages (from huggingface-hub->timm) (3.7.1)\r\n",
      "Requirement already satisfied: requests in /opt/conda/lib/python3.7/site-packages (from huggingface-hub->timm) (2.28.1)\r\n",
      "Requirement already satisfied: importlib-metadata in /opt/conda/lib/python3.7/site-packages (from huggingface-hub->timm) (4.13.0)\r\n",
      "Requirement already satisfied: tqdm in /opt/conda/lib/python3.7/site-packages (from huggingface-hub->timm) (4.64.0)\r\n",
      "Requirement already satisfied: packaging>=20.9 in /opt/conda/lib/python3.7/site-packages (from huggingface-hub->timm) (22.0)\r\n",
      "Requirement already satisfied: pillow!=8.3.*,>=5.3.0 in /opt/conda/lib/python3.7/site-packages (from torchvision->timm) (9.1.1)\r\n",
      "Requirement already satisfied: numpy in /opt/conda/lib/python3.7/site-packages (from torchvision->timm) (1.21.6)\r\n",
      "Requirement already satisfied: zipp>=0.5 in /opt/conda/lib/python3.7/site-packages (from importlib-metadata->huggingface-hub->timm) (3.8.0)\r\n",
      "Requirement already satisfied: charset-normalizer<3,>=2 in /opt/conda/lib/python3.7/site-packages (from requests->huggingface-hub->timm) (2.1.0)\r\n",
      "Requirement already satisfied: idna<4,>=2.5 in /opt/conda/lib/python3.7/site-packages (from requests->huggingface-hub->timm) (3.3)\r\n",
      "Requirement already satisfied: urllib3<1.27,>=1.21.1 in /opt/conda/lib/python3.7/site-packages (from requests->huggingface-hub->timm) (1.26.13)\r\n",
      "Requirement already satisfied: certifi>=2017.4.17 in /opt/conda/lib/python3.7/site-packages (from requests->huggingface-hub->timm) (2022.12.7)\r\n",
      "Installing collected packages: timm\r\n",
      "Successfully installed timm-0.6.12\r\n",
      "\u001b[33mWARNING: Running pip as the 'root' user can result in broken permissions and conflicting behaviour with the system package manager. It is recommended to use a virtual environment instead: https://pip.pypa.io/warnings/venv\u001b[0m\u001b[33m\r\n",
      "\u001b[0m"
     ]
    }
   ],
   "source": [
    "!pip install timm\n",
    "import timm"
   ]
  },
  {
   "cell_type": "code",
   "execution_count": 2,
   "id": "61a64be2",
   "metadata": {
    "execution": {
     "iopub.execute_input": "2023-01-14T06:53:14.178046Z",
     "iopub.status.busy": "2023-01-14T06:53:14.176319Z",
     "iopub.status.idle": "2023-01-14T06:53:14.845373Z",
     "shell.execute_reply": "2023-01-14T06:53:14.844396Z"
    },
    "papermill": {
     "duration": 0.679746,
     "end_time": "2023-01-14T06:53:14.847808",
     "exception": false,
     "start_time": "2023-01-14T06:53:14.168062",
     "status": "completed"
    },
    "tags": []
   },
   "outputs": [],
   "source": [
    "import torch\n",
    "import torch.nn as nn\n",
    "import torch.nn.functional as F\n",
    "import torchvision.transforms as T\n",
    "from torch.utils.data import Dataset as Dataset\n",
    "from torch.utils.data import DataLoader as DataLoader\n",
    "import pandas as pd\n",
    "import matplotlib.pyplot as plt\n",
    "import numpy as np\n",
    "import seaborn as sns\n",
    "from PIL import Image\n",
    "import os\n",
    "import random\n",
    "\n",
    "torch.cuda.empty_cache()\n",
    "# random.seed(0)\n",
    "# np.random.seed(0)\n",
    "torch.manual_seed(0)\n",
    "\n",
    "sns.set_style(\"darkgrid\")\n",
    "plt.rcParams[\"figure.figsize\"] = (10,10)\n"
   ]
  },
  {
   "cell_type": "markdown",
   "id": "da954d33",
   "metadata": {
    "papermill": {
     "duration": 0.006855,
     "end_time": "2023-01-14T06:53:14.861953",
     "exception": false,
     "start_time": "2023-01-14T06:53:14.855098",
     "status": "completed"
    },
    "tags": []
   },
   "source": [
    "### 2.Dataset Managament <a class=\"anchor\" id=\"2\"></a>"
   ]
  },
  {
   "cell_type": "markdown",
   "id": "5e7554c6",
   "metadata": {
    "papermill": {
     "duration": 0.007096,
     "end_time": "2023-01-14T06:53:14.877671",
     "exception": false,
     "start_time": "2023-01-14T06:53:14.870575",
     "status": "completed"
    },
    "tags": []
   },
   "source": [
    "#### 1.Downloading and Extracting Dataset <a class=\"anchor\" id=\"2.1\"></a>"
   ]
  },
  {
   "cell_type": "code",
   "execution_count": 3,
   "id": "5709763b",
   "metadata": {
    "execution": {
     "iopub.execute_input": "2023-01-14T06:53:14.893934Z",
     "iopub.status.busy": "2023-01-14T06:53:14.893590Z",
     "iopub.status.idle": "2023-01-14T06:53:14.898697Z",
     "shell.execute_reply": "2023-01-14T06:53:14.897813Z"
    },
    "papermill": {
     "duration": 0.015587,
     "end_time": "2023-01-14T06:53:14.900638",
     "exception": false,
     "start_time": "2023-01-14T06:53:14.885051",
     "status": "completed"
    },
    "tags": []
   },
   "outputs": [],
   "source": [
    "path = '/kaggle/input/surface-crack/'"
   ]
  },
  {
   "cell_type": "markdown",
   "id": "b0864c21",
   "metadata": {
    "papermill": {
     "duration": 0.006768,
     "end_time": "2023-01-14T06:53:14.914287",
     "exception": false,
     "start_time": "2023-01-14T06:53:14.907519",
     "status": "completed"
    },
    "tags": []
   },
   "source": [
    "#### 2.Visualizing Dataset <a class=\"anchor\" id=\"2.2\"></a>"
   ]
  },
  {
   "cell_type": "markdown",
   "id": "f7e69a66",
   "metadata": {
    "papermill": {
     "duration": 0.006847,
     "end_time": "2023-01-14T06:53:14.928026",
     "exception": false,
     "start_time": "2023-01-14T06:53:14.921179",
     "status": "completed"
    },
    "tags": []
   },
   "source": [
    "#### 3.Splitting Dataset <a class=\"anchor\" id=\"2.3\"></a>"
   ]
  },
  {
   "cell_type": "code",
   "execution_count": 4,
   "id": "618acc67",
   "metadata": {
    "execution": {
     "iopub.execute_input": "2023-01-14T06:53:14.943954Z",
     "iopub.status.busy": "2023-01-14T06:53:14.943595Z",
     "iopub.status.idle": "2023-01-14T06:53:15.116258Z",
     "shell.execute_reply": "2023-01-14T06:53:15.115266Z"
    },
    "papermill": {
     "duration": 0.18371,
     "end_time": "2023-01-14T06:53:15.118855",
     "exception": false,
     "start_time": "2023-01-14T06:53:14.935145",
     "status": "completed"
    },
    "tags": []
   },
   "outputs": [],
   "source": [
    "import os\n",
    "\n",
    "image = {}\n",
    "label = {}\n",
    "\n",
    "\n",
    "\n",
    "for i in os.listdir(path):\n",
    "    if i not in image:\n",
    "        image[i] = []\n",
    "        label[i] = []\n",
    "    \n",
    "    if i == \"predict\":\n",
    "        for k in os.listdir(path+i):\n",
    "            image[i].append(path+i+'/'+k)\n",
    "            label[i].append(1 if j == \"Positive\" else 0)\n",
    "        continue\n",
    "        \n",
    "    for j in os.listdir(path+i):\n",
    "        for k in os.listdir(path+i+'/'+j):\n",
    "            image[i].append(path+i+'/'+j+'/'+k)\n",
    "            label[i].append(1 if j == \"Positive\" else 0)"
   ]
  },
  {
   "cell_type": "markdown",
   "id": "2707c901",
   "metadata": {
    "papermill": {
     "duration": 0.006695,
     "end_time": "2023-01-14T06:53:15.132829",
     "exception": false,
     "start_time": "2023-01-14T06:53:15.126134",
     "status": "completed"
    },
    "tags": []
   },
   "source": [
    "#### 4.Pytorch DataLoaders <a class=\"anchor\" id=\"2.4\"></a>"
   ]
  },
  {
   "cell_type": "code",
   "execution_count": 5,
   "id": "ee8de005",
   "metadata": {
    "execution": {
     "iopub.execute_input": "2023-01-14T06:53:15.148140Z",
     "iopub.status.busy": "2023-01-14T06:53:15.147785Z",
     "iopub.status.idle": "2023-01-14T06:53:15.157766Z",
     "shell.execute_reply": "2023-01-14T06:53:15.156654Z"
    },
    "papermill": {
     "duration": 0.020762,
     "end_time": "2023-01-14T06:53:15.160435",
     "exception": false,
     "start_time": "2023-01-14T06:53:15.139673",
     "status": "completed"
    },
    "tags": []
   },
   "outputs": [],
   "source": [
    "from PIL import Image\n",
    "\n",
    "class Dataset(Dataset):\n",
    "    def __init__(self,x,y,transform = 'T.Resize((224,224))'):\n",
    "        self.transform = transform\n",
    "        self.x = x\n",
    "        self.y = y \n",
    "        self.len = len(x)\n",
    "   \n",
    "    def __len__(self):\n",
    "        return self.len\n",
    "    \n",
    "    def __getitem__(self,i):\n",
    "        img = Image.open(self.x[i])\n",
    "        return torch.FloatTensor(np.asarray(self.transform(img))),torch.LongTensor([self.y[i]])\n",
    "\n",
    "batch_size = 16\n",
    "\n",
    "transforms_train = T.Compose([\n",
    "        T.Resize((224,224)),\n",
    "#         T.RandomRotation(degrees=(-45, 45)),\n",
    "#         T.RandomHorizontalFlip(),\n",
    "#         T.RandomVerticalFlip(),\n",
    "        T.ToTensor(),\n",
    "#         T.Normalize([0.485, 0.456, 0.406], [0.229, 0.224, 0.225])\n",
    "    ])\n",
    "\n",
    "transforms_test = T.Compose([\n",
    "        T.Resize((224,224)),\n",
    "        T.ToTensor(),\n",
    "#         T.Normalize(mean=[0.485, 0.456, 0.406], std=[0.229, 0.224, 0.225])\n",
    "    ])\n",
    "\n",
    "train_dataset = Dataset(image['train'],label['train'],transform =transforms_train)\n",
    "validation_dataset = Dataset(image['valid'],label['valid'],transform =transforms_test)\n",
    "test_dataset = Dataset(image['test'],label['test'],transform =transforms_test)\n",
    "\n",
    "train_dataloader = DataLoader(train_dataset , batch_size = batch_size , shuffle = True )\n",
    "validation_dataloader = DataLoader(validation_dataset , batch_size = batch_size , shuffle = True )\n",
    "test_dataloader = DataLoader(test_dataset , batch_size = batch_size , shuffle = True )"
   ]
  },
  {
   "cell_type": "code",
   "execution_count": 6,
   "id": "8adbd858",
   "metadata": {
    "execution": {
     "iopub.execute_input": "2023-01-14T06:53:15.175895Z",
     "iopub.status.busy": "2023-01-14T06:53:15.175607Z",
     "iopub.status.idle": "2023-01-14T06:53:15.297940Z",
     "shell.execute_reply": "2023-01-14T06:53:15.296918Z"
    },
    "papermill": {
     "duration": 0.13248,
     "end_time": "2023-01-14T06:53:15.300320",
     "exception": false,
     "start_time": "2023-01-14T06:53:15.167840",
     "status": "completed"
    },
    "tags": []
   },
   "outputs": [
    {
     "data": {
      "text/plain": [
       "[tensor([[[[0.7529, 0.7373, 0.7333,  ..., 0.7569, 0.7608, 0.7608],\n",
       "           [0.7373, 0.7333, 0.7412,  ..., 0.7529, 0.7608, 0.7608],\n",
       "           [0.7216, 0.7333, 0.7529,  ..., 0.7529, 0.7569, 0.7569],\n",
       "           ...,\n",
       "           [0.7020, 0.7059, 0.7098,  ..., 0.7608, 0.7529, 0.7529],\n",
       "           [0.7020, 0.7137, 0.7176,  ..., 0.7412, 0.7294, 0.7216],\n",
       "           [0.6902, 0.7059, 0.7137,  ..., 0.7255, 0.7098, 0.6941]],\n",
       " \n",
       "          [[0.7608, 0.7451, 0.7412,  ..., 0.7647, 0.7686, 0.7686],\n",
       "           [0.7451, 0.7412, 0.7490,  ..., 0.7608, 0.7686, 0.7686],\n",
       "           [0.7294, 0.7412, 0.7608,  ..., 0.7608, 0.7647, 0.7647],\n",
       "           ...,\n",
       "           [0.7059, 0.7098, 0.7137,  ..., 0.7608, 0.7529, 0.7529],\n",
       "           [0.7059, 0.7176, 0.7216,  ..., 0.7412, 0.7294, 0.7216],\n",
       "           [0.6941, 0.7098, 0.7176,  ..., 0.7255, 0.7098, 0.6941]],\n",
       " \n",
       "          [[0.7490, 0.7333, 0.7294,  ..., 0.7608, 0.7647, 0.7647],\n",
       "           [0.7333, 0.7294, 0.7373,  ..., 0.7569, 0.7647, 0.7647],\n",
       "           [0.7176, 0.7294, 0.7490,  ..., 0.7569, 0.7608, 0.7608],\n",
       "           ...,\n",
       "           [0.6863, 0.6902, 0.6941,  ..., 0.7529, 0.7451, 0.7451],\n",
       "           [0.6863, 0.6980, 0.7020,  ..., 0.7333, 0.7216, 0.7137],\n",
       "           [0.6745, 0.6902, 0.6980,  ..., 0.7176, 0.7020, 0.6863]]],\n",
       " \n",
       " \n",
       "         [[[0.7020, 0.7020, 0.6784,  ..., 0.7569, 0.7451, 0.7333],\n",
       "           [0.7216, 0.7098, 0.6902,  ..., 0.7490, 0.7451, 0.7412],\n",
       "           [0.7216, 0.6980, 0.6902,  ..., 0.7333, 0.7412, 0.7490],\n",
       "           ...,\n",
       "           [0.7373, 0.7333, 0.7333,  ..., 0.7412, 0.7451, 0.7569],\n",
       "           [0.7137, 0.7216, 0.7255,  ..., 0.7451, 0.7451, 0.7569],\n",
       "           [0.6941, 0.7020, 0.7137,  ..., 0.7529, 0.7451, 0.7529]],\n",
       " \n",
       "          [[0.7137, 0.7137, 0.6902,  ..., 0.7569, 0.7451, 0.7333],\n",
       "           [0.7333, 0.7216, 0.7020,  ..., 0.7490, 0.7451, 0.7412],\n",
       "           [0.7333, 0.7098, 0.7020,  ..., 0.7333, 0.7412, 0.7490],\n",
       "           ...,\n",
       "           [0.7412, 0.7373, 0.7373,  ..., 0.7451, 0.7490, 0.7608],\n",
       "           [0.7176, 0.7255, 0.7294,  ..., 0.7490, 0.7490, 0.7608],\n",
       "           [0.6980, 0.7059, 0.7176,  ..., 0.7569, 0.7490, 0.7569]],\n",
       " \n",
       "          [[0.6863, 0.6863, 0.6627,  ..., 0.7255, 0.7137, 0.7020],\n",
       "           [0.7059, 0.6941, 0.6745,  ..., 0.7176, 0.7137, 0.7098],\n",
       "           [0.7059, 0.6824, 0.6745,  ..., 0.7020, 0.7098, 0.7176],\n",
       "           ...,\n",
       "           [0.7098, 0.7059, 0.7059,  ..., 0.7216, 0.7255, 0.7373],\n",
       "           [0.6863, 0.6941, 0.6980,  ..., 0.7255, 0.7255, 0.7373],\n",
       "           [0.6667, 0.6745, 0.6863,  ..., 0.7333, 0.7255, 0.7333]]],\n",
       " \n",
       " \n",
       "         [[[0.6980, 0.7020, 0.7176,  ..., 0.7059, 0.7176, 0.7294],\n",
       "           [0.7255, 0.7216, 0.7216,  ..., 0.7098, 0.7176, 0.7255],\n",
       "           [0.7412, 0.7255, 0.7176,  ..., 0.7137, 0.7176, 0.7216],\n",
       "           ...,\n",
       "           [0.7608, 0.7490, 0.7412,  ..., 0.7451, 0.7490, 0.7490],\n",
       "           [0.7608, 0.7490, 0.7412,  ..., 0.7451, 0.7490, 0.7490],\n",
       "           [0.7608, 0.7529, 0.7412,  ..., 0.7412, 0.7451, 0.7490]],\n",
       " \n",
       "          [[0.7020, 0.7059, 0.7216,  ..., 0.7098, 0.7216, 0.7333],\n",
       "           [0.7294, 0.7255, 0.7255,  ..., 0.7137, 0.7216, 0.7294],\n",
       "           [0.7451, 0.7294, 0.7216,  ..., 0.7176, 0.7216, 0.7255],\n",
       "           ...,\n",
       "           [0.7647, 0.7529, 0.7451,  ..., 0.7490, 0.7529, 0.7529],\n",
       "           [0.7647, 0.7529, 0.7451,  ..., 0.7490, 0.7529, 0.7529],\n",
       "           [0.7647, 0.7569, 0.7451,  ..., 0.7451, 0.7490, 0.7529]],\n",
       " \n",
       "          [[0.6784, 0.6824, 0.6980,  ..., 0.6784, 0.6902, 0.7020],\n",
       "           [0.7059, 0.7020, 0.7020,  ..., 0.6824, 0.6902, 0.6980],\n",
       "           [0.7216, 0.7059, 0.6980,  ..., 0.6863, 0.6902, 0.6941],\n",
       "           ...,\n",
       "           [0.7412, 0.7294, 0.7216,  ..., 0.7294, 0.7333, 0.7333],\n",
       "           [0.7412, 0.7294, 0.7216,  ..., 0.7294, 0.7333, 0.7333],\n",
       "           [0.7412, 0.7333, 0.7216,  ..., 0.7255, 0.7294, 0.7333]]],\n",
       " \n",
       " \n",
       "         ...,\n",
       " \n",
       " \n",
       "         [[[0.7804, 0.7725, 0.7725,  ..., 0.7451, 0.7451, 0.7294],\n",
       "           [0.7804, 0.7686, 0.7647,  ..., 0.7608, 0.7686, 0.7647],\n",
       "           [0.7765, 0.7608, 0.7569,  ..., 0.7569, 0.7804, 0.7804],\n",
       "           ...,\n",
       "           [0.7765, 0.7804, 0.7804,  ..., 0.7686, 0.7686, 0.7686],\n",
       "           [0.7843, 0.7804, 0.7765,  ..., 0.7725, 0.7765, 0.7804],\n",
       "           [0.7882, 0.7804, 0.7725,  ..., 0.7804, 0.7922, 0.7961]],\n",
       " \n",
       "          [[0.7843, 0.7765, 0.7765,  ..., 0.7490, 0.7490, 0.7333],\n",
       "           [0.7843, 0.7725, 0.7686,  ..., 0.7647, 0.7725, 0.7686],\n",
       "           [0.7804, 0.7647, 0.7608,  ..., 0.7608, 0.7843, 0.7843],\n",
       "           ...,\n",
       "           [0.7843, 0.7882, 0.7882,  ..., 0.7804, 0.7804, 0.7804],\n",
       "           [0.7922, 0.7882, 0.7843,  ..., 0.7843, 0.7882, 0.7922],\n",
       "           [0.7961, 0.7882, 0.7804,  ..., 0.7922, 0.8039, 0.8078]],\n",
       " \n",
       "          [[0.7608, 0.7529, 0.7529,  ..., 0.7176, 0.7176, 0.7020],\n",
       "           [0.7608, 0.7490, 0.7451,  ..., 0.7333, 0.7412, 0.7373],\n",
       "           [0.7569, 0.7412, 0.7373,  ..., 0.7294, 0.7529, 0.7529],\n",
       "           ...,\n",
       "           [0.7647, 0.7686, 0.7686,  ..., 0.7529, 0.7529, 0.7529],\n",
       "           [0.7725, 0.7686, 0.7647,  ..., 0.7569, 0.7608, 0.7647],\n",
       "           [0.7765, 0.7686, 0.7608,  ..., 0.7647, 0.7765, 0.7804]]],\n",
       " \n",
       " \n",
       "         [[[0.6824, 0.6863, 0.6784,  ..., 0.7686, 0.7451, 0.7255],\n",
       "           [0.6667, 0.6902, 0.7020,  ..., 0.7490, 0.7333, 0.7176],\n",
       "           [0.6588, 0.6980, 0.7255,  ..., 0.7490, 0.7451, 0.7373],\n",
       "           ...,\n",
       "           [0.7098, 0.7176, 0.7333,  ..., 0.7725, 0.7412, 0.7059],\n",
       "           [0.6824, 0.6941, 0.7137,  ..., 0.7686, 0.7412, 0.7020],\n",
       "           [0.6863, 0.6980, 0.7216,  ..., 0.8000, 0.7647, 0.7216]],\n",
       " \n",
       "          [[0.7020, 0.7059, 0.6980,  ..., 0.7765, 0.7529, 0.7333],\n",
       "           [0.6863, 0.7098, 0.7216,  ..., 0.7569, 0.7412, 0.7255],\n",
       "           [0.6784, 0.7176, 0.7451,  ..., 0.7569, 0.7529, 0.7451],\n",
       "           ...,\n",
       "           [0.7137, 0.7216, 0.7373,  ..., 0.7804, 0.7490, 0.7137],\n",
       "           [0.6863, 0.6980, 0.7176,  ..., 0.7765, 0.7490, 0.7098],\n",
       "           [0.6902, 0.7020, 0.7255,  ..., 0.8078, 0.7725, 0.7294]],\n",
       " \n",
       "          [[0.6863, 0.6902, 0.6824,  ..., 0.7569, 0.7333, 0.7137],\n",
       "           [0.6706, 0.6941, 0.7059,  ..., 0.7373, 0.7216, 0.7059],\n",
       "           [0.6627, 0.7020, 0.7294,  ..., 0.7373, 0.7333, 0.7255],\n",
       "           ...,\n",
       "           [0.6941, 0.7020, 0.7176,  ..., 0.7686, 0.7373, 0.7020],\n",
       "           [0.6667, 0.6784, 0.6980,  ..., 0.7647, 0.7373, 0.6980],\n",
       "           [0.6706, 0.6824, 0.7059,  ..., 0.7961, 0.7608, 0.7176]]],\n",
       " \n",
       " \n",
       "         [[[0.6941, 0.7216, 0.7373,  ..., 0.5294, 0.5569, 0.6000],\n",
       "           [0.7059, 0.7294, 0.7412,  ..., 0.5843, 0.6000, 0.6314],\n",
       "           [0.7216, 0.7373, 0.7451,  ..., 0.6196, 0.6235, 0.6353],\n",
       "           ...,\n",
       "           [0.7490, 0.7490, 0.7529,  ..., 0.7255, 0.7255, 0.7216],\n",
       "           [0.7647, 0.7608, 0.7529,  ..., 0.7176, 0.7059, 0.6941],\n",
       "           [0.7765, 0.7686, 0.7529,  ..., 0.7373, 0.7137, 0.6941]],\n",
       " \n",
       "          [[0.6863, 0.7137, 0.7294,  ..., 0.5216, 0.5490, 0.5922],\n",
       "           [0.6980, 0.7216, 0.7333,  ..., 0.5765, 0.5922, 0.6235],\n",
       "           [0.7137, 0.7294, 0.7373,  ..., 0.6118, 0.6157, 0.6275],\n",
       "           ...,\n",
       "           [0.7412, 0.7412, 0.7451,  ..., 0.7176, 0.7176, 0.7137],\n",
       "           [0.7569, 0.7529, 0.7451,  ..., 0.7098, 0.6980, 0.6863],\n",
       "           [0.7686, 0.7608, 0.7451,  ..., 0.7294, 0.7059, 0.6863]],\n",
       " \n",
       "          [[0.6353, 0.6627, 0.6784,  ..., 0.4706, 0.4980, 0.5412],\n",
       "           [0.6471, 0.6706, 0.6824,  ..., 0.5255, 0.5412, 0.5725],\n",
       "           [0.6627, 0.6784, 0.6863,  ..., 0.5608, 0.5647, 0.5765],\n",
       "           ...,\n",
       "           [0.6941, 0.6941, 0.6980,  ..., 0.6706, 0.6706, 0.6667],\n",
       "           [0.7098, 0.7059, 0.6980,  ..., 0.6627, 0.6510, 0.6392],\n",
       "           [0.7216, 0.7137, 0.6980,  ..., 0.6824, 0.6588, 0.6392]]]]),\n",
       " tensor([[0],\n",
       "         [1],\n",
       "         [0],\n",
       "         [0],\n",
       "         [0],\n",
       "         [1],\n",
       "         [0],\n",
       "         [1],\n",
       "         [0],\n",
       "         [0],\n",
       "         [1],\n",
       "         [0],\n",
       "         [1],\n",
       "         [0],\n",
       "         [0],\n",
       "         [1]])]"
      ]
     },
     "execution_count": 6,
     "metadata": {},
     "output_type": "execute_result"
    }
   ],
   "source": [
    "next(iter(test_dataloader))"
   ]
  },
  {
   "cell_type": "markdown",
   "id": "8a89ddb6",
   "metadata": {
    "papermill": {
     "duration": 0.00791,
     "end_time": "2023-01-14T06:53:15.317164",
     "exception": false,
     "start_time": "2023-01-14T06:53:15.309254",
     "status": "completed"
    },
    "tags": []
   },
   "source": [
    "### 3.Initializing pre-trained model <a class=\"anchor\" id=\"3\"></a>"
   ]
  },
  {
   "cell_type": "code",
   "execution_count": 7,
   "id": "fed8af14",
   "metadata": {
    "execution": {
     "iopub.execute_input": "2023-01-14T06:53:15.334202Z",
     "iopub.status.busy": "2023-01-14T06:53:15.332627Z",
     "iopub.status.idle": "2023-01-14T06:53:20.960316Z",
     "shell.execute_reply": "2023-01-14T06:53:20.959296Z"
    },
    "papermill": {
     "duration": 5.639087,
     "end_time": "2023-01-14T06:53:20.963498",
     "exception": false,
     "start_time": "2023-01-14T06:53:15.324411",
     "status": "completed"
    },
    "tags": []
   },
   "outputs": [
    {
     "name": "stderr",
     "output_type": "stream",
     "text": [
      "Downloading: \"https://dl.fbaipublicfiles.com/dino/dino_deitsmall8_pretrain/dino_deitsmall8_pretrain.pth\" to /root/.cache/torch/hub/checkpoints/dino_deitsmall8_pretrain.pth\n"
     ]
    }
   ],
   "source": [
    "model_name = \"vit_small_patch8_224_dino\"\n",
    "class ViTBase16(nn.Module):\n",
    "    def __init__(self, n_classes):\n",
    "\n",
    "        super(ViTBase16, self).__init__()\n",
    "\n",
    "        self.model = timm.create_model(model_name, pretrained=True)\n",
    "        \n",
    "\n",
    "        self.model.head = nn.Linear(384, n_classes)\n",
    "\n",
    "    def forward(self, x):\n",
    "        x = self.model(x)\n",
    "        return x\n",
    "\n",
    "\n",
    "model = ViTBase16(2)\n",
    "for param in model.parameters():\n",
    "    param.requires_grad = True"
   ]
  },
  {
   "cell_type": "markdown",
   "id": "b1b46828",
   "metadata": {
    "papermill": {
     "duration": 0.012019,
     "end_time": "2023-01-14T06:53:20.988112",
     "exception": false,
     "start_time": "2023-01-14T06:53:20.976093",
     "status": "completed"
    },
    "tags": []
   },
   "source": [
    "### 4.Training <a class=\"anchor\" id=\"4\"></a>"
   ]
  },
  {
   "cell_type": "code",
   "execution_count": 8,
   "id": "a3c891d2",
   "metadata": {
    "execution": {
     "iopub.execute_input": "2023-01-14T06:53:21.018890Z",
     "iopub.status.busy": "2023-01-14T06:53:21.018449Z",
     "iopub.status.idle": "2023-01-14T06:53:23.914624Z",
     "shell.execute_reply": "2023-01-14T06:53:23.912713Z"
    },
    "papermill": {
     "duration": 2.918372,
     "end_time": "2023-01-14T06:53:23.918030",
     "exception": false,
     "start_time": "2023-01-14T06:53:20.999658",
     "status": "completed"
    },
    "tags": []
   },
   "outputs": [],
   "source": [
    "lr = 0.001\n",
    "epoch = 30\n",
    "train_dataset_size = train_dataset.__len__()\n",
    "validation_dataset_size = validation_dataset.__len__()\n",
    "train_n_minibatches = train_dataloader.__len__()\n",
    "validation_n_minibatches = validation_dataloader.__len__()\n",
    "\n",
    "device = 'cuda'\n",
    "model.to(device)\n",
    "loss_history = [[],[]] #[[train], [validation]]\n",
    "accuracy_history = [[],[]] #[[train], [validation]]\n",
    "# prec_history = [[],[]] #[[train], [validation]]\n",
    "# recall_history = [[],[]] #[[train], [validation]]\n",
    "# f1_history = [[],[]] #[[train], [validation]]\n",
    "# support_history = [[],[]] #[[train], [validation]]\n",
    "\n",
    "results = [[],[]]\n",
    "\n",
    "criterion = nn.CrossEntropyLoss()  \n",
    "optimizer = torch.optim.SGD(model.parameters(),lr = lr)\n",
    "\n"
   ]
  },
  {
   "cell_type": "code",
   "execution_count": 9,
   "id": "eda1f59d",
   "metadata": {
    "execution": {
     "iopub.execute_input": "2023-01-14T06:53:23.953420Z",
     "iopub.status.busy": "2023-01-14T06:53:23.952951Z",
     "iopub.status.idle": "2023-01-14T07:05:21.174384Z",
     "shell.execute_reply": "2023-01-14T07:05:21.173035Z"
    },
    "papermill": {
     "duration": 717.245006,
     "end_time": "2023-01-14T07:05:21.176502",
     "exception": false,
     "start_time": "2023-01-14T06:53:23.931496",
     "status": "completed"
    },
    "scrolled": true,
    "tags": []
   },
   "outputs": [
    {
     "name": "stdout",
     "output_type": "stream",
     "text": [
      "---------------------------------------EPOCH 1-------------------------------------------\n",
      "LOSS for EPOCH 1 BATCH 0/38 TRAIN LOSS : 0.39438170194625854 TRAIN ACCURACY : 87.5 VALIDATION LOSS : 0.47571266958346736 VALIDATION ACCURACY : 75.96153846153847\n",
      "LOSS for EPOCH 1 BATCH 19/38 TRAIN LOSS : 0.08573608100414276 TRAIN ACCURACY : 100.0 VALIDATION LOSS : 0.08887077409487504 VALIDATION ACCURACY : 98.5576923076923\n",
      "--------------------------------------------------------------------------------------------\n",
      "Loss for EPOCH 1  TRAIN LOSS : 0.21008942339961467 TRAIN PREC : [0.9044586  0.94405594] RECALL : [0.94666667 0.9       ] F1 : [0.92508143 0.92150171] ACC : 92.4342105263158\n",
      "VALIDATION LOSS for EPOCH 1 : 0.08887077409487504 VALIDATION PREC : [0.82532751 0.93567251] RECALL : [0.945 0.8  ] F1 : [0.88111888 0.86253369]  ACC : 98.5576923076923\n",
      "---------------------------------------------------------------------------------------------\n",
      "---------------------------------------EPOCH 2-------------------------------------------\n",
      "LOSS for EPOCH 2 BATCH 0/38 TRAIN LOSS : 0.025447461754083633 TRAIN ACCURACY : 100.0 VALIDATION LOSS : 0.027726864370589074 VALIDATION ACCURACY : 99.03846153846153\n",
      "LOSS for EPOCH 2 BATCH 19/38 TRAIN LOSS : 0.015351898968219757 TRAIN ACCURACY : 100.0 VALIDATION LOSS : 0.010783323642009726 VALIDATION ACCURACY : 100.0\n",
      "--------------------------------------------------------------------------------------------\n",
      "Loss for EPOCH 2  TRAIN LOSS : 0.02794730686582625 TRAIN PREC : [0.98360656 1.        ] RECALL : [1.         0.98333333] F1 : [0.99173554 0.99159664] ACC : 99.17763157894737\n",
      "VALIDATION LOSS for EPOCH 2 : 0.010783323642009726 VALIDATION PREC : [0.99009901 1.        ] RECALL : [1.   0.99] F1 : [0.99502488 0.99497487]  ACC : 100.0\n",
      "---------------------------------------------------------------------------------------------\n",
      "---------------------------------------EPOCH 3-------------------------------------------\n",
      "LOSS for EPOCH 3 BATCH 0/38 TRAIN LOSS : 0.14355096220970154 TRAIN ACCURACY : 93.75 VALIDATION LOSS : 0.007200875006114634 VALIDATION ACCURACY : 100.0\n",
      "LOSS for EPOCH 3 BATCH 19/38 TRAIN LOSS : 0.0007822994375601411 TRAIN ACCURACY : 100.0 VALIDATION LOSS : 0.005600261506445419 VALIDATION ACCURACY : 100.0\n",
      "--------------------------------------------------------------------------------------------\n",
      "Loss for EPOCH 3  TRAIN LOSS : 0.013631580372212307 TRAIN PREC : [0.99337748 1.        ] RECALL : [1.         0.99333333] F1 : [0.99667774 0.99665552] ACC : 99.67105263157895\n",
      "VALIDATION LOSS for EPOCH 3 : 0.005600261506445419 VALIDATION PREC : [1. 1.] RECALL : [1. 1.] F1 : [1. 1.]  ACC : 100.0\n",
      "---------------------------------------------------------------------------------------------\n",
      "---------------------------------------EPOCH 4-------------------------------------------\n",
      "LOSS for EPOCH 4 BATCH 0/38 TRAIN LOSS : 0.0015523262554779649 TRAIN ACCURACY : 100.0 VALIDATION LOSS : 0.004636125688333637 VALIDATION ACCURACY : 100.0\n",
      "LOSS for EPOCH 4 BATCH 19/38 TRAIN LOSS : 0.0010685076704248786 TRAIN ACCURACY : 100.0 VALIDATION LOSS : 0.0041301494728451455 VALIDATION ACCURACY : 100.0\n",
      "--------------------------------------------------------------------------------------------\n",
      "Loss for EPOCH 4  TRAIN LOSS : 0.007744913973606583 TRAIN PREC : [0.99337748 1.        ] RECALL : [1.         0.99333333] F1 : [0.99667774 0.99665552] ACC : 99.67105263157895\n",
      "VALIDATION LOSS for EPOCH 4 : 0.0041301494728451455 VALIDATION PREC : [1. 1.] RECALL : [1. 1.] F1 : [1. 1.]  ACC : 100.0\n",
      "---------------------------------------------------------------------------------------------\n",
      "---------------------------------------EPOCH 5-------------------------------------------\n",
      "LOSS for EPOCH 5 BATCH 0/38 TRAIN LOSS : 0.0034684492275118828 TRAIN ACCURACY : 100.0 VALIDATION LOSS : 0.004950696840891256 VALIDATION ACCURACY : 100.0\n",
      "LOSS for EPOCH 5 BATCH 19/38 TRAIN LOSS : 0.14459353685379028 TRAIN ACCURACY : 93.75 VALIDATION LOSS : 0.003057468812375401 VALIDATION ACCURACY : 100.0\n",
      "--------------------------------------------------------------------------------------------\n",
      "Loss for EPOCH 5  TRAIN LOSS : 0.005247282064565776 TRAIN PREC : [0.99667774 1.        ] RECALL : [1.         0.99666667] F1 : [0.99833611 0.99833055] ACC : 99.83552631578948\n",
      "VALIDATION LOSS for EPOCH 5 : 0.003057468812375401 VALIDATION PREC : [1. 1.] RECALL : [1. 1.] F1 : [1. 1.]  ACC : 100.0\n",
      "---------------------------------------------------------------------------------------------\n",
      "---------------------------------------EPOCH 6-------------------------------------------\n",
      "LOSS for EPOCH 6 BATCH 0/38 TRAIN LOSS : 0.001296458998695016 TRAIN ACCURACY : 100.0 VALIDATION LOSS : 0.0028219237395275673 VALIDATION ACCURACY : 100.0\n",
      "LOSS for EPOCH 6 BATCH 19/38 TRAIN LOSS : 0.0030075807590037584 TRAIN ACCURACY : 100.0 VALIDATION LOSS : 0.0026532812984302067 VALIDATION ACCURACY : 100.0\n",
      "--------------------------------------------------------------------------------------------\n",
      "Loss for EPOCH 6  TRAIN LOSS : 0.0032723305576885316 TRAIN PREC : [0.99667774 1.        ] RECALL : [1.         0.99666667] F1 : [0.99833611 0.99833055] ACC : 99.83552631578948\n",
      "VALIDATION LOSS for EPOCH 6 : 0.0026532812984302067 VALIDATION PREC : [1. 1.] RECALL : [1. 1.] F1 : [1. 1.]  ACC : 100.0\n",
      "---------------------------------------------------------------------------------------------\n",
      "---------------------------------------EPOCH 7-------------------------------------------\n",
      "LOSS for EPOCH 7 BATCH 0/38 TRAIN LOSS : 0.00034793722443282604 TRAIN ACCURACY : 100.0 VALIDATION LOSS : 0.0029220697693884945 VALIDATION ACCURACY : 100.0\n",
      "LOSS for EPOCH 7 BATCH 19/38 TRAIN LOSS : 0.0016270925989374518 TRAIN ACCURACY : 100.0 VALIDATION LOSS : 0.002733413337689574 VALIDATION ACCURACY : 100.0\n",
      "--------------------------------------------------------------------------------------------\n",
      "Loss for EPOCH 7  TRAIN LOSS : 0.0024239365313980287 TRAIN PREC : [0.99667774 1.        ] RECALL : [1.         0.99666667] F1 : [0.99833611 0.99833055] ACC : 99.83552631578948\n",
      "VALIDATION LOSS for EPOCH 7 : 0.002733413337689574 VALIDATION PREC : [1. 1.] RECALL : [1. 1.] F1 : [1. 1.]  ACC : 100.0\n",
      "---------------------------------------------------------------------------------------------\n",
      "---------------------------------------EPOCH 8-------------------------------------------\n",
      "LOSS for EPOCH 8 BATCH 0/38 TRAIN LOSS : 0.00014649057993665338 TRAIN ACCURACY : 100.0 VALIDATION LOSS : 0.0021584561864773813 VALIDATION ACCURACY : 100.0\n",
      "LOSS for EPOCH 8 BATCH 19/38 TRAIN LOSS : 0.00039561171433888376 TRAIN ACCURACY : 100.0 VALIDATION LOSS : 0.0022447990587142366 VALIDATION ACCURACY : 100.0\n",
      "--------------------------------------------------------------------------------------------\n",
      "Loss for EPOCH 8  TRAIN LOSS : 0.0014233302135835402 TRAIN PREC : [1. 1.] RECALL : [1. 1.] F1 : [1. 1.] ACC : 100.0\n",
      "VALIDATION LOSS for EPOCH 8 : 0.0022447990587142366 VALIDATION PREC : [1. 1.] RECALL : [1. 1.] F1 : [1. 1.]  ACC : 100.0\n",
      "---------------------------------------------------------------------------------------------\n",
      "---------------------------------------EPOCH 9-------------------------------------------\n",
      "LOSS for EPOCH 9 BATCH 0/38 TRAIN LOSS : 0.00020076808868907392 TRAIN ACCURACY : 100.0 VALIDATION LOSS : 0.0020781594788646684 VALIDATION ACCURACY : 100.0\n",
      "LOSS for EPOCH 9 BATCH 19/38 TRAIN LOSS : 0.0024694951716810465 TRAIN ACCURACY : 100.0 VALIDATION LOSS : 0.001995117413081551 VALIDATION ACCURACY : 100.0\n",
      "--------------------------------------------------------------------------------------------\n",
      "Loss for EPOCH 9  TRAIN LOSS : 0.0008845268741041716 TRAIN PREC : [1. 1.] RECALL : [1. 1.] F1 : [1. 1.] ACC : 100.0\n",
      "VALIDATION LOSS for EPOCH 9 : 0.001995117413081551 VALIDATION PREC : [1. 1.] RECALL : [1. 1.] F1 : [1. 1.]  ACC : 100.0\n",
      "---------------------------------------------------------------------------------------------\n",
      "---------------------------------------EPOCH 10-------------------------------------------\n",
      "LOSS for EPOCH 10 BATCH 0/38 TRAIN LOSS : 0.00037149840500205755 TRAIN ACCURACY : 100.0 VALIDATION LOSS : 0.002067597654576485 VALIDATION ACCURACY : 100.0\n",
      "LOSS for EPOCH 10 BATCH 19/38 TRAIN LOSS : 0.0003071090904995799 TRAIN ACCURACY : 100.0 VALIDATION LOSS : 0.0018527523783492283 VALIDATION ACCURACY : 100.0\n",
      "--------------------------------------------------------------------------------------------\n",
      "Loss for EPOCH 10  TRAIN LOSS : 0.0006199313747377968 TRAIN PREC : [1. 1.] RECALL : [1. 1.] F1 : [1. 1.] ACC : 100.0\n",
      "VALIDATION LOSS for EPOCH 10 : 0.0018527523783492283 VALIDATION PREC : [1. 1.] RECALL : [1. 1.] F1 : [1. 1.]  ACC : 100.0\n",
      "---------------------------------------------------------------------------------------------\n",
      "---------------------------------------EPOCH 11-------------------------------------------\n",
      "LOSS for EPOCH 11 BATCH 0/38 TRAIN LOSS : 0.000230195393669419 TRAIN ACCURACY : 100.0 VALIDATION LOSS : 0.001969565908858875 VALIDATION ACCURACY : 100.0\n",
      "LOSS for EPOCH 11 BATCH 19/38 TRAIN LOSS : 0.003431324614211917 TRAIN ACCURACY : 100.0 VALIDATION LOSS : 0.0017927527839604479 VALIDATION ACCURACY : 100.0\n",
      "--------------------------------------------------------------------------------------------\n",
      "Loss for EPOCH 11  TRAIN LOSS : 0.0004705772652845266 TRAIN PREC : [1. 1.] RECALL : [1. 1.] F1 : [1. 1.] ACC : 100.0\n",
      "VALIDATION LOSS for EPOCH 11 : 0.0017927527839604479 VALIDATION PREC : [1. 1.] RECALL : [1. 1.] F1 : [1. 1.]  ACC : 100.0\n",
      "---------------------------------------------------------------------------------------------\n",
      "---------------------------------------EPOCH 12-------------------------------------------\n",
      "LOSS for EPOCH 12 BATCH 0/38 TRAIN LOSS : 0.00033339473884552717 TRAIN ACCURACY : 100.0 VALIDATION LOSS : 0.001910692992308983 VALIDATION ACCURACY : 100.0\n",
      "LOSS for EPOCH 12 BATCH 19/38 TRAIN LOSS : 0.00016610448074061424 TRAIN ACCURACY : 100.0 VALIDATION LOSS : 0.0017291899018276196 VALIDATION ACCURACY : 100.0\n",
      "--------------------------------------------------------------------------------------------\n",
      "Loss for EPOCH 12  TRAIN LOSS : 0.0004018477593490388 TRAIN PREC : [1. 1.] RECALL : [1. 1.] F1 : [1. 1.] ACC : 100.0\n",
      "VALIDATION LOSS for EPOCH 12 : 0.0017291899018276196 VALIDATION PREC : [1. 1.] RECALL : [1. 1.] F1 : [1. 1.]  ACC : 100.0\n",
      "---------------------------------------------------------------------------------------------\n",
      "---------------------------------------EPOCH 13-------------------------------------------\n",
      "LOSS for EPOCH 13 BATCH 0/38 TRAIN LOSS : 0.0006364928558468819 TRAIN ACCURACY : 100.0 VALIDATION LOSS : 0.0018418499547316548 VALIDATION ACCURACY : 100.0\n",
      "LOSS for EPOCH 13 BATCH 19/38 TRAIN LOSS : 0.0006700707017444074 TRAIN ACCURACY : 100.0 VALIDATION LOSS : 0.0017992485547718108 VALIDATION ACCURACY : 100.0\n",
      "--------------------------------------------------------------------------------------------\n",
      "Loss for EPOCH 13  TRAIN LOSS : 0.0003497852738196104 TRAIN PREC : [1. 1.] RECALL : [1. 1.] F1 : [1. 1.] ACC : 100.0\n",
      "VALIDATION LOSS for EPOCH 13 : 0.0017992485547718108 VALIDATION PREC : [1. 1.] RECALL : [1. 1.] F1 : [1. 1.]  ACC : 100.0\n",
      "---------------------------------------------------------------------------------------------\n",
      "---------------------------------------EPOCH 14-------------------------------------------\n",
      "LOSS for EPOCH 14 BATCH 0/38 TRAIN LOSS : 6.772754568373784e-05 TRAIN ACCURACY : 100.0 VALIDATION LOSS : 0.0016405942529113067 VALIDATION ACCURACY : 100.0\n",
      "LOSS for EPOCH 14 BATCH 19/38 TRAIN LOSS : 0.00032828919938765466 TRAIN ACCURACY : 100.0 VALIDATION LOSS : 0.0016903425088317958 VALIDATION ACCURACY : 100.0\n",
      "--------------------------------------------------------------------------------------------\n",
      "Loss for EPOCH 14  TRAIN LOSS : 0.0003125913928287398 TRAIN PREC : [1. 1.] RECALL : [1. 1.] F1 : [1. 1.] ACC : 100.0\n",
      "VALIDATION LOSS for EPOCH 14 : 0.0016903425088317958 VALIDATION PREC : [1. 1.] RECALL : [1. 1.] F1 : [1. 1.]  ACC : 100.0\n",
      "---------------------------------------------------------------------------------------------\n",
      "---------------------------------------EPOCH 15-------------------------------------------\n",
      "LOSS for EPOCH 15 BATCH 0/38 TRAIN LOSS : 0.0001951050799107179 TRAIN ACCURACY : 100.0 VALIDATION LOSS : 0.0016938073492313449 VALIDATION ACCURACY : 100.0\n",
      "LOSS for EPOCH 15 BATCH 19/38 TRAIN LOSS : 0.00029071461176499724 TRAIN ACCURACY : 100.0 VALIDATION LOSS : 0.0015186858497774946 VALIDATION ACCURACY : 100.0\n",
      "--------------------------------------------------------------------------------------------\n",
      "Loss for EPOCH 15  TRAIN LOSS : 0.00028455083156586625 TRAIN PREC : [1. 1.] RECALL : [1. 1.] F1 : [1. 1.] ACC : 100.0\n",
      "VALIDATION LOSS for EPOCH 15 : 0.0015186858497774946 VALIDATION PREC : [1. 1.] RECALL : [1. 1.] F1 : [1. 1.]  ACC : 100.0\n",
      "---------------------------------------------------------------------------------------------\n",
      "---------------------------------------EPOCH 16-------------------------------------------\n",
      "LOSS for EPOCH 16 BATCH 0/38 TRAIN LOSS : 0.0004069222486577928 TRAIN ACCURACY : 100.0 VALIDATION LOSS : 0.0014913293688061037 VALIDATION ACCURACY : 100.0\n",
      "LOSS for EPOCH 16 BATCH 19/38 TRAIN LOSS : 3.2938140066107735e-05 TRAIN ACCURACY : 100.0 VALIDATION LOSS : 0.0014604804816302091 VALIDATION ACCURACY : 100.0\n",
      "--------------------------------------------------------------------------------------------\n",
      "Loss for EPOCH 16  TRAIN LOSS : 0.00025606911080295074 TRAIN PREC : [1. 1.] RECALL : [1. 1.] F1 : [1. 1.] ACC : 100.0\n",
      "VALIDATION LOSS for EPOCH 16 : 0.0014604804816302091 VALIDATION PREC : [1. 1.] RECALL : [1. 1.] F1 : [1. 1.]  ACC : 100.0\n",
      "---------------------------------------------------------------------------------------------\n",
      "---------------------------------------EPOCH 17-------------------------------------------\n",
      "LOSS for EPOCH 17 BATCH 0/38 TRAIN LOSS : 0.0001186492809210904 TRAIN ACCURACY : 100.0 VALIDATION LOSS : 0.001429597259210333 VALIDATION ACCURACY : 100.0\n",
      "LOSS for EPOCH 17 BATCH 19/38 TRAIN LOSS : 9.55216892180033e-05 TRAIN ACCURACY : 100.0 VALIDATION LOSS : 0.0014474357096612668 VALIDATION ACCURACY : 100.0\n",
      "--------------------------------------------------------------------------------------------\n",
      "Loss for EPOCH 17  TRAIN LOSS : 0.0002363936631522129 TRAIN PREC : [1. 1.] RECALL : [1. 1.] F1 : [1. 1.] ACC : 100.0\n",
      "VALIDATION LOSS for EPOCH 17 : 0.0014474357096612668 VALIDATION PREC : [1. 1.] RECALL : [1. 1.] F1 : [1. 1.]  ACC : 100.0\n",
      "---------------------------------------------------------------------------------------------\n",
      "---------------------------------------EPOCH 18-------------------------------------------\n",
      "LOSS for EPOCH 18 BATCH 0/38 TRAIN LOSS : 0.0002884185523726046 TRAIN ACCURACY : 100.0 VALIDATION LOSS : 0.0014057349337515635 VALIDATION ACCURACY : 100.0\n",
      "LOSS for EPOCH 18 BATCH 19/38 TRAIN LOSS : 8.322930079884827e-05 TRAIN ACCURACY : 100.0 VALIDATION LOSS : 0.0013534715708374279 VALIDATION ACCURACY : 100.0\n",
      "--------------------------------------------------------------------------------------------\n",
      "Loss for EPOCH 18  TRAIN LOSS : 0.00022042132183598464 TRAIN PREC : [1. 1.] RECALL : [1. 1.] F1 : [1. 1.] ACC : 100.0\n",
      "VALIDATION LOSS for EPOCH 18 : 0.0013534715708374279 VALIDATION PREC : [1. 1.] RECALL : [1. 1.] F1 : [1. 1.]  ACC : 100.0\n",
      "---------------------------------------------------------------------------------------------\n",
      "---------------------------------------EPOCH 19-------------------------------------------\n",
      "LOSS for EPOCH 19 BATCH 0/38 TRAIN LOSS : 0.00014270361862145364 TRAIN ACCURACY : 100.0 VALIDATION LOSS : 0.0013276679751120706 VALIDATION ACCURACY : 100.0\n",
      "LOSS for EPOCH 19 BATCH 19/38 TRAIN LOSS : 0.00018118265143129975 TRAIN ACCURACY : 100.0 VALIDATION LOSS : 0.0012893154906543293 VALIDATION ACCURACY : 100.0\n",
      "--------------------------------------------------------------------------------------------\n",
      "Loss for EPOCH 19  TRAIN LOSS : 0.00020422329247307252 TRAIN PREC : [1. 1.] RECALL : [1. 1.] F1 : [1. 1.] ACC : 100.0\n",
      "VALIDATION LOSS for EPOCH 19 : 0.0012893154906543293 VALIDATION PREC : [1. 1.] RECALL : [1. 1.] F1 : [1. 1.]  ACC : 100.0\n",
      "---------------------------------------------------------------------------------------------\n",
      "---------------------------------------EPOCH 20-------------------------------------------\n",
      "LOSS for EPOCH 20 BATCH 0/38 TRAIN LOSS : 8.252415136666968e-05 TRAIN ACCURACY : 100.0 VALIDATION LOSS : 0.0012983215319064374 VALIDATION ACCURACY : 100.0\n",
      "LOSS for EPOCH 20 BATCH 19/38 TRAIN LOSS : 0.0001278323179576546 TRAIN ACCURACY : 100.0 VALIDATION LOSS : 0.0016528265433197913 VALIDATION ACCURACY : 100.0\n",
      "--------------------------------------------------------------------------------------------\n",
      "Loss for EPOCH 20  TRAIN LOSS : 0.00019055159354090727 TRAIN PREC : [1. 1.] RECALL : [1. 1.] F1 : [1. 1.] ACC : 100.0\n",
      "VALIDATION LOSS for EPOCH 20 : 0.0016528265433197913 VALIDATION PREC : [1. 1.] RECALL : [1. 1.] F1 : [1. 1.]  ACC : 100.0\n",
      "---------------------------------------------------------------------------------------------\n",
      "---------------------------------------EPOCH 21-------------------------------------------\n",
      "LOSS for EPOCH 21 BATCH 0/38 TRAIN LOSS : 2.7409625545260496e-05 TRAIN ACCURACY : 100.0 VALIDATION LOSS : 0.0012644506526927357 VALIDATION ACCURACY : 100.0\n",
      "LOSS for EPOCH 21 BATCH 19/38 TRAIN LOSS : 0.00016403119661845267 TRAIN ACCURACY : 100.0 VALIDATION LOSS : 0.001223100845751245 VALIDATION ACCURACY : 100.0\n",
      "--------------------------------------------------------------------------------------------\n",
      "Loss for EPOCH 21  TRAIN LOSS : 0.00017883677274336437 TRAIN PREC : [1. 1.] RECALL : [1. 1.] F1 : [1. 1.] ACC : 100.0\n",
      "VALIDATION LOSS for EPOCH 21 : 0.001223100845751245 VALIDATION PREC : [1. 1.] RECALL : [1. 1.] F1 : [1. 1.]  ACC : 100.0\n",
      "---------------------------------------------------------------------------------------------\n",
      "---------------------------------------EPOCH 22-------------------------------------------\n",
      "LOSS for EPOCH 22 BATCH 0/38 TRAIN LOSS : 4.111758607905358e-05 TRAIN ACCURACY : 100.0 VALIDATION LOSS : 0.0012345808323656316 VALIDATION ACCURACY : 100.0\n",
      "LOSS for EPOCH 22 BATCH 19/38 TRAIN LOSS : 4.3977313907817006e-05 TRAIN ACCURACY : 100.0 VALIDATION LOSS : 0.0015511074794071296 VALIDATION ACCURACY : 100.0\n",
      "--------------------------------------------------------------------------------------------\n",
      "Loss for EPOCH 22  TRAIN LOSS : 0.0001708949578307128 TRAIN PREC : [1. 1.] RECALL : [1. 1.] F1 : [1. 1.] ACC : 100.0\n",
      "VALIDATION LOSS for EPOCH 22 : 0.0015511074794071296 VALIDATION PREC : [1. 1.] RECALL : [1. 1.] F1 : [1. 1.]  ACC : 100.0\n",
      "---------------------------------------------------------------------------------------------\n",
      "---------------------------------------EPOCH 23-------------------------------------------\n",
      "LOSS for EPOCH 23 BATCH 0/38 TRAIN LOSS : 0.0003624347737058997 TRAIN ACCURACY : 100.0 VALIDATION LOSS : 0.0012793574673056495 VALIDATION ACCURACY : 100.0\n",
      "LOSS for EPOCH 23 BATCH 19/38 TRAIN LOSS : 7.57862362661399e-05 TRAIN ACCURACY : 100.0 VALIDATION LOSS : 0.001200667398594445 VALIDATION ACCURACY : 100.0\n",
      "--------------------------------------------------------------------------------------------\n",
      "Loss for EPOCH 23  TRAIN LOSS : 0.00015957079497303837 TRAIN PREC : [1. 1.] RECALL : [1. 1.] F1 : [1. 1.] ACC : 100.0\n",
      "VALIDATION LOSS for EPOCH 23 : 0.001200667398594445 VALIDATION PREC : [1. 1.] RECALL : [1. 1.] F1 : [1. 1.]  ACC : 100.0\n",
      "---------------------------------------------------------------------------------------------\n",
      "---------------------------------------EPOCH 24-------------------------------------------\n",
      "LOSS for EPOCH 24 BATCH 0/38 TRAIN LOSS : 0.0001257206022273749 TRAIN ACCURACY : 100.0 VALIDATION LOSS : 0.0011444211929931324 VALIDATION ACCURACY : 100.0\n",
      "LOSS for EPOCH 24 BATCH 19/38 TRAIN LOSS : 6.079500599298626e-05 TRAIN ACCURACY : 100.0 VALIDATION LOSS : 0.001138633085737148 VALIDATION ACCURACY : 100.0\n",
      "--------------------------------------------------------------------------------------------\n",
      "Loss for EPOCH 24  TRAIN LOSS : 0.00015075128584086136 TRAIN PREC : [1. 1.] RECALL : [1. 1.] F1 : [1. 1.] ACC : 100.0\n",
      "VALIDATION LOSS for EPOCH 24 : 0.001138633085737148 VALIDATION PREC : [1. 1.] RECALL : [1. 1.] F1 : [1. 1.]  ACC : 100.0\n",
      "---------------------------------------------------------------------------------------------\n",
      "---------------------------------------EPOCH 25-------------------------------------------\n",
      "LOSS for EPOCH 25 BATCH 0/38 TRAIN LOSS : 0.00015064547187648714 TRAIN ACCURACY : 100.0 VALIDATION LOSS : 0.0011087784299049347 VALIDATION ACCURACY : 100.0\n",
      "LOSS for EPOCH 25 BATCH 19/38 TRAIN LOSS : 8.149095083354041e-05 TRAIN ACCURACY : 100.0 VALIDATION LOSS : 0.0010794146098235685 VALIDATION ACCURACY : 100.0\n",
      "--------------------------------------------------------------------------------------------\n",
      "Loss for EPOCH 25  TRAIN LOSS : 0.0001466362670821821 TRAIN PREC : [1. 1.] RECALL : [1. 1.] F1 : [1. 1.] ACC : 100.0\n",
      "VALIDATION LOSS for EPOCH 25 : 0.0010794146098235685 VALIDATION PREC : [1. 1.] RECALL : [1. 1.] F1 : [1. 1.]  ACC : 100.0\n",
      "---------------------------------------------------------------------------------------------\n",
      "---------------------------------------EPOCH 26-------------------------------------------\n",
      "LOSS for EPOCH 26 BATCH 0/38 TRAIN LOSS : 8.654466364532709e-05 TRAIN ACCURACY : 100.0 VALIDATION LOSS : 0.0010915003742691344 VALIDATION ACCURACY : 100.0\n",
      "LOSS for EPOCH 26 BATCH 19/38 TRAIN LOSS : 3.065057171625085e-05 TRAIN ACCURACY : 100.0 VALIDATION LOSS : 0.0010709002456748679 VALIDATION ACCURACY : 100.0\n",
      "--------------------------------------------------------------------------------------------\n",
      "Loss for EPOCH 26  TRAIN LOSS : 0.00013532890902991456 TRAIN PREC : [1. 1.] RECALL : [1. 1.] F1 : [1. 1.] ACC : 100.0\n",
      "VALIDATION LOSS for EPOCH 26 : 0.0010709002456748679 VALIDATION PREC : [1. 1.] RECALL : [1. 1.] F1 : [1. 1.]  ACC : 100.0\n",
      "---------------------------------------------------------------------------------------------\n",
      "---------------------------------------EPOCH 27-------------------------------------------\n",
      "LOSS for EPOCH 27 BATCH 0/38 TRAIN LOSS : 0.0001002216013148427 TRAIN ACCURACY : 100.0 VALIDATION LOSS : 0.0010642709995199067 VALIDATION ACCURACY : 100.0\n",
      "LOSS for EPOCH 27 BATCH 19/38 TRAIN LOSS : 0.00034960932680405676 TRAIN ACCURACY : 100.0 VALIDATION LOSS : 0.0010470108248297877 VALIDATION ACCURACY : 100.0\n",
      "--------------------------------------------------------------------------------------------\n",
      "Loss for EPOCH 27  TRAIN LOSS : 0.00013031949229595115 TRAIN PREC : [1. 1.] RECALL : [1. 1.] F1 : [1. 1.] ACC : 100.0\n",
      "VALIDATION LOSS for EPOCH 27 : 0.0010470108248297877 VALIDATION PREC : [1. 1.] RECALL : [1. 1.] F1 : [1. 1.]  ACC : 100.0\n",
      "---------------------------------------------------------------------------------------------\n",
      "---------------------------------------EPOCH 28-------------------------------------------\n",
      "LOSS for EPOCH 28 BATCH 0/38 TRAIN LOSS : 0.00016832422988954931 TRAIN ACCURACY : 100.0 VALIDATION LOSS : 0.0010358405322152136 VALIDATION ACCURACY : 100.0\n",
      "LOSS for EPOCH 28 BATCH 19/38 TRAIN LOSS : 0.0005113861989229918 TRAIN ACCURACY : 100.0 VALIDATION LOSS : 0.0010188270098296925 VALIDATION ACCURACY : 100.0\n",
      "--------------------------------------------------------------------------------------------\n",
      "Loss for EPOCH 28  TRAIN LOSS : 0.00012499527991550216 TRAIN PREC : [1. 1.] RECALL : [1. 1.] F1 : [1. 1.] ACC : 100.0\n",
      "VALIDATION LOSS for EPOCH 28 : 0.0010188270098296925 VALIDATION PREC : [1. 1.] RECALL : [1. 1.] F1 : [1. 1.]  ACC : 100.0\n",
      "---------------------------------------------------------------------------------------------\n",
      "---------------------------------------EPOCH 29-------------------------------------------\n",
      "LOSS for EPOCH 29 BATCH 0/38 TRAIN LOSS : 4.6091361582512036e-05 TRAIN ACCURACY : 100.0 VALIDATION LOSS : 0.001017074228002457 VALIDATION ACCURACY : 100.0\n",
      "LOSS for EPOCH 29 BATCH 19/38 TRAIN LOSS : 0.00010358000872656703 TRAIN ACCURACY : 100.0 VALIDATION LOSS : 0.000996017757783053 VALIDATION ACCURACY : 100.0\n",
      "--------------------------------------------------------------------------------------------\n",
      "Loss for EPOCH 29  TRAIN LOSS : 0.00012097379399883242 TRAIN PREC : [1. 1.] RECALL : [1. 1.] F1 : [1. 1.] ACC : 100.0\n",
      "VALIDATION LOSS for EPOCH 29 : 0.000996017757783053 VALIDATION PREC : [1. 1.] RECALL : [1. 1.] F1 : [1. 1.]  ACC : 100.0\n",
      "---------------------------------------------------------------------------------------------\n",
      "---------------------------------------EPOCH 30-------------------------------------------\n",
      "LOSS for EPOCH 30 BATCH 0/38 TRAIN LOSS : 0.00011380865180399269 TRAIN ACCURACY : 100.0 VALIDATION LOSS : 0.0013580991550882643 VALIDATION ACCURACY : 100.0\n",
      "LOSS for EPOCH 30 BATCH 19/38 TRAIN LOSS : 0.00010690087947295979 TRAIN ACCURACY : 100.0 VALIDATION LOSS : 0.0009814508135045448 VALIDATION ACCURACY : 100.0\n",
      "--------------------------------------------------------------------------------------------\n",
      "Loss for EPOCH 30  TRAIN LOSS : 0.00011426811756552381 TRAIN PREC : [1. 1.] RECALL : [1. 1.] F1 : [1. 1.] ACC : 100.0\n",
      "VALIDATION LOSS for EPOCH 30 : 0.0009814508135045448 VALIDATION PREC : [1. 1.] RECALL : [1. 1.] F1 : [1. 1.]  ACC : 100.0\n",
      "---------------------------------------------------------------------------------------------\n"
     ]
    }
   ],
   "source": [
    "from sklearn.metrics import precision_recall_fscore_support\n",
    "\n",
    "best_val_acc = 0\n",
    "\n",
    "for e in range(epoch):\n",
    "    print(f'---------------------------------------EPOCH {e+1}-------------------------------------------')\n",
    "    y_all_train_true = []\n",
    "    y_all_train_pred = []\n",
    "    y_all_val_true = []\n",
    "    y_all_val_pred = []\n",
    "    \n",
    "    for batch_idx , (x ,y) in enumerate(train_dataloader):\n",
    "        model.train() # Setting mode to train\n",
    "        optimizer.zero_grad()\n",
    "        x , y = x.to(device) , y.to(device)\n",
    "        y_pred = model(x).to(device)\n",
    "        \n",
    "        y_all_train_true+=y.cpu().detach().view(-1,).tolist()\n",
    "        y_all_train_pred+=torch.argmax(y_pred, dim=1).detach().tolist()\n",
    "        \n",
    "        # Calculating Loss\n",
    "        loss = criterion(y_pred,y.reshape(x.shape[0]))\n",
    "        loss.backward()\n",
    "        nn.utils.clip_grad_norm_(model.parameters(), 3)\n",
    "        optimizer.step()\n",
    "        loss_history[0].append(float(loss.detach()))\n",
    "        \n",
    "        #Calaculating Accuracy\n",
    "        correct = 0\n",
    "        y_pred = y_pred.cpu().detach().numpy().tolist()\n",
    "        y = y.cpu().detach().numpy().tolist()\n",
    "        for i in range(x.shape[0]):\n",
    "            n = 0\n",
    "            n = y_pred[i].index(max(y_pred[i]))\n",
    "            if n == y[i][0]:\n",
    "                correct = correct + 1\n",
    "        accuracy_history[0].append((correct/x.shape[0])*100)\n",
    "        \n",
    "        if batch_idx % (len(train_dataloader)//2) == 0:\n",
    "            # Printing Log\n",
    "            print(f'LOSS for EPOCH {e+1} BATCH {batch_idx}/{train_n_minibatches} TRAIN LOSS : {loss_history[0][-1]}',end = ' ')\n",
    "            print(f'TRAIN ACCURACY : {accuracy_history[0][-1]}',end = ' ')\n",
    "            with torch.no_grad():\n",
    "                # Calculating loss and accuracy for validation\n",
    "                model.eval()\n",
    "                for _batch_idx_ , (x ,y) in enumerate(validation_dataloader):\n",
    "                    x , y = x.to(device) , y.to(device)\n",
    "                    y_pred = model(x).to(device)\n",
    "                    \n",
    "                    y_all_val_true+=y.cpu().detach().view(-1,).tolist()\n",
    "                    y_all_val_pred+=torch.argmax(y_pred, dim=1).detach().tolist()\n",
    "                    \n",
    "                    validation_loss = criterion(y_pred,y.reshape(x.shape[0]))\n",
    "                    loss_history[1].append(float(validation_loss.detach()))\n",
    "                    \n",
    "                    correct = 0\n",
    "                    y_pred = y_pred.cpu().detach().numpy().tolist()\n",
    "                    y = y.cpu().detach().numpy().tolist()      \n",
    "                    for i in range(x.shape[0]):\n",
    "                        n = 0\n",
    "                        n = y_pred[i].index(max(y_pred[i]))\n",
    "                        if n == y[i][0]:\n",
    "                            correct = correct + 1\n",
    "                    accuracy_history[1].append((correct/x.shape[0])*100)\n",
    "                        \n",
    "                    \n",
    "                print(f'VALIDATION LOSS : {sum(loss_history[1][-1:-validation_n_minibatches-1:-1])/validation_n_minibatches}',end = ' ')\n",
    "                print(f'VALIDATION ACCURACY : {sum(accuracy_history[1][-1:-validation_n_minibatches-1:-1])/validation_n_minibatches}')\n",
    "    \n",
    "    # Saving the model progress\n",
    "    torch.save(model.state_dict(),model_name)\n",
    "    \n",
    "    results[0].append(precision_recall_fscore_support(y_all_train_true,y_all_train_pred))\n",
    "    results[1].append(precision_recall_fscore_support(y_all_val_true,y_all_val_pred))\n",
    "    \n",
    "    x = sum(accuracy_history[1][-1:-1*validation_n_minibatches-1:-1])/validation_n_minibatches\n",
    "    if x>best_val_acc:\n",
    "        best_val_acc = x\n",
    "        torch.save(model.state_dict(),'vit_best')\n",
    "    #Log for e+1th epoch\n",
    "    print(f'--------------------------------------------------------------------------------------------')\n",
    "    print(f'Loss for EPOCH {e+1}  TRAIN LOSS : {sum(loss_history[0][-1:-train_n_minibatches-1:-1])/train_n_minibatches}',end = ' ')\n",
    "    print(f'TRAIN PREC : {results[0][-1][0]} RECALL : {results[0][-1][1]} F1 : {results[0][-1][2]}',end=\" \")\n",
    "    print(f'ACC : {sum(accuracy_history[0][-1:-train_n_minibatches-1:-1])/train_n_minibatches}')\n",
    "    print(f'VALIDATION LOSS for EPOCH {e+1} : {sum(loss_history[1][-1:-1*validation_n_minibatches-1:-1])/validation_n_minibatches}',end = ' ')\n",
    "    print(f'VALIDATION PREC : {results[1][-1][0]} RECALL : {results[1][-1][1]} F1 : {results[1][-1][2]}',end=\" \")\n",
    "    print(f' ACC : {sum(accuracy_history[1][-1:-1*validation_n_minibatches-1:-1])/validation_n_minibatches}')\n",
    "\n",
    "    # if int(sum(accuracy_history[1][-1:-1*validation_n_minibatches-1:-1])/validation_n_minibatches) == 100:\n",
    "    #     break\n",
    "    print('---------------------------------------------------------------------------------------------')"
   ]
  },
  {
   "cell_type": "markdown",
   "id": "5c860371",
   "metadata": {
    "papermill": {
     "duration": 0.01489,
     "end_time": "2023-01-14T07:05:21.206530",
     "exception": false,
     "start_time": "2023-01-14T07:05:21.191640",
     "status": "completed"
    },
    "tags": []
   },
   "source": [
    "### 5.Plotting results <a class=\"anchor\" id=\"4\"></a>"
   ]
  },
  {
   "cell_type": "markdown",
   "id": "ed47e197",
   "metadata": {
    "papermill": {
     "duration": 0.014235,
     "end_time": "2023-01-14T07:05:21.235152",
     "exception": false,
     "start_time": "2023-01-14T07:05:21.220917",
     "status": "completed"
    },
    "tags": []
   },
   "source": [
    "#### 1.Plotting Loss vs MiniBatch<a class=\"anchor\" id=\"5.1\"></a>"
   ]
  },
  {
   "cell_type": "code",
   "execution_count": 10,
   "id": "3198b20a",
   "metadata": {
    "execution": {
     "iopub.execute_input": "2023-01-14T07:05:21.265367Z",
     "iopub.status.busy": "2023-01-14T07:05:21.265058Z",
     "iopub.status.idle": "2023-01-14T07:05:21.652420Z",
     "shell.execute_reply": "2023-01-14T07:05:21.651452Z"
    },
    "papermill": {
     "duration": 0.404946,
     "end_time": "2023-01-14T07:05:21.654580",
     "exception": false,
     "start_time": "2023-01-14T07:05:21.249634",
     "status": "completed"
    },
    "tags": []
   },
   "outputs": [
    {
     "data": {
      "image/png": "[encoded data removed]",
      "text/plain": [
       "<Figure size 720x720 with 1 Axes>"
      ]
     },
     "metadata": {},
     "output_type": "display_data"
    }
   ],
   "source": [
    "sns.lineplot(x=range(len(loss_history[1])),y=loss_history[0][::len(loss_history[0])//len(loss_history[1])][:len(loss_history[1])])\n",
    "sns.lineplot(x=range(len(loss_history[1])),y=loss_history[1])\n",
    "\n",
    "plt.legend(loc='lower right', labels=['train', 'val'])\n",
    "plt.title(\"Loss vs MiniBatch\")\n",
    "plt.xlabel('MiniBatches')\n",
    "plt.ylabel('Loss')\n",
    "\n",
    "\n",
    "plt.show()\n"
   ]
  },
  {
   "cell_type": "markdown",
   "id": "57e66b06",
   "metadata": {
    "papermill": {
     "duration": 0.014879,
     "end_time": "2023-01-14T07:05:21.685369",
     "exception": false,
     "start_time": "2023-01-14T07:05:21.670490",
     "status": "completed"
    },
    "tags": []
   },
   "source": [
    "#### 2.Plotting Accuracy vs MiniBatch<a class=\"anchor\" id=\"5.2\"></a>"
   ]
  },
  {
   "cell_type": "code",
   "execution_count": 11,
   "id": "e4cc20c3",
   "metadata": {
    "execution": {
     "iopub.execute_input": "2023-01-14T07:05:21.718144Z",
     "iopub.status.busy": "2023-01-14T07:05:21.716548Z",
     "iopub.status.idle": "2023-01-14T07:05:22.048049Z",
     "shell.execute_reply": "2023-01-14T07:05:22.047183Z"
    },
    "papermill": {
     "duration": 0.349649,
     "end_time": "2023-01-14T07:05:22.049993",
     "exception": false,
     "start_time": "2023-01-14T07:05:21.700344",
     "status": "completed"
    },
    "tags": []
   },
   "outputs": [
    {
     "data": {
      "image/png": "[encoded data removed]",
      "text/plain": [
       "<Figure size 720x720 with 1 Axes>"
      ]
     },
     "metadata": {},
     "output_type": "display_data"
    }
   ],
   "source": [
    "sns.lineplot(x=range(len(accuracy_history[1])),y=accuracy_history[0][::len(accuracy_history[0])//len(accuracy_history[1])][:len(accuracy_history[1])])\n",
    "sns.lineplot(x=range(len(accuracy_history[1])),y=accuracy_history[1])\n",
    "\n",
    "plt.legend(loc='lower right', labels=['train', 'val'])\n",
    "plt.title(\"Accuracy vs MiniBatch\")\n",
    "plt.xlabel('MiniBatches')\n",
    "plt.ylabel('Accuracy')\n",
    "\n",
    "plt.show()\n"
   ]
  },
  {
   "cell_type": "markdown",
   "id": "d409e3fd",
   "metadata": {
    "papermill": {
     "duration": 0.015231,
     "end_time": "2023-01-14T07:05:22.081016",
     "exception": false,
     "start_time": "2023-01-14T07:05:22.065785",
     "status": "completed"
    },
    "tags": []
   },
   "source": [
    "#### 3.Plotting Loss vs Epoch<a class=\"anchor\" id=\"5.3\"></a>"
   ]
  },
  {
   "cell_type": "code",
   "execution_count": 12,
   "id": "e86d03dd",
   "metadata": {
    "execution": {
     "iopub.execute_input": "2023-01-14T07:05:22.114008Z",
     "iopub.status.busy": "2023-01-14T07:05:22.113055Z",
     "iopub.status.idle": "2023-01-14T07:05:22.480678Z",
     "shell.execute_reply": "2023-01-14T07:05:22.479071Z"
    },
    "papermill": {
     "duration": 0.387559,
     "end_time": "2023-01-14T07:05:22.484104",
     "exception": false,
     "start_time": "2023-01-14T07:05:22.096545",
     "status": "completed"
    },
    "tags": []
   },
   "outputs": [
    {
     "data": {
      "image/png": "[encoded data removed]",
      "text/plain": [
       "<Figure size 720x720 with 1 Axes>"
      ]
     },
     "metadata": {},
     "output_type": "display_data"
    }
   ],
   "source": [
    "# Plotting Loss per epoch\n",
    "loss_per_epoch = [[],[]]\n",
    "for i in range(epoch):\n",
    "    temp = 0\n",
    "    for j in loss_history[0][i*train_n_minibatches:(i+1)*train_n_minibatches]:\n",
    "        temp = temp + j\n",
    "    loss_per_epoch[0].append(temp/train_n_minibatches)\n",
    "    temp = 0\n",
    "    for j in loss_history[1][i*validation_n_minibatches:(i+1)*validation_n_minibatches]:\n",
    "        temp = temp + j\n",
    "    loss_per_epoch[1].append(temp/validation_n_minibatches)    \n",
    "\n",
    "sns.lineplot(x=range(len(loss_per_epoch[0])),y=loss_per_epoch[0])\n",
    "sns.lineplot(x=range(len(loss_per_epoch[1])),y=loss_per_epoch[1])\n",
    "\n",
    "plt.legend(loc='lower right', labels=['train', 'val'])\n",
    "plt.title(\"Loss vs Epoch\")\n",
    "plt.xlabel('Epochs')\n",
    "plt.ylabel('Loss')\n",
    "\n",
    "\n",
    "plt.show()"
   ]
  },
  {
   "cell_type": "markdown",
   "id": "8a9e176c",
   "metadata": {
    "papermill": {
     "duration": 0.022975,
     "end_time": "2023-01-14T07:05:22.530971",
     "exception": false,
     "start_time": "2023-01-14T07:05:22.507996",
     "status": "completed"
    },
    "tags": []
   },
   "source": [
    "#### 4.Plotting Accuracy vs Epoch<a class=\"anchor\" id=\"5.4\"></a>"
   ]
  },
  {
   "cell_type": "code",
   "execution_count": 13,
   "id": "d12973b1",
   "metadata": {
    "execution": {
     "iopub.execute_input": "2023-01-14T07:05:22.591007Z",
     "iopub.status.busy": "2023-01-14T07:05:22.590545Z",
     "iopub.status.idle": "2023-01-14T07:05:22.968961Z",
     "shell.execute_reply": "2023-01-14T07:05:22.968039Z"
    },
    "papermill": {
     "duration": 0.406579,
     "end_time": "2023-01-14T07:05:22.971962",
     "exception": false,
     "start_time": "2023-01-14T07:05:22.565383",
     "status": "completed"
    },
    "tags": []
   },
   "outputs": [
    {
     "data": {
      "image/png": "[encoded data removed]",
      "text/plain": [
       "<Figure size 720x720 with 1 Axes>"
      ]
     },
     "metadata": {},
     "output_type": "display_data"
    }
   ],
   "source": [
    "# Plotting Accuracy per epoch\n",
    "accuracy_per_epoch = [[],[]]\n",
    "for i in range(epoch):\n",
    "    temp = 0\n",
    "    for j in accuracy_history[0][i*train_n_minibatches:(i+1)*train_n_minibatches]:\n",
    "        temp = temp + j\n",
    "    accuracy_per_epoch[0].append(temp/train_n_minibatches)\n",
    "    temp = 0\n",
    "    for j in accuracy_history[1][i*validation_n_minibatches:(i+1)*validation_n_minibatches]:\n",
    "        temp = temp + j\n",
    "    accuracy_per_epoch[1].append(temp/validation_n_minibatches)    \n",
    "\n",
    "sns.lineplot(x=range(len(accuracy_per_epoch[0])),y=accuracy_per_epoch[0])\n",
    "sns.lineplot(x=range(len(accuracy_per_epoch[1])),y=accuracy_per_epoch[1])\n",
    "\n",
    "plt.legend(loc='lower right', labels=['train', 'val'])\n",
    "plt.title(\"Accuracy vs Epoch\")\n",
    "plt.xlabel('Epochs')\n",
    "plt.ylabel('Accuracy')\n",
    "\n",
    "plt.show()"
   ]
  },
  {
   "cell_type": "markdown",
   "id": "68e3d2c5",
   "metadata": {
    "papermill": {
     "duration": 0.026777,
     "end_time": "2023-01-14T07:05:23.027312",
     "exception": false,
     "start_time": "2023-01-14T07:05:23.000535",
     "status": "completed"
    },
    "tags": []
   },
   "source": [
    "#### 5.Plotting F1Score vs Epoch<a class=\"anchor\" id=\"5.4\"></a>"
   ]
  },
  {
   "cell_type": "code",
   "execution_count": 14,
   "id": "6fb942ef",
   "metadata": {
    "execution": {
     "iopub.execute_input": "2023-01-14T07:05:23.082796Z",
     "iopub.status.busy": "2023-01-14T07:05:23.082435Z",
     "iopub.status.idle": "2023-01-14T07:05:23.539268Z",
     "shell.execute_reply": "2023-01-14T07:05:23.538266Z"
    },
    "papermill": {
     "duration": 0.487739,
     "end_time": "2023-01-14T07:05:23.542084",
     "exception": false,
     "start_time": "2023-01-14T07:05:23.054345",
     "status": "completed"
    },
    "tags": []
   },
   "outputs": [
    {
     "data": {
      "image/png": "[encoded data removed]",
      "text/plain": [
       "<Figure size 720x720 with 1 Axes>"
      ]
     },
     "metadata": {},
     "output_type": "display_data"
    }
   ],
   "source": [
    "labels = {0:'Positive',\n",
    "1:'Negative'}\n",
    "\n",
    "legend = []\n",
    "\n",
    "\n",
    "\n",
    "for j in range(2):\n",
    "    sns.lineplot(x=range(len(results[0])),y=[results[0][i][2][j] for i in range(len(results[0]))])\n",
    "    sns.lineplot(x=range(len(results[1])),y=[results[1][i][2][j] for i in range(len(results[1]))])\n",
    "    legend+=[labels[j]+'train', labels[j]+'val']\n",
    "\n",
    "\n",
    "\n",
    "plt.legend(loc='lower right', labels=legend)\n",
    "plt.title(\"F1 Score vs Epoch\")\n",
    "plt.xlabel('Epochs')\n",
    "plt.ylabel('F1 Score')\n",
    "\n",
    "\n",
    "plt.show()"
   ]
  },
  {
   "cell_type": "markdown",
   "id": "be54c664",
   "metadata": {
    "papermill": {
     "duration": 0.028524,
     "end_time": "2023-01-14T07:05:23.600551",
     "exception": false,
     "start_time": "2023-01-14T07:05:23.572027",
     "status": "completed"
    },
    "tags": []
   },
   "source": [
    "#### 6.Plotting Recall vs Epoch<a class=\"anchor\" id=\"5.4\"></a>"
   ]
  },
  {
   "cell_type": "code",
   "execution_count": 15,
   "id": "61e1ded2",
   "metadata": {
    "execution": {
     "iopub.execute_input": "2023-01-14T07:05:23.645149Z",
     "iopub.status.busy": "2023-01-14T07:05:23.644801Z",
     "iopub.status.idle": "2023-01-14T07:05:23.997728Z",
     "shell.execute_reply": "2023-01-14T07:05:23.996798Z"
    },
    "papermill": {
     "duration": 0.373853,
     "end_time": "2023-01-14T07:05:24.000043",
     "exception": false,
     "start_time": "2023-01-14T07:05:23.626190",
     "status": "completed"
    },
    "tags": []
   },
   "outputs": [
    {
     "data": {
      "image/png": "[encoded data removed]",
      "text/plain": [
       "<Figure size 720x720 with 1 Axes>"
      ]
     },
     "metadata": {},
     "output_type": "display_data"
    }
   ],
   "source": [
    "for j in range(2):\n",
    "    sns.lineplot(x=range(len(results[0])),y=[results[0][i][1][j] for i in range(len(results[0]))])\n",
    "    sns.lineplot(x=range(len(results[1])),y=[results[1][i][1][j] for i in range(len(results[1]))])\n",
    "\n",
    "\n",
    "plt.legend(loc='lower right', labels=legend)\n",
    "plt.title(\"Recall vs Epoch\")\n",
    "plt.xlabel('Epochs')\n",
    "plt.ylabel('Recall Score')\n",
    "\n",
    "\n",
    "plt.show()"
   ]
  },
  {
   "cell_type": "markdown",
   "id": "0150fefe",
   "metadata": {
    "papermill": {
     "duration": 0.017618,
     "end_time": "2023-01-14T07:05:24.036060",
     "exception": false,
     "start_time": "2023-01-14T07:05:24.018442",
     "status": "completed"
    },
    "tags": []
   },
   "source": [
    "#### 6.Plotting Precision vs Epoch<a class=\"anchor\" id=\"5.4\"></a>"
   ]
  },
  {
   "cell_type": "code",
   "execution_count": 16,
   "id": "0c9cfac7",
   "metadata": {
    "execution": {
     "iopub.execute_input": "2023-01-14T07:05:24.073249Z",
     "iopub.status.busy": "2023-01-14T07:05:24.072412Z",
     "iopub.status.idle": "2023-01-14T07:05:24.434165Z",
     "shell.execute_reply": "2023-01-14T07:05:24.433064Z"
    },
    "papermill": {
     "duration": 0.382684,
     "end_time": "2023-01-14T07:05:24.436474",
     "exception": false,
     "start_time": "2023-01-14T07:05:24.053790",
     "status": "completed"
    },
    "tags": []
   },
   "outputs": [
    {
     "data": {
      "image/png": "[encoded data removed]",
      "text/plain": [
       "<Figure size 720x720 with 1 Axes>"
      ]
     },
     "metadata": {},
     "output_type": "display_data"
    }
   ],
   "source": [
    "for j in range(2):\n",
    "    sns.lineplot(x=range(len(results[0])),y=[results[0][i][0][j] for i in range(len(results[0]))])\n",
    "    sns.lineplot(x=range(len(results[1])),y=[results[1][i][0][j] for i in range(len(results[1]))])\n",
    "\n",
    "\n",
    "plt.legend(loc='lower right', labels=legend)\n",
    "plt.title(\"Precision vs Epoch\")\n",
    "plt.xlabel('Epochs')\n",
    "plt.ylabel('Precision Score')\n",
    "\n",
    "\n",
    "plt.show()"
   ]
  },
  {
   "cell_type": "markdown",
   "id": "d0274b05",
   "metadata": {
    "papermill": {
     "duration": 0.018121,
     "end_time": "2023-01-14T07:05:24.474221",
     "exception": false,
     "start_time": "2023-01-14T07:05:24.456100",
     "status": "completed"
    },
    "tags": []
   },
   "source": [
    "### 6.Testing <a class=\"anchor\" id=\"6\"></a>"
   ]
  },
  {
   "cell_type": "code",
   "execution_count": 17,
   "id": "9581c94e",
   "metadata": {
    "execution": {
     "iopub.execute_input": "2023-01-14T07:05:24.512303Z",
     "iopub.status.busy": "2023-01-14T07:05:24.511310Z",
     "iopub.status.idle": "2023-01-14T07:05:27.397434Z",
     "shell.execute_reply": "2023-01-14T07:05:27.396470Z"
    },
    "papermill": {
     "duration": 2.90762,
     "end_time": "2023-01-14T07:05:27.399765",
     "exception": false,
     "start_time": "2023-01-14T07:05:24.492145",
     "status": "completed"
    },
    "tags": []
   },
   "outputs": [
    {
     "name": "stdout",
     "output_type": "stream",
     "text": [
      "LOSS : 0.0013459247801130493  ACCURACY : 100.0\n",
      "TEST PREC: [1. 1.] RECALL: [1. 1.] F1 SCORE: [1. 1.] SUPPORT: [100 100]\n"
     ]
    }
   ],
   "source": [
    "y_all_true = []\n",
    "y_all_pred = []\n",
    "test_loss_history = []\n",
    "test_accuracy_history = []\n",
    "\n",
    "\n",
    "model.eval()\n",
    "for _batch_idx_ , (x ,y) in enumerate(test_dataloader):\n",
    "    x , y = x.to(device) , y.to(device)\n",
    "    y_pred = model(x)\n",
    "    test_loss = criterion(y_pred,y.reshape(x.shape[0]))\n",
    "    test_loss_history.append(float(test_loss.detach()))\n",
    "    correct = 0\n",
    "    y_all_true+=y.cpu().detach().view(-1,).tolist()\n",
    "    y_all_pred+=torch.argmax(y_pred, dim=1).detach().tolist()\n",
    "    y_pred = y_pred.cpu().detach().numpy().tolist()\n",
    "    y = y.cpu().detach().numpy().tolist()      \n",
    "    for i in range(x.shape[0]):\n",
    "        n = 0\n",
    "        n = y_pred[i].index(max(y_pred[i]))\n",
    "        if n == y[i][0]:\n",
    "            correct = correct + 1\n",
    "    test_accuracy_history.append((correct/len(y))*100)\n",
    "    \n",
    "\n",
    "                        \n",
    "print(f'LOSS : {sum(test_loss_history)/len(test_loss_history)}  ACCURACY : {sum(test_accuracy_history)/len(test_accuracy_history)}')                    \n",
    "\n",
    "result = precision_recall_fscore_support(y_all_true,y_all_pred)\n",
    "\n",
    "print(f\"TEST PREC: {result[0]} RECALL: {result[1]} F1 SCORE: {result[2]} SUPPORT: {result[3]}\")\n"
   ]
  },
  {
   "cell_type": "code",
   "execution_count": 18,
   "id": "f3ce0848",
   "metadata": {
    "execution": {
     "iopub.execute_input": "2023-01-14T07:05:27.437445Z",
     "iopub.status.busy": "2023-01-14T07:05:27.436615Z",
     "iopub.status.idle": "2023-01-14T07:05:30.507223Z",
     "shell.execute_reply": "2023-01-14T07:05:30.506183Z"
    },
    "papermill": {
     "duration": 3.091206,
     "end_time": "2023-01-14T07:05:30.509303",
     "exception": false,
     "start_time": "2023-01-14T07:05:27.418097",
     "status": "completed"
    },
    "tags": []
   },
   "outputs": [
    {
     "data": {
      "text/html": [
       "<div>\n",
       "<style scoped>\n",
       "    .dataframe tbody tr th:only-of-type {\n",
       "        vertical-align: middle;\n",
       "    }\n",
       "\n",
       "    .dataframe tbody tr th {\n",
       "        vertical-align: top;\n",
       "    }\n",
       "\n",
       "    .dataframe thead th {\n",
       "        text-align: right;\n",
       "    }\n",
       "</style>\n",
       "<table border=\"1\" class=\"dataframe\">\n",
       "  <thead>\n",
       "    <tr style=\"text-align: right;\">\n",
       "      <th></th>\n",
       "      <th>image</th>\n",
       "      <th>category</th>\n",
       "    </tr>\n",
       "  </thead>\n",
       "  <tbody>\n",
       "    <tr>\n",
       "      <th>0</th>\n",
       "      <td>IMG_1133.JPG</td>\n",
       "      <td>1</td>\n",
       "    </tr>\n",
       "    <tr>\n",
       "      <th>1</th>\n",
       "      <td>IMG_1129.JPG</td>\n",
       "      <td>1</td>\n",
       "    </tr>\n",
       "    <tr>\n",
       "      <th>2</th>\n",
       "      <td>IMG_1132.JPG</td>\n",
       "      <td>1</td>\n",
       "    </tr>\n",
       "    <tr>\n",
       "      <th>3</th>\n",
       "      <td>IMG_1130.JPG</td>\n",
       "      <td>1</td>\n",
       "    </tr>\n",
       "    <tr>\n",
       "      <th>4</th>\n",
       "      <td>IMG_1134.JPG</td>\n",
       "      <td>1</td>\n",
       "    </tr>\n",
       "    <tr>\n",
       "      <th>5</th>\n",
       "      <td>IMG_1131.JPG</td>\n",
       "      <td>1</td>\n",
       "    </tr>\n",
       "  </tbody>\n",
       "</table>\n",
       "</div>"
      ],
      "text/plain": [
       "          image  category\n",
       "0  IMG_1133.JPG         1\n",
       "1  IMG_1129.JPG         1\n",
       "2  IMG_1132.JPG         1\n",
       "3  IMG_1130.JPG         1\n",
       "4  IMG_1134.JPG         1\n",
       "5  IMG_1131.JPG         1"
      ]
     },
     "execution_count": 18,
     "metadata": {},
     "output_type": "execute_result"
    }
   ],
   "source": [
    "class TestDataset(Dataset):\n",
    "    def __init__(self,x,transform = 'T.Resize((224,224))'):\n",
    "        self.transform = transform\n",
    "        self.x = x\n",
    "        self.len = len(x)\n",
    "   \n",
    "    def __len__(self):\n",
    "        return self.len\n",
    "    \n",
    "    def __getitem__(self,i):\n",
    "        img = Image.open(self.x[i]).convert('RGB')\n",
    "        return torch.FloatTensor(np.asarray(self.transform(img)))\n",
    "    \n",
    "\n",
    "test_img = [path+\"predict/\"+i for i in os.listdir(path+\"predict/\")]\n",
    "test_dataset = TestDataset(test_img,transform =transforms_test)\n",
    "test_dataloader = DataLoader(test_dataset , batch_size = batch_size , shuffle = False )\n",
    "\n",
    "predictions = []\n",
    "with torch.no_grad():\n",
    "    model.eval()\n",
    "    for _batch_idx_ , x in enumerate(test_dataloader):\n",
    "        x = x.to(device)\n",
    "        y_pred = model(x).to(device)\n",
    "        pred = torch.argmax(y_pred, dim=1)+1\n",
    "        predictions+=pred.cpu().tolist()\n",
    "\n",
    "df = pd.DataFrame(list(zip([test_img[i].split('/')[-1] for i in range(len(test_img))], predictions)), index =None, columns =['image', 'category'])\n",
    "df.to_csv(\"submission.csv\", index=False)\n",
    "df"
   ]
  }
 ],
 "metadata": {
  "kernelspec": {
   "display_name": "Python 3",
   "language": "python",
   "name": "python3"
  },
  "language_info": {
   "codemirror_mode": {
    "name": "ipython",
    "version": 3
   },
   "file_extension": ".py",
   "mimetype": "text/x-python",
   "name": "python",
   "nbconvert_exporter": "python",
   "pygments_lexer": "ipython3",
   "version": "3.7.12"
  },
  "papermill": {
   "default_parameters": {},
   "duration": 760.569827,
   "end_time": "2023-01-14T07:05:32.151884",
   "environment_variables": {},
   "exception": null,
   "input_path": "__notebook__.ipynb",
   "output_path": "__notebook__.ipynb",
   "parameters": {},
   "start_time": "2023-01-14T06:52:51.582057",
   "version": "2.3.4"
  }
 },
 "nbformat": 4,
 "nbformat_minor": 5
}
