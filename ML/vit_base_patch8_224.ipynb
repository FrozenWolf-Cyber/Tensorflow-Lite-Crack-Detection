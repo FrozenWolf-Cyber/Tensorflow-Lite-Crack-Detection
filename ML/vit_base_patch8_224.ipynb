{
 "cells": [
  {
   "cell_type": "markdown",
   "id": "50a007ea",
   "metadata": {
    "papermill": {
     "duration": 0.007376,
     "end_time": "2023-01-14T07:10:30.342054",
     "exception": false,
     "start_time": "2023-01-14T07:10:30.334678",
     "status": "completed"
    },
    "tags": []
   },
   "source": [
    "## Contents\n",
    "-  [1.Importing Libraries](#1)\n",
    "-  [2.Dataset Management](#2)\n",
    "    -  [2.1.Downloading and Extracting Dataset](#2.1)\n",
    "    -  [2.2.Visualizing Dataset](#2.2)\n",
    "    -  [2.3.Splitting Dataset](#2.3)\n",
    "    -  [2.4.Pytorch DataLoaders](#2.4)\n",
    "-  [3.Initializing pre-trained model](#3)\n",
    "-  [4.Training](#4)\n",
    "-  [5.Plotting Results](#5)\n",
    "    -  [5.1.Plotting Loss vs MiniBatch](#5.1)\n",
    "    -  [5.2.Plotting Accuracy vs MiniBatch](#5.2)\n",
    "    -  [5.3.Plotting Loss vs Epoch](#5.3)\n",
    "    -  [5.4.Plotting Accuracy vs Epoch](#5.4)\n",
    "    -  [5.5.Plotting F1 Score vs Epoch](#5.5)\n",
    "    -  [5.6.Plotting Recall vs Epoch](#5.6)\n",
    "    -  [5.7.Plotting Precision vs Epoch](#5.7)\n",
    "-  [6.Testing](#6)"
   ]
  },
  {
   "cell_type": "markdown",
   "id": "733e050d",
   "metadata": {
    "papermill": {
     "duration": 0.005796,
     "end_time": "2023-01-14T07:10:30.354141",
     "exception": false,
     "start_time": "2023-01-14T07:10:30.348345",
     "status": "completed"
    },
    "tags": []
   },
   "source": [
    "### 1.Importing Libraries <a class=\"anchor\" id=\"1\"></a>"
   ]
  },
  {
   "cell_type": "code",
   "execution_count": 1,
   "id": "eff783a0",
   "metadata": {
    "execution": {
     "iopub.execute_input": "2023-01-14T07:10:30.368628Z",
     "iopub.status.busy": "2023-01-14T07:10:30.367775Z",
     "iopub.status.idle": "2023-01-14T07:10:44.933913Z",
     "shell.execute_reply": "2023-01-14T07:10:44.932881Z"
    },
    "papermill": {
     "duration": 14.576608,
     "end_time": "2023-01-14T07:10:44.936697",
     "exception": false,
     "start_time": "2023-01-14T07:10:30.360089",
     "status": "completed"
    },
    "tags": []
   },
   "outputs": [
    {
     "name": "stdout",
     "output_type": "stream",
     "text": [
      "Collecting timm\r\n",
      "  Downloading timm-0.6.12-py3-none-any.whl (549 kB)\r\n",
      "\u001b[2K     \u001b[90m━━━━━━━━━━━━━━━━━━━━━━━━━━━━━━━━━━━━━━━\u001b[0m \u001b[32m549.1/549.1 kB\u001b[0m \u001b[31m1.5 MB/s\u001b[0m eta \u001b[36m0:00:00\u001b[0m\r\n",
      "\u001b[?25hRequirement already satisfied: pyyaml in /opt/conda/lib/python3.7/site-packages (from timm) (6.0)\r\n",
      "Requirement already satisfied: huggingface-hub in /opt/conda/lib/python3.7/site-packages (from timm) (0.10.1)\r\n",
      "Requirement already satisfied: torchvision in /opt/conda/lib/python3.7/site-packages (from timm) (0.12.0)\r\n",
      "Requirement already satisfied: torch>=1.7 in /opt/conda/lib/python3.7/site-packages (from timm) (1.11.0)\r\n",
      "Requirement already satisfied: typing-extensions in /opt/conda/lib/python3.7/site-packages (from torch>=1.7->timm) (4.1.1)\r\n",
      "Requirement already satisfied: packaging>=20.9 in /opt/conda/lib/python3.7/site-packages (from huggingface-hub->timm) (22.0)\r\n",
      "Requirement already satisfied: importlib-metadata in /opt/conda/lib/python3.7/site-packages (from huggingface-hub->timm) (4.13.0)\r\n",
      "Requirement already satisfied: tqdm in /opt/conda/lib/python3.7/site-packages (from huggingface-hub->timm) (4.64.0)\r\n",
      "Requirement already satisfied: requests in /opt/conda/lib/python3.7/site-packages (from huggingface-hub->timm) (2.28.1)\r\n",
      "Requirement already satisfied: filelock in /opt/conda/lib/python3.7/site-packages (from huggingface-hub->timm) (3.7.1)\r\n",
      "Requirement already satisfied: pillow!=8.3.*,>=5.3.0 in /opt/conda/lib/python3.7/site-packages (from torchvision->timm) (9.1.1)\r\n",
      "Requirement already satisfied: numpy in /opt/conda/lib/python3.7/site-packages (from torchvision->timm) (1.21.6)\r\n",
      "Requirement already satisfied: zipp>=0.5 in /opt/conda/lib/python3.7/site-packages (from importlib-metadata->huggingface-hub->timm) (3.8.0)\r\n",
      "Requirement already satisfied: urllib3<1.27,>=1.21.1 in /opt/conda/lib/python3.7/site-packages (from requests->huggingface-hub->timm) (1.26.13)\r\n",
      "Requirement already satisfied: charset-normalizer<3,>=2 in /opt/conda/lib/python3.7/site-packages (from requests->huggingface-hub->timm) (2.1.0)\r\n",
      "Requirement already satisfied: idna<4,>=2.5 in /opt/conda/lib/python3.7/site-packages (from requests->huggingface-hub->timm) (3.3)\r\n",
      "Requirement already satisfied: certifi>=2017.4.17 in /opt/conda/lib/python3.7/site-packages (from requests->huggingface-hub->timm) (2022.12.7)\r\n",
      "Installing collected packages: timm\r\n",
      "Successfully installed timm-0.6.12\r\n",
      "\u001b[33mWARNING: Running pip as the 'root' user can result in broken permissions and conflicting behaviour with the system package manager. It is recommended to use a virtual environment instead: https://pip.pypa.io/warnings/venv\u001b[0m\u001b[33m\r\n",
      "\u001b[0m"
     ]
    }
   ],
   "source": [
    "!pip install timm\n",
    "import timm"
   ]
  },
  {
   "cell_type": "code",
   "execution_count": 2,
   "id": "0d5b1f9b",
   "metadata": {
    "execution": {
     "iopub.execute_input": "2023-01-14T07:10:44.952694Z",
     "iopub.status.busy": "2023-01-14T07:10:44.952401Z",
     "iopub.status.idle": "2023-01-14T07:10:45.617935Z",
     "shell.execute_reply": "2023-01-14T07:10:45.616925Z"
    },
    "papermill": {
     "duration": 0.676306,
     "end_time": "2023-01-14T07:10:45.620442",
     "exception": false,
     "start_time": "2023-01-14T07:10:44.944136",
     "status": "completed"
    },
    "tags": []
   },
   "outputs": [],
   "source": [
    "import torch\n",
    "import torch.nn as nn\n",
    "import torch.nn.functional as F\n",
    "import torchvision.transforms as T\n",
    "from torch.utils.data import Dataset as Dataset\n",
    "from torch.utils.data import DataLoader as DataLoader\n",
    "import pandas as pd\n",
    "import matplotlib.pyplot as plt\n",
    "import numpy as np\n",
    "import seaborn as sns\n",
    "from PIL import Image\n",
    "import os\n",
    "import random\n",
    "\n",
    "torch.cuda.empty_cache()\n",
    "# random.seed(0)\n",
    "# np.random.seed(0)\n",
    "torch.manual_seed(0)\n",
    "\n",
    "sns.set_style(\"darkgrid\")\n",
    "plt.rcParams[\"figure.figsize\"] = (10,10)\n"
   ]
  },
  {
   "cell_type": "markdown",
   "id": "72f151a2",
   "metadata": {
    "papermill": {
     "duration": 0.006876,
     "end_time": "2023-01-14T07:10:45.634648",
     "exception": false,
     "start_time": "2023-01-14T07:10:45.627772",
     "status": "completed"
    },
    "tags": []
   },
   "source": [
    "### 2.Dataset Managament <a class=\"anchor\" id=\"2\"></a>"
   ]
  },
  {
   "cell_type": "markdown",
   "id": "5b092d8a",
   "metadata": {
    "papermill": {
     "duration": 0.006843,
     "end_time": "2023-01-14T07:10:45.650017",
     "exception": false,
     "start_time": "2023-01-14T07:10:45.643174",
     "status": "completed"
    },
    "tags": []
   },
   "source": [
    "#### 1.Downloading and Extracting Dataset <a class=\"anchor\" id=\"2.1\"></a>"
   ]
  },
  {
   "cell_type": "code",
   "execution_count": 3,
   "id": "67ca640e",
   "metadata": {
    "execution": {
     "iopub.execute_input": "2023-01-14T07:10:45.666385Z",
     "iopub.status.busy": "2023-01-14T07:10:45.665303Z",
     "iopub.status.idle": "2023-01-14T07:10:45.670593Z",
     "shell.execute_reply": "2023-01-14T07:10:45.669584Z"
    },
    "papermill": {
     "duration": 0.015707,
     "end_time": "2023-01-14T07:10:45.672805",
     "exception": false,
     "start_time": "2023-01-14T07:10:45.657098",
     "status": "completed"
    },
    "tags": []
   },
   "outputs": [],
   "source": [
    "path = '/kaggle/input/surface-crack/'"
   ]
  },
  {
   "cell_type": "markdown",
   "id": "48e23c56",
   "metadata": {
    "papermill": {
     "duration": 0.006917,
     "end_time": "2023-01-14T07:10:45.687007",
     "exception": false,
     "start_time": "2023-01-14T07:10:45.680090",
     "status": "completed"
    },
    "tags": []
   },
   "source": [
    "#### 2.Visualizing Dataset <a class=\"anchor\" id=\"2.2\"></a>"
   ]
  },
  {
   "cell_type": "markdown",
   "id": "ebbcc14a",
   "metadata": {
    "papermill": {
     "duration": 0.006735,
     "end_time": "2023-01-14T07:10:45.700714",
     "exception": false,
     "start_time": "2023-01-14T07:10:45.693979",
     "status": "completed"
    },
    "tags": []
   },
   "source": [
    "#### 3.Splitting Dataset <a class=\"anchor\" id=\"2.3\"></a>"
   ]
  },
  {
   "cell_type": "code",
   "execution_count": 4,
   "id": "86e9fcf3",
   "metadata": {
    "execution": {
     "iopub.execute_input": "2023-01-14T07:10:45.716048Z",
     "iopub.status.busy": "2023-01-14T07:10:45.715679Z",
     "iopub.status.idle": "2023-01-14T07:10:45.904768Z",
     "shell.execute_reply": "2023-01-14T07:10:45.903776Z"
    },
    "papermill": {
     "duration": 0.199416,
     "end_time": "2023-01-14T07:10:45.907019",
     "exception": false,
     "start_time": "2023-01-14T07:10:45.707603",
     "status": "completed"
    },
    "tags": []
   },
   "outputs": [],
   "source": [
    "import os\n",
    "\n",
    "image = {}\n",
    "label = {}\n",
    "\n",
    "\n",
    "\n",
    "for i in os.listdir(path):\n",
    "    if i not in image:\n",
    "        image[i] = []\n",
    "        label[i] = []\n",
    "    \n",
    "    if i == \"predict\":\n",
    "        for k in os.listdir(path+i):\n",
    "            image[i].append(path+i+'/'+k)\n",
    "            label[i].append(1 if j == \"Positive\" else 0)\n",
    "        continue\n",
    "        \n",
    "    for j in os.listdir(path+i):\n",
    "        for k in os.listdir(path+i+'/'+j):\n",
    "            image[i].append(path+i+'/'+j+'/'+k)\n",
    "            label[i].append(1 if j == \"Positive\" else 0)"
   ]
  },
  {
   "cell_type": "markdown",
   "id": "371e3375",
   "metadata": {
    "papermill": {
     "duration": 0.006776,
     "end_time": "2023-01-14T07:10:45.921177",
     "exception": false,
     "start_time": "2023-01-14T07:10:45.914401",
     "status": "completed"
    },
    "tags": []
   },
   "source": [
    "#### 4.Pytorch DataLoaders <a class=\"anchor\" id=\"2.4\"></a>"
   ]
  },
  {
   "cell_type": "code",
   "execution_count": 5,
   "id": "5018b8f6",
   "metadata": {
    "execution": {
     "iopub.execute_input": "2023-01-14T07:10:45.937567Z",
     "iopub.status.busy": "2023-01-14T07:10:45.937155Z",
     "iopub.status.idle": "2023-01-14T07:10:45.948074Z",
     "shell.execute_reply": "2023-01-14T07:10:45.947139Z"
    },
    "papermill": {
     "duration": 0.021839,
     "end_time": "2023-01-14T07:10:45.950117",
     "exception": false,
     "start_time": "2023-01-14T07:10:45.928278",
     "status": "completed"
    },
    "tags": []
   },
   "outputs": [],
   "source": [
    "from PIL import Image\n",
    "\n",
    "class Dataset(Dataset):\n",
    "    def __init__(self,x,y,transform = 'T.Resize((224,224))'):\n",
    "        self.transform = transform\n",
    "        self.x = x\n",
    "        self.y = y \n",
    "        self.len = len(x)\n",
    "   \n",
    "    def __len__(self):\n",
    "        return self.len\n",
    "    \n",
    "    def __getitem__(self,i):\n",
    "        img = Image.open(self.x[i])\n",
    "        return torch.FloatTensor(np.asarray(self.transform(img))),torch.LongTensor([self.y[i]])\n",
    "\n",
    "batch_size = 4\n",
    "\n",
    "transforms_train = T.Compose([\n",
    "        T.Resize((224,224)),\n",
    "#         T.RandomRotation(degrees=(-45, 45)),\n",
    "#         T.RandomHorizontalFlip(),\n",
    "#         T.RandomVerticalFlip(),\n",
    "        T.ToTensor(),\n",
    "#         T.Normalize([0.485, 0.456, 0.406], [0.229, 0.224, 0.225])\n",
    "    ])\n",
    "\n",
    "transforms_test = T.Compose([\n",
    "        T.Resize((224,224)),\n",
    "        T.ToTensor(),\n",
    "#         T.Normalize(mean=[0.485, 0.456, 0.406], std=[0.229, 0.224, 0.225])\n",
    "    ])\n",
    "\n",
    "train_dataset = Dataset(image['train'],label['train'],transform =transforms_train)\n",
    "validation_dataset = Dataset(image['valid'],label['valid'],transform =transforms_test)\n",
    "test_dataset = Dataset(image['test'],label['test'],transform =transforms_test)\n",
    "\n",
    "train_dataloader = DataLoader(train_dataset , batch_size = batch_size , shuffle = True )\n",
    "validation_dataloader = DataLoader(validation_dataset , batch_size = batch_size , shuffle = True )\n",
    "test_dataloader = DataLoader(test_dataset , batch_size = batch_size , shuffle = True )"
   ]
  },
  {
   "cell_type": "code",
   "execution_count": 6,
   "id": "8047d3e1",
   "metadata": {
    "execution": {
     "iopub.execute_input": "2023-01-14T07:10:45.966023Z",
     "iopub.status.busy": "2023-01-14T07:10:45.965678Z",
     "iopub.status.idle": "2023-01-14T07:10:46.015139Z",
     "shell.execute_reply": "2023-01-14T07:10:46.014157Z"
    },
    "papermill": {
     "duration": 0.060091,
     "end_time": "2023-01-14T07:10:46.017537",
     "exception": false,
     "start_time": "2023-01-14T07:10:45.957446",
     "status": "completed"
    },
    "tags": []
   },
   "outputs": [
    {
     "data": {
      "text/plain": [
       "[tensor([[[[0.7529, 0.7373, 0.7333,  ..., 0.7569, 0.7608, 0.7608],\n",
       "           [0.7373, 0.7333, 0.7412,  ..., 0.7529, 0.7608, 0.7608],\n",
       "           [0.7216, 0.7333, 0.7529,  ..., 0.7529, 0.7569, 0.7569],\n",
       "           ...,\n",
       "           [0.7020, 0.7059, 0.7098,  ..., 0.7608, 0.7529, 0.7529],\n",
       "           [0.7020, 0.7137, 0.7176,  ..., 0.7412, 0.7294, 0.7216],\n",
       "           [0.6902, 0.7059, 0.7137,  ..., 0.7255, 0.7098, 0.6941]],\n",
       " \n",
       "          [[0.7608, 0.7451, 0.7412,  ..., 0.7647, 0.7686, 0.7686],\n",
       "           [0.7451, 0.7412, 0.7490,  ..., 0.7608, 0.7686, 0.7686],\n",
       "           [0.7294, 0.7412, 0.7608,  ..., 0.7608, 0.7647, 0.7647],\n",
       "           ...,\n",
       "           [0.7059, 0.7098, 0.7137,  ..., 0.7608, 0.7529, 0.7529],\n",
       "           [0.7059, 0.7176, 0.7216,  ..., 0.7412, 0.7294, 0.7216],\n",
       "           [0.6941, 0.7098, 0.7176,  ..., 0.7255, 0.7098, 0.6941]],\n",
       " \n",
       "          [[0.7490, 0.7333, 0.7294,  ..., 0.7608, 0.7647, 0.7647],\n",
       "           [0.7333, 0.7294, 0.7373,  ..., 0.7569, 0.7647, 0.7647],\n",
       "           [0.7176, 0.7294, 0.7490,  ..., 0.7569, 0.7608, 0.7608],\n",
       "           ...,\n",
       "           [0.6863, 0.6902, 0.6941,  ..., 0.7529, 0.7451, 0.7451],\n",
       "           [0.6863, 0.6980, 0.7020,  ..., 0.7333, 0.7216, 0.7137],\n",
       "           [0.6745, 0.6902, 0.6980,  ..., 0.7176, 0.7020, 0.6863]]],\n",
       " \n",
       " \n",
       "         [[[0.7020, 0.7020, 0.6784,  ..., 0.7569, 0.7451, 0.7333],\n",
       "           [0.7216, 0.7098, 0.6902,  ..., 0.7490, 0.7451, 0.7412],\n",
       "           [0.7216, 0.6980, 0.6902,  ..., 0.7333, 0.7412, 0.7490],\n",
       "           ...,\n",
       "           [0.7373, 0.7333, 0.7333,  ..., 0.7412, 0.7451, 0.7569],\n",
       "           [0.7137, 0.7216, 0.7255,  ..., 0.7451, 0.7451, 0.7569],\n",
       "           [0.6941, 0.7020, 0.7137,  ..., 0.7529, 0.7451, 0.7529]],\n",
       " \n",
       "          [[0.7137, 0.7137, 0.6902,  ..., 0.7569, 0.7451, 0.7333],\n",
       "           [0.7333, 0.7216, 0.7020,  ..., 0.7490, 0.7451, 0.7412],\n",
       "           [0.7333, 0.7098, 0.7020,  ..., 0.7333, 0.7412, 0.7490],\n",
       "           ...,\n",
       "           [0.7412, 0.7373, 0.7373,  ..., 0.7451, 0.7490, 0.7608],\n",
       "           [0.7176, 0.7255, 0.7294,  ..., 0.7490, 0.7490, 0.7608],\n",
       "           [0.6980, 0.7059, 0.7176,  ..., 0.7569, 0.7490, 0.7569]],\n",
       " \n",
       "          [[0.6863, 0.6863, 0.6627,  ..., 0.7255, 0.7137, 0.7020],\n",
       "           [0.7059, 0.6941, 0.6745,  ..., 0.7176, 0.7137, 0.7098],\n",
       "           [0.7059, 0.6824, 0.6745,  ..., 0.7020, 0.7098, 0.7176],\n",
       "           ...,\n",
       "           [0.7098, 0.7059, 0.7059,  ..., 0.7216, 0.7255, 0.7373],\n",
       "           [0.6863, 0.6941, 0.6980,  ..., 0.7255, 0.7255, 0.7373],\n",
       "           [0.6667, 0.6745, 0.6863,  ..., 0.7333, 0.7255, 0.7333]]],\n",
       " \n",
       " \n",
       "         [[[0.6980, 0.7020, 0.7176,  ..., 0.7059, 0.7176, 0.7294],\n",
       "           [0.7255, 0.7216, 0.7216,  ..., 0.7098, 0.7176, 0.7255],\n",
       "           [0.7412, 0.7255, 0.7176,  ..., 0.7137, 0.7176, 0.7216],\n",
       "           ...,\n",
       "           [0.7608, 0.7490, 0.7412,  ..., 0.7451, 0.7490, 0.7490],\n",
       "           [0.7608, 0.7490, 0.7412,  ..., 0.7451, 0.7490, 0.7490],\n",
       "           [0.7608, 0.7529, 0.7412,  ..., 0.7412, 0.7451, 0.7490]],\n",
       " \n",
       "          [[0.7020, 0.7059, 0.7216,  ..., 0.7098, 0.7216, 0.7333],\n",
       "           [0.7294, 0.7255, 0.7255,  ..., 0.7137, 0.7216, 0.7294],\n",
       "           [0.7451, 0.7294, 0.7216,  ..., 0.7176, 0.7216, 0.7255],\n",
       "           ...,\n",
       "           [0.7647, 0.7529, 0.7451,  ..., 0.7490, 0.7529, 0.7529],\n",
       "           [0.7647, 0.7529, 0.7451,  ..., 0.7490, 0.7529, 0.7529],\n",
       "           [0.7647, 0.7569, 0.7451,  ..., 0.7451, 0.7490, 0.7529]],\n",
       " \n",
       "          [[0.6784, 0.6824, 0.6980,  ..., 0.6784, 0.6902, 0.7020],\n",
       "           [0.7059, 0.7020, 0.7020,  ..., 0.6824, 0.6902, 0.6980],\n",
       "           [0.7216, 0.7059, 0.6980,  ..., 0.6863, 0.6902, 0.6941],\n",
       "           ...,\n",
       "           [0.7412, 0.7294, 0.7216,  ..., 0.7294, 0.7333, 0.7333],\n",
       "           [0.7412, 0.7294, 0.7216,  ..., 0.7294, 0.7333, 0.7333],\n",
       "           [0.7412, 0.7333, 0.7216,  ..., 0.7255, 0.7294, 0.7333]]],\n",
       " \n",
       " \n",
       "         [[[0.7216, 0.7176, 0.7137,  ..., 0.7373, 0.7216, 0.7098],\n",
       "           [0.6902, 0.6941, 0.6980,  ..., 0.7373, 0.7176, 0.7059],\n",
       "           [0.6824, 0.6824, 0.6902,  ..., 0.7373, 0.7255, 0.7176],\n",
       "           ...,\n",
       "           [0.7137, 0.7176, 0.7216,  ..., 0.6902, 0.7059, 0.7059],\n",
       "           [0.7176, 0.7176, 0.7176,  ..., 0.6667, 0.6863, 0.6980],\n",
       "           [0.7294, 0.7255, 0.7255,  ..., 0.6667, 0.6902, 0.7059]],\n",
       " \n",
       "          [[0.7216, 0.7176, 0.7137,  ..., 0.7451, 0.7294, 0.7176],\n",
       "           [0.6902, 0.6941, 0.6980,  ..., 0.7451, 0.7255, 0.7137],\n",
       "           [0.6824, 0.6824, 0.6902,  ..., 0.7451, 0.7333, 0.7255],\n",
       "           ...,\n",
       "           [0.7216, 0.7255, 0.7294,  ..., 0.6980, 0.7137, 0.7137],\n",
       "           [0.7255, 0.7255, 0.7255,  ..., 0.6745, 0.6941, 0.7059],\n",
       "           [0.7373, 0.7333, 0.7333,  ..., 0.6745, 0.6980, 0.7137]],\n",
       " \n",
       "          [[0.7137, 0.7098, 0.7059,  ..., 0.7333, 0.7176, 0.7059],\n",
       "           [0.6824, 0.6863, 0.6902,  ..., 0.7333, 0.7137, 0.7020],\n",
       "           [0.6745, 0.6745, 0.6824,  ..., 0.7333, 0.7216, 0.7137],\n",
       "           ...,\n",
       "           [0.7098, 0.7137, 0.7176,  ..., 0.6863, 0.7020, 0.7020],\n",
       "           [0.7137, 0.7137, 0.7137,  ..., 0.6627, 0.6824, 0.6941],\n",
       "           [0.7255, 0.7216, 0.7216,  ..., 0.6627, 0.6863, 0.7020]]]]),\n",
       " tensor([[0],\n",
       "         [1],\n",
       "         [0],\n",
       "         [0]])]"
      ]
     },
     "execution_count": 6,
     "metadata": {},
     "output_type": "execute_result"
    }
   ],
   "source": [
    "next(iter(test_dataloader))"
   ]
  },
  {
   "cell_type": "markdown",
   "id": "5ba2fb07",
   "metadata": {
    "papermill": {
     "duration": 0.00699,
     "end_time": "2023-01-14T07:10:46.032361",
     "exception": false,
     "start_time": "2023-01-14T07:10:46.025371",
     "status": "completed"
    },
    "tags": []
   },
   "source": [
    "### 3.Initializing pre-trained model <a class=\"anchor\" id=\"3\"></a>"
   ]
  },
  {
   "cell_type": "code",
   "execution_count": 7,
   "id": "9b595374",
   "metadata": {
    "execution": {
     "iopub.execute_input": "2023-01-14T07:10:46.048017Z",
     "iopub.status.busy": "2023-01-14T07:10:46.047663Z",
     "iopub.status.idle": "2023-01-14T07:10:49.763323Z",
     "shell.execute_reply": "2023-01-14T07:10:49.762359Z"
    },
    "papermill": {
     "duration": 3.726621,
     "end_time": "2023-01-14T07:10:49.766044",
     "exception": false,
     "start_time": "2023-01-14T07:10:46.039423",
     "status": "completed"
    },
    "tags": []
   },
   "outputs": [],
   "source": [
    "model_name = \"vit_base_patch8_224\"\n",
    "class ViTBase16(nn.Module):\n",
    "    def __init__(self, n_classes):\n",
    "\n",
    "        super(ViTBase16, self).__init__()\n",
    "\n",
    "        self.model = timm.create_model(model_name, pretrained=True)\n",
    "        \n",
    "\n",
    "        self.model.head = nn.Linear(self.model.head.in_features, n_classes)\n",
    "\n",
    "    def forward(self, x):\n",
    "        x = self.model(x)\n",
    "        return x\n",
    "\n",
    "\n",
    "model = ViTBase16(2)\n",
    "for param in model.parameters():\n",
    "    param.requires_grad = True"
   ]
  },
  {
   "cell_type": "markdown",
   "id": "d4387f33",
   "metadata": {
    "papermill": {
     "duration": 0.007067,
     "end_time": "2023-01-14T07:10:49.780555",
     "exception": false,
     "start_time": "2023-01-14T07:10:49.773488",
     "status": "completed"
    },
    "tags": []
   },
   "source": [
    "### 4.Training <a class=\"anchor\" id=\"4\"></a>"
   ]
  },
  {
   "cell_type": "code",
   "execution_count": 8,
   "id": "9771364c",
   "metadata": {
    "execution": {
     "iopub.execute_input": "2023-01-14T07:10:49.796065Z",
     "iopub.status.busy": "2023-01-14T07:10:49.795749Z",
     "iopub.status.idle": "2023-01-14T07:10:52.681394Z",
     "shell.execute_reply": "2023-01-14T07:10:52.680252Z"
    },
    "papermill": {
     "duration": 2.897858,
     "end_time": "2023-01-14T07:10:52.685497",
     "exception": false,
     "start_time": "2023-01-14T07:10:49.787639",
     "status": "completed"
    },
    "tags": []
   },
   "outputs": [],
   "source": [
    "lr = 0.001\n",
    "epoch = 30\n",
    "train_dataset_size = train_dataset.__len__()\n",
    "validation_dataset_size = validation_dataset.__len__()\n",
    "train_n_minibatches = train_dataloader.__len__()\n",
    "validation_n_minibatches = validation_dataloader.__len__()\n",
    "\n",
    "device = 'cuda'\n",
    "model.to(device)\n",
    "loss_history = [[],[]] #[[train], [validation]]\n",
    "accuracy_history = [[],[]] #[[train], [validation]]\n",
    "# prec_history = [[],[]] #[[train], [validation]]\n",
    "# recall_history = [[],[]] #[[train], [validation]]\n",
    "# f1_history = [[],[]] #[[train], [validation]]\n",
    "# support_history = [[],[]] #[[train], [validation]]\n",
    "\n",
    "results = [[],[]]\n",
    "\n",
    "criterion = nn.CrossEntropyLoss()  \n",
    "optimizer = torch.optim.SGD(model.parameters(),lr = lr)\n",
    "\n"
   ]
  },
  {
   "cell_type": "code",
   "execution_count": 9,
   "id": "2828c145",
   "metadata": {
    "execution": {
     "iopub.execute_input": "2023-01-14T07:10:52.713459Z",
     "iopub.status.busy": "2023-01-14T07:10:52.712860Z",
     "iopub.status.idle": "2023-01-14T07:45:09.492130Z",
     "shell.execute_reply": "2023-01-14T07:45:09.490933Z"
    },
    "papermill": {
     "duration": 2056.808917,
     "end_time": "2023-01-14T07:45:09.508896",
     "exception": false,
     "start_time": "2023-01-14T07:10:52.699979",
     "status": "completed"
    },
    "scrolled": true,
    "tags": []
   },
   "outputs": [
    {
     "name": "stdout",
     "output_type": "stream",
     "text": [
      "---------------------------------------EPOCH 1-------------------------------------------\n",
      "LOSS for EPOCH 1 BATCH 0/150 TRAIN LOSS : 0.36666756868362427 TRAIN ACCURACY : 75.0 VALIDATION LOSS : 1.1084829565882683 VALIDATION ACCURACY : 50.5\n",
      "LOSS for EPOCH 1 BATCH 75/150 TRAIN LOSS : 0.1232285350561142 TRAIN ACCURACY : 100.0 VALIDATION LOSS : 0.09963663591537625 VALIDATION ACCURACY : 96.5\n",
      "--------------------------------------------------------------------------------------------\n",
      "Loss for EPOCH 1  TRAIN LOSS : 0.14785365070808135 TRAIN PREC : [0.92332268 0.96167247] RECALL : [0.96333333 0.92      ] F1 : [0.94290375 0.94037479] ACC : 94.16666666666667\n",
      "VALIDATION LOSS for EPOCH 1 : 0.09963663591537625 VALIDATION PREC : [0.67028986 0.87903226] RECALL : [0.925 0.545] F1 : [0.77731092 0.67283951]  ACC : 96.5\n",
      "---------------------------------------------------------------------------------------------\n",
      "---------------------------------------EPOCH 2-------------------------------------------\n",
      "LOSS for EPOCH 2 BATCH 0/150 TRAIN LOSS : 0.008613272570073605 TRAIN ACCURACY : 100.0 VALIDATION LOSS : 0.06552703726643813 VALIDATION ACCURACY : 96.5\n",
      "LOSS for EPOCH 2 BATCH 75/150 TRAIN LOSS : 0.020209932699799538 TRAIN ACCURACY : 100.0 VALIDATION LOSS : 0.037032231670164034 VALIDATION ACCURACY : 99.0\n",
      "--------------------------------------------------------------------------------------------\n",
      "Loss for EPOCH 2  TRAIN LOSS : 0.01854391903359404 TRAIN PREC : [0.98355263 0.99662162] RECALL : [0.99666667 0.98333333] F1 : [0.99006623 0.98993289] ACC : 99.0\n",
      "VALIDATION LOSS for EPOCH 2 : 0.037032231670164034 VALIDATION PREC : [0.98974359 0.96585366] RECALL : [0.965 0.99 ] F1 : [0.97721519 0.97777778]  ACC : 99.0\n",
      "---------------------------------------------------------------------------------------------\n",
      "---------------------------------------EPOCH 3-------------------------------------------\n",
      "LOSS for EPOCH 3 BATCH 0/150 TRAIN LOSS : 0.00015051476657390594 TRAIN ACCURACY : 100.0 VALIDATION LOSS : 0.034326493707521874 VALIDATION ACCURACY : 99.0\n",
      "LOSS for EPOCH 3 BATCH 75/150 TRAIN LOSS : 0.014391082338988781 TRAIN ACCURACY : 100.0 VALIDATION LOSS : 0.03173742104434495 VALIDATION ACCURACY : 99.0\n",
      "--------------------------------------------------------------------------------------------\n",
      "Loss for EPOCH 3  TRAIN LOSS : 0.009322663585492896 TRAIN PREC : [0.99009901 1.        ] RECALL : [1.   0.99] F1 : [0.99502488 0.99497487] ACC : 99.5\n",
      "VALIDATION LOSS for EPOCH 3 : 0.03173742104434495 VALIDATION PREC : [0.99 0.99] RECALL : [0.99 0.99] F1 : [0.99 0.99]  ACC : 99.0\n",
      "---------------------------------------------------------------------------------------------\n",
      "---------------------------------------EPOCH 4-------------------------------------------\n",
      "LOSS for EPOCH 4 BATCH 0/150 TRAIN LOSS : 0.0003797925601247698 TRAIN ACCURACY : 100.0 VALIDATION LOSS : 0.02614972568986559 VALIDATION ACCURACY : 99.0\n",
      "LOSS for EPOCH 4 BATCH 75/150 TRAIN LOSS : 9.860897262115031e-05 TRAIN ACCURACY : 100.0 VALIDATION LOSS : 0.023810484825153255 VALIDATION ACCURACY : 99.0\n",
      "--------------------------------------------------------------------------------------------\n",
      "Loss for EPOCH 4  TRAIN LOSS : 0.0031594242305861067 TRAIN PREC : [1. 1.] RECALL : [1. 1.] F1 : [1. 1.] ACC : 100.0\n",
      "VALIDATION LOSS for EPOCH 4 : 0.023810484825153255 VALIDATION PREC : [0.99 0.99] RECALL : [0.99 0.99] F1 : [0.99 0.99]  ACC : 99.0\n",
      "---------------------------------------------------------------------------------------------\n",
      "---------------------------------------EPOCH 5-------------------------------------------\n",
      "LOSS for EPOCH 5 BATCH 0/150 TRAIN LOSS : 4.243599687470123e-05 TRAIN ACCURACY : 100.0 VALIDATION LOSS : 0.02165519460435462 VALIDATION ACCURACY : 99.5\n",
      "LOSS for EPOCH 5 BATCH 75/150 TRAIN LOSS : 4.2646181100280955e-05 TRAIN ACCURACY : 100.0 VALIDATION LOSS : 0.019745400956144295 VALIDATION ACCURACY : 99.5\n",
      "--------------------------------------------------------------------------------------------\n",
      "Loss for EPOCH 5  TRAIN LOSS : 0.0023097224478685046 TRAIN PREC : [1. 1.] RECALL : [1. 1.] F1 : [1. 1.] ACC : 100.0\n",
      "VALIDATION LOSS for EPOCH 5 : 0.019745400956144295 VALIDATION PREC : [0.99009901 1.        ] RECALL : [1.   0.99] F1 : [0.99502488 0.99497487]  ACC : 99.5\n",
      "---------------------------------------------------------------------------------------------\n",
      "---------------------------------------EPOCH 6-------------------------------------------\n",
      "LOSS for EPOCH 6 BATCH 0/150 TRAIN LOSS : 4.517899651546031e-05 TRAIN ACCURACY : 100.0 VALIDATION LOSS : 0.018831865060747077 VALIDATION ACCURACY : 99.5\n",
      "LOSS for EPOCH 6 BATCH 75/150 TRAIN LOSS : 5.766238973592408e-05 TRAIN ACCURACY : 100.0 VALIDATION LOSS : 0.019725258105008834 VALIDATION ACCURACY : 99.0\n",
      "--------------------------------------------------------------------------------------------\n",
      "Loss for EPOCH 6  TRAIN LOSS : 0.0008520397395416998 TRAIN PREC : [1. 1.] RECALL : [1. 1.] F1 : [1. 1.] ACC : 100.0\n",
      "VALIDATION LOSS for EPOCH 6 : 0.019725258105008834 VALIDATION PREC : [0.99004975 0.99497487] RECALL : [0.995 0.99 ] F1 : [0.9925187 0.9924812]  ACC : 99.0\n",
      "---------------------------------------------------------------------------------------------\n",
      "---------------------------------------EPOCH 7-------------------------------------------\n",
      "LOSS for EPOCH 7 BATCH 0/150 TRAIN LOSS : 0.006712489295750856 TRAIN ACCURACY : 100.0 VALIDATION LOSS : 0.0173458862363168 VALIDATION ACCURACY : 99.5\n",
      "LOSS for EPOCH 7 BATCH 75/150 TRAIN LOSS : 6.791338819311932e-05 TRAIN ACCURACY : 100.0 VALIDATION LOSS : 0.016326997200949336 VALIDATION ACCURACY : 99.5\n",
      "--------------------------------------------------------------------------------------------\n",
      "Loss for EPOCH 7  TRAIN LOSS : 0.00036439807569422556 TRAIN PREC : [1. 1.] RECALL : [1. 1.] F1 : [1. 1.] ACC : 100.0\n",
      "VALIDATION LOSS for EPOCH 7 : 0.016326997200949336 VALIDATION PREC : [0.99009901 1.        ] RECALL : [1.   0.99] F1 : [0.99502488 0.99497487]  ACC : 99.5\n",
      "---------------------------------------------------------------------------------------------\n",
      "---------------------------------------EPOCH 8-------------------------------------------\n",
      "LOSS for EPOCH 8 BATCH 0/150 TRAIN LOSS : 7.56975441618124e-06 TRAIN ACCURACY : 100.0 VALIDATION LOSS : 0.015434167062485358 VALIDATION ACCURACY : 99.5\n",
      "LOSS for EPOCH 8 BATCH 75/150 TRAIN LOSS : 0.0005477616214193404 TRAIN ACCURACY : 100.0 VALIDATION LOSS : 0.014856547422414223 VALIDATION ACCURACY : 99.5\n",
      "--------------------------------------------------------------------------------------------\n",
      "Loss for EPOCH 8  TRAIN LOSS : 0.0001786457251394798 TRAIN PREC : [1. 1.] RECALL : [1. 1.] F1 : [1. 1.] ACC : 100.0\n",
      "VALIDATION LOSS for EPOCH 8 : 0.014856547422414223 VALIDATION PREC : [0.99009901 1.        ] RECALL : [1.   0.99] F1 : [0.99502488 0.99497487]  ACC : 99.5\n",
      "---------------------------------------------------------------------------------------------\n",
      "---------------------------------------EPOCH 9-------------------------------------------\n",
      "LOSS for EPOCH 9 BATCH 0/150 TRAIN LOSS : 1.460297244193498e-05 TRAIN ACCURACY : 100.0 VALIDATION LOSS : 0.014222205510059212 VALIDATION ACCURACY : 99.5\n",
      "LOSS for EPOCH 9 BATCH 75/150 TRAIN LOSS : 4.199035538476892e-05 TRAIN ACCURACY : 100.0 VALIDATION LOSS : 0.013782057870039353 VALIDATION ACCURACY : 99.5\n",
      "--------------------------------------------------------------------------------------------\n",
      "Loss for EPOCH 9  TRAIN LOSS : 0.00012754828490869842 TRAIN PREC : [1. 1.] RECALL : [1. 1.] F1 : [1. 1.] ACC : 100.0\n",
      "VALIDATION LOSS for EPOCH 9 : 0.013782057870039353 VALIDATION PREC : [0.99009901 1.        ] RECALL : [1.   0.99] F1 : [0.99502488 0.99497487]  ACC : 99.5\n",
      "---------------------------------------------------------------------------------------------\n",
      "---------------------------------------EPOCH 10-------------------------------------------\n",
      "LOSS for EPOCH 10 BATCH 0/150 TRAIN LOSS : 0.0006655764300376177 TRAIN ACCURACY : 100.0 VALIDATION LOSS : 0.013421165008030584 VALIDATION ACCURACY : 99.5\n",
      "LOSS for EPOCH 10 BATCH 75/150 TRAIN LOSS : 4.4790100218961015e-05 TRAIN ACCURACY : 100.0 VALIDATION LOSS : 0.013106323404572321 VALIDATION ACCURACY : 99.5\n",
      "--------------------------------------------------------------------------------------------\n",
      "Loss for EPOCH 10  TRAIN LOSS : 0.00010402976512220145 TRAIN PREC : [1. 1.] RECALL : [1. 1.] F1 : [1. 1.] ACC : 100.0\n",
      "VALIDATION LOSS for EPOCH 10 : 0.013106323404572321 VALIDATION PREC : [0.99009901 1.        ] RECALL : [1.   0.99] F1 : [0.99502488 0.99497487]  ACC : 99.5\n",
      "---------------------------------------------------------------------------------------------\n",
      "---------------------------------------EPOCH 11-------------------------------------------\n",
      "LOSS for EPOCH 11 BATCH 0/150 TRAIN LOSS : 8.91081344889244e-06 TRAIN ACCURACY : 100.0 VALIDATION LOSS : 0.013045713857718511 VALIDATION ACCURACY : 99.5\n",
      "LOSS for EPOCH 11 BATCH 75/150 TRAIN LOSS : 5.748623516410589e-05 TRAIN ACCURACY : 100.0 VALIDATION LOSS : 0.012886186022260517 VALIDATION ACCURACY : 99.5\n",
      "--------------------------------------------------------------------------------------------\n",
      "Loss for EPOCH 11  TRAIN LOSS : 8.77276664702246e-05 TRAIN PREC : [1. 1.] RECALL : [1. 1.] F1 : [1. 1.] ACC : 100.0\n",
      "VALIDATION LOSS for EPOCH 11 : 0.012886186022260517 VALIDATION PREC : [0.99009901 1.        ] RECALL : [1.   0.99] F1 : [0.99502488 0.99497487]  ACC : 99.5\n",
      "---------------------------------------------------------------------------------------------\n",
      "---------------------------------------EPOCH 12-------------------------------------------\n",
      "LOSS for EPOCH 12 BATCH 0/150 TRAIN LOSS : 2.4437872525595594e-06 TRAIN ACCURACY : 100.0 VALIDATION LOSS : 0.012798642546081283 VALIDATION ACCURACY : 99.5\n",
      "LOSS for EPOCH 12 BATCH 75/150 TRAIN LOSS : 1.1801642358477693e-05 TRAIN ACCURACY : 100.0 VALIDATION LOSS : 0.012600630000515594 VALIDATION ACCURACY : 99.5\n",
      "--------------------------------------------------------------------------------------------\n",
      "Loss for EPOCH 12  TRAIN LOSS : 7.682403660510318e-05 TRAIN PREC : [1. 1.] RECALL : [1. 1.] F1 : [1. 1.] ACC : 100.0\n",
      "VALIDATION LOSS for EPOCH 12 : 0.012600630000515594 VALIDATION PREC : [0.99009901 1.        ] RECALL : [1.   0.99] F1 : [0.99502488 0.99497487]  ACC : 99.5\n",
      "---------------------------------------------------------------------------------------------\n",
      "---------------------------------------EPOCH 13-------------------------------------------\n",
      "LOSS for EPOCH 13 BATCH 0/150 TRAIN LOSS : 2.4139835659298114e-06 TRAIN ACCURACY : 100.0 VALIDATION LOSS : 0.012564065756478157 VALIDATION ACCURACY : 99.5\n",
      "LOSS for EPOCH 13 BATCH 75/150 TRAIN LOSS : 0.00018188045942224562 TRAIN ACCURACY : 100.0 VALIDATION LOSS : 0.012633996026202111 VALIDATION ACCURACY : 99.5\n",
      "--------------------------------------------------------------------------------------------\n",
      "Loss for EPOCH 13  TRAIN LOSS : 6.809478316730141e-05 TRAIN PREC : [1. 1.] RECALL : [1. 1.] F1 : [1. 1.] ACC : 100.0\n",
      "VALIDATION LOSS for EPOCH 13 : 0.012633996026202111 VALIDATION PREC : [0.99009901 1.        ] RECALL : [1.   0.99] F1 : [0.99502488 0.99497487]  ACC : 99.5\n",
      "---------------------------------------------------------------------------------------------\n",
      "---------------------------------------EPOCH 14-------------------------------------------\n",
      "LOSS for EPOCH 14 BATCH 0/150 TRAIN LOSS : 1.3768503777100705e-05 TRAIN ACCURACY : 100.0 VALIDATION LOSS : 0.012291162621518198 VALIDATION ACCURACY : 99.5\n",
      "LOSS for EPOCH 14 BATCH 75/150 TRAIN LOSS : 1.9043311112909578e-05 TRAIN ACCURACY : 100.0 VALIDATION LOSS : 0.012085325907228252 VALIDATION ACCURACY : 99.5\n",
      "--------------------------------------------------------------------------------------------\n",
      "Loss for EPOCH 14  TRAIN LOSS : 6.12126931249198e-05 TRAIN PREC : [1. 1.] RECALL : [1. 1.] F1 : [1. 1.] ACC : 100.0\n",
      "VALIDATION LOSS for EPOCH 14 : 0.012085325907228252 VALIDATION PREC : [0.99009901 1.        ] RECALL : [1.   0.99] F1 : [0.99502488 0.99497487]  ACC : 99.5\n",
      "---------------------------------------------------------------------------------------------\n",
      "---------------------------------------EPOCH 15-------------------------------------------\n",
      "LOSS for EPOCH 15 BATCH 0/150 TRAIN LOSS : 3.4033142583211884e-05 TRAIN ACCURACY : 100.0 VALIDATION LOSS : 0.012127907708418206 VALIDATION ACCURACY : 99.5\n",
      "LOSS for EPOCH 15 BATCH 75/150 TRAIN LOSS : 4.9766946176532656e-05 TRAIN ACCURACY : 100.0 VALIDATION LOSS : 0.01214319991476259 VALIDATION ACCURACY : 99.5\n",
      "--------------------------------------------------------------------------------------------\n",
      "Loss for EPOCH 15  TRAIN LOSS : 5.560446364900902e-05 TRAIN PREC : [1. 1.] RECALL : [1. 1.] F1 : [1. 1.] ACC : 100.0\n",
      "VALIDATION LOSS for EPOCH 15 : 0.01214319991476259 VALIDATION PREC : [0.99009901 1.        ] RECALL : [1.   0.99] F1 : [0.99502488 0.99497487]  ACC : 99.5\n",
      "---------------------------------------------------------------------------------------------\n",
      "---------------------------------------EPOCH 16-------------------------------------------\n",
      "LOSS for EPOCH 16 BATCH 0/150 TRAIN LOSS : 8.299187902593985e-05 TRAIN ACCURACY : 100.0 VALIDATION LOSS : 0.011966176976216047 VALIDATION ACCURACY : 99.5\n",
      "LOSS for EPOCH 16 BATCH 75/150 TRAIN LOSS : 3.206604378647171e-05 TRAIN ACCURACY : 100.0 VALIDATION LOSS : 0.01190847259475504 VALIDATION ACCURACY : 99.5\n",
      "--------------------------------------------------------------------------------------------\n",
      "Loss for EPOCH 16  TRAIN LOSS : 5.100804432686345e-05 TRAIN PREC : [1. 1.] RECALL : [1. 1.] F1 : [1. 1.] ACC : 100.0\n",
      "VALIDATION LOSS for EPOCH 16 : 0.01190847259475504 VALIDATION PREC : [0.99009901 1.        ] RECALL : [1.   0.99] F1 : [0.99502488 0.99497487]  ACC : 99.5\n",
      "---------------------------------------------------------------------------------------------\n",
      "---------------------------------------EPOCH 17-------------------------------------------\n",
      "LOSS for EPOCH 17 BATCH 0/150 TRAIN LOSS : 1.4751925846212544e-05 TRAIN ACCURACY : 100.0 VALIDATION LOSS : 0.011849942283797646 VALIDATION ACCURACY : 99.5\n",
      "LOSS for EPOCH 17 BATCH 75/150 TRAIN LOSS : 1.5735389752080664e-05 TRAIN ACCURACY : 100.0 VALIDATION LOSS : 0.011838854116531366 VALIDATION ACCURACY : 99.5\n",
      "--------------------------------------------------------------------------------------------\n",
      "Loss for EPOCH 17  TRAIN LOSS : 4.703904372187632e-05 TRAIN PREC : [1. 1.] RECALL : [1. 1.] F1 : [1. 1.] ACC : 100.0\n",
      "VALIDATION LOSS for EPOCH 17 : 0.011838854116531366 VALIDATION PREC : [0.99009901 1.        ] RECALL : [1.   0.99] F1 : [0.99502488 0.99497487]  ACC : 99.5\n",
      "---------------------------------------------------------------------------------------------\n",
      "---------------------------------------EPOCH 18-------------------------------------------\n",
      "LOSS for EPOCH 18 BATCH 0/150 TRAIN LOSS : 1.4066541552892886e-05 TRAIN ACCURACY : 100.0 VALIDATION LOSS : 0.011741716437263676 VALIDATION ACCURACY : 99.5\n",
      "LOSS for EPOCH 18 BATCH 75/150 TRAIN LOSS : 2.51521123573184e-05 TRAIN ACCURACY : 100.0 VALIDATION LOSS : 0.011668009459208406 VALIDATION ACCURACY : 99.5\n",
      "--------------------------------------------------------------------------------------------\n",
      "Loss for EPOCH 18  TRAIN LOSS : 4.3648151789360174e-05 TRAIN PREC : [1. 1.] RECALL : [1. 1.] F1 : [1. 1.] ACC : 100.0\n",
      "VALIDATION LOSS for EPOCH 18 : 0.011668009459208406 VALIDATION PREC : [0.99009901 1.        ] RECALL : [1.   0.99] F1 : [0.99502488 0.99497487]  ACC : 99.5\n",
      "---------------------------------------------------------------------------------------------\n",
      "---------------------------------------EPOCH 19-------------------------------------------\n",
      "LOSS for EPOCH 19 BATCH 0/150 TRAIN LOSS : 3.66567883247626e-06 TRAIN ACCURACY : 100.0 VALIDATION LOSS : 0.011642384898855197 VALIDATION ACCURACY : 99.5\n",
      "LOSS for EPOCH 19 BATCH 75/150 TRAIN LOSS : 3.0397393857128918e-05 TRAIN ACCURACY : 100.0 VALIDATION LOSS : 0.01156989829982649 VALIDATION ACCURACY : 99.5\n",
      "--------------------------------------------------------------------------------------------\n",
      "Loss for EPOCH 19  TRAIN LOSS : 4.0709746779915195e-05 TRAIN PREC : [1. 1.] RECALL : [1. 1.] F1 : [1. 1.] ACC : 100.0\n",
      "VALIDATION LOSS for EPOCH 19 : 0.01156989829982649 VALIDATION PREC : [0.99009901 1.        ] RECALL : [1.   0.99] F1 : [0.99502488 0.99497487]  ACC : 99.5\n",
      "---------------------------------------------------------------------------------------------\n",
      "---------------------------------------EPOCH 20-------------------------------------------\n",
      "LOSS for EPOCH 20 BATCH 0/150 TRAIN LOSS : 1.355988842988154e-05 TRAIN ACCURACY : 100.0 VALIDATION LOSS : 0.011579460325810942 VALIDATION ACCURACY : 99.5\n",
      "LOSS for EPOCH 20 BATCH 75/150 TRAIN LOSS : 5.751808657805668e-06 TRAIN ACCURACY : 100.0 VALIDATION LOSS : 0.011373199194263179 VALIDATION ACCURACY : 99.5\n",
      "--------------------------------------------------------------------------------------------\n",
      "Loss for EPOCH 20  TRAIN LOSS : 3.81368503349222e-05 TRAIN PREC : [1. 1.] RECALL : [1. 1.] F1 : [1. 1.] ACC : 100.0\n",
      "VALIDATION LOSS for EPOCH 20 : 0.011373199194263179 VALIDATION PREC : [0.99009901 1.        ] RECALL : [1.   0.99] F1 : [0.99502488 0.99497487]  ACC : 99.5\n",
      "---------------------------------------------------------------------------------------------\n",
      "---------------------------------------EPOCH 21-------------------------------------------\n",
      "LOSS for EPOCH 21 BATCH 0/150 TRAIN LOSS : 6.437270712922327e-06 TRAIN ACCURACY : 100.0 VALIDATION LOSS : 0.01153169718523941 VALIDATION ACCURACY : 99.5\n",
      "LOSS for EPOCH 21 BATCH 75/150 TRAIN LOSS : 2.8429940357455052e-05 TRAIN ACCURACY : 100.0 VALIDATION LOSS : 0.011509003320634292 VALIDATION ACCURACY : 99.5\n",
      "--------------------------------------------------------------------------------------------\n",
      "Loss for EPOCH 21  TRAIN LOSS : 3.592708833897026e-05 TRAIN PREC : [1. 1.] RECALL : [1. 1.] F1 : [1. 1.] ACC : 100.0\n",
      "VALIDATION LOSS for EPOCH 21 : 0.011509003320634292 VALIDATION PREC : [0.99009901 1.        ] RECALL : [1.   0.99] F1 : [0.99502488 0.99497487]  ACC : 99.5\n",
      "---------------------------------------------------------------------------------------------\n",
      "---------------------------------------EPOCH 22-------------------------------------------\n",
      "LOSS for EPOCH 22 BATCH 0/150 TRAIN LOSS : 1.4096257473283913e-05 TRAIN ACCURACY : 100.0 VALIDATION LOSS : 0.011425623819141037 VALIDATION ACCURACY : 99.5\n",
      "LOSS for EPOCH 22 BATCH 75/150 TRAIN LOSS : 2.1755663510703016e-06 TRAIN ACCURACY : 100.0 VALIDATION LOSS : 0.011455671245568056 VALIDATION ACCURACY : 99.5\n",
      "--------------------------------------------------------------------------------------------\n",
      "Loss for EPOCH 22  TRAIN LOSS : 3.391678209027304e-05 TRAIN PREC : [1. 1.] RECALL : [1. 1.] F1 : [1. 1.] ACC : 100.0\n",
      "VALIDATION LOSS for EPOCH 22 : 0.011455671245568056 VALIDATION PREC : [0.99009901 1.        ] RECALL : [1.   0.99] F1 : [0.99502488 0.99497487]  ACC : 99.5\n",
      "---------------------------------------------------------------------------------------------\n",
      "---------------------------------------EPOCH 23-------------------------------------------\n",
      "LOSS for EPOCH 23 BATCH 0/150 TRAIN LOSS : 3.755084208023618e-06 TRAIN ACCURACY : 100.0 VALIDATION LOSS : 0.011321770449408177 VALIDATION ACCURACY : 99.5\n",
      "LOSS for EPOCH 23 BATCH 75/150 TRAIN LOSS : 2.2351696316036396e-06 TRAIN ACCURACY : 100.0 VALIDATION LOSS : 0.011347852986880298 VALIDATION ACCURACY : 99.5\n",
      "--------------------------------------------------------------------------------------------\n",
      "Loss for EPOCH 23  TRAIN LOSS : 3.211513276558738e-05 TRAIN PREC : [1. 1.] RECALL : [1. 1.] F1 : [1. 1.] ACC : 100.0\n",
      "VALIDATION LOSS for EPOCH 23 : 0.011347852986880298 VALIDATION PREC : [0.99009901 1.        ] RECALL : [1.   0.99] F1 : [0.99502488 0.99497487]  ACC : 99.5\n",
      "---------------------------------------------------------------------------------------------\n",
      "---------------------------------------EPOCH 24-------------------------------------------\n",
      "LOSS for EPOCH 24 BATCH 0/150 TRAIN LOSS : 9.655835128796753e-06 TRAIN ACCURACY : 100.0 VALIDATION LOSS : 0.011254944512461406 VALIDATION ACCURACY : 99.5\n",
      "LOSS for EPOCH 24 BATCH 75/150 TRAIN LOSS : 1.731460179144051e-05 TRAIN ACCURACY : 100.0 VALIDATION LOSS : 0.011140583596669558 VALIDATION ACCURACY : 99.5\n",
      "--------------------------------------------------------------------------------------------\n",
      "Loss for EPOCH 24  TRAIN LOSS : 3.0484228769864785e-05 TRAIN PREC : [1. 1.] RECALL : [1. 1.] F1 : [1. 1.] ACC : 100.0\n",
      "VALIDATION LOSS for EPOCH 24 : 0.011140583596669558 VALIDATION PREC : [0.99009901 1.        ] RECALL : [1.   0.99] F1 : [0.99502488 0.99497487]  ACC : 99.5\n",
      "---------------------------------------------------------------------------------------------\n",
      "---------------------------------------EPOCH 25-------------------------------------------\n",
      "LOSS for EPOCH 25 BATCH 0/150 TRAIN LOSS : 1.3709054655919317e-06 TRAIN ACCURACY : 100.0 VALIDATION LOSS : 0.011206953367577625 VALIDATION ACCURACY : 99.5\n",
      "LOSS for EPOCH 25 BATCH 75/150 TRAIN LOSS : 6.225016841199249e-05 TRAIN ACCURACY : 100.0 VALIDATION LOSS : 0.011170854078550292 VALIDATION ACCURACY : 99.5\n",
      "--------------------------------------------------------------------------------------------\n",
      "Loss for EPOCH 25  TRAIN LOSS : 2.9031120596982874e-05 TRAIN PREC : [1. 1.] RECALL : [1. 1.] F1 : [1. 1.] ACC : 100.0\n",
      "VALIDATION LOSS for EPOCH 25 : 0.011170854078550292 VALIDATION PREC : [0.99009901 1.        ] RECALL : [1.   0.99] F1 : [0.99502488 0.99497487]  ACC : 99.5\n",
      "---------------------------------------------------------------------------------------------\n",
      "---------------------------------------EPOCH 26-------------------------------------------\n",
      "LOSS for EPOCH 26 BATCH 0/150 TRAIN LOSS : 9.71544341155095e-06 TRAIN ACCURACY : 100.0 VALIDATION LOSS : 0.011153095335171202 VALIDATION ACCURACY : 99.5\n",
      "LOSS for EPOCH 26 BATCH 75/150 TRAIN LOSS : 2.4139844754245132e-06 TRAIN ACCURACY : 100.0 VALIDATION LOSS : 0.010994028320023972 VALIDATION ACCURACY : 99.5\n",
      "--------------------------------------------------------------------------------------------\n",
      "Loss for EPOCH 26  TRAIN LOSS : 2.7698129176769726e-05 TRAIN PREC : [1. 1.] RECALL : [1. 1.] F1 : [1. 1.] ACC : 100.0\n",
      "VALIDATION LOSS for EPOCH 26 : 0.010994028320023972 VALIDATION PREC : [0.99009901 1.        ] RECALL : [1.   0.99] F1 : [0.99502488 0.99497487]  ACC : 99.5\n",
      "---------------------------------------------------------------------------------------------\n",
      "---------------------------------------EPOCH 27-------------------------------------------\n",
      "LOSS for EPOCH 27 BATCH 0/150 TRAIN LOSS : 2.1695264877052978e-05 TRAIN ACCURACY : 100.0 VALIDATION LOSS : 0.011121436853945852 VALIDATION ACCURACY : 99.5\n",
      "LOSS for EPOCH 27 BATCH 75/150 TRAIN LOSS : 3.722216933965683e-05 TRAIN ACCURACY : 100.0 VALIDATION LOSS : 0.011168683759156011 VALIDATION ACCURACY : 99.5\n",
      "--------------------------------------------------------------------------------------------\n",
      "Loss for EPOCH 27  TRAIN LOSS : 2.648081726647433e-05 TRAIN PREC : [1. 1.] RECALL : [1. 1.] F1 : [1. 1.] ACC : 100.0\n",
      "VALIDATION LOSS for EPOCH 27 : 0.011168683759156011 VALIDATION PREC : [0.99009901 1.        ] RECALL : [1.   0.99] F1 : [0.99502488 0.99497487]  ACC : 99.5\n",
      "---------------------------------------------------------------------------------------------\n",
      "---------------------------------------EPOCH 28-------------------------------------------\n",
      "LOSS for EPOCH 28 BATCH 0/150 TRAIN LOSS : 2.595660407678224e-05 TRAIN ACCURACY : 100.0 VALIDATION LOSS : 0.01105212226237427 VALIDATION ACCURACY : 99.5\n",
      "LOSS for EPOCH 28 BATCH 75/150 TRAIN LOSS : 3.144019501633011e-05 TRAIN ACCURACY : 100.0 VALIDATION LOSS : 0.010992178013773356 VALIDATION ACCURACY : 99.5\n",
      "--------------------------------------------------------------------------------------------\n",
      "Loss for EPOCH 28  TRAIN LOSS : 2.5358764962675194e-05 TRAIN PREC : [1. 1.] RECALL : [1. 1.] F1 : [1. 1.] ACC : 100.0\n",
      "VALIDATION LOSS for EPOCH 28 : 0.010992178013773356 VALIDATION PREC : [0.99009901 1.        ] RECALL : [1.   0.99] F1 : [0.99502488 0.99497487]  ACC : 99.5\n",
      "---------------------------------------------------------------------------------------------\n",
      "---------------------------------------EPOCH 29-------------------------------------------\n",
      "LOSS for EPOCH 29 BATCH 0/150 TRAIN LOSS : 2.0801649952773005e-05 TRAIN ACCURACY : 100.0 VALIDATION LOSS : 0.011032896352426179 VALIDATION ACCURACY : 99.5\n",
      "LOSS for EPOCH 29 BATCH 75/150 TRAIN LOSS : 1.8357899534748867e-05 TRAIN ACCURACY : 100.0 VALIDATION LOSS : 0.010936024376512705 VALIDATION ACCURACY : 99.5\n",
      "--------------------------------------------------------------------------------------------\n",
      "Loss for EPOCH 29  TRAIN LOSS : 2.4333118290845353e-05 TRAIN PREC : [1. 1.] RECALL : [1. 1.] F1 : [1. 1.] ACC : 100.0\n",
      "VALIDATION LOSS for EPOCH 29 : 0.010936024376512705 VALIDATION PREC : [0.99009901 1.        ] RECALL : [1.   0.99] F1 : [0.99502488 0.99497487]  ACC : 99.5\n",
      "---------------------------------------------------------------------------------------------\n",
      "---------------------------------------EPOCH 30-------------------------------------------\n",
      "LOSS for EPOCH 30 BATCH 0/150 TRAIN LOSS : 5.8410372730577365e-05 TRAIN ACCURACY : 100.0 VALIDATION LOSS : 0.010998951164050369 VALIDATION ACCURACY : 99.5\n",
      "LOSS for EPOCH 30 BATCH 75/150 TRAIN LOSS : 4.556387648335658e-05 TRAIN ACCURACY : 100.0 VALIDATION LOSS : 0.010947336360059125 VALIDATION ACCURACY : 99.5\n",
      "--------------------------------------------------------------------------------------------\n",
      "Loss for EPOCH 30  TRAIN LOSS : 2.3389291264948042e-05 TRAIN PREC : [1. 1.] RECALL : [1. 1.] F1 : [1. 1.] ACC : 100.0\n",
      "VALIDATION LOSS for EPOCH 30 : 0.010947336360059125 VALIDATION PREC : [0.99009901 1.        ] RECALL : [1.   0.99] F1 : [0.99502488 0.99497487]  ACC : 99.5\n",
      "---------------------------------------------------------------------------------------------\n"
     ]
    }
   ],
   "source": [
    "from sklearn.metrics import precision_recall_fscore_support\n",
    "\n",
    "best_val_acc = 0\n",
    "\n",
    "for e in range(epoch):\n",
    "    print(f'---------------------------------------EPOCH {e+1}-------------------------------------------')\n",
    "    y_all_train_true = []\n",
    "    y_all_train_pred = []\n",
    "    y_all_val_true = []\n",
    "    y_all_val_pred = []\n",
    "    \n",
    "    for batch_idx , (x ,y) in enumerate(train_dataloader):\n",
    "        model.train() # Setting mode to train\n",
    "        optimizer.zero_grad()\n",
    "        x , y = x.to(device) , y.to(device)\n",
    "        y_pred = model(x).to(device)\n",
    "        \n",
    "        y_all_train_true+=y.cpu().detach().view(-1,).tolist()\n",
    "        y_all_train_pred+=torch.argmax(y_pred, dim=1).detach().tolist()\n",
    "        \n",
    "        # Calculating Loss\n",
    "        loss = criterion(y_pred,y.reshape(x.shape[0]))\n",
    "        loss.backward()\n",
    "        nn.utils.clip_grad_norm_(model.parameters(), 3)\n",
    "        optimizer.step()\n",
    "        loss_history[0].append(float(loss.detach()))\n",
    "        \n",
    "        #Calaculating Accuracy\n",
    "        correct = 0\n",
    "        y_pred = y_pred.cpu().detach().numpy().tolist()\n",
    "        y = y.cpu().detach().numpy().tolist()\n",
    "        for i in range(x.shape[0]):\n",
    "            n = 0\n",
    "            n = y_pred[i].index(max(y_pred[i]))\n",
    "            if n == y[i][0]:\n",
    "                correct = correct + 1\n",
    "        accuracy_history[0].append((correct/x.shape[0])*100)\n",
    "        \n",
    "        if batch_idx % (len(train_dataloader)//2) == 0:\n",
    "            # Printing Log\n",
    "            print(f'LOSS for EPOCH {e+1} BATCH {batch_idx}/{train_n_minibatches} TRAIN LOSS : {loss_history[0][-1]}',end = ' ')\n",
    "            print(f'TRAIN ACCURACY : {accuracy_history[0][-1]}',end = ' ')\n",
    "            with torch.no_grad():\n",
    "                # Calculating loss and accuracy for validation\n",
    "                model.eval()\n",
    "                for _batch_idx_ , (x ,y) in enumerate(validation_dataloader):\n",
    "                    x , y = x.to(device) , y.to(device)\n",
    "                    y_pred = model(x).to(device)\n",
    "                    \n",
    "                    y_all_val_true+=y.cpu().detach().view(-1,).tolist()\n",
    "                    y_all_val_pred+=torch.argmax(y_pred, dim=1).detach().tolist()\n",
    "                    \n",
    "                    validation_loss = criterion(y_pred,y.reshape(x.shape[0]))\n",
    "                    loss_history[1].append(float(validation_loss.detach()))\n",
    "                    \n",
    "                    correct = 0\n",
    "                    y_pred = y_pred.cpu().detach().numpy().tolist()\n",
    "                    y = y.cpu().detach().numpy().tolist()      \n",
    "                    for i in range(x.shape[0]):\n",
    "                        n = 0\n",
    "                        n = y_pred[i].index(max(y_pred[i]))\n",
    "                        if n == y[i][0]:\n",
    "                            correct = correct + 1\n",
    "                    accuracy_history[1].append((correct/x.shape[0])*100)\n",
    "                        \n",
    "                    \n",
    "                print(f'VALIDATION LOSS : {sum(loss_history[1][-1:-validation_n_minibatches-1:-1])/validation_n_minibatches}',end = ' ')\n",
    "                print(f'VALIDATION ACCURACY : {sum(accuracy_history[1][-1:-validation_n_minibatches-1:-1])/validation_n_minibatches}')\n",
    "    \n",
    "    # Saving the model progress\n",
    "    torch.save(model.state_dict(),model_name)\n",
    "    \n",
    "    results[0].append(precision_recall_fscore_support(y_all_train_true,y_all_train_pred))\n",
    "    results[1].append(precision_recall_fscore_support(y_all_val_true,y_all_val_pred))\n",
    "    \n",
    "    x = sum(accuracy_history[1][-1:-1*validation_n_minibatches-1:-1])/validation_n_minibatches\n",
    "    if x>best_val_acc:\n",
    "        best_val_acc = x\n",
    "        torch.save(model.state_dict(),'vit_best')\n",
    "    #Log for e+1th epoch\n",
    "    print(f'--------------------------------------------------------------------------------------------')\n",
    "    print(f'Loss for EPOCH {e+1}  TRAIN LOSS : {sum(loss_history[0][-1:-train_n_minibatches-1:-1])/train_n_minibatches}',end = ' ')\n",
    "    print(f'TRAIN PREC : {results[0][-1][0]} RECALL : {results[0][-1][1]} F1 : {results[0][-1][2]}',end=\" \")\n",
    "    print(f'ACC : {sum(accuracy_history[0][-1:-train_n_minibatches-1:-1])/train_n_minibatches}')\n",
    "    print(f'VALIDATION LOSS for EPOCH {e+1} : {sum(loss_history[1][-1:-1*validation_n_minibatches-1:-1])/validation_n_minibatches}',end = ' ')\n",
    "    print(f'VALIDATION PREC : {results[1][-1][0]} RECALL : {results[1][-1][1]} F1 : {results[1][-1][2]}',end=\" \")\n",
    "    print(f' ACC : {sum(accuracy_history[1][-1:-1*validation_n_minibatches-1:-1])/validation_n_minibatches}')\n",
    "\n",
    "    # if int(sum(accuracy_history[1][-1:-1*validation_n_minibatches-1:-1])/validation_n_minibatches) == 100:\n",
    "    #     break\n",
    "    print('---------------------------------------------------------------------------------------------')"
   ]
  },
  {
   "cell_type": "markdown",
   "id": "30bb06cf",
   "metadata": {
    "papermill": {
     "duration": 0.014387,
     "end_time": "2023-01-14T07:45:09.537801",
     "exception": false,
     "start_time": "2023-01-14T07:45:09.523414",
     "status": "completed"
    },
    "tags": []
   },
   "source": [
    "### 5.Plotting results <a class=\"anchor\" id=\"4\"></a>"
   ]
  },
  {
   "cell_type": "markdown",
   "id": "773a7b84",
   "metadata": {
    "papermill": {
     "duration": 0.014211,
     "end_time": "2023-01-14T07:45:09.566622",
     "exception": false,
     "start_time": "2023-01-14T07:45:09.552411",
     "status": "completed"
    },
    "tags": []
   },
   "source": [
    "#### 1.Plotting Loss vs MiniBatch<a class=\"anchor\" id=\"5.1\"></a>"
   ]
  },
  {
   "cell_type": "code",
   "execution_count": 10,
   "id": "d11a2525",
   "metadata": {
    "execution": {
     "iopub.execute_input": "2023-01-14T07:45:09.598196Z",
     "iopub.status.busy": "2023-01-14T07:45:09.596632Z",
     "iopub.status.idle": "2023-01-14T07:45:10.081504Z",
     "shell.execute_reply": "2023-01-14T07:45:10.080553Z"
    },
    "papermill": {
     "duration": 0.502723,
     "end_time": "2023-01-14T07:45:10.083837",
     "exception": false,
     "start_time": "2023-01-14T07:45:09.581114",
     "status": "completed"
    },
    "tags": []
   },
   "outputs": [
    {
     "data": {
      "image/png": "[encoded data removed]",
      "text/plain": [
       "<Figure size 720x720 with 1 Axes>"
      ]
     },
     "metadata": {},
     "output_type": "display_data"
    }
   ],
   "source": [
    "sns.lineplot(x=range(len(loss_history[1])),y=loss_history[0][::len(loss_history[0])//len(loss_history[1])][:len(loss_history[1])])\n",
    "sns.lineplot(x=range(len(loss_history[1])),y=loss_history[1])\n",
    "\n",
    "plt.legend(loc='lower right', labels=['train', 'val'])\n",
    "plt.title(\"Loss vs MiniBatch\")\n",
    "plt.xlabel('MiniBatches')\n",
    "plt.ylabel('Loss')\n",
    "\n",
    "\n",
    "plt.show()\n"
   ]
  },
  {
   "cell_type": "markdown",
   "id": "1a0eb783",
   "metadata": {
    "papermill": {
     "duration": 0.015037,
     "end_time": "2023-01-14T07:45:10.114330",
     "exception": false,
     "start_time": "2023-01-14T07:45:10.099293",
     "status": "completed"
    },
    "tags": []
   },
   "source": [
    "#### 2.Plotting Accuracy vs MiniBatch<a class=\"anchor\" id=\"5.2\"></a>"
   ]
  },
  {
   "cell_type": "code",
   "execution_count": 11,
   "id": "38497d5e",
   "metadata": {
    "execution": {
     "iopub.execute_input": "2023-01-14T07:45:10.147294Z",
     "iopub.status.busy": "2023-01-14T07:45:10.145743Z",
     "iopub.status.idle": "2023-01-14T07:45:10.598118Z",
     "shell.execute_reply": "2023-01-14T07:45:10.597169Z"
    },
    "papermill": {
     "duration": 0.470718,
     "end_time": "2023-01-14T07:45:10.600203",
     "exception": false,
     "start_time": "2023-01-14T07:45:10.129485",
     "status": "completed"
    },
    "tags": []
   },
   "outputs": [
    {
     "data": {
      "image/png": "[encoded data removed]",
      "text/plain": [
       "<Figure size 720x720 with 1 Axes>"
      ]
     },
     "metadata": {},
     "output_type": "display_data"
    }
   ],
   "source": [
    "sns.lineplot(x=range(len(accuracy_history[1])),y=accuracy_history[0][::len(accuracy_history[0])//len(accuracy_history[1])][:len(accuracy_history[1])])\n",
    "sns.lineplot(x=range(len(accuracy_history[1])),y=accuracy_history[1])\n",
    "\n",
    "plt.legend(loc='lower right', labels=['train', 'val'])\n",
    "plt.title(\"Accuracy vs MiniBatch\")\n",
    "plt.xlabel('MiniBatches')\n",
    "plt.ylabel('Accuracy')\n",
    "\n",
    "plt.show()\n"
   ]
  },
  {
   "cell_type": "markdown",
   "id": "240adb07",
   "metadata": {
    "papermill": {
     "duration": 0.015257,
     "end_time": "2023-01-14T07:45:10.631283",
     "exception": false,
     "start_time": "2023-01-14T07:45:10.616026",
     "status": "completed"
    },
    "tags": []
   },
   "source": [
    "#### 3.Plotting Loss vs Epoch<a class=\"anchor\" id=\"5.3\"></a>"
   ]
  },
  {
   "cell_type": "code",
   "execution_count": 12,
   "id": "9a2c0fb2",
   "metadata": {
    "execution": {
     "iopub.execute_input": "2023-01-14T07:45:10.665245Z",
     "iopub.status.busy": "2023-01-14T07:45:10.663449Z",
     "iopub.status.idle": "2023-01-14T07:45:10.951157Z",
     "shell.execute_reply": "2023-01-14T07:45:10.950213Z"
    },
    "papermill": {
     "duration": 0.306645,
     "end_time": "2023-01-14T07:45:10.953424",
     "exception": false,
     "start_time": "2023-01-14T07:45:10.646779",
     "status": "completed"
    },
    "tags": []
   },
   "outputs": [
    {
     "data": {
      "image/png": "[encoded data removed]",
      "text/plain": [
       "<Figure size 720x720 with 1 Axes>"
      ]
     },
     "metadata": {},
     "output_type": "display_data"
    }
   ],
   "source": [
    "# Plotting Loss per epoch\n",
    "loss_per_epoch = [[],[]]\n",
    "for i in range(epoch):\n",
    "    temp = 0\n",
    "    for j in loss_history[0][i*train_n_minibatches:(i+1)*train_n_minibatches]:\n",
    "        temp = temp + j\n",
    "    loss_per_epoch[0].append(temp/train_n_minibatches)\n",
    "    temp = 0\n",
    "    for j in loss_history[1][i*validation_n_minibatches:(i+1)*validation_n_minibatches]:\n",
    "        temp = temp + j\n",
    "    loss_per_epoch[1].append(temp/validation_n_minibatches)    \n",
    "\n",
    "sns.lineplot(x=range(len(loss_per_epoch[0])),y=loss_per_epoch[0])\n",
    "sns.lineplot(x=range(len(loss_per_epoch[1])),y=loss_per_epoch[1])\n",
    "\n",
    "plt.legend(loc='lower right', labels=['train', 'val'])\n",
    "plt.title(\"Loss vs Epoch\")\n",
    "plt.xlabel('Epochs')\n",
    "plt.ylabel('Loss')\n",
    "\n",
    "\n",
    "plt.show()"
   ]
  },
  {
   "cell_type": "markdown",
   "id": "f290f313",
   "metadata": {
    "papermill": {
     "duration": 0.015503,
     "end_time": "2023-01-14T07:45:10.997259",
     "exception": false,
     "start_time": "2023-01-14T07:45:10.981756",
     "status": "completed"
    },
    "tags": []
   },
   "source": [
    "#### 4.Plotting Accuracy vs Epoch<a class=\"anchor\" id=\"5.4\"></a>"
   ]
  },
  {
   "cell_type": "code",
   "execution_count": 13,
   "id": "b2314a76",
   "metadata": {
    "execution": {
     "iopub.execute_input": "2023-01-14T07:45:11.030898Z",
     "iopub.status.busy": "2023-01-14T07:45:11.030552Z",
     "iopub.status.idle": "2023-01-14T07:45:11.314529Z",
     "shell.execute_reply": "2023-01-14T07:45:11.313609Z"
    },
    "papermill": {
     "duration": 0.303502,
     "end_time": "2023-01-14T07:45:11.316540",
     "exception": false,
     "start_time": "2023-01-14T07:45:11.013038",
     "status": "completed"
    },
    "tags": []
   },
   "outputs": [
    {
     "data": {
      "image/png": "[encoded data removed]",
      "text/plain": [
       "<Figure size 720x720 with 1 Axes>"
      ]
     },
     "metadata": {},
     "output_type": "display_data"
    }
   ],
   "source": [
    "# Plotting Accuracy per epoch\n",
    "accuracy_per_epoch = [[],[]]\n",
    "for i in range(epoch):\n",
    "    temp = 0\n",
    "    for j in accuracy_history[0][i*train_n_minibatches:(i+1)*train_n_minibatches]:\n",
    "        temp = temp + j\n",
    "    accuracy_per_epoch[0].append(temp/train_n_minibatches)\n",
    "    temp = 0\n",
    "    for j in accuracy_history[1][i*validation_n_minibatches:(i+1)*validation_n_minibatches]:\n",
    "        temp = temp + j\n",
    "    accuracy_per_epoch[1].append(temp/validation_n_minibatches)    \n",
    "\n",
    "sns.lineplot(x=range(len(accuracy_per_epoch[0])),y=accuracy_per_epoch[0])\n",
    "sns.lineplot(x=range(len(accuracy_per_epoch[1])),y=accuracy_per_epoch[1])\n",
    "\n",
    "plt.legend(loc='lower right', labels=['train', 'val'])\n",
    "plt.title(\"Accuracy vs Epoch\")\n",
    "plt.xlabel('Epochs')\n",
    "plt.ylabel('Accuracy')\n",
    "\n",
    "plt.show()"
   ]
  },
  {
   "cell_type": "markdown",
   "id": "9d79af1a",
   "metadata": {
    "papermill": {
     "duration": 0.01567,
     "end_time": "2023-01-14T07:45:11.348463",
     "exception": false,
     "start_time": "2023-01-14T07:45:11.332793",
     "status": "completed"
    },
    "tags": []
   },
   "source": [
    "#### 5.Plotting F1Score vs Epoch<a class=\"anchor\" id=\"5.4\"></a>"
   ]
  },
  {
   "cell_type": "code",
   "execution_count": 14,
   "id": "39b84a9d",
   "metadata": {
    "execution": {
     "iopub.execute_input": "2023-01-14T07:45:11.381733Z",
     "iopub.status.busy": "2023-01-14T07:45:11.380903Z",
     "iopub.status.idle": "2023-01-14T07:45:11.717181Z",
     "shell.execute_reply": "2023-01-14T07:45:11.716267Z"
    },
    "papermill": {
     "duration": 0.355147,
     "end_time": "2023-01-14T07:45:11.719343",
     "exception": false,
     "start_time": "2023-01-14T07:45:11.364196",
     "status": "completed"
    },
    "tags": []
   },
   "outputs": [
    {
     "data": {
      "image/png": "[encoded data removed]",
      "text/plain": [
       "<Figure size 720x720 with 1 Axes>"
      ]
     },
     "metadata": {},
     "output_type": "display_data"
    }
   ],
   "source": [
    "labels = {0:'Positive',\n",
    "1:'Negative'}\n",
    "\n",
    "legend = []\n",
    "\n",
    "\n",
    "\n",
    "for j in range(2):\n",
    "    sns.lineplot(x=range(len(results[0])),y=[results[0][i][2][j] for i in range(len(results[0]))])\n",
    "    sns.lineplot(x=range(len(results[1])),y=[results[1][i][2][j] for i in range(len(results[1]))])\n",
    "    legend+=[labels[j]+'train', labels[j]+'val']\n",
    "\n",
    "\n",
    "\n",
    "plt.legend(loc='lower right', labels=legend)\n",
    "plt.title(\"F1 Score vs Epoch\")\n",
    "plt.xlabel('Epochs')\n",
    "plt.ylabel('F1 Score')\n",
    "\n",
    "\n",
    "plt.show()"
   ]
  },
  {
   "cell_type": "markdown",
   "id": "49a19410",
   "metadata": {
    "papermill": {
     "duration": 0.016189,
     "end_time": "2023-01-14T07:45:11.752588",
     "exception": false,
     "start_time": "2023-01-14T07:45:11.736399",
     "status": "completed"
    },
    "tags": []
   },
   "source": [
    "#### 6.Plotting Recall vs Epoch<a class=\"anchor\" id=\"5.4\"></a>"
   ]
  },
  {
   "cell_type": "code",
   "execution_count": 15,
   "id": "3b46f823",
   "metadata": {
    "execution": {
     "iopub.execute_input": "2023-01-14T07:45:11.788776Z",
     "iopub.status.busy": "2023-01-14T07:45:11.786826Z",
     "iopub.status.idle": "2023-01-14T07:45:12.242775Z",
     "shell.execute_reply": "2023-01-14T07:45:12.241868Z"
    },
    "papermill": {
     "duration": 0.476453,
     "end_time": "2023-01-14T07:45:12.245407",
     "exception": false,
     "start_time": "2023-01-14T07:45:11.768954",
     "status": "completed"
    },
    "tags": []
   },
   "outputs": [
    {
     "data": {
      "image/png": "[encoded data removed]",
      "text/plain": [
       "<Figure size 720x720 with 1 Axes>"
      ]
     },
     "metadata": {},
     "output_type": "display_data"
    }
   ],
   "source": [
    "for j in range(2):\n",
    "    sns.lineplot(x=range(len(results[0])),y=[results[0][i][1][j] for i in range(len(results[0]))])\n",
    "    sns.lineplot(x=range(len(results[1])),y=[results[1][i][1][j] for i in range(len(results[1]))])\n",
    "\n",
    "\n",
    "plt.legend(loc='lower right', labels=legend)\n",
    "plt.title(\"Recall vs Epoch\")\n",
    "plt.xlabel('Epochs')\n",
    "plt.ylabel('Recall Score')\n",
    "\n",
    "\n",
    "plt.show()"
   ]
  },
  {
   "cell_type": "markdown",
   "id": "53ef2248",
   "metadata": {
    "papermill": {
     "duration": 0.025263,
     "end_time": "2023-01-14T07:45:12.314352",
     "exception": false,
     "start_time": "2023-01-14T07:45:12.289089",
     "status": "completed"
    },
    "tags": []
   },
   "source": [
    "#### 6.Plotting Precision vs Epoch<a class=\"anchor\" id=\"5.4\"></a>"
   ]
  },
  {
   "cell_type": "code",
   "execution_count": 16,
   "id": "389c6a2d",
   "metadata": {
    "execution": {
     "iopub.execute_input": "2023-01-14T07:45:12.368130Z",
     "iopub.status.busy": "2023-01-14T07:45:12.367580Z",
     "iopub.status.idle": "2023-01-14T07:45:12.743927Z",
     "shell.execute_reply": "2023-01-14T07:45:12.742995Z"
    },
    "papermill": {
     "duration": 0.405655,
     "end_time": "2023-01-14T07:45:12.746119",
     "exception": false,
     "start_time": "2023-01-14T07:45:12.340464",
     "status": "completed"
    },
    "tags": []
   },
   "outputs": [
    {
     "data": {
      "image/png": "[encoded data removed]",
      "text/plain": [
       "<Figure size 720x720 with 1 Axes>"
      ]
     },
     "metadata": {},
     "output_type": "display_data"
    }
   ],
   "source": [
    "for j in range(2):\n",
    "    sns.lineplot(x=range(len(results[0])),y=[results[0][i][0][j] for i in range(len(results[0]))])\n",
    "    sns.lineplot(x=range(len(results[1])),y=[results[1][i][0][j] for i in range(len(results[1]))])\n",
    "\n",
    "\n",
    "plt.legend(loc='lower right', labels=legend)\n",
    "plt.title(\"Precision vs Epoch\")\n",
    "plt.xlabel('Epochs')\n",
    "plt.ylabel('Precision Score')\n",
    "\n",
    "\n",
    "plt.show()"
   ]
  },
  {
   "cell_type": "markdown",
   "id": "5b0a3941",
   "metadata": {
    "papermill": {
     "duration": 0.017066,
     "end_time": "2023-01-14T07:45:12.780950",
     "exception": false,
     "start_time": "2023-01-14T07:45:12.763884",
     "status": "completed"
    },
    "tags": []
   },
   "source": [
    "### 6.Testing <a class=\"anchor\" id=\"6\"></a>"
   ]
  },
  {
   "cell_type": "code",
   "execution_count": 17,
   "id": "39203f72",
   "metadata": {
    "execution": {
     "iopub.execute_input": "2023-01-14T07:45:12.818371Z",
     "iopub.status.busy": "2023-01-14T07:45:12.816840Z",
     "iopub.status.idle": "2023-01-14T07:45:19.803113Z",
     "shell.execute_reply": "2023-01-14T07:45:19.801224Z"
    },
    "papermill": {
     "duration": 7.007333,
     "end_time": "2023-01-14T07:45:19.805939",
     "exception": false,
     "start_time": "2023-01-14T07:45:12.798606",
     "status": "completed"
    },
    "tags": []
   },
   "outputs": [
    {
     "name": "stdout",
     "output_type": "stream",
     "text": [
      "LOSS : 0.029841556741739623  ACCURACY : 99.0\n",
      "TEST PREC: [1.         0.98039216] RECALL: [0.98 1.  ] F1 SCORE: [0.98989899 0.99009901] SUPPORT: [100 100]\n"
     ]
    }
   ],
   "source": [
    "y_all_true = []\n",
    "y_all_pred = []\n",
    "test_loss_history = []\n",
    "test_accuracy_history = []\n",
    "\n",
    "\n",
    "model.eval()\n",
    "for _batch_idx_ , (x ,y) in enumerate(test_dataloader):\n",
    "    x , y = x.to(device) , y.to(device)\n",
    "    y_pred = model(x)\n",
    "    test_loss = criterion(y_pred,y.reshape(x.shape[0]))\n",
    "    test_loss_history.append(float(test_loss.detach()))\n",
    "    correct = 0\n",
    "    y_all_true+=y.cpu().detach().view(-1,).tolist()\n",
    "    y_all_pred+=torch.argmax(y_pred, dim=1).detach().tolist()\n",
    "    y_pred = y_pred.cpu().detach().numpy().tolist()\n",
    "    y = y.cpu().detach().numpy().tolist()      \n",
    "    for i in range(x.shape[0]):\n",
    "        n = 0\n",
    "        n = y_pred[i].index(max(y_pred[i]))\n",
    "        if n == y[i][0]:\n",
    "            correct = correct + 1\n",
    "    test_accuracy_history.append((correct/len(y))*100)\n",
    "    \n",
    "\n",
    "                        \n",
    "print(f'LOSS : {sum(test_loss_history)/len(test_loss_history)}  ACCURACY : {sum(test_accuracy_history)/len(test_accuracy_history)}')                    \n",
    "\n",
    "result = precision_recall_fscore_support(y_all_true,y_all_pred)\n",
    "\n",
    "print(f\"TEST PREC: {result[0]} RECALL: {result[1]} F1 SCORE: {result[2]} SUPPORT: {result[3]}\")\n"
   ]
  },
  {
   "cell_type": "code",
   "execution_count": 18,
   "id": "7cf230d6",
   "metadata": {
    "execution": {
     "iopub.execute_input": "2023-01-14T07:45:19.843745Z",
     "iopub.status.busy": "2023-01-14T07:45:19.842800Z",
     "iopub.status.idle": "2023-01-14T07:45:22.725161Z",
     "shell.execute_reply": "2023-01-14T07:45:22.724166Z"
    },
    "papermill": {
     "duration": 2.902938,
     "end_time": "2023-01-14T07:45:22.727461",
     "exception": false,
     "start_time": "2023-01-14T07:45:19.824523",
     "status": "completed"
    },
    "tags": []
   },
   "outputs": [
    {
     "data": {
      "text/html": [
       "<div>\n",
       "<style scoped>\n",
       "    .dataframe tbody tr th:only-of-type {\n",
       "        vertical-align: middle;\n",
       "    }\n",
       "\n",
       "    .dataframe tbody tr th {\n",
       "        vertical-align: top;\n",
       "    }\n",
       "\n",
       "    .dataframe thead th {\n",
       "        text-align: right;\n",
       "    }\n",
       "</style>\n",
       "<table border=\"1\" class=\"dataframe\">\n",
       "  <thead>\n",
       "    <tr style=\"text-align: right;\">\n",
       "      <th></th>\n",
       "      <th>image</th>\n",
       "      <th>category</th>\n",
       "    </tr>\n",
       "  </thead>\n",
       "  <tbody>\n",
       "    <tr>\n",
       "      <th>0</th>\n",
       "      <td>IMG_1133.JPG</td>\n",
       "      <td>1</td>\n",
       "    </tr>\n",
       "    <tr>\n",
       "      <th>1</th>\n",
       "      <td>IMG_1129.JPG</td>\n",
       "      <td>1</td>\n",
       "    </tr>\n",
       "    <tr>\n",
       "      <th>2</th>\n",
       "      <td>IMG_1132.JPG</td>\n",
       "      <td>1</td>\n",
       "    </tr>\n",
       "    <tr>\n",
       "      <th>3</th>\n",
       "      <td>IMG_1130.JPG</td>\n",
       "      <td>1</td>\n",
       "    </tr>\n",
       "    <tr>\n",
       "      <th>4</th>\n",
       "      <td>IMG_1134.JPG</td>\n",
       "      <td>1</td>\n",
       "    </tr>\n",
       "    <tr>\n",
       "      <th>5</th>\n",
       "      <td>IMG_1131.JPG</td>\n",
       "      <td>1</td>\n",
       "    </tr>\n",
       "  </tbody>\n",
       "</table>\n",
       "</div>"
      ],
      "text/plain": [
       "          image  category\n",
       "0  IMG_1133.JPG         1\n",
       "1  IMG_1129.JPG         1\n",
       "2  IMG_1132.JPG         1\n",
       "3  IMG_1130.JPG         1\n",
       "4  IMG_1134.JPG         1\n",
       "5  IMG_1131.JPG         1"
      ]
     },
     "execution_count": 18,
     "metadata": {},
     "output_type": "execute_result"
    }
   ],
   "source": [
    "class TestDataset(Dataset):\n",
    "    def __init__(self,x,transform = 'T.Resize((224,224))'):\n",
    "        self.transform = transform\n",
    "        self.x = x\n",
    "        self.len = len(x)\n",
    "   \n",
    "    def __len__(self):\n",
    "        return self.len\n",
    "    \n",
    "    def __getitem__(self,i):\n",
    "        img = Image.open(self.x[i]).convert('RGB')\n",
    "        return torch.FloatTensor(np.asarray(self.transform(img)))\n",
    "    \n",
    "\n",
    "test_img = [path+\"predict/\"+i for i in os.listdir(path+\"predict/\")]\n",
    "test_dataset = TestDataset(test_img,transform =transforms_test)\n",
    "test_dataloader = DataLoader(test_dataset , batch_size = batch_size , shuffle = False )\n",
    "\n",
    "predictions = []\n",
    "with torch.no_grad():\n",
    "    model.eval()\n",
    "    for _batch_idx_ , x in enumerate(test_dataloader):\n",
    "        x = x.to(device)\n",
    "        y_pred = model(x).to(device)\n",
    "        pred = torch.argmax(y_pred, dim=1)+1\n",
    "        predictions+=pred.cpu().tolist()\n",
    "\n",
    "df = pd.DataFrame(list(zip([test_img[i].split('/')[-1] for i in range(len(test_img))], predictions)), index =None, columns =['image', 'category'])\n",
    "df.to_csv(\"submission.csv\", index=False)\n",
    "df"
   ]
  }
 ],
 "metadata": {
  "kernelspec": {
   "display_name": "Python 3",
   "language": "python",
   "name": "python3"
  },
  "language_info": {
   "codemirror_mode": {
    "name": "ipython",
    "version": 3
   },
   "file_extension": ".py",
   "mimetype": "text/x-python",
   "name": "python",
   "nbconvert_exporter": "python",
   "pygments_lexer": "ipython3",
   "version": "3.7.12"
  },
  "papermill": {
   "default_parameters": {},
   "duration": 2101.921257,
   "end_time": "2023-01-14T07:45:24.574790",
   "environment_variables": {},
   "exception": null,
   "input_path": "__notebook__.ipynb",
   "output_path": "__notebook__.ipynb",
   "parameters": {},
   "start_time": "2023-01-14T07:10:22.653533",
   "version": "2.3.4"
  }
 },
 "nbformat": 4,
 "nbformat_minor": 5
}
